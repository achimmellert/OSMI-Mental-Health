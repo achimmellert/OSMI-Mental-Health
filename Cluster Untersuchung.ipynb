{
 "cells": [
  {
   "cell_type": "code",
   "id": "initial_id",
   "metadata": {
    "collapsed": true,
    "ExecuteTime": {
     "end_time": "2025-07-10T08:56:25.017943Z",
     "start_time": "2025-07-10T08:56:19.203922Z"
    }
   },
   "source": [
    "from pathlib import Path\n",
    "from pandas.core.interchange.dataframe_protocol import DataFrame\n",
    "from sklearn.preprocessing import StandardScaler\n",
    "from sklearn.cluster import KMeans\n",
    "import re\n",
    "import pandas as pd\n",
    "from sklearn.metrics import silhouette_score\n",
    "from sklearn.decomposition import PCA\n",
    "import matplotlib.pyplot as plt\n",
    "import seaborn as sns\n",
    "from pandas import DataFrame, Series\n",
    "import numpy as np\n",
    "from sklearn.cluster import DBSCAN\n",
    "from umap import UMAP\n",
    "from sklearn.manifold import trustworthiness\n",
    "import optuna"
   ],
   "outputs": [
    {
     "name": "stderr",
     "output_type": "stream",
     "text": [
      "C:\\Users\\achim\\Desktop\\OSMI_Mental_Health\\venv\\Lib\\site-packages\\tqdm\\auto.py:21: TqdmWarning: IProgress not found. Please update jupyter and ipywidgets. See https://ipywidgets.readthedocs.io/en/stable/user_install.html\n",
      "  from .autonotebook import tqdm as notebook_tqdm\n"
     ]
    }
   ],
   "execution_count": 3
  },
  {
   "metadata": {
    "ExecuteTime": {
     "end_time": "2025-07-09T09:43:51.996164Z",
     "start_time": "2025-07-09T09:43:51.989219Z"
    }
   },
   "cell_type": "code",
   "source": "base_df = pd.read_pickle(\"data/edited/df_25_Prozent_fehlende_Werte_entfernt.pkl\").reset_index()",
   "id": "d043df0e85277e62",
   "outputs": [],
   "execution_count": 181
  },
  {
   "metadata": {
    "ExecuteTime": {
     "end_time": "2025-07-10T08:56:42.802688Z",
     "start_time": "2025-07-10T08:56:42.791667Z"
    }
   },
   "cell_type": "code",
   "source": "labels = pd.read_pickle(\"data/edited/labels.pkl\")",
   "id": "64042565e4de9136",
   "outputs": [],
   "execution_count": 5
  },
  {
   "metadata": {
    "ExecuteTime": {
     "end_time": "2025-07-09T09:43:52.035637Z",
     "start_time": "2025-07-09T09:43:52.030896Z"
    }
   },
   "cell_type": "code",
   "source": [
    "topic_df = pd.concat([base_df[\"Why or why not?\"].fillna(\"Missing\"), labels], axis=1)\n",
    "topic_df.columns = [\"text\", \"label\"]"
   ],
   "id": "3c06eba0a5d2e1ae",
   "outputs": [],
   "execution_count": 183
  },
  {
   "metadata": {
    "ExecuteTime": {
     "end_time": "2025-07-09T09:43:52.091200Z",
     "start_time": "2025-07-09T09:43:52.066857Z"
    }
   },
   "cell_type": "code",
   "source": [
    "from sklearn.feature_extraction.text import TfidfVectorizer\n",
    "\n",
    "for c in sorted(topic_df[\"label\"].unique()):\n",
    "    texts = topic_df[topic_df[\"label\"] == c][\"text\"]\n",
    "\n",
    "    tfidf = TfidfVectorizer(max_features=20, stop_words=\"english\")\n",
    "    tfidf_matrix = tfidf.fit_transform(texts)\n",
    "\n",
    "    top_words = zip(tfidf.get_feature_names_out(), tfidf_matrix.sum(axis=0).A1)\n",
    "    top_words = sorted(top_words, key=lambda x: -x[1])[:10]\n",
    "\n",
    "    print(f\"\\nCluster {c} – Top Wörter:\")\n",
    "    for word, score in top_words:\n",
    "        print(f\"  {word}: {score:.2f}\")\n"
   ],
   "id": "e4f8bcc75627b535",
   "outputs": [
    {
     "name": "stdout",
     "output_type": "stream",
     "text": [
      "\n",
      "Cluster 0 – Top Wörter:\n",
      "  missing: 60.00\n",
      "  job: 30.42\n",
      "  work: 16.95\n",
      "  health: 16.29\n",
      "  physical: 15.43\n",
      "  issue: 14.80\n",
      "  affect: 14.21\n",
      "  want: 12.97\n",
      "  wouldn: 12.69\n",
      "  getting: 10.78\n",
      "\n",
      "Cluster 1 – Top Wörter:\n",
      "  missing: 59.00\n",
      "  job: 34.68\n",
      "  issue: 19.35\n",
      "  health: 19.32\n",
      "  work: 19.00\n",
      "  bring: 17.62\n",
      "  don: 17.58\n",
      "  physical: 15.75\n",
      "  want: 14.77\n",
      "  interview: 14.54\n",
      "\n",
      "Cluster 2 – Top Wörter:\n",
      "  missing: 57.00\n",
      "  job: 23.76\n",
      "  physical: 14.94\n",
      "  health: 14.84\n",
      "  work: 12.49\n",
      "  issue: 12.24\n",
      "  interview: 9.62\n",
      "  don: 9.25\n",
      "  depends: 9.07\n",
      "  know: 8.47\n",
      "\n",
      "Cluster 3 – Top Wörter:\n",
      "  missing: 39.00\n",
      "  job: 13.12\n",
      "  work: 12.48\n",
      "  want: 12.46\n",
      "  employer: 12.45\n",
      "  issue: 12.28\n",
      "  health: 11.78\n",
      "  wouldn: 10.99\n",
      "  interview: 10.01\n",
      "  physical: 9.65\n"
     ]
    }
   ],
   "execution_count": 184
  },
  {
   "metadata": {
    "ExecuteTime": {
     "end_time": "2025-07-09T09:43:52.110818Z",
     "start_time": "2025-07-09T09:43:52.108855Z"
    }
   },
   "cell_type": "code",
   "source": "",
   "id": "ebafbff4d3b6fdc3",
   "outputs": [],
   "execution_count": null
  },
  {
   "metadata": {
    "ExecuteTime": {
     "end_time": "2025-07-09T09:43:52.132818Z",
     "start_time": "2025-07-09T09:43:52.129913Z"
    }
   },
   "cell_type": "code",
   "source": "# Untersuchung 1: Cluster mit passenden Namen bezeichnen (Gesund, neutral, mental ungesund, etc.)",
   "id": "5945d0843257625b",
   "outputs": [],
   "execution_count": 185
  },
  {
   "metadata": {
    "ExecuteTime": {
     "end_time": "2025-07-09T09:43:52.173646Z",
     "start_time": "2025-07-09T09:43:52.170812Z"
    }
   },
   "cell_type": "code",
   "source": [
    "\n",
    "beruf = base_df[\"Which of the following best describes your work position?\"]\n",
    "\n",
    "mental_health = base_df[\"Do you currently have a mental health disorder?\"]\n",
    "\n",
    "age = base_df[\"What is your age?\"]\n",
    "\n",
    "gender = base_df[\"What is your gender?\"]\n"
   ],
   "id": "2dba1c608adc8c5b",
   "outputs": [],
   "execution_count": 186
  },
  {
   "metadata": {
    "ExecuteTime": {
     "end_time": "2025-07-09T09:43:52.197136Z",
     "start_time": "2025-07-09T09:43:52.190424Z"
    }
   },
   "cell_type": "code",
   "source": "beruf.value_counts(dropna=False)",
   "id": "ea191c8cc03edc47",
   "outputs": [
    {
     "data": {
      "text/plain": [
       "Which of the following best describes your work position?\n",
       "Back-end Developer                                                                                        196\n",
       "Front-end Developer                                                                                       101\n",
       "Other                                                                                                      90\n",
       "Supervisor/Team Lead                                                                                       53\n",
       "Back-end Developer|Front-end Developer                                                                     48\n",
       "                                                                                                         ... \n",
       "Dev Evangelist/Advocate|DevOps/SysAdmin|Support|Back-end Developer|Front-end Developer|One-person shop      1\n",
       "Executive Leadership|Supervisor/Team Lead|Front-end Developer                                               1\n",
       "Other|Supervisor/Team Lead|Dev Evangelist/Advocate                                                          1\n",
       "Supervisor/Team Lead|Back-end Developer|Designer                                                            1\n",
       "Supervisor/Team Lead|Front-end Developer|Back-end Developer|DevOps/SysAdmin|Dev Evangelist/Advocate         1\n",
       "Name: count, Length: 172, dtype: Int64"
      ]
     },
     "execution_count": 187,
     "metadata": {},
     "output_type": "execute_result"
    }
   ],
   "execution_count": 187
  },
  {
   "metadata": {
    "ExecuteTime": {
     "end_time": "2025-07-09T09:43:52.240856Z",
     "start_time": "2025-07-09T09:43:52.237316Z"
    }
   },
   "cell_type": "code",
   "source": [
    "def beruf_regex(x):\n",
    "    try:\n",
    "        x = str(x).lower().strip()\n",
    "        if re.search(r\"back\", x):\n",
    "            return \"Back-end\"\n",
    "        elif re.search(r\"front\", x):\n",
    "            return \"Front-end\"\n",
    "        elif re.search(r\"lead[er]? | executive\", x):\n",
    "            return \"Lead\"\n",
    "        elif re.search(r\"dev[ops]?\", x):\n",
    "            return \"DevOps\"\n",
    "        elif re.search(r\"support\", x):\n",
    "            return \"support\"\n",
    "        else:\n",
    "            return \"other\"\n",
    "    except (ValueError, AttributeError) as e:\n",
    "        raise e\n"
   ],
   "id": "eb544e2c5679e4fb",
   "outputs": [],
   "execution_count": 188
  },
  {
   "metadata": {
    "ExecuteTime": {
     "end_time": "2025-07-09T09:43:52.293273Z",
     "start_time": "2025-07-09T09:43:52.288691Z"
    }
   },
   "cell_type": "code",
   "source": "beruf = beruf.apply(beruf_regex)",
   "id": "70ed22133eddb16b",
   "outputs": [],
   "execution_count": 189
  },
  {
   "metadata": {
    "ExecuteTime": {
     "end_time": "2025-07-09T09:43:52.377032Z",
     "start_time": "2025-07-09T09:43:52.370746Z"
    }
   },
   "cell_type": "code",
   "source": "beruf.value_counts(dropna=False)",
   "id": "1cda04a6d5487526",
   "outputs": [
    {
     "data": {
      "text/plain": [
       "Which of the following best describes your work position?\n",
       "Back-end     509\n",
       "other        222\n",
       "Front-end    140\n",
       "DevOps       100\n",
       "support       40\n",
       "Name: count, dtype: int64"
      ]
     },
     "execution_count": 190,
     "metadata": {},
     "output_type": "execute_result"
    }
   ],
   "execution_count": 190
  },
  {
   "metadata": {
    "ExecuteTime": {
     "end_time": "2025-07-09T09:43:52.423366Z",
     "start_time": "2025-07-09T09:43:52.419843Z"
    }
   },
   "cell_type": "code",
   "source": "age = age.apply(lambda x: 17 if x < 17 else (70 if x > 70 else x))",
   "id": "fd4e8e1823db1094",
   "outputs": [],
   "execution_count": 191
  },
  {
   "metadata": {
    "ExecuteTime": {
     "end_time": "2025-07-09T09:43:52.508425Z",
     "start_time": "2025-07-09T09:43:52.504913Z"
    }
   },
   "cell_type": "code",
   "source": [
    "def binning(x):\n",
    "    x = int(x)\n",
    "    if x <= 28:\n",
    "        return \"Gen Z\"\n",
    "    elif x <= 44:\n",
    "        return \"Gen Y\"\n",
    "    elif x <= 60:\n",
    "        return \"Gen X\"\n",
    "    else:\n",
    "        return \"Babyboomer\""
   ],
   "id": "e7b9825e0413fb12",
   "outputs": [],
   "execution_count": 192
  },
  {
   "metadata": {
    "ExecuteTime": {
     "end_time": "2025-07-09T09:43:52.544953Z",
     "start_time": "2025-07-09T09:43:52.541678Z"
    }
   },
   "cell_type": "code",
   "source": "age = age.apply(binning)",
   "id": "56942de185763902",
   "outputs": [],
   "execution_count": 193
  },
  {
   "metadata": {
    "ExecuteTime": {
     "end_time": "2025-07-09T09:43:52.607146Z",
     "start_time": "2025-07-09T09:43:52.602576Z"
    }
   },
   "cell_type": "code",
   "source": "age.value_counts(dropna=False)",
   "id": "419aedcf78f9e64a",
   "outputs": [
    {
     "data": {
      "text/plain": [
       "What is your age?\n",
       "Gen Y         667\n",
       "Gen Z         244\n",
       "Gen X          91\n",
       "Babyboomer      9\n",
       "Name: count, dtype: int64"
      ]
     },
     "execution_count": 194,
     "metadata": {},
     "output_type": "execute_result"
    }
   ],
   "execution_count": 194
  },
  {
   "metadata": {
    "ExecuteTime": {
     "end_time": "2025-07-09T09:43:52.667543Z",
     "start_time": "2025-07-09T09:43:52.661313Z"
    }
   },
   "cell_type": "code",
   "source": "gender.value_counts(dropna=False)",
   "id": "581012fe507a450b",
   "outputs": [
    {
     "data": {
      "text/plain": [
       "What is your gender?\n",
       "Male                                                       436\n",
       "male                                                       166\n",
       "Female                                                     111\n",
       "female                                                      79\n",
       "M                                                           66\n",
       "m                                                           45\n",
       "F                                                           24\n",
       "f                                                           16\n",
       "Female                                                       6\n",
       "woman                                                        4\n",
       "Male                                                         4\n",
       "<NA>                                                         3\n",
       "Woman                                                        2\n",
       "Male (cis)                                                   2\n",
       "Agender                                                      2\n",
       "non-binary                                                   2\n",
       "Female assigned at birth                                     1\n",
       "I identify as female.                                        1\n",
       "Bigender                                                     1\n",
       "Other/Transfeminine                                          1\n",
       "Genderfluid (born female)                                    1\n",
       "female/woman                                                 1\n",
       "Female or Multi-Gender Femme                                 1\n",
       "Cis female                                                   1\n",
       "Transitioned, M2F                                            1\n",
       "man                                                          1\n",
       "fm                                                           1\n",
       "male 9:1 female, roughly                                     1\n",
       "Androgynous                                                  1\n",
       "Male.                                                        1\n",
       "Cis male                                                     1\n",
       "Cisgender Female                                             1\n",
       "Man                                                          1\n",
       "Sex is male                                                  1\n",
       "Other                                                        1\n",
       "none of your business                                        1\n",
       "genderqueer                                                  1\n",
       "Human                                                        1\n",
       "cis male                                                     1\n",
       "Genderfluid                                                  1\n",
       "Enby                                                         1\n",
       "mtf                                                          1\n",
       "nb masculine                                                 1\n",
       "Queer                                                        1\n",
       "mail                                                         1\n",
       "female                                                       1\n",
       "Male/genderqueer                                             1\n",
       "fem                                                          1\n",
       "Nonbinary                                                    1\n",
       "male                                                         1\n",
       "Female (props for making this a freeform field, though)      1\n",
       " Female                                                      1\n",
       "Cis Male                                                     1\n",
       "Cis-woman                                                    1\n",
       "Genderqueer                                                  1\n",
       "cisdude                                                      1\n",
       "Genderflux demi-girl                                         1\n",
       "cis man                                                      1\n",
       "Transgender woman                                            1\n",
       "Name: count, dtype: Int64"
      ]
     },
     "execution_count": 195,
     "metadata": {},
     "output_type": "execute_result"
    }
   ],
   "execution_count": 195
  },
  {
   "metadata": {
    "ExecuteTime": {
     "end_time": "2025-07-09T09:43:52.742009Z",
     "start_time": "2025-07-09T09:43:52.737913Z"
    }
   },
   "cell_type": "code",
   "source": [
    "def gender_regex(x):\n",
    "    x = str(x).lower().strip()\n",
    "    if re.search(r\"\\b(male|m)\\b\", x):\n",
    "        return \"m\"\n",
    "    elif re.search(r\"\\b(female|f)\\b\", x):\n",
    "        return \"f\"\n",
    "    else:\n",
    "        return \"o\""
   ],
   "id": "d4b316f2f45defa9",
   "outputs": [],
   "execution_count": 196
  },
  {
   "metadata": {
    "ExecuteTime": {
     "end_time": "2025-07-09T09:43:52.855242Z",
     "start_time": "2025-07-09T09:43:52.851551Z"
    }
   },
   "cell_type": "code",
   "source": "gender = gender.apply(gender_regex)",
   "id": "a885d9f077c1a9f5",
   "outputs": [],
   "execution_count": 197
  },
  {
   "metadata": {
    "ExecuteTime": {
     "end_time": "2025-07-09T09:43:52.945854Z",
     "start_time": "2025-07-09T09:43:52.940293Z"
    }
   },
   "cell_type": "code",
   "source": "gender.value_counts(dropna=False)",
   "id": "aae6f7a191e39901",
   "outputs": [
    {
     "data": {
      "text/plain": [
       "What is your gender?\n",
       "m    727\n",
       "f    246\n",
       "o     38\n",
       "Name: count, dtype: int64"
      ]
     },
     "execution_count": 198,
     "metadata": {},
     "output_type": "execute_result"
    }
   ],
   "execution_count": 198
  },
  {
   "metadata": {
    "ExecuteTime": {
     "end_time": "2025-07-09T09:43:53.019254Z",
     "start_time": "2025-07-09T09:43:53.014241Z"
    }
   },
   "cell_type": "code",
   "source": [
    "# Concatenation\n",
    "\n",
    "df = pd.concat([gender, age, beruf, mental_health, labels], axis=1)\n",
    "df.columns=[\"gender\", \"generation\", \"beruf\", \"mental_issues\", \"labels\"]"
   ],
   "id": "4ed61567d0141cdb",
   "outputs": [],
   "execution_count": 199
  },
  {
   "metadata": {
    "ExecuteTime": {
     "end_time": "2025-07-09T09:43:53.184055Z",
     "start_time": "2025-07-09T09:43:53.177574Z"
    }
   },
   "cell_type": "code",
   "source": "df.tail()",
   "id": "22f6e5c2d3d1b945",
   "outputs": [
    {
     "data": {
      "text/plain": [
       "     gender generation     beruf mental_issues  labels\n",
       "1006      m      Gen Z  Back-end         Maybe       2\n",
       "1007      f      Gen Z     other           Yes       2\n",
       "1008      f      Gen Y   support           Yes       3\n",
       "1009      m      Gen X  Back-end         Maybe       0\n",
       "1010      f      Gen Y    DevOps           Yes       0"
      ],
      "text/html": [
       "<div>\n",
       "<style scoped>\n",
       "    .dataframe tbody tr th:only-of-type {\n",
       "        vertical-align: middle;\n",
       "    }\n",
       "\n",
       "    .dataframe tbody tr th {\n",
       "        vertical-align: top;\n",
       "    }\n",
       "\n",
       "    .dataframe thead th {\n",
       "        text-align: right;\n",
       "    }\n",
       "</style>\n",
       "<table border=\"1\" class=\"dataframe\">\n",
       "  <thead>\n",
       "    <tr style=\"text-align: right;\">\n",
       "      <th></th>\n",
       "      <th>gender</th>\n",
       "      <th>generation</th>\n",
       "      <th>beruf</th>\n",
       "      <th>mental_issues</th>\n",
       "      <th>labels</th>\n",
       "    </tr>\n",
       "  </thead>\n",
       "  <tbody>\n",
       "    <tr>\n",
       "      <th>1006</th>\n",
       "      <td>m</td>\n",
       "      <td>Gen Z</td>\n",
       "      <td>Back-end</td>\n",
       "      <td>Maybe</td>\n",
       "      <td>2</td>\n",
       "    </tr>\n",
       "    <tr>\n",
       "      <th>1007</th>\n",
       "      <td>f</td>\n",
       "      <td>Gen Z</td>\n",
       "      <td>other</td>\n",
       "      <td>Yes</td>\n",
       "      <td>2</td>\n",
       "    </tr>\n",
       "    <tr>\n",
       "      <th>1008</th>\n",
       "      <td>f</td>\n",
       "      <td>Gen Y</td>\n",
       "      <td>support</td>\n",
       "      <td>Yes</td>\n",
       "      <td>3</td>\n",
       "    </tr>\n",
       "    <tr>\n",
       "      <th>1009</th>\n",
       "      <td>m</td>\n",
       "      <td>Gen X</td>\n",
       "      <td>Back-end</td>\n",
       "      <td>Maybe</td>\n",
       "      <td>0</td>\n",
       "    </tr>\n",
       "    <tr>\n",
       "      <th>1010</th>\n",
       "      <td>f</td>\n",
       "      <td>Gen Y</td>\n",
       "      <td>DevOps</td>\n",
       "      <td>Yes</td>\n",
       "      <td>0</td>\n",
       "    </tr>\n",
       "  </tbody>\n",
       "</table>\n",
       "</div>"
      ]
     },
     "execution_count": 200,
     "metadata": {},
     "output_type": "execute_result"
    }
   ],
   "execution_count": 200
  },
  {
   "metadata": {
    "ExecuteTime": {
     "end_time": "2025-07-09T09:43:53.290125Z",
     "start_time": "2025-07-09T09:43:53.282034Z"
    }
   },
   "cell_type": "code",
   "source": "male_pct = df.groupby(\"labels\")[\"gender\"].value_counts(normalize=True).groupby(level=0).max().mul(100).round(1).astype(str) + \" %\"",
   "id": "37513007a205f13a",
   "outputs": [],
   "execution_count": 201
  },
  {
   "metadata": {
    "ExecuteTime": {
     "end_time": "2025-07-09T09:43:53.405339Z",
     "start_time": "2025-07-09T09:43:53.400754Z"
    }
   },
   "cell_type": "code",
   "source": "male_pct",
   "id": "55e90986f65a35fe",
   "outputs": [
    {
     "data": {
      "text/plain": [
       "labels\n",
       "0    59.9 %\n",
       "1    81.2 %\n",
       "2    78.0 %\n",
       "3    67.2 %\n",
       "Name: proportion, dtype: object"
      ]
     },
     "execution_count": 202,
     "metadata": {},
     "output_type": "execute_result"
    }
   ],
   "execution_count": 202
  },
  {
   "metadata": {
    "ExecuteTime": {
     "end_time": "2025-07-09T09:47:35.178998Z",
     "start_time": "2025-07-09T09:47:35.173795Z"
    }
   },
   "cell_type": "code",
   "source": "top_gen = df.groupby(\"labels\")[\"generation\"].agg(lambda x: x.mode().iloc[0])",
   "id": "922f2dd36c513ee9",
   "outputs": [],
   "execution_count": 205
  },
  {
   "metadata": {
    "ExecuteTime": {
     "end_time": "2025-07-09T09:56:31.273527Z",
     "start_time": "2025-07-09T09:56:31.267456Z"
    }
   },
   "cell_type": "code",
   "source": "top_gen_pct = df.groupby(\"labels\")[\"generation\"].value_counts(normalize=True).groupby(level=0).max().mul(100).round(1).astype(str)",
   "id": "cfcef85068fd1ca9",
   "outputs": [],
   "execution_count": 213
  },
  {
   "metadata": {
    "ExecuteTime": {
     "end_time": "2025-07-09T09:56:41.459813Z",
     "start_time": "2025-07-09T09:56:41.456237Z"
    }
   },
   "cell_type": "code",
   "source": "combined = top_gen.str.cat(top_gen_pct.astype(str) + \" %\", sep=\" (\") + \")\"",
   "id": "f219a623ca664cf0",
   "outputs": [],
   "execution_count": 215
  },
  {
   "metadata": {
    "ExecuteTime": {
     "end_time": "2025-07-09T09:57:36.330346Z",
     "start_time": "2025-07-09T09:57:36.327270Z"
    }
   },
   "cell_type": "code",
   "source": "top_gen = combined",
   "id": "9dcc172a846d2311",
   "outputs": [],
   "execution_count": 217
  },
  {
   "metadata": {
    "ExecuteTime": {
     "end_time": "2025-07-09T10:22:13.173193Z",
     "start_time": "2025-07-09T10:22:13.165386Z"
    }
   },
   "cell_type": "code",
   "source": [
    "top_beruf = df.groupby(\"labels\")[\"beruf\"].agg(lambda x: x.mode().iloc[0])\n",
    "\n",
    "top_beruf_pct = df.groupby(\"labels\")[\"beruf\"].value_counts(normalize=True).groupby(level=0).max().mul(100).round(1).astype(str) + \" %\"\n",
    "\n",
    "combined = top_beruf.str.cat(top_beruf_pct, sep=\" (\") + \")\""
   ],
   "id": "d0ab5df9760a5e5a",
   "outputs": [],
   "execution_count": 232
  },
  {
   "metadata": {
    "ExecuteTime": {
     "end_time": "2025-07-09T10:22:14.449578Z",
     "start_time": "2025-07-09T10:22:14.447162Z"
    }
   },
   "cell_type": "code",
   "source": "top_beruf = combined",
   "id": "9d2cc4dadc09f05f",
   "outputs": [],
   "execution_count": 233
  },
  {
   "metadata": {
    "ExecuteTime": {
     "end_time": "2025-07-09T10:04:08.262947Z",
     "start_time": "2025-07-09T10:04:08.258107Z"
    }
   },
   "cell_type": "code",
   "source": [
    "mapping_func = {\n",
    "    \"Yes\": 1, # hat mentale Probleme\n",
    "    \"Maybe\": 0, # unklar\n",
    "    \"No\": -1 # hat keine mentalen Probleme\n",
    "}\n",
    "mental_health_numeric = df[\"mental_issues\"].map(mapping_func)\n",
    "mental_health_numeric.name = \"mental_health_numeric\"\n",
    "\n",
    "df = pd.concat([df, mental_health_numeric], axis=1)"
   ],
   "id": "7898e3e1d847d837",
   "outputs": [],
   "execution_count": 222
  },
  {
   "metadata": {
    "ExecuteTime": {
     "end_time": "2025-07-09T10:14:24.711967Z",
     "start_time": "2025-07-09T10:14:24.707940Z"
    }
   },
   "cell_type": "code",
   "source": "mental_issues = df.groupby(\"labels\")[\"mental_health_numeric\"].mean().apply(lambda x: \"Sehr gesund\" if x <= -0.5 else \"Überwiegend gesund\" if x < -0.1 else \"Ausgeglichen\" if x <= 0.1 else \"Überwiegend ungesund\" if x <= 0.5 else \"Sehr ungesund\")",
   "id": "3199e0948ee8989f",
   "outputs": [],
   "execution_count": 225
  },
  {
   "metadata": {
    "ExecuteTime": {
     "end_time": "2025-07-09T10:14:25.549621Z",
     "start_time": "2025-07-09T10:14:25.545378Z"
    }
   },
   "cell_type": "code",
   "source": "mental_issues",
   "id": "fc70bd33a0b5fc7b",
   "outputs": [
    {
     "data": {
      "text/plain": [
       "labels\n",
       "0           Sehr ungesund\n",
       "1             Sehr gesund\n",
       "2    Überwiegend ungesund\n",
       "3           Sehr ungesund\n",
       "Name: mental_health_numeric, dtype: object"
      ]
     },
     "execution_count": 226,
     "metadata": {},
     "output_type": "execute_result"
    }
   ],
   "execution_count": 226
  },
  {
   "metadata": {
    "ExecuteTime": {
     "end_time": "2025-07-09T10:24:18.800010Z",
     "start_time": "2025-07-09T10:24:18.795451Z"
    }
   },
   "cell_type": "code",
   "source": [
    "cluster_df = pd.concat([male_pct, top_gen, top_beruf, mental_issues], axis=1)\n",
    "cluster_df.columns = [\"Anteil Männer\", \"Top Generation (Anteil)\", \"Top Beruf (Anteil)\", \"Mental Gesundheit\"]"
   ],
   "id": "43e7e4944c664020",
   "outputs": [],
   "execution_count": 234
  },
  {
   "metadata": {
    "ExecuteTime": {
     "end_time": "2025-07-09T10:24:19.512500Z",
     "start_time": "2025-07-09T10:24:19.506164Z"
    }
   },
   "cell_type": "code",
   "source": "cluster_df",
   "id": "d2e1a0137da76744",
   "outputs": [
    {
     "data": {
      "text/plain": [
       "       Anteil Männer Top Generation (Anteil) Top Beruf (Anteil)  \\\n",
       "labels                                                            \n",
       "0             59.9 %          Gen Y (59.9 %)  Back-end (46.1 %)   \n",
       "1             81.2 %          Gen Y (68.5 %)  Back-end (51.3 %)   \n",
       "2             78.0 %          Gen Y (61.7 %)  Back-end (59.0 %)   \n",
       "3             67.2 %          Gen Y (76.3 %)  Back-end (44.6 %)   \n",
       "\n",
       "           Mental Gesundheit  \n",
       "labels                        \n",
       "0              Sehr ungesund  \n",
       "1                Sehr gesund  \n",
       "2       Überwiegend ungesund  \n",
       "3              Sehr ungesund  "
      ],
      "text/html": [
       "<div>\n",
       "<style scoped>\n",
       "    .dataframe tbody tr th:only-of-type {\n",
       "        vertical-align: middle;\n",
       "    }\n",
       "\n",
       "    .dataframe tbody tr th {\n",
       "        vertical-align: top;\n",
       "    }\n",
       "\n",
       "    .dataframe thead th {\n",
       "        text-align: right;\n",
       "    }\n",
       "</style>\n",
       "<table border=\"1\" class=\"dataframe\">\n",
       "  <thead>\n",
       "    <tr style=\"text-align: right;\">\n",
       "      <th></th>\n",
       "      <th>Anteil Männer</th>\n",
       "      <th>Top Generation (Anteil)</th>\n",
       "      <th>Top Beruf (Anteil)</th>\n",
       "      <th>Mental Gesundheit</th>\n",
       "    </tr>\n",
       "    <tr>\n",
       "      <th>labels</th>\n",
       "      <th></th>\n",
       "      <th></th>\n",
       "      <th></th>\n",
       "      <th></th>\n",
       "    </tr>\n",
       "  </thead>\n",
       "  <tbody>\n",
       "    <tr>\n",
       "      <th>0</th>\n",
       "      <td>59.9 %</td>\n",
       "      <td>Gen Y (59.9 %)</td>\n",
       "      <td>Back-end (46.1 %)</td>\n",
       "      <td>Sehr ungesund</td>\n",
       "    </tr>\n",
       "    <tr>\n",
       "      <th>1</th>\n",
       "      <td>81.2 %</td>\n",
       "      <td>Gen Y (68.5 %)</td>\n",
       "      <td>Back-end (51.3 %)</td>\n",
       "      <td>Sehr gesund</td>\n",
       "    </tr>\n",
       "    <tr>\n",
       "      <th>2</th>\n",
       "      <td>78.0 %</td>\n",
       "      <td>Gen Y (61.7 %)</td>\n",
       "      <td>Back-end (59.0 %)</td>\n",
       "      <td>Überwiegend ungesund</td>\n",
       "    </tr>\n",
       "    <tr>\n",
       "      <th>3</th>\n",
       "      <td>67.2 %</td>\n",
       "      <td>Gen Y (76.3 %)</td>\n",
       "      <td>Back-end (44.6 %)</td>\n",
       "      <td>Sehr ungesund</td>\n",
       "    </tr>\n",
       "  </tbody>\n",
       "</table>\n",
       "</div>"
      ]
     },
     "execution_count": 235,
     "metadata": {},
     "output_type": "execute_result"
    }
   ],
   "execution_count": 235
  },
  {
   "metadata": {
    "ExecuteTime": {
     "end_time": "2025-07-09T10:41:57.244487Z",
     "start_time": "2025-07-09T10:41:57.025087Z"
    }
   },
   "cell_type": "code",
   "source": [
    "# Größe der Abbildung anpassen\n",
    "  # Höhe abhängig von Zeilenanzahl\n",
    "\n",
    "# Tabelle erzeugen\n",
    "df_table = cluster_df.reset_index()\n",
    "plt.axis('off')  # Achsen ausschalten\n",
    "table = plt.table(cellText=df_table.values, colLabels=df_table.columns, cellLoc='center', loc='center')\n",
    "for key, cell in table.get_celld().items():\n",
    "    row, col = key\n",
    "    if row == 0:  # Kopfzeile\n",
    "        cell.set_text_props(color='white', weight='bold')\n",
    "        cell.set_facecolor('#4C4C4C')  # dunkles Grau\n",
    "plt.savefig(\"Plots/Labelsaufteilung.png\", dpi=300)\n",
    "plt.show()"
   ],
   "id": "143c40cf06f70862",
   "outputs": [
    {
     "data": {
      "text/plain": [
       "<Figure size 640x480 with 1 Axes>"
      ],
      "image/png": "[encoded data removed]"
     },
     "metadata": {},
     "output_type": "display_data"
    }
   ],
   "execution_count": 242
  },
  {
   "metadata": {
    "ExecuteTime": {
     "end_time": "2025-07-09T10:44:33.875091Z",
     "start_time": "2025-07-09T10:44:33.873103Z"
    }
   },
   "cell_type": "code",
   "source": "# Untersuchung 2: XGBoost anwenden mit den Clustern als Zielvariable -> Welche Spalte hat den höchsten Einfluss auf die Cluster",
   "id": "62cb9d6ca742190e",
   "outputs": [],
   "execution_count": null
  },
  {
   "metadata": {
    "ExecuteTime": {
     "end_time": "2025-07-10T08:56:48.510732Z",
     "start_time": "2025-07-10T08:56:48.170976Z"
    }
   },
   "cell_type": "code",
   "source": [
    "import xgboost as xgb\n",
    "from sklearn.model_selection import train_test_split\n",
    "from sklearn.metrics import accuracy_score\n",
    "\n",
    "X = pd.read_pickle(\"data/edited/full_df_rdy_1.pkl\").reset_index(drop=True)\n",
    "y = labels\n",
    "X_train, X_test, y_train, y_test = train_test_split(X, y, test_size=0.25, stratify=y)\n",
    "\n",
    "model_xgb = xgb.XGBClassifier()\n",
    "model_xgb.fit(X_train, y_train)\n",
    "y_pred = model_xgb.predict(X_test)\n",
    "accuracy = accuracy_score(y_test, y_pred)"
   ],
   "id": "613aa13a1ac7133b",
   "outputs": [],
   "execution_count": 6
  },
  {
   "metadata": {
    "ExecuteTime": {
     "end_time": "2025-07-10T08:56:51.009673Z",
     "start_time": "2025-07-10T08:56:51.004516Z"
    }
   },
   "cell_type": "code",
   "source": "accuracy",
   "id": "f93722cc77dcca87",
   "outputs": [
    {
     "data": {
      "text/plain": [
       "0.8814229249011858"
      ]
     },
     "execution_count": 7,
     "metadata": {},
     "output_type": "execute_result"
    }
   ],
   "execution_count": 7
  },
  {
   "metadata": {},
   "cell_type": "code",
   "source": [
    "from xgboost import plot_importance\n",
    "plot_importance(model_xgb, max_num_features=10, title=\"Feature importance (XGBoost)\")\n",
    "plt.savefig(\"Plots/Feature_Importance_XGBoost.png\", dpi=300)\n",
    "plt.show()"
   ],
   "id": "6c21b4f69507c299",
   "outputs": [],
   "execution_count": null
  },
  {
   "metadata": {
    "ExecuteTime": {
     "end_time": "2025-07-10T08:56:53.707462Z",
     "start_time": "2025-07-10T08:56:53.698350Z"
    }
   },
   "cell_type": "code",
   "source": [
    "importance = model_xgb.get_booster().get_score(importance_type='weight')\n",
    "importance_df = pd.DataFrame(importance.items(), columns=['Feature', 'Score'])\n",
    "importance_df = importance_df.sort_values(by='Score', ascending=False)"
   ],
   "id": "1e36c43f979ae779",
   "outputs": [],
   "execution_count": 8
  },
  {
   "metadata": {
    "ExecuteTime": {
     "end_time": "2025-07-10T08:57:03.912446Z",
     "start_time": "2025-07-10T08:57:03.908695Z"
    }
   },
   "cell_type": "code",
   "source": [
    "top_n = 10\n",
    "top_features = importance_df.head(top_n)"
   ],
   "id": "40433d3ce7c662",
   "outputs": [],
   "execution_count": 9
  },
  {
   "metadata": {
    "ExecuteTime": {
     "end_time": "2025-07-10T08:57:06.666767Z",
     "start_time": "2025-07-10T08:57:06.657617Z"
    }
   },
   "cell_type": "code",
   "source": "top_features",
   "id": "a17e43210abf9d11",
   "outputs": [
    {
     "data": {
      "text/plain": [
       "                                              Feature  Score\n",
       "2   If a mental health issue prompted you to reque...  200.0\n",
       "24  If you have a mental health issue, do you feel...  154.0\n",
       "4   Were you aware of the options for mental healt...  150.0\n",
       "23  If you have a mental health issue, do you feel...  148.0\n",
       "19  Have you observed or experienced an unsupporti...  130.0\n",
       "3   Have your previous employers provided mental h...  128.0\n",
       "12  Did you feel that your previous employers took...  127.0\n",
       "0   How many employees does your company or organi...  108.0\n",
       "22    Do you currently have a mental health disorder?  103.0\n",
       "17  Do you think that team members/co-workers woul...   98.0"
      ],
      "text/html": [
       "<div>\n",
       "<style scoped>\n",
       "    .dataframe tbody tr th:only-of-type {\n",
       "        vertical-align: middle;\n",
       "    }\n",
       "\n",
       "    .dataframe tbody tr th {\n",
       "        vertical-align: top;\n",
       "    }\n",
       "\n",
       "    .dataframe thead th {\n",
       "        text-align: right;\n",
       "    }\n",
       "</style>\n",
       "<table border=\"1\" class=\"dataframe\">\n",
       "  <thead>\n",
       "    <tr style=\"text-align: right;\">\n",
       "      <th></th>\n",
       "      <th>Feature</th>\n",
       "      <th>Score</th>\n",
       "    </tr>\n",
       "  </thead>\n",
       "  <tbody>\n",
       "    <tr>\n",
       "      <th>2</th>\n",
       "      <td>If a mental health issue prompted you to reque...</td>\n",
       "      <td>200.0</td>\n",
       "    </tr>\n",
       "    <tr>\n",
       "      <th>24</th>\n",
       "      <td>If you have a mental health issue, do you feel...</td>\n",
       "      <td>154.0</td>\n",
       "    </tr>\n",
       "    <tr>\n",
       "      <th>4</th>\n",
       "      <td>Were you aware of the options for mental healt...</td>\n",
       "      <td>150.0</td>\n",
       "    </tr>\n",
       "    <tr>\n",
       "      <th>23</th>\n",
       "      <td>If you have a mental health issue, do you feel...</td>\n",
       "      <td>148.0</td>\n",
       "    </tr>\n",
       "    <tr>\n",
       "      <th>19</th>\n",
       "      <td>Have you observed or experienced an unsupporti...</td>\n",
       "      <td>130.0</td>\n",
       "    </tr>\n",
       "    <tr>\n",
       "      <th>3</th>\n",
       "      <td>Have your previous employers provided mental h...</td>\n",
       "      <td>128.0</td>\n",
       "    </tr>\n",
       "    <tr>\n",
       "      <th>12</th>\n",
       "      <td>Did you feel that your previous employers took...</td>\n",
       "      <td>127.0</td>\n",
       "    </tr>\n",
       "    <tr>\n",
       "      <th>0</th>\n",
       "      <td>How many employees does your company or organi...</td>\n",
       "      <td>108.0</td>\n",
       "    </tr>\n",
       "    <tr>\n",
       "      <th>22</th>\n",
       "      <td>Do you currently have a mental health disorder?</td>\n",
       "      <td>103.0</td>\n",
       "    </tr>\n",
       "    <tr>\n",
       "      <th>17</th>\n",
       "      <td>Do you think that team members/co-workers woul...</td>\n",
       "      <td>98.0</td>\n",
       "    </tr>\n",
       "  </tbody>\n",
       "</table>\n",
       "</div>"
      ]
     },
     "execution_count": 10,
     "metadata": {},
     "output_type": "execute_result"
    }
   ],
   "execution_count": 10
  }
 ],
 "metadata": {
  "kernelspec": {
   "display_name": "Python 3",
   "language": "python",
   "name": "python3"
  },
  "language_info": {
   "codemirror_mode": {
    "name": "ipython",
    "version": 2
   },
   "file_extension": ".py",
   "mimetype": "text/x-python",
   "name": "python",
   "nbconvert_exporter": "python",
   "pygments_lexer": "ipython2",
   "version": "2.7.6"
  }
 },
 "nbformat": 4,
 "nbformat_minor": 5
}
