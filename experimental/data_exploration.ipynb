{
 "cells": [
  {
   "cell_type": "code",
   "id": "initial_id",
   "metadata": {
    "collapsed": true
   },
   "source": [
    "import matplotlib.pyplot as plt\n",
    "import pandas as pd\n",
    "from pathlib import Path\n",
    "import logging\n",
    "from pandas import DataFrame\n",
    "import seaborn as sns\n",
    "import numpy as np"
   ],
   "outputs": [],
   "execution_count": null
  },
  {
   "metadata": {},
   "cell_type": "code",
   "source": "filepath = Path.cwd().parent / \"data\" / \"raw\" / \"mental-heath-in-tech-2016_20161114.csv\"",
   "id": "c2d5a2f6ed6b1624",
   "outputs": [],
   "execution_count": null
  },
  {
   "metadata": {},
   "cell_type": "code",
   "source": [
    "def setup_logger(name: str, log_file: Path = None, level=logging.INFO):\n",
    "    \"\"\"Logger mit Konsolen- und optionaler Dateiausgabe.\"\"\"\n",
    "    logger = logging.getLogger(name)\n",
    "    logger.setLevel(level)\n",
    "\n",
    "\n",
    "    formatter = logging.Formatter('%(asctime)s - %(levelname)s - %(message)s')\n",
    "\n",
    "    # Konsolen-Handler\n",
    "    console_handler = logging.StreamHandler()\n",
    "    console_handler.setFormatter(formatter)\n",
    "    logger.addHandler(console_handler)\n",
    "\n",
    "    # Datei-Handler (falls gewünscht)\n",
    "    if log_file:\n",
    "        file_handler = logging.FileHandler(log_file)\n",
    "        file_handler.setFormatter(formatter)\n",
    "        logger.addHandler(file_handler)\n",
    "\n",
    "    return logger\n",
    "\n"
   ],
   "id": "8f9233f7a581b788",
   "outputs": [],
   "execution_count": null
  },
  {
   "metadata": {},
   "cell_type": "code",
   "source": "logger = setup_logger(__name__, log_file=\"exp.log\")",
   "id": "7ada77d3436a5714",
   "outputs": [],
   "execution_count": null
  },
  {
   "metadata": {},
   "cell_type": "code",
   "source": [
    "def robust_csv_read(filepath: Path) -> DataFrame:\n",
    "    try:\n",
    "        if not Path(filepath).is_file():\n",
    "            raise FileNotFoundError(f\"Datei ({filepath}) not found\")\n",
    "\n",
    "        df = pd.read_csv(\n",
    "            filepath_or_buffer=filepath,\n",
    "            sep=\",\",\n",
    "            engine=\"python\",\n",
    "            on_bad_lines=\"warn\"\n",
    "        ).convert_dtypes(dtype_backend=\"numpy_nullable\")\n",
    "\n",
    "        logger.info(f\"Erfolgreich Eingelesen: {str(Path)[-20:]} \\n(Zeilen: {len(df)})\")\n",
    "        return df\n",
    "\n",
    "    except pd.errors.EmptyDataError:\n",
    "        logger.warning(f\"Leere oder korrupte Datei: {filepath}\")\n",
    "        return pd.DataFrame()\n",
    "\n",
    "    except pd.errors.ParserError as e:\n",
    "        logger.error(f\"CSV-Parsing-Fehler in {filepath}: {str(e)}\", exc_info=True)\n",
    "        return pd.DataFrame() # Fallback\n",
    "\n",
    "    except Exception as e:\n",
    "        logger.critical(\n",
    "            f\"Unbekannter Fehler beim Lesen von {filepath}: {str(e)}\",\n",
    "            exc_info=True\n",
    "        )\n",
    "        raise\n",
    "\n",
    "    finally:\n",
    "        logger.debug(f\"CSV-Lesevorgang abgeschlossen für: {filepath}\")"
   ],
   "id": "ca6007138dec31a0",
   "outputs": [],
   "execution_count": null
  },
  {
   "metadata": {},
   "cell_type": "code",
   "source": "df = robust_csv_read(filepath)",
   "id": "2e8395b91b62e000",
   "outputs": [],
   "execution_count": null
  },
  {
   "metadata": {},
   "cell_type": "code",
   "source": "missing_percentage = df.isna().mean() * 100",
   "id": "b847089cd37a3d12",
   "outputs": [],
   "execution_count": null
  },
  {
   "metadata": {},
   "cell_type": "code",
   "source": "missing_percentage = missing_percentage.to_frame()",
   "id": "9665aaab31a300c0",
   "outputs": [],
   "execution_count": null
  },
  {
   "metadata": {},
   "cell_type": "code",
   "source": "missing_percentage",
   "id": "501861ca8dec1ab4",
   "outputs": [],
   "execution_count": null
  },
  {
   "metadata": {},
   "cell_type": "code",
   "source": [
    "missing_percentage = missing_percentage.reset_index()\n",
    "missing_percentage.columns = [\"Questions\", \"isna%\"]"
   ],
   "id": "1ae583f1a8bcf19e",
   "outputs": [],
   "execution_count": null
  },
  {
   "metadata": {},
   "cell_type": "code",
   "source": "rows_more_than_30_percent_isna = missing_percentage[missing_percentage['isna%'] > 20]",
   "id": "333a331c21e8ee58",
   "outputs": [],
   "execution_count": null
  },
  {
   "metadata": {},
   "cell_type": "code",
   "source": [
    "x = rows_more_than_30_percent_isna[\"Questions\"].str[:20].apply(lambda x: x + \"...\")\n",
    "y = rows_more_than_30_percent_isna[\"isna%\"].to_list()\n",
    "sns.set_theme(style=\"whitegrid\", context=\"paper\")  # Stil optimiert für Papers\n",
    "\n",
    "plt.figure(dpi=300)\n",
    "\n",
    "# Barplot mit expliziten Positionen\n",
    "x_pos = np.arange(len(x))\n",
    "plt.bar(x=x_pos, height=y, width=0.6)  # width für schmalere Balken\n",
    "\n",
    "# X-Achse mit korrekter Zuordnung\n",
    "plt.xticks(ticks=x_pos, labels=x, rotation=65, ha='right')  #\n",
    "\n",
    "# Titel und Achsen\n",
    "plt.title(\"Fragen mit mehr als 20% fehlender Werte\", pad=20, fontsize=10)\n",
    "plt.xlabel(\"Fragen aus dem Fragebogen\", fontsize=10)\n",
    "plt.ylabel(\"% fehlende Werte\", fontsize=10)\n",
    "plt.axhline(y=25, color=\"red\", linestyle=\"--\", linewidth=1.5, label=\"Grenzwert (25%)\")\n",
    "\n",
    "\n",
    "plt.tight_layout()\n",
    "plt.legend()\n",
    "plt.grid(False)\n",
    "# plt.show()\n",
    "plt.savefig(Path.cwd().parent / \"Plots\" / \"Fragen_mit_mehr_als_30%_fehlender_Werte.png\", dpi=300)\n"
   ],
   "id": "2587a8482a41ba37",
   "outputs": [],
   "execution_count": null
  },
  {
   "metadata": {},
   "cell_type": "code",
   "source": "df.head()",
   "id": "15ccc7b63ded3ba5",
   "outputs": [],
   "execution_count": null
  },
  {
   "metadata": {},
   "cell_type": "code",
   "source": [
    "questions = rows_more_than_30_percent_isna[\"Questions\"]\n",
    "percentages = rows_more_than_30_percent_isna[\"isna%\"]\n",
    "\n",
    "table_df = pd.DataFrame({\n",
    "    \"Fragen\": questions,\n",
    "    \"Fehlende Werte (%)\": percentages\n",
    "}).convert_dtypes(dtype_backend=\"numpy_nullable\")\n",
    "\n",
    "table_df[\"Fragen\"] = table_df[\"Fragen\"]\n",
    "table_df[\"Fehlende Werte (%)\"] = table_df[\"Fehlende Werte (%)\"].round(2).astype(pd.Float32Dtype())"
   ],
   "id": "13965177e41a7804",
   "outputs": [],
   "execution_count": null
  },
  {
   "metadata": {},
   "cell_type": "code",
   "source": [
    "html_table = table_df.to_html(\n",
    "    index=False,\n",
    "    classes=\"table table-striped\",\n",
    "\n",
    ")\n",
    "path = Path.cwd().parent / \"Plots\" / \"Fragen_mit_mehr_als_20_%_fehlender_Werte.html\"\n",
    "with open(path, \"w\", encoding=\"utf-8\") as f:\n",
    "    f.write(html_table)"
   ],
   "id": "cb2031b0223b974a",
   "outputs": [],
   "execution_count": null
  },
  {
   "metadata": {},
   "cell_type": "code",
   "source": [
    "# 1. Entfernung aller Fragen, die mehr als 25% fehlende Werte haben\n",
    "threshold = 0.25\n",
    "cols_to_drop = df.columns[df.isna().mean() > threshold].to_list()\n",
    "df_temp_1 = df.drop(columns=cols_to_drop)\n",
    "logger.info(f\"Spalten gelöscht, welche mehr als 25% fehlende Werte haben: \\n{len(cols_to_drop)} Spalten gelöscht\\n\"\n",
    "            f\"{df.shape[1] - len(cols_to_drop)} Spalten übrig\")"
   ],
   "id": "b4b15f0381944b4e",
   "outputs": [],
   "execution_count": null
  },
  {
   "metadata": {},
   "cell_type": "code",
   "outputs": [],
   "execution_count": null,
   "source": "# Jede Spalte isoliert betrachtet bereinigen\n",
   "id": "fc2b232ce3606909"
  },
  {
   "metadata": {
    "ExecuteTime": {
     "end_time": "2025-07-04T17:37:59.920268Z",
     "start_time": "2025-07-04T17:37:59.915691Z"
    }
   },
   "cell_type": "code",
   "source": [
    "# 1. Spalte\n",
    "unique_values = df.iloc[:, 0].value_counts(dropna=False)\n",
    "unique_values"
   ],
   "id": "d84fb62c4b46b2f0",
   "outputs": [
    {
     "data": {
      "text/plain": [
       "Are you self-employed?\n",
       "0    1146\n",
       "1     287\n",
       "Name: count, dtype: Int64"
      ]
     },
     "execution_count": 133,
     "metadata": {},
     "output_type": "execute_result"
    }
   ],
   "execution_count": 133
  },
  {
   "metadata": {
    "ExecuteTime": {
     "end_time": "2025-07-04T17:38:03.704654Z",
     "start_time": "2025-07-04T17:38:03.699020Z"
    }
   },
   "cell_type": "code",
   "source": [
    "# 2. Spalte\n",
    "unique_values = df_temp_1.iloc[:, 1].value_counts(dropna=False)\n",
    "unique_values"
   ],
   "id": "443190d7599ac9fc",
   "outputs": [
    {
     "data": {
      "text/plain": [
       "How many employees does your company or organization have?\n",
       "26-100            292\n",
       "<NA>              287\n",
       "More than 1000    256\n",
       "100-500           248\n",
       "6-25              210\n",
       "500-1000           80\n",
       "1-5                60\n",
       "Name: count, dtype: Int64"
      ]
     },
     "execution_count": 134,
     "metadata": {},
     "output_type": "execute_result"
    }
   ],
   "execution_count": 134
  },
  {
   "metadata": {
    "ExecuteTime": {
     "end_time": "2025-07-04T17:45:59.124045Z",
     "start_time": "2025-07-04T17:45:59.108245Z"
    }
   },
   "cell_type": "code",
   "source": [
    "df_columns = df.columns.to_list()\n",
    "df_unique_values = df.nunique(dropna=False).to_list()\n",
    "df_isna = df.isna().any().replace({True: \"JA\", False: \"NEIN\"}).to_list()"
   ],
   "id": "da2215a23e38b524",
   "outputs": [],
   "execution_count": 137
  },
  {
   "metadata": {
    "ExecuteTime": {
     "end_time": "2025-07-04T17:48:40.481949Z",
     "start_time": "2025-07-04T17:48:40.476916Z"
    }
   },
   "cell_type": "code",
   "source": [
    "df_html = pd.DataFrame({\n",
    "    \"Frage\": df_columns,\n",
    "    \"N_Unique\": df_unique_values,\n",
    "    \"IsNa\": df_isna,\n",
    "}).to_html(index=False)"
   ],
   "id": "647b292851748388",
   "outputs": [],
   "execution_count": 140
  },
  {
   "metadata": {
    "ExecuteTime": {
     "end_time": "2025-07-04T17:48:43.950623Z",
     "start_time": "2025-07-04T17:48:43.946712Z"
    }
   },
   "cell_type": "code",
   "source": [
    "path2 = Path.cwd().parent / \"Plots\" / \"Übersicht_AnfangsDF.html\"\n",
    "with open(path2, \"w\", encoding=\"utf-8\") as f:\n",
    "    f.write(df_html)"
   ],
   "id": "6022fe17392e7157",
   "outputs": [],
   "execution_count": 141
  },
  {
   "metadata": {
    "ExecuteTime": {
     "end_time": "2025-07-04T18:27:26.028822Z",
     "start_time": "2025-07-04T18:27:26.023125Z"
    }
   },
   "cell_type": "code",
   "source": "df_temp_1.iloc[:, 1].value_counts(dropna=False)",
   "id": "692807f6fa8fb804",
   "outputs": [
    {
     "data": {
      "text/plain": [
       "How many employees does your company or organization have?\n",
       "26-100            292\n",
       "<NA>              287\n",
       "More than 1000    256\n",
       "100-500           248\n",
       "6-25              210\n",
       "500-1000           80\n",
       "1-5                60\n",
       "Name: count, dtype: Int64"
      ]
     },
     "execution_count": 169,
     "metadata": {},
     "output_type": "execute_result"
    }
   ],
   "execution_count": 169
  },
  {
   "metadata": {
    "ExecuteTime": {
     "end_time": "2025-07-04T18:29:09.772973Z",
     "start_time": "2025-07-04T18:29:09.764365Z"
    }
   },
   "cell_type": "code",
   "source": [
    "col = \"How many employees does your company or organization have?\"\n",
    "threshold = int(df_temp_1.shape[1]*0.75)\n",
    "n2 = df_temp_1.shape[0] - df_temp_1[df_temp_1[col].isna()].dropna(thresh=threshold).shape[0]\n",
    "\n",
    "print(f\"{n2} Zeilen gelöscht, die in {col} isna haben\")"
   ],
   "id": "81f649e86ac6d228",
   "outputs": [
    {
     "name": "stdout",
     "output_type": "stream",
     "text": [
      "-1146 Zeilen gelöscht\n"
     ]
    }
   ],
   "execution_count": 172
  },
  {
   "metadata": {
    "ExecuteTime": {
     "end_time": "2025-07-04T18:33:20.298954Z",
     "start_time": "2025-07-04T18:33:20.289006Z"
    }
   },
   "cell_type": "code",
   "source": [
    "threshold = int(df_temp_1.shape[1] * 0.75)\n",
    "\n",
    "# Zeilen behalten, die entweder\n",
    "# (a) keinen NaN in col haben  ODER\n",
    "# (b) genug gültige Werte besitzen\n",
    "df_temp_2 = df_temp_1[\n",
    "    (~df_temp_1[col].isna()) &\n",
    "    (df_temp_1.notna().sum(axis=1) >= threshold)\n",
    "]\n",
    "\n",
    "n2 = df_temp_1.shape[0] - df_temp_2.shape[0]\n",
    "print(f\"{n2} Zeilen gelöscht, die in '{col}' NaN sind und < {threshold} gültige Werte haben.\")\n"
   ],
   "id": "5ad47167527cc959",
   "outputs": [
    {
     "name": "stdout",
     "output_type": "stream",
     "text": [
      "315 Zeilen gelöscht, die in 'How many employees does your company or organization have?' NaN sind und < 35 gültige Werte haben.\n"
     ]
    }
   ],
   "execution_count": 176
  },
  {
   "metadata": {
    "ExecuteTime": {
     "end_time": "2025-07-04T19:19:54.920423Z",
     "start_time": "2025-07-04T19:19:54.911352Z"
    }
   },
   "cell_type": "code",
   "source": [
    "threshold = int(df_temp_1.shape[1]*0.75)\n",
    "df_temp_2 = df_temp_1.dropna(thresh=threshold)\n",
    "print(f\"{df_temp_1.shape[0] - df_temp_2.shape[0]} Zeilen gelöscht, die mehr als {df_temp_1.shape[1] - threshold} leere Spalten haben\")"
   ],
   "id": "53df109b2cbea4d",
   "outputs": [
    {
     "name": "stdout",
     "output_type": "stream",
     "text": [
      "315 Zeilen gelöscht, die mehr als 12 leere Spalten haben\n"
     ]
    }
   ],
   "execution_count": 200
  },
  {
   "metadata": {
    "ExecuteTime": {
     "end_time": "2025-07-04T19:19:55.909637Z",
     "start_time": "2025-07-04T19:19:55.904165Z"
    }
   },
   "cell_type": "code",
   "source": "df_temp_2.iloc[:, 1].value_counts(dropna=False)",
   "id": "6ea42744c752d83e",
   "outputs": [
    {
     "data": {
      "text/plain": [
       "How many employees does your company or organization have?\n",
       "26-100            284\n",
       "More than 1000    253\n",
       "100-500           243\n",
       "6-25              203\n",
       "500-1000           77\n",
       "1-5                58\n",
       "Name: count, dtype: Int64"
      ]
     },
     "execution_count": 201,
     "metadata": {},
     "output_type": "execute_result"
    }
   ],
   "execution_count": 201
  },
  {
   "metadata": {
    "ExecuteTime": {
     "end_time": "2025-07-04T19:19:57.428018Z",
     "start_time": "2025-07-04T19:19:57.422491Z"
    }
   },
   "cell_type": "code",
   "source": [
    "# Ordinal Encoding\n",
    "size_order = [\"1-5\", \"6-25\", \"26-100\", \"100-500\", \"500-1000\", \"More than 1000\"]\n",
    "\n",
    "from sklearn.preprocessing import OrdinalEncoder\n",
    "ordEnc = OrdinalEncoder(categories=[size_order])\n",
    "df_temp_2.loc[:, col] = ordEnc.fit_transform(df_temp_2[[col]]).ravel()"
   ],
   "id": "720306efbd6d2dee",
   "outputs": [
    {
     "name": "stderr",
     "output_type": "stream",
     "text": [
      "C:\\Users\\achim\\AppData\\Local\\Temp\\ipykernel_27596\\3370576033.py:6: FutureWarning: Setting an item of incompatible dtype is deprecated and will raise in a future error of pandas. Value '[2. 1. 1. ... 4. 3. 3.]' has dtype incompatible with string, please explicitly cast to a compatible dtype first.\n",
      "  df_temp_2.loc[:, col] = ordEnc.fit_transform(df_temp_2[[col]]).ravel()\n"
     ]
    }
   ],
   "execution_count": 202
  },
  {
   "metadata": {
    "ExecuteTime": {
     "end_time": "2025-07-04T19:37:51.543506Z",
     "start_time": "2025-07-04T19:37:51.538015Z"
    }
   },
   "cell_type": "code",
   "source": "df_temp_2[col3].value_counts(dropna=False)",
   "id": "5b5027d77cca39d6",
   "outputs": [
    {
     "data": {
      "text/plain": [
       "Does your employer provide mental health benefits as part of healthcare coverage?\n",
       "Yes                                521\n",
       "I don't know                       311\n",
       "No                                 208\n",
       "Not eligible for coverage / N/A     78\n",
       "Name: count, dtype: Int64"
      ]
     },
     "execution_count": 216,
     "metadata": {},
     "output_type": "execute_result"
    }
   ],
   "execution_count": 216
  },
  {
   "metadata": {
    "ExecuteTime": {
     "end_time": "2025-07-04T19:34:13.645053Z",
     "start_time": "2025-07-04T19:34:13.642024Z"
    }
   },
   "cell_type": "code",
   "source": "col3 = df_temp_2.columns[3]",
   "id": "798af1e321504923",
   "outputs": [],
   "execution_count": 211
  },
  {
   "metadata": {
    "ExecuteTime": {
     "end_time": "2025-07-04T19:49:50.771758Z",
     "start_time": "2025-07-04T19:49:50.766686Z"
    }
   },
   "cell_type": "code",
   "source": [
    "from sklearn.preprocessing import OneHotEncoder\n",
    "\n",
    "ohe = OneHotEncoder(sparse_output=False, drop=\"first\")\n",
    "encoded_data = ohe.fit_transform(df_temp_2[[col3]])\n",
    "\n",
    "categories = ohe.categories_[0][1:]\n"
   ],
   "id": "e5cf809599ca44d2",
   "outputs": [],
   "execution_count": 227
  },
  {
   "metadata": {
    "ExecuteTime": {
     "end_time": "2025-07-04T19:49:55.074470Z",
     "start_time": "2025-07-04T19:49:55.067798Z"
    }
   },
   "cell_type": "code",
   "source": [
    "new_columns = [f\"{col3}_{category}\" for category in categories]\n",
    "\n",
    "encoded_df = pd.DataFrame(encoded_data, columns=new_columns,\n",
    "                          index=df_temp_2.index)\n",
    "\n",
    "df_temp_2 = df_temp_2.drop(col3, axis=1)\n",
    "df_temp_2 = pd.concat([df_temp_2, encoded_df], axis=1)"
   ],
   "id": "ad4550517b6cabe3",
   "outputs": [],
   "execution_count": 228
  },
  {
   "metadata": {
    "ExecuteTime": {
     "end_time": "2025-07-04T21:47:07.875230Z",
     "start_time": "2025-07-04T21:47:07.868831Z"
    }
   },
   "cell_type": "code",
   "source": "df_temp_2.to_pickle(\"df_temp_2.pkl\")",
   "id": "362ad3fa4e8f6821",
   "outputs": [],
   "execution_count": 236
  },
  {
   "metadata": {
    "ExecuteTime": {
     "end_time": "2025-07-04T21:49:40.769112Z",
     "start_time": "2025-07-04T21:49:40.763344Z"
    }
   },
   "cell_type": "code",
   "source": "df_temp_2.iloc[:, 4].value_counts(dropna=False)",
   "id": "93af1726a43a7a2d",
   "outputs": [
    {
     "data": {
      "text/plain": [
       "Does your employer offer resources to learn more about mental health concerns and options for seeking help?\n",
       "No              511\n",
       "I don't know    316\n",
       "Yes             291\n",
       "Name: count, dtype: Int64"
      ]
     },
     "execution_count": 238,
     "metadata": {},
     "output_type": "execute_result"
    }
   ],
   "execution_count": 238
  },
  {
   "metadata": {
    "ExecuteTime": {
     "end_time": "2025-07-04T21:53:40.500983Z",
     "start_time": "2025-07-04T21:53:40.495599Z"
    }
   },
   "cell_type": "code",
   "source": [
    "ohe = OneHotEncoder(sparse_output=False, drop=\"first\")\n",
    "\n",
    "col4 = df_temp_2.columns[4]\n",
    "encoded_data1 = ohe.fit_transform(df_temp_2[[col4]])\n",
    "\n",
    "categories = ohe.categories_[0][1:]"
   ],
   "id": "202648834ba2ea0b",
   "outputs": [],
   "execution_count": 239
  },
  {
   "metadata": {
    "ExecuteTime": {
     "end_time": "2025-07-04T21:57:05.213672Z",
     "start_time": "2025-07-04T21:57:05.207350Z"
    }
   },
   "cell_type": "code",
   "source": [
    "new_cols = [f\"{col4}_{category}\" for category in categories]\n",
    "encoded_df1 = pd.DataFrame(\n",
    "    encoded_data1,\n",
    "    columns=new_cols,\n",
    "    index=df_temp_2.index\n",
    ")\n",
    "\n",
    "df_temp_2 = df_temp_2.drop(columns=col4, axis=1)\n",
    "df_temp_2 = pd.concat([df_temp_2, encoded_df1], axis=1)"
   ],
   "id": "35873c59ce7c6e4e",
   "outputs": [],
   "execution_count": 240
  },
  {
   "metadata": {
    "ExecuteTime": {
     "end_time": "2025-07-04T22:03:25.837133Z",
     "start_time": "2025-07-04T22:03:25.831222Z"
    }
   },
   "cell_type": "code",
   "source": "df_temp_2.iloc[:, 5].value_counts(dropna=False)",
   "id": "dd4f05c2f2f39dc2",
   "outputs": [
    {
     "data": {
      "text/plain": [
       "If a mental health issue prompted you to request a medical leave from work, asking for that leave would be:\n",
       "Somewhat easy                 272\n",
       "Very easy                     213\n",
       "Somewhat difficult            193\n",
       "Neither easy nor difficult    178\n",
       "I don't know                  148\n",
       "Very difficult                114\n",
       "Name: count, dtype: Int64"
      ]
     },
     "execution_count": 249,
     "metadata": {},
     "output_type": "execute_result"
    }
   ],
   "execution_count": 249
  },
  {
   "metadata": {
    "ExecuteTime": {
     "end_time": "2025-07-04T22:11:38.842035Z",
     "start_time": "2025-07-04T22:11:38.837934Z"
    }
   },
   "cell_type": "code",
   "source": "df_temp_2[df_temp_2.columns[5]] = df_temp_2[df_temp_2.columns[5]].replace({\"I don't know\": \"Neither easy nor difficult\"})",
   "id": "a621e54c8ab43c23",
   "outputs": [],
   "execution_count": 251
  },
  {
   "metadata": {
    "ExecuteTime": {
     "end_time": "2025-07-04T22:26:48.006097Z",
     "start_time": "2025-07-04T22:26:48.000122Z"
    }
   },
   "cell_type": "code",
   "source": [
    "cat_order = [\"Very difficult\", \"Somewhat difficult\", \"Neither easy nor difficult\", \"Somewhat easy\", \"Very easy\"]\n",
    "\n",
    "oe = OrdinalEncoder(categories=[cat_order])\n",
    "df_temp_2.iloc[:, 5] = oe.fit_transform(df_temp_2[[df_temp_2.columns[5]]]).ravel()\n"
   ],
   "id": "4949ea6926aa4409",
   "outputs": [
    {
     "name": "stderr",
     "output_type": "stream",
     "text": [
      "C:\\Users\\achim\\AppData\\Local\\Temp\\ipykernel_27596\\3003350805.py:4: FutureWarning: Setting an item of incompatible dtype is deprecated and will raise in a future error of pandas. Value '[4. 3. 2. ... 3. 1. 1.]' has dtype incompatible with string, please explicitly cast to a compatible dtype first.\n",
      "  df_temp_2.iloc[:, 5] = oe.fit_transform(df_temp_2[[df_temp_2.columns[5]]]).ravel()\n"
     ]
    }
   ],
   "execution_count": 273
  },
  {
   "metadata": {
    "ExecuteTime": {
     "end_time": "2025-07-04T22:21:13.116781Z",
     "start_time": "2025-07-04T22:21:13.111961Z"
    }
   },
   "cell_type": "code",
   "source": "df_temp_2.loc[:, 5]",
   "id": "11bc63628cfa78c0",
   "outputs": [
    {
     "data": {
      "text/plain": [
       "0       4.0\n",
       "1       3.0\n",
       "2       2.0\n",
       "4       2.0\n",
       "5       3.0\n",
       "       ... \n",
       "1425    3.0\n",
       "1426    3.0\n",
       "1427    3.0\n",
       "1430    1.0\n",
       "1431    1.0\n",
       "Name: 5, Length: 1118, dtype: float64"
      ]
     },
     "execution_count": 266,
     "metadata": {},
     "output_type": "execute_result"
    }
   ],
   "execution_count": 266
  },
  {
   "metadata": {
    "ExecuteTime": {
     "end_time": "2025-07-04T22:29:45.535251Z",
     "start_time": "2025-07-04T22:29:45.530556Z"
    }
   },
   "cell_type": "code",
   "source": "df_temp_2[\"If a mental health issue prompted you to request a medical leave from work, asking for that leave would be:\"].value_counts()",
   "id": "77b8d935f0549765",
   "outputs": [
    {
     "data": {
      "text/plain": [
       "If a mental health issue prompted you to request a medical leave from work, asking for that leave would be:\n",
       "2.0    326\n",
       "3.0    272\n",
       "4.0    213\n",
       "1.0    193\n",
       "0.0    114\n",
       "Name: count, dtype: int64"
      ]
     },
     "execution_count": 278,
     "metadata": {},
     "output_type": "execute_result"
    }
   ],
   "execution_count": 278
  },
  {
   "metadata": {
    "ExecuteTime": {
     "end_time": "2025-07-04T22:28:15.742545Z",
     "start_time": "2025-07-04T22:28:15.739015Z"
    }
   },
   "cell_type": "code",
   "source": "df_temp_2 = df_temp_2.drop(5, axis=1)",
   "id": "48c4c453fa18d92",
   "outputs": [],
   "execution_count": 276
  },
  {
   "metadata": {
    "ExecuteTime": {
     "end_time": "2025-07-04T22:28:32.506998Z",
     "start_time": "2025-07-04T22:28:32.502786Z"
    }
   },
   "cell_type": "code",
   "source": "df_temp_2.columns",
   "id": "ba472d64fda7fd9c",
   "outputs": [
    {
     "data": {
      "text/plain": [
       "Index(['Are you self-employed?',\n",
       "       'How many employees does your company or organization have?',\n",
       "       'Is your employer primarily a tech company/organization?',\n",
       "       'Has your employer ever formally discussed mental health (for example, as part of a wellness campaign or other official communication)?',\n",
       "       'Is your anonymity protected if you choose to take advantage of mental health or substance abuse treatment resources provided by your employer?',\n",
       "       'If a mental health issue prompted you to request a medical leave from work, asking for that leave would be:',\n",
       "       'Do you think that discussing a mental health disorder with your employer would have negative consequences?',\n",
       "       'Do you think that discussing a physical health issue with your employer would have negative consequences?',\n",
       "       'Would you feel comfortable discussing a mental health disorder with your coworkers?',\n",
       "       'Would you feel comfortable discussing a mental health disorder with your direct supervisor(s)?',\n",
       "       'Do you feel that your employer takes mental health as seriously as physical health?',\n",
       "       'Have you heard of or observed negative consequences for co-workers who have been open about mental health issues in your workplace?',\n",
       "       'Do you have previous employers?',\n",
       "       'Have your previous employers provided mental health benefits?',\n",
       "       'Were you aware of the options for mental health care provided by your previous employers?',\n",
       "       'Did your previous employers ever formally discuss mental health (as part of a wellness campaign or other official communication)?',\n",
       "       'Did your previous employers provide resources to learn more about mental health issues and how to seek help?',\n",
       "       'Was your anonymity protected if you chose to take advantage of mental health or substance abuse treatment resources with previous employers?',\n",
       "       'Do you think that discussing a mental health disorder with previous employers would have negative consequences?',\n",
       "       'Do you think that discussing a physical health issue with previous employers would have negative consequences?',\n",
       "       'Would you have been willing to discuss a mental health issue with your previous co-workers?',\n",
       "       'Would you have been willing to discuss a mental health issue with your direct supervisor(s)?',\n",
       "       'Did you feel that your previous employers took mental health as seriously as physical health?',\n",
       "       'Did you hear of or observe negative consequences for co-workers with mental health issues in your previous workplaces?',\n",
       "       'Would you be willing to bring up a physical health issue with a potential employer in an interview?',\n",
       "       'Why or why not?',\n",
       "       'Would you bring up a mental health issue with a potential employer in an interview?',\n",
       "       'Why or why not?.1',\n",
       "       'Do you feel that being identified as a person with a mental health issue would hurt your career?',\n",
       "       'Do you think that team members/co-workers would view you more negatively if they knew you suffered from a mental health issue?',\n",
       "       'How willing would you be to share with friends and family that you have a mental illness?',\n",
       "       'Have you observed or experienced an unsupportive or badly handled response to a mental health issue in your current or previous workplace?',\n",
       "       'Do you have a family history of mental illness?',\n",
       "       'Have you had a mental health disorder in the past?',\n",
       "       'Do you currently have a mental health disorder?',\n",
       "       'Have you been diagnosed with a mental health condition by a medical professional?',\n",
       "       'Have you ever sought treatment for a mental health issue from a mental health professional?',\n",
       "       'If you have a mental health issue, do you feel that it interferes with your work when being treated effectively?',\n",
       "       'If you have a mental health issue, do you feel that it interferes with your work when NOT being treated effectively?',\n",
       "       'What is your age?', 'What is your gender?',\n",
       "       'What country do you live in?', 'What country do you work in?',\n",
       "       'Which of the following best describes your work position?',\n",
       "       'Do you work remotely?',\n",
       "       'Does your employer provide mental health benefits as part of healthcare coverage?_No',\n",
       "       'Does your employer provide mental health benefits as part of healthcare coverage?_Not eligible for coverage / N/A',\n",
       "       'Does your employer provide mental health benefits as part of healthcare coverage?_Yes',\n",
       "       'Does your employer offer resources to learn more about mental health concerns and options for seeking help?_No',\n",
       "       'Does your employer offer resources to learn more about mental health concerns and options for seeking help?_Yes'],\n",
       "      dtype='object')"
      ]
     },
     "execution_count": 277,
     "metadata": {},
     "output_type": "execute_result"
    }
   ],
   "execution_count": 277
  },
  {
   "metadata": {
    "ExecuteTime": {
     "end_time": "2025-07-04T22:30:56.299392Z",
     "start_time": "2025-07-04T22:30:56.293941Z"
    }
   },
   "cell_type": "code",
   "source": "df_temp_2.iloc[:, 6].value_counts(dropna=False)",
   "id": "ffba64c087d87533",
   "outputs": [
    {
     "data": {
      "text/plain": [
       "Do you think that discussing a mental health disorder with your employer would have negative consequences?\n",
       "Maybe    475\n",
       "No       428\n",
       "Yes      215\n",
       "Name: count, dtype: Int64"
      ]
     },
     "execution_count": 280,
     "metadata": {},
     "output_type": "execute_result"
    }
   ],
   "execution_count": 280
  },
  {
   "metadata": {
    "ExecuteTime": {
     "end_time": "2025-07-04T22:36:39.586617Z",
     "start_time": "2025-07-04T22:36:39.580635Z"
    }
   },
   "cell_type": "code",
   "source": [
    "col_6_order = [\"Yes\", \"Maybe\", \"No\"]\n",
    "\n",
    "oe6 = OrdinalEncoder(categories=[col_6_order])\n",
    "df_temp_2.iloc[:, 6] = oe6.fit_transform(df_temp_2[[df_temp_2.columns[6]]]).ravel()\n",
    "\n"
   ],
   "id": "3d27113cb0eed836",
   "outputs": [
    {
     "name": "stderr",
     "output_type": "stream",
     "text": [
      "C:\\Users\\achim\\AppData\\Local\\Temp\\ipykernel_27596\\493931991.py:4: FutureWarning: Setting an item of incompatible dtype is deprecated and will raise in a future error of pandas. Value '[2. 2. 1. ... 2. 1. 1.]' has dtype incompatible with string, please explicitly cast to a compatible dtype first.\n",
      "  df_temp_2.iloc[:, 6] = oe6.fit_transform(df_temp_2[[df_temp_2.columns[6]]]).ravel()\n"
     ]
    }
   ],
   "execution_count": 281
  },
  {
   "metadata": {
    "ExecuteTime": {
     "end_time": "2025-07-04T22:37:26.724366Z",
     "start_time": "2025-07-04T22:37:26.718712Z"
    }
   },
   "cell_type": "code",
   "source": "df_temp_2.iloc[:, 6].value_counts(dropna=False)",
   "id": "9c006cd5f30a0d4b",
   "outputs": [
    {
     "data": {
      "text/plain": [
       "Do you think that discussing a mental health disorder with your employer would have negative consequences?\n",
       "1.0    475\n",
       "2.0    428\n",
       "0.0    215\n",
       "Name: count, dtype: int64"
      ]
     },
     "execution_count": 282,
     "metadata": {},
     "output_type": "execute_result"
    }
   ],
   "execution_count": 282
  },
  {
   "metadata": {
    "ExecuteTime": {
     "end_time": "2025-07-04T22:41:24.465140Z",
     "start_time": "2025-07-04T22:41:24.461162Z"
    }
   },
   "cell_type": "code",
   "source": "col_7 = df_temp_2.columns[7]",
   "id": "1869a76ece33ce24",
   "outputs": [],
   "execution_count": 283
  },
  {
   "metadata": {
    "ExecuteTime": {
     "end_time": "2025-07-04T22:49:39.462371Z",
     "start_time": "2025-07-04T22:49:39.457382Z"
    }
   },
   "cell_type": "code",
   "source": "df_temp_2[col_7].value_counts(dropna=False)",
   "id": "4e1a3f5e994ee488",
   "outputs": [
    {
     "data": {
      "text/plain": [
       "Do you think that discussing a physical health issue with your employer would have negative consequences?\n",
       "2.0    816\n",
       "1.0    263\n",
       "0.0     39\n",
       "Name: count, dtype: int64"
      ]
     },
     "execution_count": 290,
     "metadata": {},
     "output_type": "execute_result"
    }
   ],
   "execution_count": 290
  },
  {
   "metadata": {
    "ExecuteTime": {
     "end_time": "2025-07-04T22:49:31.695252Z",
     "start_time": "2025-07-04T22:49:31.611388Z"
    }
   },
   "cell_type": "code",
   "source": [
    "col_7_order = [\"Yes\", \"Maybe\", \"No\"]\n",
    "\n",
    "oe_7 = OrdinalEncoder(categories=[col_7_order])\n",
    "df_temp_2.loc[:, col_7] = oe_7.fit_transform(df_temp_2[[col_7]]).ravel()"
   ],
   "id": "1ce94e0f45529387",
   "outputs": [
    {
     "ename": "ValueError",
     "evalue": "could not convert string to float: 'Yes'",
     "output_type": "error",
     "traceback": [
      "\u001B[31m---------------------------------------------------------------------------\u001B[39m",
      "\u001B[31mValueError\u001B[39m                                Traceback (most recent call last)",
      "\u001B[36mCell\u001B[39m\u001B[36m \u001B[39m\u001B[32mIn[289]\u001B[39m\u001B[32m, line 4\u001B[39m\n\u001B[32m      1\u001B[39m col_7_order = [\u001B[33m\"\u001B[39m\u001B[33mYes\u001B[39m\u001B[33m\"\u001B[39m, \u001B[33m\"\u001B[39m\u001B[33mMaybe\u001B[39m\u001B[33m\"\u001B[39m, \u001B[33m\"\u001B[39m\u001B[33mNo\u001B[39m\u001B[33m\"\u001B[39m]\n\u001B[32m      3\u001B[39m oe_7 = OrdinalEncoder(categories=[col_7_order])\n\u001B[32m----> \u001B[39m\u001B[32m4\u001B[39m df_temp_2.loc[:, col_7] = \u001B[43moe_7\u001B[49m\u001B[43m.\u001B[49m\u001B[43mfit_transform\u001B[49m\u001B[43m(\u001B[49m\u001B[43mdf_temp_2\u001B[49m\u001B[43m[\u001B[49m\u001B[43m[\u001B[49m\u001B[43mcol_7\u001B[49m\u001B[43m]\u001B[49m\u001B[43m]\u001B[49m\u001B[43m)\u001B[49m.ravel()\n",
      "\u001B[36mFile \u001B[39m\u001B[32m~\\Desktop\\OSMI_Mental_Health\\venv\\Lib\\site-packages\\sklearn\\utils\\_set_output.py:316\u001B[39m, in \u001B[36m_wrap_method_output.<locals>.wrapped\u001B[39m\u001B[34m(self, X, *args, **kwargs)\u001B[39m\n\u001B[32m    314\u001B[39m \u001B[38;5;129m@wraps\u001B[39m(f)\n\u001B[32m    315\u001B[39m \u001B[38;5;28;01mdef\u001B[39;00m\u001B[38;5;250m \u001B[39m\u001B[34mwrapped\u001B[39m(\u001B[38;5;28mself\u001B[39m, X, *args, **kwargs):\n\u001B[32m--> \u001B[39m\u001B[32m316\u001B[39m     data_to_wrap = \u001B[43mf\u001B[49m\u001B[43m(\u001B[49m\u001B[38;5;28;43mself\u001B[39;49m\u001B[43m,\u001B[49m\u001B[43m \u001B[49m\u001B[43mX\u001B[49m\u001B[43m,\u001B[49m\u001B[43m \u001B[49m\u001B[43m*\u001B[49m\u001B[43margs\u001B[49m\u001B[43m,\u001B[49m\u001B[43m \u001B[49m\u001B[43m*\u001B[49m\u001B[43m*\u001B[49m\u001B[43mkwargs\u001B[49m\u001B[43m)\u001B[49m\n\u001B[32m    317\u001B[39m     \u001B[38;5;28;01mif\u001B[39;00m \u001B[38;5;28misinstance\u001B[39m(data_to_wrap, \u001B[38;5;28mtuple\u001B[39m):\n\u001B[32m    318\u001B[39m         \u001B[38;5;66;03m# only wrap the first output for cross decomposition\u001B[39;00m\n\u001B[32m    319\u001B[39m         return_tuple = (\n\u001B[32m    320\u001B[39m             _wrap_data_with_container(method, data_to_wrap[\u001B[32m0\u001B[39m], X, \u001B[38;5;28mself\u001B[39m),\n\u001B[32m    321\u001B[39m             *data_to_wrap[\u001B[32m1\u001B[39m:],\n\u001B[32m    322\u001B[39m         )\n",
      "\u001B[36mFile \u001B[39m\u001B[32m~\\Desktop\\OSMI_Mental_Health\\venv\\Lib\\site-packages\\sklearn\\base.py:892\u001B[39m, in \u001B[36mTransformerMixin.fit_transform\u001B[39m\u001B[34m(self, X, y, **fit_params)\u001B[39m\n\u001B[32m    877\u001B[39m         warnings.warn(\n\u001B[32m    878\u001B[39m             (\n\u001B[32m    879\u001B[39m                 \u001B[33mf\u001B[39m\u001B[33m\"\u001B[39m\u001B[33mThis object (\u001B[39m\u001B[38;5;132;01m{\u001B[39;00m\u001B[38;5;28mself\u001B[39m.\u001B[34m__class__\u001B[39m.\u001B[34m__name__\u001B[39m\u001B[38;5;132;01m}\u001B[39;00m\u001B[33m) has a `transform`\u001B[39m\u001B[33m\"\u001B[39m\n\u001B[32m   (...)\u001B[39m\u001B[32m    887\u001B[39m             \u001B[38;5;167;01mUserWarning\u001B[39;00m,\n\u001B[32m    888\u001B[39m         )\n\u001B[32m    890\u001B[39m \u001B[38;5;28;01mif\u001B[39;00m y \u001B[38;5;129;01mis\u001B[39;00m \u001B[38;5;28;01mNone\u001B[39;00m:\n\u001B[32m    891\u001B[39m     \u001B[38;5;66;03m# fit method of arity 1 (unsupervised transformation)\u001B[39;00m\n\u001B[32m--> \u001B[39m\u001B[32m892\u001B[39m     \u001B[38;5;28;01mreturn\u001B[39;00m \u001B[38;5;28;43mself\u001B[39;49m\u001B[43m.\u001B[49m\u001B[43mfit\u001B[49m\u001B[43m(\u001B[49m\u001B[43mX\u001B[49m\u001B[43m,\u001B[49m\u001B[43m \u001B[49m\u001B[43m*\u001B[49m\u001B[43m*\u001B[49m\u001B[43mfit_params\u001B[49m\u001B[43m)\u001B[49m.transform(X)\n\u001B[32m    893\u001B[39m \u001B[38;5;28;01melse\u001B[39;00m:\n\u001B[32m    894\u001B[39m     \u001B[38;5;66;03m# fit method of arity 2 (supervised transformation)\u001B[39;00m\n\u001B[32m    895\u001B[39m     \u001B[38;5;28;01mreturn\u001B[39;00m \u001B[38;5;28mself\u001B[39m.fit(X, y, **fit_params).transform(X)\n",
      "\u001B[36mFile \u001B[39m\u001B[32m~\\Desktop\\OSMI_Mental_Health\\venv\\Lib\\site-packages\\sklearn\\base.py:1363\u001B[39m, in \u001B[36m_fit_context.<locals>.decorator.<locals>.wrapper\u001B[39m\u001B[34m(estimator, *args, **kwargs)\u001B[39m\n\u001B[32m   1356\u001B[39m     estimator._validate_params()\n\u001B[32m   1358\u001B[39m \u001B[38;5;28;01mwith\u001B[39;00m config_context(\n\u001B[32m   1359\u001B[39m     skip_parameter_validation=(\n\u001B[32m   1360\u001B[39m         prefer_skip_nested_validation \u001B[38;5;129;01mor\u001B[39;00m global_skip_validation\n\u001B[32m   1361\u001B[39m     )\n\u001B[32m   1362\u001B[39m ):\n\u001B[32m-> \u001B[39m\u001B[32m1363\u001B[39m     \u001B[38;5;28;01mreturn\u001B[39;00m \u001B[43mfit_method\u001B[49m\u001B[43m(\u001B[49m\u001B[43mestimator\u001B[49m\u001B[43m,\u001B[49m\u001B[43m \u001B[49m\u001B[43m*\u001B[49m\u001B[43margs\u001B[49m\u001B[43m,\u001B[49m\u001B[43m \u001B[49m\u001B[43m*\u001B[49m\u001B[43m*\u001B[49m\u001B[43mkwargs\u001B[49m\u001B[43m)\u001B[49m\n",
      "\u001B[36mFile \u001B[39m\u001B[32m~\\Desktop\\OSMI_Mental_Health\\venv\\Lib\\site-packages\\sklearn\\preprocessing\\_encoders.py:1515\u001B[39m, in \u001B[36mOrdinalEncoder.fit\u001B[39m\u001B[34m(self, X, y)\u001B[39m\n\u001B[32m   1508\u001B[39m     \u001B[38;5;28;01mraise\u001B[39;00m \u001B[38;5;167;01mTypeError\u001B[39;00m(\n\u001B[32m   1509\u001B[39m         \u001B[33m\"\u001B[39m\u001B[33munknown_value should only be set when \u001B[39m\u001B[33m\"\u001B[39m\n\u001B[32m   1510\u001B[39m         \u001B[33m\"\u001B[39m\u001B[33mhandle_unknown is \u001B[39m\u001B[33m'\u001B[39m\u001B[33muse_encoded_value\u001B[39m\u001B[33m'\u001B[39m\u001B[33m, \u001B[39m\u001B[33m\"\u001B[39m\n\u001B[32m   1511\u001B[39m         \u001B[33mf\u001B[39m\u001B[33m\"\u001B[39m\u001B[33mgot \u001B[39m\u001B[38;5;132;01m{\u001B[39;00m\u001B[38;5;28mself\u001B[39m.unknown_value\u001B[38;5;132;01m}\u001B[39;00m\u001B[33m.\u001B[39m\u001B[33m\"\u001B[39m\n\u001B[32m   1512\u001B[39m     )\n\u001B[32m   1514\u001B[39m \u001B[38;5;66;03m# `_fit` will only raise an error when `self.handle_unknown=\"error\"`\u001B[39;00m\n\u001B[32m-> \u001B[39m\u001B[32m1515\u001B[39m fit_results = \u001B[38;5;28;43mself\u001B[39;49m\u001B[43m.\u001B[49m\u001B[43m_fit\u001B[49m\u001B[43m(\u001B[49m\n\u001B[32m   1516\u001B[39m \u001B[43m    \u001B[49m\u001B[43mX\u001B[49m\u001B[43m,\u001B[49m\n\u001B[32m   1517\u001B[39m \u001B[43m    \u001B[49m\u001B[43mhandle_unknown\u001B[49m\u001B[43m=\u001B[49m\u001B[38;5;28;43mself\u001B[39;49m\u001B[43m.\u001B[49m\u001B[43mhandle_unknown\u001B[49m\u001B[43m,\u001B[49m\n\u001B[32m   1518\u001B[39m \u001B[43m    \u001B[49m\u001B[43mensure_all_finite\u001B[49m\u001B[43m=\u001B[49m\u001B[33;43m\"\u001B[39;49m\u001B[33;43mallow-nan\u001B[39;49m\u001B[33;43m\"\u001B[39;49m\u001B[43m,\u001B[49m\n\u001B[32m   1519\u001B[39m \u001B[43m    \u001B[49m\u001B[43mreturn_and_ignore_missing_for_infrequent\u001B[49m\u001B[43m=\u001B[49m\u001B[38;5;28;43;01mTrue\u001B[39;49;00m\u001B[43m,\u001B[49m\n\u001B[32m   1520\u001B[39m \u001B[43m\u001B[49m\u001B[43m)\u001B[49m\n\u001B[32m   1521\u001B[39m \u001B[38;5;28mself\u001B[39m._missing_indices = fit_results[\u001B[33m\"\u001B[39m\u001B[33mmissing_indices\u001B[39m\u001B[33m\"\u001B[39m]\n\u001B[32m   1523\u001B[39m cardinalities = [\u001B[38;5;28mlen\u001B[39m(categories) \u001B[38;5;28;01mfor\u001B[39;00m categories \u001B[38;5;129;01min\u001B[39;00m \u001B[38;5;28mself\u001B[39m.categories_]\n",
      "\u001B[36mFile \u001B[39m\u001B[32m~\\Desktop\\OSMI_Mental_Health\\venv\\Lib\\site-packages\\sklearn\\preprocessing\\_encoders.py:118\u001B[39m, in \u001B[36m_BaseEncoder._fit\u001B[39m\u001B[34m(self, X, handle_unknown, ensure_all_finite, return_counts, return_and_ignore_missing_for_infrequent)\u001B[39m\n\u001B[32m    115\u001B[39m \u001B[38;5;28;01melse\u001B[39;00m:\n\u001B[32m    116\u001B[39m     Xi_dtype = Xi.dtype\n\u001B[32m--> \u001B[39m\u001B[32m118\u001B[39m cats = \u001B[43mnp\u001B[49m\u001B[43m.\u001B[49m\u001B[43marray\u001B[49m\u001B[43m(\u001B[49m\u001B[38;5;28;43mself\u001B[39;49m\u001B[43m.\u001B[49m\u001B[43mcategories\u001B[49m\u001B[43m[\u001B[49m\u001B[43mi\u001B[49m\u001B[43m]\u001B[49m\u001B[43m,\u001B[49m\u001B[43m \u001B[49m\u001B[43mdtype\u001B[49m\u001B[43m=\u001B[49m\u001B[43mXi_dtype\u001B[49m\u001B[43m)\u001B[49m\n\u001B[32m    119\u001B[39m \u001B[38;5;28;01mif\u001B[39;00m (\n\u001B[32m    120\u001B[39m     cats.dtype == \u001B[38;5;28mobject\u001B[39m\n\u001B[32m    121\u001B[39m     \u001B[38;5;129;01mand\u001B[39;00m \u001B[38;5;28misinstance\u001B[39m(cats[\u001B[32m0\u001B[39m], \u001B[38;5;28mbytes\u001B[39m)\n\u001B[32m    122\u001B[39m     \u001B[38;5;129;01mand\u001B[39;00m Xi.dtype.kind != \u001B[33m\"\u001B[39m\u001B[33mS\u001B[39m\u001B[33m\"\u001B[39m\n\u001B[32m    123\u001B[39m ):\n\u001B[32m    124\u001B[39m     msg = (\n\u001B[32m    125\u001B[39m         \u001B[33mf\u001B[39m\u001B[33m\"\u001B[39m\u001B[33mIn column \u001B[39m\u001B[38;5;132;01m{\u001B[39;00mi\u001B[38;5;132;01m}\u001B[39;00m\u001B[33m, the predefined categories have type \u001B[39m\u001B[33m'\u001B[39m\u001B[33mbytes\u001B[39m\u001B[33m'\u001B[39m\u001B[33m\"\u001B[39m\n\u001B[32m    126\u001B[39m         \u001B[33m\"\u001B[39m\u001B[33m which is incompatible with values of type\u001B[39m\u001B[33m\"\u001B[39m\n\u001B[32m    127\u001B[39m         \u001B[33mf\u001B[39m\u001B[33m\"\u001B[39m\u001B[33m \u001B[39m\u001B[33m'\u001B[39m\u001B[38;5;132;01m{\u001B[39;00m\u001B[38;5;28mtype\u001B[39m(Xi[\u001B[32m0\u001B[39m]).\u001B[34m__name__\u001B[39m\u001B[38;5;132;01m}\u001B[39;00m\u001B[33m'\u001B[39m\u001B[33m.\u001B[39m\u001B[33m\"\u001B[39m\n\u001B[32m    128\u001B[39m     )\n",
      "\u001B[31mValueError\u001B[39m: could not convert string to float: 'Yes'"
     ]
    }
   ],
   "execution_count": 289
  },
  {
   "metadata": {
    "ExecuteTime": {
     "end_time": "2025-07-04T22:50:30.038259Z",
     "start_time": "2025-07-04T22:50:30.034599Z"
    }
   },
   "cell_type": "code",
   "source": "df_temp_2[col_7].nunique()",
   "id": "9ca3bca760f83170",
   "outputs": [
    {
     "data": {
      "text/plain": [
       "3"
      ]
     },
     "execution_count": 294,
     "metadata": {},
     "output_type": "execute_result"
    }
   ],
   "execution_count": 294
  },
  {
   "metadata": {
    "ExecuteTime": {
     "end_time": "2025-07-04T22:51:04.726711Z",
     "start_time": "2025-07-04T22:51:04.721197Z"
    }
   },
   "cell_type": "code",
   "source": "df_temp_2.iloc[:, 8].value_counts(dropna=False)",
   "id": "201728eab3b969e",
   "outputs": [
    {
     "data": {
      "text/plain": [
       "Would you feel comfortable discussing a mental health disorder with your coworkers?\n",
       "Maybe    467\n",
       "No       382\n",
       "Yes      269\n",
       "Name: count, dtype: Int64"
      ]
     },
     "execution_count": 296,
     "metadata": {},
     "output_type": "execute_result"
    }
   ],
   "execution_count": 296
  },
  {
   "metadata": {
    "ExecuteTime": {
     "end_time": "2025-07-04T22:52:33.699062Z",
     "start_time": "2025-07-04T22:52:33.696379Z"
    }
   },
   "cell_type": "code",
   "source": "col_8 = df_temp_2.columns[8]",
   "id": "d0058e14cb38f49c",
   "outputs": [],
   "execution_count": 297
  },
  {
   "metadata": {
    "ExecuteTime": {
     "end_time": "2025-07-04T23:04:29.143126Z",
     "start_time": "2025-07-04T23:04:29.134749Z"
    }
   },
   "cell_type": "code",
   "source": [
    "ohe_8 = OneHotEncoder(sparse_output=False, drop=\"first\")\n",
    "\n",
    "encoded_data8 = ohe_8.fit_transform(df_temp_2[[col_8]])\n",
    "\n",
    "categories = ohe_8.categories_[0][1:]\n",
    "new_cols_8 = [f\"{col_8}_{cat}\" for cat in categories]\n",
    "\n",
    "encoded_df8 = pd.DataFrame(encoded_data8, columns=new_cols_8, index=df_temp_2.index)\n",
    "\n",
    "df_temp_2 = df_temp_2.drop(columns=[col_8])\n",
    "df_temp_2 = pd.concat([encoded_df8, df_temp_2], axis=1)"
   ],
   "id": "70d44550fda23b82",
   "outputs": [],
   "execution_count": 300
  },
  {
   "metadata": {
    "ExecuteTime": {
     "end_time": "2025-07-04T23:18:40.749245Z",
     "start_time": "2025-07-04T23:18:40.729479Z"
    }
   },
   "cell_type": "code",
   "source": "df_temp_2.head(10)",
   "id": "daaea9c3d1cba6d5",
   "outputs": [
    {
     "data": {
      "text/plain": [
       "    Would you feel comfortable discussing a mental health disorder with your coworkers?_No  \\\n",
       "0                                                 0.0                                        \n",
       "1                                                 0.0                                        \n",
       "2                                                 0.0                                        \n",
       "4                                                 0.0                                        \n",
       "5                                                 0.0                                        \n",
       "6                                                 0.0                                        \n",
       "7                                                 0.0                                        \n",
       "8                                                 0.0                                        \n",
       "10                                                0.0                                        \n",
       "11                                                1.0                                        \n",
       "\n",
       "    Would you feel comfortable discussing a mental health disorder with your coworkers?_Yes  \\\n",
       "0                                                 0.0                                         \n",
       "1                                                 0.0                                         \n",
       "2                                                 0.0                                         \n",
       "4                                                 0.0                                         \n",
       "5                                                 0.0                                         \n",
       "6                                                 0.0                                         \n",
       "7                                                 0.0                                         \n",
       "8                                                 1.0                                         \n",
       "10                                                0.0                                         \n",
       "11                                                0.0                                         \n",
       "\n",
       "    Are you self-employed?  \\\n",
       "0                        0   \n",
       "1                        0   \n",
       "2                        0   \n",
       "4                        0   \n",
       "5                        0   \n",
       "6                        0   \n",
       "7                        0   \n",
       "8                        0   \n",
       "10                       0   \n",
       "11                       0   \n",
       "\n",
       "    How many employees does your company or organization have?  \\\n",
       "0                                                 2.0            \n",
       "1                                                 1.0            \n",
       "2                                                 1.0            \n",
       "4                                                 1.0            \n",
       "5                                                 5.0            \n",
       "6                                                 2.0            \n",
       "7                                                 5.0            \n",
       "8                                                 2.0            \n",
       "10                                                2.0            \n",
       "11                                                3.0            \n",
       "\n",
       "    Is your employer primarily a tech company/organization?  \\\n",
       "0                                                   1         \n",
       "1                                                   1         \n",
       "2                                                   1         \n",
       "4                                                   0         \n",
       "5                                                   1         \n",
       "6                                                   1         \n",
       "7                                                   1         \n",
       "8                                                   0         \n",
       "10                                                  1         \n",
       "11                                                  0         \n",
       "\n",
       "   Has your employer ever formally discussed mental health (for example, as part of a wellness campaign or other official communication)?  \\\n",
       "0                                                  No                                                                                       \n",
       "1                                                 Yes                                                                                       \n",
       "2                                                  No                                                                                       \n",
       "4                                                  No                                                                                       \n",
       "5                                                  No                                                                                       \n",
       "6                                                  No                                                                                       \n",
       "7                                                  No                                                                                       \n",
       "8                                                  No                                                                                       \n",
       "10                                                Yes                                                                                       \n",
       "11                                                 No                                                                                       \n",
       "\n",
       "   Is your anonymity protected if you choose to take advantage of mental health or substance abuse treatment resources provided by your employer?  \\\n",
       "0                                        I don't know                                                                                               \n",
       "1                                                 Yes                                                                                               \n",
       "2                                        I don't know                                                                                               \n",
       "4                                                  No                                                                                               \n",
       "5                                                 Yes                                                                                               \n",
       "6                                        I don't know                                                                                               \n",
       "7                                                 Yes                                                                                               \n",
       "8                                        I don't know                                                                                               \n",
       "10                                                Yes                                                                                               \n",
       "11                                       I don't know                                                                                               \n",
       "\n",
       "    If a mental health issue prompted you to request a medical leave from work, asking for that leave would be:  \\\n",
       "0                                                 4.0                                                             \n",
       "1                                                 3.0                                                             \n",
       "2                                                 2.0                                                             \n",
       "4                                                 2.0                                                             \n",
       "5                                                 3.0                                                             \n",
       "6                                                 3.0                                                             \n",
       "7                                                 4.0                                                             \n",
       "8                                                 0.0                                                             \n",
       "10                                                4.0                                                             \n",
       "11                                                1.0                                                             \n",
       "\n",
       "    Do you think that discussing a mental health disorder with your employer would have negative consequences?  \\\n",
       "0                                                 2.0                                                            \n",
       "1                                                 2.0                                                            \n",
       "2                                                 1.0                                                            \n",
       "4                                                 0.0                                                            \n",
       "5                                                 0.0                                                            \n",
       "6                                                 2.0                                                            \n",
       "7                                                 2.0                                                            \n",
       "8                                                 0.0                                                            \n",
       "10                                                2.0                                                            \n",
       "11                                                0.0                                                            \n",
       "\n",
       "    Do you think that discussing a physical health issue with your employer would have negative consequences?  \\\n",
       "0                                                 2.0                                                           \n",
       "1                                                 2.0                                                           \n",
       "2                                                 2.0                                                           \n",
       "4                                                 1.0                                                           \n",
       "5                                                 0.0                                                           \n",
       "6                                                 2.0                                                           \n",
       "7                                                 2.0                                                           \n",
       "8                                                 0.0                                                           \n",
       "10                                                2.0                                                           \n",
       "11                                                2.0                                                           \n",
       "\n",
       "    ... What is your gender? What country do you live in?  \\\n",
       "0   ...                 Male               United Kingdom   \n",
       "1   ...                 male     United States of America   \n",
       "2   ...                Male                United Kingdom   \n",
       "4   ...               Female     United States of America   \n",
       "5   ...                 Male               United Kingdom   \n",
       "6   ...                    M     United States of America   \n",
       "7   ...               female     United States of America   \n",
       "8   ...               Female     United States of America   \n",
       "10  ...                 Male     United States of America   \n",
       "11  ...                 Male     United States of America   \n",
       "\n",
       "   What country do you work in?  \\\n",
       "0                United Kingdom   \n",
       "1      United States of America   \n",
       "2                United Kingdom   \n",
       "4      United States of America   \n",
       "5                United Kingdom   \n",
       "6      United States of America   \n",
       "7      United States of America   \n",
       "8      United States of America   \n",
       "10     United States of America   \n",
       "11     United States of America   \n",
       "\n",
       "    Which of the following best describes your work position?  \\\n",
       "0                                  Back-end Developer           \n",
       "1              Back-end Developer|Front-end Developer           \n",
       "2                                  Back-end Developer           \n",
       "4   Executive Leadership|Supervisor/Team Lead|Dev ...           \n",
       "5   DevOps/SysAdmin|Support|Back-end Developer|Fro...           \n",
       "6                                  Back-end Developer           \n",
       "7          Dev Evangelist/Advocate|Back-end Developer           \n",
       "8          Support|Back-end Developer|One-person shop           \n",
       "10                                Front-end Developer           \n",
       "11                               Executive Leadership           \n",
       "\n",
       "   Do you work remotely?  \\\n",
       "0              Sometimes   \n",
       "1                  Never   \n",
       "2                 Always   \n",
       "4              Sometimes   \n",
       "5              Sometimes   \n",
       "6              Sometimes   \n",
       "7                 Always   \n",
       "8              Sometimes   \n",
       "10                 Never   \n",
       "11             Sometimes   \n",
       "\n",
       "   Does your employer provide mental health benefits as part of healthcare coverage?_No  \\\n",
       "0                                                 0.0                                     \n",
       "1                                                 1.0                                     \n",
       "2                                                 1.0                                     \n",
       "4                                                 0.0                                     \n",
       "5                                                 0.0                                     \n",
       "6                                                 0.0                                     \n",
       "7                                                 0.0                                     \n",
       "8                                                 0.0                                     \n",
       "10                                                0.0                                     \n",
       "11                                                0.0                                     \n",
       "\n",
       "   Does your employer provide mental health benefits as part of healthcare coverage?_Not eligible for coverage / N/A  \\\n",
       "0                                                 1.0                                                                  \n",
       "1                                                 0.0                                                                  \n",
       "2                                                 0.0                                                                  \n",
       "4                                                 0.0                                                                  \n",
       "5                                                 0.0                                                                  \n",
       "6                                                 0.0                                                                  \n",
       "7                                                 0.0                                                                  \n",
       "8                                                 0.0                                                                  \n",
       "10                                                0.0                                                                  \n",
       "11                                                0.0                                                                  \n",
       "\n",
       "   Does your employer provide mental health benefits as part of healthcare coverage?_Yes  \\\n",
       "0                                                 0.0                                      \n",
       "1                                                 0.0                                      \n",
       "2                                                 0.0                                      \n",
       "4                                                 1.0                                      \n",
       "5                                                 1.0                                      \n",
       "6                                                 0.0                                      \n",
       "7                                                 1.0                                      \n",
       "8                                                 0.0                                      \n",
       "10                                                1.0                                      \n",
       "11                                                1.0                                      \n",
       "\n",
       "   Does your employer offer resources to learn more about mental health concerns and options for seeking help?_No  \\\n",
       "0                                                 1.0                                                               \n",
       "1                                                 0.0                                                               \n",
       "2                                                 1.0                                                               \n",
       "4                                                 1.0                                                               \n",
       "5                                                 0.0                                                               \n",
       "6                                                 1.0                                                               \n",
       "7                                                 0.0                                                               \n",
       "8                                                 1.0                                                               \n",
       "10                                                0.0                                                               \n",
       "11                                                0.0                                                               \n",
       "\n",
       "   Does your employer offer resources to learn more about mental health concerns and options for seeking help?_Yes  \n",
       "0                                                 0.0                                                               \n",
       "1                                                 1.0                                                               \n",
       "2                                                 0.0                                                               \n",
       "4                                                 0.0                                                               \n",
       "5                                                 1.0                                                               \n",
       "6                                                 0.0                                                               \n",
       "7                                                 1.0                                                               \n",
       "8                                                 0.0                                                               \n",
       "10                                                1.0                                                               \n",
       "11                                                0.0                                                               \n",
       "\n",
       "[10 rows x 51 columns]"
      ],
      "text/html": [
       "<div>\n",
       "<style scoped>\n",
       "    .dataframe tbody tr th:only-of-type {\n",
       "        vertical-align: middle;\n",
       "    }\n",
       "\n",
       "    .dataframe tbody tr th {\n",
       "        vertical-align: top;\n",
       "    }\n",
       "\n",
       "    .dataframe thead th {\n",
       "        text-align: right;\n",
       "    }\n",
       "</style>\n",
       "<table border=\"1\" class=\"dataframe\">\n",
       "  <thead>\n",
       "    <tr style=\"text-align: right;\">\n",
       "      <th></th>\n",
       "      <th>Would you feel comfortable discussing a mental health disorder with your coworkers?_No</th>\n",
       "      <th>Would you feel comfortable discussing a mental health disorder with your coworkers?_Yes</th>\n",
       "      <th>Are you self-employed?</th>\n",
       "      <th>How many employees does your company or organization have?</th>\n",
       "      <th>Is your employer primarily a tech company/organization?</th>\n",
       "      <th>Has your employer ever formally discussed mental health (for example, as part of a wellness campaign or other official communication)?</th>\n",
       "      <th>Is your anonymity protected if you choose to take advantage of mental health or substance abuse treatment resources provided by your employer?</th>\n",
       "      <th>If a mental health issue prompted you to request a medical leave from work, asking for that leave would be:</th>\n",
       "      <th>Do you think that discussing a mental health disorder with your employer would have negative consequences?</th>\n",
       "      <th>Do you think that discussing a physical health issue with your employer would have negative consequences?</th>\n",
       "      <th>...</th>\n",
       "      <th>What is your gender?</th>\n",
       "      <th>What country do you live in?</th>\n",
       "      <th>What country do you work in?</th>\n",
       "      <th>Which of the following best describes your work position?</th>\n",
       "      <th>Do you work remotely?</th>\n",
       "      <th>Does your employer provide mental health benefits as part of healthcare coverage?_No</th>\n",
       "      <th>Does your employer provide mental health benefits as part of healthcare coverage?_Not eligible for coverage / N/A</th>\n",
       "      <th>Does your employer provide mental health benefits as part of healthcare coverage?_Yes</th>\n",
       "      <th>Does your employer offer resources to learn more about mental health concerns and options for seeking help?_No</th>\n",
       "      <th>Does your employer offer resources to learn more about mental health concerns and options for seeking help?_Yes</th>\n",
       "    </tr>\n",
       "  </thead>\n",
       "  <tbody>\n",
       "    <tr>\n",
       "      <th>0</th>\n",
       "      <td>0.0</td>\n",
       "      <td>0.0</td>\n",
       "      <td>0</td>\n",
       "      <td>2.0</td>\n",
       "      <td>1</td>\n",
       "      <td>No</td>\n",
       "      <td>I don't know</td>\n",
       "      <td>4.0</td>\n",
       "      <td>2.0</td>\n",
       "      <td>2.0</td>\n",
       "      <td>...</td>\n",
       "      <td>Male</td>\n",
       "      <td>United Kingdom</td>\n",
       "      <td>United Kingdom</td>\n",
       "      <td>Back-end Developer</td>\n",
       "      <td>Sometimes</td>\n",
       "      <td>0.0</td>\n",
       "      <td>1.0</td>\n",
       "      <td>0.0</td>\n",
       "      <td>1.0</td>\n",
       "      <td>0.0</td>\n",
       "    </tr>\n",
       "    <tr>\n",
       "      <th>1</th>\n",
       "      <td>0.0</td>\n",
       "      <td>0.0</td>\n",
       "      <td>0</td>\n",
       "      <td>1.0</td>\n",
       "      <td>1</td>\n",
       "      <td>Yes</td>\n",
       "      <td>Yes</td>\n",
       "      <td>3.0</td>\n",
       "      <td>2.0</td>\n",
       "      <td>2.0</td>\n",
       "      <td>...</td>\n",
       "      <td>male</td>\n",
       "      <td>United States of America</td>\n",
       "      <td>United States of America</td>\n",
       "      <td>Back-end Developer|Front-end Developer</td>\n",
       "      <td>Never</td>\n",
       "      <td>1.0</td>\n",
       "      <td>0.0</td>\n",
       "      <td>0.0</td>\n",
       "      <td>0.0</td>\n",
       "      <td>1.0</td>\n",
       "    </tr>\n",
       "    <tr>\n",
       "      <th>2</th>\n",
       "      <td>0.0</td>\n",
       "      <td>0.0</td>\n",
       "      <td>0</td>\n",
       "      <td>1.0</td>\n",
       "      <td>1</td>\n",
       "      <td>No</td>\n",
       "      <td>I don't know</td>\n",
       "      <td>2.0</td>\n",
       "      <td>1.0</td>\n",
       "      <td>2.0</td>\n",
       "      <td>...</td>\n",
       "      <td>Male</td>\n",
       "      <td>United Kingdom</td>\n",
       "      <td>United Kingdom</td>\n",
       "      <td>Back-end Developer</td>\n",
       "      <td>Always</td>\n",
       "      <td>1.0</td>\n",
       "      <td>0.0</td>\n",
       "      <td>0.0</td>\n",
       "      <td>1.0</td>\n",
       "      <td>0.0</td>\n",
       "    </tr>\n",
       "    <tr>\n",
       "      <th>4</th>\n",
       "      <td>0.0</td>\n",
       "      <td>0.0</td>\n",
       "      <td>0</td>\n",
       "      <td>1.0</td>\n",
       "      <td>0</td>\n",
       "      <td>No</td>\n",
       "      <td>No</td>\n",
       "      <td>2.0</td>\n",
       "      <td>0.0</td>\n",
       "      <td>1.0</td>\n",
       "      <td>...</td>\n",
       "      <td>Female</td>\n",
       "      <td>United States of America</td>\n",
       "      <td>United States of America</td>\n",
       "      <td>Executive Leadership|Supervisor/Team Lead|Dev ...</td>\n",
       "      <td>Sometimes</td>\n",
       "      <td>0.0</td>\n",
       "      <td>0.0</td>\n",
       "      <td>1.0</td>\n",
       "      <td>1.0</td>\n",
       "      <td>0.0</td>\n",
       "    </tr>\n",
       "    <tr>\n",
       "      <th>5</th>\n",
       "      <td>0.0</td>\n",
       "      <td>0.0</td>\n",
       "      <td>0</td>\n",
       "      <td>5.0</td>\n",
       "      <td>1</td>\n",
       "      <td>No</td>\n",
       "      <td>Yes</td>\n",
       "      <td>3.0</td>\n",
       "      <td>0.0</td>\n",
       "      <td>0.0</td>\n",
       "      <td>...</td>\n",
       "      <td>Male</td>\n",
       "      <td>United Kingdom</td>\n",
       "      <td>United Kingdom</td>\n",
       "      <td>DevOps/SysAdmin|Support|Back-end Developer|Fro...</td>\n",
       "      <td>Sometimes</td>\n",
       "      <td>0.0</td>\n",
       "      <td>0.0</td>\n",
       "      <td>1.0</td>\n",
       "      <td>0.0</td>\n",
       "      <td>1.0</td>\n",
       "    </tr>\n",
       "    <tr>\n",
       "      <th>6</th>\n",
       "      <td>0.0</td>\n",
       "      <td>0.0</td>\n",
       "      <td>0</td>\n",
       "      <td>2.0</td>\n",
       "      <td>1</td>\n",
       "      <td>No</td>\n",
       "      <td>I don't know</td>\n",
       "      <td>3.0</td>\n",
       "      <td>2.0</td>\n",
       "      <td>2.0</td>\n",
       "      <td>...</td>\n",
       "      <td>M</td>\n",
       "      <td>United States of America</td>\n",
       "      <td>United States of America</td>\n",
       "      <td>Back-end Developer</td>\n",
       "      <td>Sometimes</td>\n",
       "      <td>0.0</td>\n",
       "      <td>0.0</td>\n",
       "      <td>0.0</td>\n",
       "      <td>1.0</td>\n",
       "      <td>0.0</td>\n",
       "    </tr>\n",
       "    <tr>\n",
       "      <th>7</th>\n",
       "      <td>0.0</td>\n",
       "      <td>0.0</td>\n",
       "      <td>0</td>\n",
       "      <td>5.0</td>\n",
       "      <td>1</td>\n",
       "      <td>No</td>\n",
       "      <td>Yes</td>\n",
       "      <td>4.0</td>\n",
       "      <td>2.0</td>\n",
       "      <td>2.0</td>\n",
       "      <td>...</td>\n",
       "      <td>female</td>\n",
       "      <td>United States of America</td>\n",
       "      <td>United States of America</td>\n",
       "      <td>Dev Evangelist/Advocate|Back-end Developer</td>\n",
       "      <td>Always</td>\n",
       "      <td>0.0</td>\n",
       "      <td>0.0</td>\n",
       "      <td>1.0</td>\n",
       "      <td>0.0</td>\n",
       "      <td>1.0</td>\n",
       "    </tr>\n",
       "    <tr>\n",
       "      <th>8</th>\n",
       "      <td>0.0</td>\n",
       "      <td>1.0</td>\n",
       "      <td>0</td>\n",
       "      <td>2.0</td>\n",
       "      <td>0</td>\n",
       "      <td>No</td>\n",
       "      <td>I don't know</td>\n",
       "      <td>0.0</td>\n",
       "      <td>0.0</td>\n",
       "      <td>0.0</td>\n",
       "      <td>...</td>\n",
       "      <td>Female</td>\n",
       "      <td>United States of America</td>\n",
       "      <td>United States of America</td>\n",
       "      <td>Support|Back-end Developer|One-person shop</td>\n",
       "      <td>Sometimes</td>\n",
       "      <td>0.0</td>\n",
       "      <td>0.0</td>\n",
       "      <td>0.0</td>\n",
       "      <td>1.0</td>\n",
       "      <td>0.0</td>\n",
       "    </tr>\n",
       "    <tr>\n",
       "      <th>10</th>\n",
       "      <td>0.0</td>\n",
       "      <td>0.0</td>\n",
       "      <td>0</td>\n",
       "      <td>2.0</td>\n",
       "      <td>1</td>\n",
       "      <td>Yes</td>\n",
       "      <td>Yes</td>\n",
       "      <td>4.0</td>\n",
       "      <td>2.0</td>\n",
       "      <td>2.0</td>\n",
       "      <td>...</td>\n",
       "      <td>Male</td>\n",
       "      <td>United States of America</td>\n",
       "      <td>United States of America</td>\n",
       "      <td>Front-end Developer</td>\n",
       "      <td>Never</td>\n",
       "      <td>0.0</td>\n",
       "      <td>0.0</td>\n",
       "      <td>1.0</td>\n",
       "      <td>0.0</td>\n",
       "      <td>1.0</td>\n",
       "    </tr>\n",
       "    <tr>\n",
       "      <th>11</th>\n",
       "      <td>1.0</td>\n",
       "      <td>0.0</td>\n",
       "      <td>0</td>\n",
       "      <td>3.0</td>\n",
       "      <td>0</td>\n",
       "      <td>No</td>\n",
       "      <td>I don't know</td>\n",
       "      <td>1.0</td>\n",
       "      <td>0.0</td>\n",
       "      <td>2.0</td>\n",
       "      <td>...</td>\n",
       "      <td>Male</td>\n",
       "      <td>United States of America</td>\n",
       "      <td>United States of America</td>\n",
       "      <td>Executive Leadership</td>\n",
       "      <td>Sometimes</td>\n",
       "      <td>0.0</td>\n",
       "      <td>0.0</td>\n",
       "      <td>1.0</td>\n",
       "      <td>0.0</td>\n",
       "      <td>0.0</td>\n",
       "    </tr>\n",
       "  </tbody>\n",
       "</table>\n",
       "<p>10 rows × 51 columns</p>\n",
       "</div>"
      ]
     },
     "execution_count": 320,
     "metadata": {},
     "output_type": "execute_result"
    }
   ],
   "execution_count": 320
  },
  {
   "metadata": {
    "ExecuteTime": {
     "end_time": "2025-07-04T23:24:53.800569Z",
     "start_time": "2025-07-04T23:24:53.795181Z"
    }
   },
   "cell_type": "code",
   "source": "df_temp_2.to_pickle(\"df_temp_2.pkl\")",
   "id": "ad2974f50575f045",
   "outputs": [],
   "execution_count": 322
  }
 ],
 "metadata": {
  "kernelspec": {
   "display_name": "Python 3",
   "language": "python",
   "name": "python3"
  },
  "language_info": {
   "codemirror_mode": {
    "name": "ipython",
    "version": 2
   },
   "file_extension": ".py",
   "mimetype": "text/x-python",
   "name": "python",
   "nbconvert_exporter": "python",
   "pygments_lexer": "ipython2",
   "version": "2.7.6"
  }
 },
 "nbformat": 4,
 "nbformat_minor": 5
}
