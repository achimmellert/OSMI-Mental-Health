{
 "cells": [
  {
   "cell_type": "code",
   "id": "initial_id",
   "metadata": {
    "collapsed": true
   },
   "source": [
    "import matplotlib.pyplot as plt\n",
    "import pandas as pd\n",
    "from pathlib import Path\n",
    "import logging\n",
    "from pandas import DataFrame\n",
    "import seaborn as sns\n",
    "import numpy as np"
   ],
   "outputs": [],
   "execution_count": null
  },
  {
   "metadata": {},
   "cell_type": "code",
   "source": "filepath = Path.cwd().parent / \"data\" / \"raw\" / \"mental-heath-in-tech-2016_20161114.csv\"",
   "id": "c2d5a2f6ed6b1624",
   "outputs": [],
   "execution_count": null
  },
  {
   "metadata": {},
   "cell_type": "code",
   "source": [
    "def setup_logger(name: str, log_file: Path = None, level=logging.INFO):\n",
    "    \"\"\"Logger mit Konsolen- und optionaler Dateiausgabe.\"\"\"\n",
    "    logger = logging.getLogger(name)\n",
    "    logger.setLevel(level)\n",
    "\n",
    "\n",
    "    formatter = logging.Formatter('%(asctime)s - %(levelname)s - %(message)s')\n",
    "\n",
    "    # Konsolen-Handler\n",
    "    console_handler = logging.StreamHandler()\n",
    "    console_handler.setFormatter(formatter)\n",
    "    logger.addHandler(console_handler)\n",
    "\n",
    "    # Datei-Handler (falls gewünscht)\n",
    "    if log_file:\n",
    "        file_handler = logging.FileHandler(log_file)\n",
    "        file_handler.setFormatter(formatter)\n",
    "        logger.addHandler(file_handler)\n",
    "\n",
    "    return logger\n",
    "\n"
   ],
   "id": "8f9233f7a581b788",
   "outputs": [],
   "execution_count": null
  },
  {
   "metadata": {},
   "cell_type": "code",
   "source": "logger = setup_logger(__name__, log_file=\"exp.log\")",
   "id": "7ada77d3436a5714",
   "outputs": [],
   "execution_count": null
  },
  {
   "metadata": {},
   "cell_type": "code",
   "source": [
    "def robust_csv_read(filepath: Path) -> DataFrame:\n",
    "    try:\n",
    "        if not Path(filepath).is_file():\n",
    "            raise FileNotFoundError(f\"Datei ({filepath}) not found\")\n",
    "\n",
    "        df = pd.read_csv(\n",
    "            filepath_or_buffer=filepath,\n",
    "            sep=\",\",\n",
    "            engine=\"python\",\n",
    "            on_bad_lines=\"warn\"\n",
    "        ).convert_dtypes(dtype_backend=\"numpy_nullable\")\n",
    "\n",
    "        logger.info(f\"Erfolgreich Eingelesen: {str(Path)[-20:]} \\n(Zeilen: {len(df)})\")\n",
    "        return df\n",
    "\n",
    "    except pd.errors.EmptyDataError:\n",
    "        logger.warning(f\"Leere oder korrupte Datei: {filepath}\")\n",
    "        return pd.DataFrame()\n",
    "\n",
    "    except pd.errors.ParserError as e:\n",
    "        logger.error(f\"CSV-Parsing-Fehler in {filepath}: {str(e)}\", exc_info=True)\n",
    "        return pd.DataFrame() # Fallback\n",
    "\n",
    "    except Exception as e:\n",
    "        logger.critical(\n",
    "            f\"Unbekannter Fehler beim Lesen von {filepath}: {str(e)}\",\n",
    "            exc_info=True\n",
    "        )\n",
    "        raise\n",
    "\n",
    "    finally:\n",
    "        logger.debug(f\"CSV-Lesevorgang abgeschlossen für: {filepath}\")"
   ],
   "id": "ca6007138dec31a0",
   "outputs": [],
   "execution_count": null
  },
  {
   "metadata": {},
   "cell_type": "code",
   "source": "df = robust_csv_read(filepath)",
   "id": "2e8395b91b62e000",
   "outputs": [],
   "execution_count": null
  },
  {
   "metadata": {},
   "cell_type": "code",
   "source": "missing_percentage = df.isna().mean() * 100",
   "id": "b847089cd37a3d12",
   "outputs": [],
   "execution_count": null
  },
  {
   "metadata": {},
   "cell_type": "code",
   "source": "missing_percentage = missing_percentage.to_frame()",
   "id": "9665aaab31a300c0",
   "outputs": [],
   "execution_count": null
  },
  {
   "metadata": {},
   "cell_type": "code",
   "source": "missing_percentage",
   "id": "501861ca8dec1ab4",
   "outputs": [],
   "execution_count": null
  },
  {
   "metadata": {},
   "cell_type": "code",
   "source": [
    "missing_percentage = missing_percentage.reset_index()\n",
    "missing_percentage.columns = [\"Questions\", \"isna%\"]"
   ],
   "id": "1ae583f1a8bcf19e",
   "outputs": [],
   "execution_count": null
  },
  {
   "metadata": {},
   "cell_type": "code",
   "source": "rows_more_than_30_percent_isna = missing_percentage[missing_percentage['isna%'] > 20]",
   "id": "333a331c21e8ee58",
   "outputs": [],
   "execution_count": null
  },
  {
   "metadata": {},
   "cell_type": "code",
   "source": [
    "x = rows_more_than_30_percent_isna[\"Questions\"].str[:20].apply(lambda x: x + \"...\")\n",
    "y = rows_more_than_30_percent_isna[\"isna%\"].to_list()\n",
    "sns.set_theme(style=\"whitegrid\", context=\"paper\")  # Stil optimiert für Papers\n",
    "\n",
    "plt.figure(dpi=300)\n",
    "\n",
    "# Barplot mit expliziten Positionen\n",
    "x_pos = np.arange(len(x))\n",
    "plt.bar(x=x_pos, height=y, width=0.6)  # width für schmalere Balken\n",
    "\n",
    "# X-Achse mit korrekter Zuordnung\n",
    "plt.xticks(ticks=x_pos, labels=x, rotation=65, ha='right')  #\n",
    "\n",
    "# Titel und Achsen\n",
    "plt.title(\"Fragen mit mehr als 20% fehlender Werte\", pad=20, fontsize=10)\n",
    "plt.xlabel(\"Fragen aus dem Fragebogen\", fontsize=10)\n",
    "plt.ylabel(\"% fehlende Werte\", fontsize=10)\n",
    "plt.axhline(y=25, color=\"red\", linestyle=\"--\", linewidth=1.5, label=\"Grenzwert (25%)\")\n",
    "\n",
    "\n",
    "plt.tight_layout()\n",
    "plt.legend()\n",
    "plt.grid(False)\n",
    "# plt.show()\n",
    "plt.savefig(Path.cwd().parent / \"Plots\" / \"Fragen_mit_mehr_als_30%_fehlender_Werte.png\", dpi=300)\n"
   ],
   "id": "2587a8482a41ba37",
   "outputs": [],
   "execution_count": null
  },
  {
   "metadata": {},
   "cell_type": "code",
   "source": "df.head()",
   "id": "15ccc7b63ded3ba5",
   "outputs": [],
   "execution_count": null
  },
  {
   "metadata": {},
   "cell_type": "code",
   "source": [
    "questions = rows_more_than_30_percent_isna[\"Questions\"]\n",
    "percentages = rows_more_than_30_percent_isna[\"isna%\"]\n",
    "\n",
    "table_df = pd.DataFrame({\n",
    "    \"Fragen\": questions,\n",
    "    \"Fehlende Werte (%)\": percentages\n",
    "}).convert_dtypes(dtype_backend=\"numpy_nullable\")\n",
    "\n",
    "table_df[\"Fragen\"] = table_df[\"Fragen\"]\n",
    "table_df[\"Fehlende Werte (%)\"] = table_df[\"Fehlende Werte (%)\"].round(2).astype(pd.Float32Dtype())"
   ],
   "id": "13965177e41a7804",
   "outputs": [],
   "execution_count": null
  },
  {
   "metadata": {},
   "cell_type": "code",
   "source": [
    "html_table = table_df.to_html(\n",
    "    index=False,\n",
    "    classes=\"table table-striped\",\n",
    "\n",
    ")\n",
    "path = Path.cwd().parent / \"Plots\" / \"Fragen_mit_mehr_als_20_%_fehlender_Werte.html\"\n",
    "with open(path, \"w\", encoding=\"utf-8\") as f:\n",
    "    f.write(html_table)"
   ],
   "id": "cb2031b0223b974a",
   "outputs": [],
   "execution_count": null
  },
  {
   "metadata": {},
   "cell_type": "code",
   "source": [
    "# 1. Entfernung aller Fragen, die mehr als 25% fehlende Werte haben\n",
    "threshold = 0.25\n",
    "cols_to_drop = df.columns[df.isna().mean() > threshold].to_list()\n",
    "df_temp_1 = df.drop(columns=cols_to_drop)\n",
    "logger.info(f\"Spalten gelöscht, welche mehr als 25% fehlende Werte haben: \\n{len(cols_to_drop)} Spalten gelöscht\\n\"\n",
    "            f\"{df.shape[1] - len(cols_to_drop)} Spalten übrig\")"
   ],
   "id": "b4b15f0381944b4e",
   "outputs": [],
   "execution_count": null
  },
  {
   "metadata": {},
   "cell_type": "code",
   "outputs": [],
   "execution_count": null,
   "source": "# Jede Spalte isoliert betrachtet bereinigen\n",
   "id": "fc2b232ce3606909"
  },
  {
   "metadata": {
    "ExecuteTime": {
     "end_time": "2025-07-04T17:37:59.920268Z",
     "start_time": "2025-07-04T17:37:59.915691Z"
    }
   },
   "cell_type": "code",
   "source": [
    "# 1. Spalte\n",
    "unique_values = df.iloc[:, 0].value_counts(dropna=False)\n",
    "unique_values"
   ],
   "id": "d84fb62c4b46b2f0",
   "outputs": [
    {
     "data": {
      "text/plain": [
       "Are you self-employed?\n",
       "0    1146\n",
       "1     287\n",
       "Name: count, dtype: Int64"
      ]
     },
     "execution_count": 133,
     "metadata": {},
     "output_type": "execute_result"
    }
   ],
   "execution_count": 133
  },
  {
   "metadata": {
    "ExecuteTime": {
     "end_time": "2025-07-04T17:38:03.704654Z",
     "start_time": "2025-07-04T17:38:03.699020Z"
    }
   },
   "cell_type": "code",
   "source": [
    "# 2. Spalte\n",
    "unique_values = df_temp_1.iloc[:, 1].value_counts(dropna=False)\n",
    "unique_values"
   ],
   "id": "443190d7599ac9fc",
   "outputs": [
    {
     "data": {
      "text/plain": [
       "How many employees does your company or organization have?\n",
       "26-100            292\n",
       "<NA>              287\n",
       "More than 1000    256\n",
       "100-500           248\n",
       "6-25              210\n",
       "500-1000           80\n",
       "1-5                60\n",
       "Name: count, dtype: Int64"
      ]
     },
     "execution_count": 134,
     "metadata": {},
     "output_type": "execute_result"
    }
   ],
   "execution_count": 134
  },
  {
   "metadata": {
    "ExecuteTime": {
     "end_time": "2025-07-04T17:45:59.124045Z",
     "start_time": "2025-07-04T17:45:59.108245Z"
    }
   },
   "cell_type": "code",
   "source": [
    "df_columns = df.columns.to_list()\n",
    "df_unique_values = df.nunique(dropna=False).to_list()\n",
    "df_isna = df.isna().any().replace({True: \"JA\", False: \"NEIN\"}).to_list()"
   ],
   "id": "da2215a23e38b524",
   "outputs": [],
   "execution_count": 137
  },
  {
   "metadata": {
    "ExecuteTime": {
     "end_time": "2025-07-04T17:48:40.481949Z",
     "start_time": "2025-07-04T17:48:40.476916Z"
    }
   },
   "cell_type": "code",
   "source": [
    "df_html = pd.DataFrame({\n",
    "    \"Frage\": df_columns,\n",
    "    \"N_Unique\": df_unique_values,\n",
    "    \"IsNa\": df_isna,\n",
    "}).to_html(index=False)"
   ],
   "id": "647b292851748388",
   "outputs": [],
   "execution_count": 140
  },
  {
   "metadata": {
    "ExecuteTime": {
     "end_time": "2025-07-04T17:48:43.950623Z",
     "start_time": "2025-07-04T17:48:43.946712Z"
    }
   },
   "cell_type": "code",
   "source": [
    "path2 = Path.cwd().parent / \"Plots\" / \"Übersicht_AnfangsDF.html\"\n",
    "with open(path2, \"w\", encoding=\"utf-8\") as f:\n",
    "    f.write(df_html)"
   ],
   "id": "6022fe17392e7157",
   "outputs": [],
   "execution_count": 141
  },
  {
   "metadata": {
    "ExecuteTime": {
     "end_time": "2025-07-04T18:27:26.028822Z",
     "start_time": "2025-07-04T18:27:26.023125Z"
    }
   },
   "cell_type": "code",
   "source": "df_temp_1.iloc[:, 1].value_counts(dropna=False)",
   "id": "692807f6fa8fb804",
   "outputs": [
    {
     "data": {
      "text/plain": [
       "How many employees does your company or organization have?\n",
       "26-100            292\n",
       "<NA>              287\n",
       "More than 1000    256\n",
       "100-500           248\n",
       "6-25              210\n",
       "500-1000           80\n",
       "1-5                60\n",
       "Name: count, dtype: Int64"
      ]
     },
     "execution_count": 169,
     "metadata": {},
     "output_type": "execute_result"
    }
   ],
   "execution_count": 169
  },
  {
   "metadata": {
    "ExecuteTime": {
     "end_time": "2025-07-04T18:29:09.772973Z",
     "start_time": "2025-07-04T18:29:09.764365Z"
    }
   },
   "cell_type": "code",
   "source": [
    "col = \"How many employees does your company or organization have?\"\n",
    "threshold = int(df_temp_1.shape[1]*0.75)\n",
    "n2 = df_temp_1.shape[0] - df_temp_1[df_temp_1[col].isna()].dropna(thresh=threshold).shape[0]\n",
    "\n",
    "print(f\"{n2} Zeilen gelöscht, die in {col} isna haben\")"
   ],
   "id": "81f649e86ac6d228",
   "outputs": [
    {
     "name": "stdout",
     "output_type": "stream",
     "text": [
      "-1146 Zeilen gelöscht\n"
     ]
    }
   ],
   "execution_count": 172
  },
  {
   "metadata": {
    "ExecuteTime": {
     "end_time": "2025-07-04T18:33:20.298954Z",
     "start_time": "2025-07-04T18:33:20.289006Z"
    }
   },
   "cell_type": "code",
   "source": [
    "threshold = int(df_temp_1.shape[1] * 0.75)\n",
    "\n",
    "# Zeilen behalten, die entweder\n",
    "# (a) keinen NaN in col haben  ODER\n",
    "# (b) genug gültige Werte besitzen\n",
    "df_temp_2 = df_temp_1[\n",
    "    (~df_temp_1[col].isna()) &\n",
    "    (df_temp_1.notna().sum(axis=1) >= threshold)\n",
    "]\n",
    "\n",
    "n2 = df_temp_1.shape[0] - df_temp_2.shape[0]\n",
    "print(f\"{n2} Zeilen gelöscht, die in '{col}' NaN sind und < {threshold} gültige Werte haben.\")\n"
   ],
   "id": "5ad47167527cc959",
   "outputs": [
    {
     "name": "stdout",
     "output_type": "stream",
     "text": [
      "315 Zeilen gelöscht, die in 'How many employees does your company or organization have?' NaN sind und < 35 gültige Werte haben.\n"
     ]
    }
   ],
   "execution_count": 176
  },
  {
   "metadata": {
    "ExecuteTime": {
     "end_time": "2025-07-04T19:19:54.920423Z",
     "start_time": "2025-07-04T19:19:54.911352Z"
    }
   },
   "cell_type": "code",
   "source": [
    "threshold = int(df_temp_1.shape[1]*0.75)\n",
    "df_temp_2 = df_temp_1.dropna(thresh=threshold)\n",
    "print(f\"{df_temp_1.shape[0] - df_temp_2.shape[0]} Zeilen gelöscht, die mehr als {df_temp_1.shape[1] - threshold} leere Spalten haben\")"
   ],
   "id": "53df109b2cbea4d",
   "outputs": [
    {
     "name": "stdout",
     "output_type": "stream",
     "text": [
      "315 Zeilen gelöscht, die mehr als 12 leere Spalten haben\n"
     ]
    }
   ],
   "execution_count": 200
  },
  {
   "metadata": {
    "ExecuteTime": {
     "end_time": "2025-07-04T19:19:55.909637Z",
     "start_time": "2025-07-04T19:19:55.904165Z"
    }
   },
   "cell_type": "code",
   "source": "df_temp_2.iloc[:, 1].value_counts(dropna=False)",
   "id": "6ea42744c752d83e",
   "outputs": [
    {
     "data": {
      "text/plain": [
       "How many employees does your company or organization have?\n",
       "26-100            284\n",
       "More than 1000    253\n",
       "100-500           243\n",
       "6-25              203\n",
       "500-1000           77\n",
       "1-5                58\n",
       "Name: count, dtype: Int64"
      ]
     },
     "execution_count": 201,
     "metadata": {},
     "output_type": "execute_result"
    }
   ],
   "execution_count": 201
  },
  {
   "metadata": {
    "ExecuteTime": {
     "end_time": "2025-07-04T19:19:57.428018Z",
     "start_time": "2025-07-04T19:19:57.422491Z"
    }
   },
   "cell_type": "code",
   "source": [
    "# Ordinal Encoding\n",
    "size_order = [\"1-5\", \"6-25\", \"26-100\", \"100-500\", \"500-1000\", \"More than 1000\"]\n",
    "\n",
    "from sklearn.preprocessing import OrdinalEncoder\n",
    "ordEnc = OrdinalEncoder(categories=[size_order])\n",
    "df_temp_2.loc[:, col] = ordEnc.fit_transform(df_temp_2[[col]]).ravel()"
   ],
   "id": "720306efbd6d2dee",
   "outputs": [
    {
     "name": "stderr",
     "output_type": "stream",
     "text": [
      "C:\\Users\\achim\\AppData\\Local\\Temp\\ipykernel_27596\\3370576033.py:6: FutureWarning: Setting an item of incompatible dtype is deprecated and will raise in a future error of pandas. Value '[2. 1. 1. ... 4. 3. 3.]' has dtype incompatible with string, please explicitly cast to a compatible dtype first.\n",
      "  df_temp_2.loc[:, col] = ordEnc.fit_transform(df_temp_2[[col]]).ravel()\n"
     ]
    }
   ],
   "execution_count": 202
  },
  {
   "metadata": {
    "ExecuteTime": {
     "end_time": "2025-07-04T19:37:51.543506Z",
     "start_time": "2025-07-04T19:37:51.538015Z"
    }
   },
   "cell_type": "code",
   "source": "df_temp_2[col3].value_counts(dropna=False)",
   "id": "5b5027d77cca39d6",
   "outputs": [
    {
     "data": {
      "text/plain": [
       "Does your employer provide mental health benefits as part of healthcare coverage?\n",
       "Yes                                521\n",
       "I don't know                       311\n",
       "No                                 208\n",
       "Not eligible for coverage / N/A     78\n",
       "Name: count, dtype: Int64"
      ]
     },
     "execution_count": 216,
     "metadata": {},
     "output_type": "execute_result"
    }
   ],
   "execution_count": 216
  },
  {
   "metadata": {
    "ExecuteTime": {
     "end_time": "2025-07-04T19:34:13.645053Z",
     "start_time": "2025-07-04T19:34:13.642024Z"
    }
   },
   "cell_type": "code",
   "source": "col3 = df_temp_2.columns[3]",
   "id": "798af1e321504923",
   "outputs": [],
   "execution_count": 211
  },
  {
   "metadata": {
    "ExecuteTime": {
     "end_time": "2025-07-04T19:49:50.771758Z",
     "start_time": "2025-07-04T19:49:50.766686Z"
    }
   },
   "cell_type": "code",
   "source": [
    "from sklearn.preprocessing import OneHotEncoder\n",
    "\n",
    "ohe = OneHotEncoder(sparse_output=False, drop=\"first\")\n",
    "encoded_data = ohe.fit_transform(df_temp_2[[col3]])\n",
    "\n",
    "categories = ohe.categories_[0][1:]\n"
   ],
   "id": "e5cf809599ca44d2",
   "outputs": [],
   "execution_count": 227
  },
  {
   "metadata": {
    "ExecuteTime": {
     "end_time": "2025-07-04T19:49:55.074470Z",
     "start_time": "2025-07-04T19:49:55.067798Z"
    }
   },
   "cell_type": "code",
   "source": [
    "new_columns = [f\"{col3}_{category}\" for category in categories]\n",
    "\n",
    "encoded_df = pd.DataFrame(encoded_data, columns=new_columns,\n",
    "                          index=df_temp_2.index)\n",
    "\n",
    "df_temp_2 = df_temp_2.drop(col3, axis=1)\n",
    "df_temp_2 = pd.concat([df_temp_2, encoded_df], axis=1)"
   ],
   "id": "ad4550517b6cabe3",
   "outputs": [],
   "execution_count": 228
  },
  {
   "metadata": {
    "ExecuteTime": {
     "end_time": "2025-07-04T19:55:17.314197Z",
     "start_time": "2025-07-04T19:55:17.307517Z"
    }
   },
   "cell_type": "code",
   "source": "df_temp_2.to_pickle(\"df_temp_2.pkl\")",
   "id": "362ad3fa4e8f6821",
   "outputs": [],
   "execution_count": 235
  }
 ],
 "metadata": {
  "kernelspec": {
   "display_name": "Python 3",
   "language": "python",
   "name": "python3"
  },
  "language_info": {
   "codemirror_mode": {
    "name": "ipython",
    "version": 2
   },
   "file_extension": ".py",
   "mimetype": "text/x-python",
   "name": "python",
   "nbconvert_exporter": "python",
   "pygments_lexer": "ipython2",
   "version": "2.7.6"
  }
 },
 "nbformat": 4,
 "nbformat_minor": 5
}
