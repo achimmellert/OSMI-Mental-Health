{
 "cells": [
  {
   "cell_type": "code",
   "id": "initial_id",
   "metadata": {
    "collapsed": true,
    "ExecuteTime": {
     "end_time": "2025-07-09T17:04:10.040490Z",
     "start_time": "2025-07-09T17:04:10.035527Z"
    }
   },
   "source": [
    "from pathlib import Path\n",
    "from pandas.core.interchange.dataframe_protocol import DataFrame\n",
    "from sklearn.preprocessing import StandardScaler\n",
    "from sklearn.cluster import KMeans\n",
    "import re\n",
    "import pandas as pd\n",
    "from sklearn.metrics import silhouette_score\n",
    "from sklearn.decomposition import PCA\n",
    "import matplotlib.pyplot as plt\n",
    "import seaborn as sns\n",
    "from pandas import DataFrame, Series\n",
    "import numpy as np\n",
    "from sklearn.cluster import DBSCAN\n",
    "from umap import UMAP\n",
    "from sklearn.manifold import trustworthiness\n",
    "import optuna\n",
    "import featuretools as ft\n",
    "from woodwork.logical_types import Double, Datetime, Integer, Categorical"
   ],
   "outputs": [],
   "execution_count": 2
  },
  {
   "metadata": {
    "ExecuteTime": {
     "end_time": "2025-07-09T17:14:53.165899Z",
     "start_time": "2025-07-09T17:14:53.159600Z"
    }
   },
   "cell_type": "code",
   "source": [
    "df = pd.read_pickle(\"../data/edited/full_df_rdy_1.pkl\").reset_index(drop=True)\n",
    "df[\"index\"] = df.index"
   ],
   "id": "454d29639cb25d69",
   "outputs": [],
   "execution_count": 17
  },
  {
   "metadata": {
    "ExecuteTime": {
     "end_time": "2025-07-09T17:10:22.494244Z",
     "start_time": "2025-07-09T17:10:22.476430Z"
    }
   },
   "cell_type": "code",
   "source": "df.tail()",
   "id": "f237d51e1999c05a",
   "outputs": [
    {
     "data": {
      "text/plain": [
       "      index  Are you self-employed?  \\\n",
       "1425   1425                     0.0   \n",
       "1426   1426                     0.0   \n",
       "1427   1427                     0.0   \n",
       "1430   1430                     0.0   \n",
       "1431   1431                     0.0   \n",
       "\n",
       "      How many employees does your company or organization have?  \\\n",
       "1425                                                3.0            \n",
       "1426                                                3.0            \n",
       "1427                                                4.0            \n",
       "1430                                                3.0            \n",
       "1431                                                3.0            \n",
       "\n",
       "      Is your employer primarily a tech company/organization?  \\\n",
       "1425                                                1.0         \n",
       "1426                                                1.0         \n",
       "1427                                                1.0         \n",
       "1430                                                1.0         \n",
       "1431                                                0.0         \n",
       "\n",
       "      If a mental health issue prompted you to request a medical leave from work, asking for that leave would be:  \\\n",
       "1425                                                1.0                                                             \n",
       "1426                                                1.0                                                             \n",
       "1427                                                1.0                                                             \n",
       "1430                                                3.0                                                             \n",
       "1431                                                3.0                                                             \n",
       "\n",
       "      Have your previous employers provided mental health benefits?  \\\n",
       "1425                                                1.0               \n",
       "1426                                                3.0               \n",
       "1427                                                1.0               \n",
       "1430                                                1.0               \n",
       "1431                                                0.0               \n",
       "\n",
       "      Were you aware of the options for mental health care provided by your previous employers?  \\\n",
       "1425                                                2.0                                           \n",
       "1426                                                3.0                                           \n",
       "1427                                                1.0                                           \n",
       "1430                                                1.0                                           \n",
       "1431                                                3.0                                           \n",
       "\n",
       "      Did your previous employers ever formally discuss mental health (as part of a wellness campaign or other official communication)?  \\\n",
       "1425                                                1.0                                                                                   \n",
       "1426                                                3.0                                                                                   \n",
       "1427                                                0.0                                                                                   \n",
       "1430                                                0.0                                                                                   \n",
       "1431                                                0.0                                                                                   \n",
       "\n",
       "      Did your previous employers provide resources to learn more about mental health issues and how to seek help?  \\\n",
       "1425                                                1.0                                                              \n",
       "1426                                                1.0                                                              \n",
       "1427                                                0.0                                                              \n",
       "1430                                                1.0                                                              \n",
       "1431                                                0.0                                                              \n",
       "\n",
       "      Was your anonymity protected if you chose to take advantage of mental health or substance abuse treatment resources with previous employers?  \\\n",
       "1425                                                0.0                                                                                              \n",
       "1426                                                3.0                                                                                              \n",
       "1427                                                3.0                                                                                              \n",
       "1430                                                1.0                                                                                              \n",
       "1431                                                3.0                                                                                              \n",
       "\n",
       "      ...  Which of the following best describes your work position?_DevOps  \\\n",
       "1425  ...                                                0.0                  \n",
       "1426  ...                                                0.0                  \n",
       "1427  ...                                                0.0                  \n",
       "1430  ...                                                0.0                  \n",
       "1431  ...                                                1.0                  \n",
       "\n",
       "      Which of the following best describes your work position?_back  \\\n",
       "1425                                                0.0                \n",
       "1426                                                0.0                \n",
       "1427                                                0.0                \n",
       "1430                                                1.0                \n",
       "1431                                                0.0                \n",
       "\n",
       "      Which of the following best describes your work position?_front  \\\n",
       "1425                                                1.0                 \n",
       "1426                                                0.0                 \n",
       "1427                                                0.0                 \n",
       "1430                                                0.0                 \n",
       "1431                                                0.0                 \n",
       "\n",
       "      Which of the following best describes your work position?_lead  \\\n",
       "1425                                                0.0                \n",
       "1426                                                0.0                \n",
       "1427                                                0.0                \n",
       "1430                                                0.0                \n",
       "1431                                                0.0                \n",
       "\n",
       "      Which of the following best describes your work position?_other  \\\n",
       "1425                                                0.0                 \n",
       "1426                                                1.0                 \n",
       "1427                                                0.0                 \n",
       "1430                                                0.0                 \n",
       "1431                                                0.0                 \n",
       "\n",
       "      Which of the following best describes your work position?_support  \\\n",
       "1425                                                0.0                   \n",
       "1426                                                0.0                   \n",
       "1427                                                1.0                   \n",
       "1430                                                0.0                   \n",
       "1431                                                0.0                   \n",
       "\n",
       "      Why or why not?  Why_or_why_not_1_Cluster  Why_or_why_not_Cluster  \\\n",
       "1425              1.0                       0.0                     1.0   \n",
       "1426              1.0                       1.0                     1.0   \n",
       "1427              0.0                       0.0                     0.0   \n",
       "1430              0.0                       0.0                     0.0   \n",
       "1431              0.0                       0.0                     0.0   \n",
       "\n",
       "      Why or why not?.1  \n",
       "1425                0.0  \n",
       "1426                1.0  \n",
       "1427                0.0  \n",
       "1430                0.0  \n",
       "1431                0.0  \n",
       "\n",
       "[5 rows x 95 columns]"
      ],
      "text/html": [
       "<div>\n",
       "<style scoped>\n",
       "    .dataframe tbody tr th:only-of-type {\n",
       "        vertical-align: middle;\n",
       "    }\n",
       "\n",
       "    .dataframe tbody tr th {\n",
       "        vertical-align: top;\n",
       "    }\n",
       "\n",
       "    .dataframe thead th {\n",
       "        text-align: right;\n",
       "    }\n",
       "</style>\n",
       "<table border=\"1\" class=\"dataframe\">\n",
       "  <thead>\n",
       "    <tr style=\"text-align: right;\">\n",
       "      <th></th>\n",
       "      <th>index</th>\n",
       "      <th>Are you self-employed?</th>\n",
       "      <th>How many employees does your company or organization have?</th>\n",
       "      <th>Is your employer primarily a tech company/organization?</th>\n",
       "      <th>If a mental health issue prompted you to request a medical leave from work, asking for that leave would be:</th>\n",
       "      <th>Have your previous employers provided mental health benefits?</th>\n",
       "      <th>Were you aware of the options for mental health care provided by your previous employers?</th>\n",
       "      <th>Did your previous employers ever formally discuss mental health (as part of a wellness campaign or other official communication)?</th>\n",
       "      <th>Did your previous employers provide resources to learn more about mental health issues and how to seek help?</th>\n",
       "      <th>Was your anonymity protected if you chose to take advantage of mental health or substance abuse treatment resources with previous employers?</th>\n",
       "      <th>...</th>\n",
       "      <th>Which of the following best describes your work position?_DevOps</th>\n",
       "      <th>Which of the following best describes your work position?_back</th>\n",
       "      <th>Which of the following best describes your work position?_front</th>\n",
       "      <th>Which of the following best describes your work position?_lead</th>\n",
       "      <th>Which of the following best describes your work position?_other</th>\n",
       "      <th>Which of the following best describes your work position?_support</th>\n",
       "      <th>Why or why not?</th>\n",
       "      <th>Why_or_why_not_1_Cluster</th>\n",
       "      <th>Why_or_why_not_Cluster</th>\n",
       "      <th>Why or why not?.1</th>\n",
       "    </tr>\n",
       "  </thead>\n",
       "  <tbody>\n",
       "    <tr>\n",
       "      <th>1425</th>\n",
       "      <td>1425</td>\n",
       "      <td>0.0</td>\n",
       "      <td>3.0</td>\n",
       "      <td>1.0</td>\n",
       "      <td>1.0</td>\n",
       "      <td>1.0</td>\n",
       "      <td>2.0</td>\n",
       "      <td>1.0</td>\n",
       "      <td>1.0</td>\n",
       "      <td>0.0</td>\n",
       "      <td>...</td>\n",
       "      <td>0.0</td>\n",
       "      <td>0.0</td>\n",
       "      <td>1.0</td>\n",
       "      <td>0.0</td>\n",
       "      <td>0.0</td>\n",
       "      <td>0.0</td>\n",
       "      <td>1.0</td>\n",
       "      <td>0.0</td>\n",
       "      <td>1.0</td>\n",
       "      <td>0.0</td>\n",
       "    </tr>\n",
       "    <tr>\n",
       "      <th>1426</th>\n",
       "      <td>1426</td>\n",
       "      <td>0.0</td>\n",
       "      <td>3.0</td>\n",
       "      <td>1.0</td>\n",
       "      <td>1.0</td>\n",
       "      <td>3.0</td>\n",
       "      <td>3.0</td>\n",
       "      <td>3.0</td>\n",
       "      <td>1.0</td>\n",
       "      <td>3.0</td>\n",
       "      <td>...</td>\n",
       "      <td>0.0</td>\n",
       "      <td>0.0</td>\n",
       "      <td>0.0</td>\n",
       "      <td>0.0</td>\n",
       "      <td>1.0</td>\n",
       "      <td>0.0</td>\n",
       "      <td>1.0</td>\n",
       "      <td>1.0</td>\n",
       "      <td>1.0</td>\n",
       "      <td>1.0</td>\n",
       "    </tr>\n",
       "    <tr>\n",
       "      <th>1427</th>\n",
       "      <td>1427</td>\n",
       "      <td>0.0</td>\n",
       "      <td>4.0</td>\n",
       "      <td>1.0</td>\n",
       "      <td>1.0</td>\n",
       "      <td>1.0</td>\n",
       "      <td>1.0</td>\n",
       "      <td>0.0</td>\n",
       "      <td>0.0</td>\n",
       "      <td>3.0</td>\n",
       "      <td>...</td>\n",
       "      <td>0.0</td>\n",
       "      <td>0.0</td>\n",
       "      <td>0.0</td>\n",
       "      <td>0.0</td>\n",
       "      <td>0.0</td>\n",
       "      <td>1.0</td>\n",
       "      <td>0.0</td>\n",
       "      <td>0.0</td>\n",
       "      <td>0.0</td>\n",
       "      <td>0.0</td>\n",
       "    </tr>\n",
       "    <tr>\n",
       "      <th>1430</th>\n",
       "      <td>1430</td>\n",
       "      <td>0.0</td>\n",
       "      <td>3.0</td>\n",
       "      <td>1.0</td>\n",
       "      <td>3.0</td>\n",
       "      <td>1.0</td>\n",
       "      <td>1.0</td>\n",
       "      <td>0.0</td>\n",
       "      <td>1.0</td>\n",
       "      <td>1.0</td>\n",
       "      <td>...</td>\n",
       "      <td>0.0</td>\n",
       "      <td>1.0</td>\n",
       "      <td>0.0</td>\n",
       "      <td>0.0</td>\n",
       "      <td>0.0</td>\n",
       "      <td>0.0</td>\n",
       "      <td>0.0</td>\n",
       "      <td>0.0</td>\n",
       "      <td>0.0</td>\n",
       "      <td>0.0</td>\n",
       "    </tr>\n",
       "    <tr>\n",
       "      <th>1431</th>\n",
       "      <td>1431</td>\n",
       "      <td>0.0</td>\n",
       "      <td>3.0</td>\n",
       "      <td>0.0</td>\n",
       "      <td>3.0</td>\n",
       "      <td>0.0</td>\n",
       "      <td>3.0</td>\n",
       "      <td>0.0</td>\n",
       "      <td>0.0</td>\n",
       "      <td>3.0</td>\n",
       "      <td>...</td>\n",
       "      <td>1.0</td>\n",
       "      <td>0.0</td>\n",
       "      <td>0.0</td>\n",
       "      <td>0.0</td>\n",
       "      <td>0.0</td>\n",
       "      <td>0.0</td>\n",
       "      <td>0.0</td>\n",
       "      <td>0.0</td>\n",
       "      <td>0.0</td>\n",
       "      <td>0.0</td>\n",
       "    </tr>\n",
       "  </tbody>\n",
       "</table>\n",
       "<p>5 rows × 95 columns</p>\n",
       "</div>"
      ]
     },
     "execution_count": 8,
     "metadata": {},
     "output_type": "execute_result"
    }
   ],
   "execution_count": 8
  },
  {
   "metadata": {
    "ExecuteTime": {
     "end_time": "2025-07-09T17:14:55.578567Z",
     "start_time": "2025-07-09T17:14:55.574624Z"
    }
   },
   "cell_type": "code",
   "source": "df.shape",
   "id": "503612161551369b",
   "outputs": [
    {
     "data": {
      "text/plain": [
       "(1011, 95)"
      ]
     },
     "execution_count": 18,
     "metadata": {},
     "output_type": "execute_result"
    }
   ],
   "execution_count": 18
  },
  {
   "metadata": {
    "ExecuteTime": {
     "end_time": "2025-07-09T17:14:57.193504Z",
     "start_time": "2025-07-09T17:14:57.106207Z"
    }
   },
   "cell_type": "code",
   "source": [
    "es = ft.EntitySet(id=\"single_table\")\n",
    "\n",
    "es = es.add_dataframe(dataframe_name=\"data\", dataframe=df, index=\"index\")"
   ],
   "id": "50fb6506c25ee837",
   "outputs": [],
   "execution_count": 19
  },
  {
   "metadata": {
    "ExecuteTime": {
     "end_time": "2025-07-09T17:17:31.271222Z",
     "start_time": "2025-07-09T17:17:29.588574Z"
    }
   },
   "cell_type": "code",
   "source": [
    "feature_matrix, feature_defs = ft.dfs(\n",
    "    entityset=es,\n",
    "    target_dataframe_name=\"data\",\n",
    "    agg_primitives=[],  # keine Aggregationen (weil keine zweite Tabelle)\n",
    "    trans_primitives=[\"add_numeric\", \"and\", \"or\"],\n",
    "    max_depth=2  # Tiefe der Featurekombination\n",
    ")"
   ],
   "id": "2cf7733ded73eeb4",
   "outputs": [
    {
     "name": "stderr",
     "output_type": "stream",
     "text": [
      "C:\\Users\\achim\\Desktop\\OSMI_Mental_Health\\venv\\Lib\\site-packages\\featuretools\\synthesis\\deep_feature_synthesis.py:169: UserWarning: Only one dataframe in entityset, changing max_depth to 1 since deeper features cannot be created\n",
      "  warnings.warn(\n",
      "C:\\Users\\achim\\Desktop\\OSMI_Mental_Health\\venv\\Lib\\site-packages\\featuretools\\synthesis\\dfs.py:321: UnusedPrimitiveWarning: Some specified primitives were not used during DFS:\n",
      "  trans_primitives: ['and', 'or']\n",
      "This may be caused by a using a value of max_depth that is too small, not setting interesting values, or it may indicate no compatible columns for the primitive were found in the data. If the DFS call contained multiple instances of a primitive in the list above, none of them were used.\n",
      "  warnings.warn(warning_msg, UnusedPrimitiveWarning)\n"
     ]
    }
   ],
   "execution_count": 22
  },
  {
   "metadata": {
    "ExecuteTime": {
     "end_time": "2025-07-09T17:20:41.429104Z",
     "start_time": "2025-07-09T17:20:41.425243Z"
    }
   },
   "cell_type": "code",
   "source": "feature_matrix.shape",
   "id": "b656e4d2c577f3b0",
   "outputs": [
    {
     "data": {
      "text/plain": [
       "(1011, 4465)"
      ]
     },
     "execution_count": 27,
     "metadata": {},
     "output_type": "execute_result"
    }
   ],
   "execution_count": 27
  },
  {
   "metadata": {
    "ExecuteTime": {
     "end_time": "2025-07-09T17:21:25.661618Z",
     "start_time": "2025-07-09T17:21:25.658367Z"
    }
   },
   "cell_type": "code",
   "source": "print(f\"{feature_matrix.shape[1] - df.shape[1]} Spalten durch Featuretools hinzugefügt\")",
   "id": "7f393d1db4ae0e24",
   "outputs": [
    {
     "name": "stdout",
     "output_type": "stream",
     "text": [
      "4370 Spalten durch Featuretools hinzugefügt\n"
     ]
    }
   ],
   "execution_count": 28
  },
  {
   "metadata": {
    "ExecuteTime": {
     "end_time": "2025-07-09T17:24:14.796196Z",
     "start_time": "2025-07-09T17:24:14.714803Z"
    }
   },
   "cell_type": "code",
   "source": "pd.to_pickle(feature_matrix, \"df_mit_featuretools.pkl\")",
   "id": "e57f9ea6debf9d87",
   "outputs": [],
   "execution_count": 31
  },
  {
   "metadata": {},
   "cell_type": "code",
   "outputs": [],
   "execution_count": null,
   "source": "",
   "id": "e047c8648439924d"
  }
 ],
 "metadata": {
  "kernelspec": {
   "display_name": "Python 3",
   "language": "python",
   "name": "python3"
  },
  "language_info": {
   "codemirror_mode": {
    "name": "ipython",
    "version": 2
   },
   "file_extension": ".py",
   "mimetype": "text/x-python",
   "name": "python",
   "nbconvert_exporter": "python",
   "pygments_lexer": "ipython2",
   "version": "2.7.6"
  }
 },
 "nbformat": 4,
 "nbformat_minor": 5
}
