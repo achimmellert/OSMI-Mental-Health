{
 "cells": [
  {
   "cell_type": "code",
   "id": "initial_id",
   "metadata": {
    "collapsed": true,
    "ExecuteTime": {
     "end_time": "2025-07-07T19:34:40.991912Z",
     "start_time": "2025-07-07T19:34:10.541979Z"
    }
   },
   "source": [
    "import logging\n",
    "import pickle\n",
    "\n",
    "import matplotlib.pyplot as plt\n",
    "import numpy as np\n",
    "from pathlib import Path\n",
    "import pandas as pd\n",
    "from pandas import Series\n",
    "from vaderSentiment.vaderSentiment import SentimentIntensityAnalyzer\n",
    "import torch\n",
    "from transformers import pipeline\n",
    "import spacy\n",
    "\n",
    "from experimental.experimental_df import ohe_col_48, encoded_data_col_47, new_cols_15"
   ],
   "outputs": [
    {
     "name": "stderr",
     "output_type": "stream",
     "text": [
      "C:\\Users\\achim\\Desktop\\OSMI_Mental_Health\\venv\\Lib\\site-packages\\tqdm\\auto.py:21: TqdmWarning: IProgress not found. Please update jupyter and ipywidgets. See https://ipywidgets.readthedocs.io/en/stable/user_install.html\n",
      "  from .autonotebook import tqdm as notebook_tqdm\n"
     ]
    }
   ],
   "execution_count": 1
  },
  {
   "metadata": {
    "ExecuteTime": {
     "end_time": "2025-07-07T14:21:46.955194Z",
     "start_time": "2025-07-07T14:21:46.951730Z"
    }
   },
   "cell_type": "code",
   "source": [
    "text = \"\"\"Die Digitalisierung hat in den letzten zwei Jahrzehnten nahezu alle Bereiche des gesellschaftlichen Lebens tiefgreifend verändert. Besonders im Bereich der Kommunikation sind diese Veränderungen deutlich spürbar: Während vor dem Jahr 2000 Telefongespräche und persönliche Treffen dominierten, werden heute soziale Netzwerke, Messenger-Dienste und Videokonferenzen genutzt, um sich in Echtzeit über Kontinente hinweg auszutauschen. Diese neuen Kommunikationsmittel haben nicht nur unsere persönlichen Beziehungen beeinflusst, sondern auch die Arbeitswelt revolutioniert. Homeoffice, digitale Projektarbeit und der Zugang zu globalen Talentpools sind nur einige Beispiele dafür, wie moderne Informationstechnologien neue Formen der Zusammenarbeit ermöglichen.\n",
    "\n",
    "Gleichzeitig wirft die Digitalisierung auch gesellschaftliche Fragen auf. Die ständige Verfügbarkeit digitaler Medien kann zu Informationsüberflutung, Konzentrationsproblemen und einer beschleunigten Lebensweise führen. Darüber hinaus stehen Fragen des Datenschutzes, der digitalen Souveränität und der Abhängigkeit von großen Tech-Konzernen im Fokus öffentlicher Debatten. Gerade in Zeiten politischer Unsicherheiten und zunehmender Polarisierung gewinnt die Frage an Bedeutung, wie digitale Räume gestaltet werden müssen, um demokratische Diskurse zu fördern und gesellschaftlichen Zusammenhalt zu sichern.\n",
    "\n",
    "Auch im Bildungswesen zeigt sich ein tiefgreifender Wandel: Digitale Lernplattformen, virtuelle Klassenzimmer und KI-gestützte Lernsysteme bieten neue Möglichkeiten, aber stellen Lehrende und Lernende auch vor neue Herausforderungen. Neben der technischen Infrastruktur sind didaktische Konzepte und digitale Kompetenzen entscheidend dafür, ob diese Entwicklungen tatsächlich zu mehr Bildungsgerechtigkeit und besseren Lernerfolgen führen. Während manche Schüler:innen von den neuen Möglichkeiten profitieren, besteht gleichzeitig die Gefahr, dass bestehende Ungleichheiten durch fehlenden Zugang zu Geräten oder Unterstützung noch verstärkt werden.\n",
    "\n",
    "Letztlich ist die Digitalisierung kein Selbstzweck, sondern ein gesellschaftlicher Gestaltungsprozess. Es liegt an Politik, Wirtschaft, Wissenschaft und Zivilgesellschaft, diesen Prozess aktiv mitzugestalten – damit die digitale Transformation nicht nur effizient, sondern auch gerecht, inklusiv und nachhaltig erfolgt.\"\"\""
   ],
   "id": "75a2d86e7e035a81",
   "outputs": [],
   "execution_count": 3
  },
  {
   "metadata": {
    "ExecuteTime": {
     "end_time": "2025-07-07T14:21:48.179210Z",
     "start_time": "2025-07-07T14:21:48.175678Z"
    }
   },
   "cell_type": "code",
   "source": [
    "logging.basicConfig(\n",
    "    level=logging.INFO,\n",
    "    format='%(asctime)s [%(levelname)s] %(name)s: %(message)s'\n",
    ")\n",
    "\n",
    "logger = logging.getLogger(__name__)\n",
    "\n"
   ],
   "id": "3bf63401659bb3da",
   "outputs": [],
   "execution_count": 4
  },
  {
   "metadata": {
    "ExecuteTime": {
     "end_time": "2025-07-07T14:23:13.334792Z",
     "start_time": "2025-07-07T14:23:13.330405Z"
    }
   },
   "cell_type": "code",
   "source": [
    "if torch.cuda.is_available():\n",
    "    cuda_name = torch.cuda.get_device_name()\n",
    "    logger.info(f\"Cuda '{cuda_name}' is avalaible Yeeah 😀\")\n",
    "else:\n",
    "    logger.error(\"Cuda is not found 🤕\")"
   ],
   "id": "b8e49d96a0afe5ce",
   "outputs": [
    {
     "name": "stderr",
     "output_type": "stream",
     "text": [
      "2025-07-07 16:23:13,332 [INFO] __main__: Cuda 'NVIDIA GeForce RTX 3060 Ti' is avalaible Yeeah 😀\n"
     ]
    }
   ],
   "execution_count": 8
  },
  {
   "metadata": {
    "ExecuteTime": {
     "end_time": "2025-07-07T14:30:41.145676Z",
     "start_time": "2025-07-07T14:30:37.283383Z"
    }
   },
   "cell_type": "code",
   "source": [
    "summarizer = pipeline(task=\"summarization\",\n",
    "                      model=\"facebook/bart-large-cnn\",\n",
    "                      device=0)\n",
    "\n",
    "output = summarizer(text, max_length=450, do_sample=False)[0][\"summary_text\"]\n",
    "\n",
    "output"
   ],
   "id": "9c0ed167a1738a77",
   "outputs": [
    {
     "name": "stderr",
     "output_type": "stream",
     "text": [
      "Device set to use cuda:0\n"
     ]
    },
    {
     "data": {
      "text/plain": [
       "'Die Digitalisierung hat in den letzten zwei Jahrzehnten nahezu alle Bereiche des gesellschaftlichen Lebens tiefgreifend verändert. Diese neuen Kommunikationsmittel haben nicht nur unsere persönlichen Beziehungen beeinflusst, sondern auch die Arbeitswelt revolutioniert.'"
      ]
     },
     "execution_count": 13,
     "metadata": {},
     "output_type": "execute_result"
    }
   ],
   "execution_count": 13
  },
  {
   "metadata": {
    "ExecuteTime": {
     "end_time": "2025-07-07T15:15:48.934492Z",
     "start_time": "2025-07-07T15:15:47.527724Z"
    }
   },
   "cell_type": "code",
   "source": [
    "sentiment_analyzer = pipeline(task=\"sentiment-analysis\",\n",
    "                                  model=\"cardiffnlp/twitter-roberta-base-sentiment\",\n",
    "                                  device=0)\n",
    "\n",
    "output_2 = sentiment_analyzer(\"Missing\")\n",
    "output_2"
   ],
   "id": "65f8e62ce1541172",
   "outputs": [
    {
     "name": "stderr",
     "output_type": "stream",
     "text": [
      "Device set to use cuda:0\n"
     ]
    },
    {
     "data": {
      "text/plain": [
       "[{'label': 'LABEL_1', 'score': 0.5228821635246277}]"
      ]
     },
     "execution_count": 18,
     "metadata": {},
     "output_type": "execute_result"
    }
   ],
   "execution_count": 18
  },
  {
   "metadata": {
    "ExecuteTime": {
     "end_time": "2025-07-07T17:19:56.914191Z",
     "start_time": "2025-07-07T17:19:56.909841Z"
    }
   },
   "cell_type": "code",
   "source": [
    "ser = pd.read_pickle(\"data_rdy_to_concat/Why_or_why_not_sentiment.pkl\")\n",
    "\n",
    "df = pd.DataFrame(ser.value_counts(dropna=False)).reset_index()"
   ],
   "id": "c3610f4210b5072b",
   "outputs": [],
   "execution_count": 33
  },
  {
   "metadata": {
    "ExecuteTime": {
     "end_time": "2025-07-07T17:19:57.891043Z",
     "start_time": "2025-07-07T17:19:57.887Z"
    }
   },
   "cell_type": "code",
   "source": [
    "mapping_func = {\n",
    "    0: \"Negativ\",\n",
    "    1: \"Neutral\",\n",
    "    2: \"Positiv\",\n",
    "}\n",
    "\n",
    "col = df.columns[0]\n",
    "df[col] = df[col].map(mapping_func)"
   ],
   "id": "2a6fc1e052543924",
   "outputs": [],
   "execution_count": 34
  },
  {
   "metadata": {},
   "cell_type": "code",
   "source": [
    "import seaborn as sns\n",
    "\n",
    "plt.rcParams.update({\n",
    "    \"figure.dpi\": 300,\n",
    "    \"savefig.dpi\": 300,\n",
    "    \"font.size\": 11,\n",
    "    \"axes.titlesize\": 12,\n",
    "    \"axes.labelsize\": 11,\n",
    "    \"xtick.labelsize\": 10,\n",
    "    \"ytick.labelsize\": 10,\n",
    "    \"legend.fontsize\": 10,\n",
    "    \"legend.frameon\": False,\n",
    "    \"axes.spines.top\": False,\n",
    "    \"axes.spines.right\": False,\n",
    "})\n",
    "\n",
    "sns.barplot(df, x=df[col], y=df[\"count\"])\n",
    "plt.xlabel(None)\n",
    "plt.ylabel(\"Anzahl\")\n",
    "plt.title(\"Why or why not? - Nach Sentiment Analysis\")\n",
    "\n",
    "plt.savefig(\"../Plots/Why_or_why_not_Sentiment.png\")"
   ],
   "id": "41d36905580c8f49",
   "outputs": [],
   "execution_count": null
  },
  {
   "metadata": {
    "ExecuteTime": {
     "end_time": "2025-07-07T18:48:14.508277Z",
     "start_time": "2025-07-07T18:48:12.949375Z"
    }
   },
   "cell_type": "code",
   "source": [
    "feature_extractor = pipeline(\n",
    "        task=\"feature-extraction\",\n",
    "        model=\"sentence-transformers/all-MiniLM-L6-v2\",\n",
    "        device=0,\n",
    "        use_fast=True\n",
    "    )\n",
    "\n",
    "ser = pd.read_pickle(r\"C:\\Users\\achim\\Desktop\\OSMI_Mental_Health\\data\\edited\\df_alle_OHE_und_OE_Fragen.pkl\")[\"Why or why not?\"]\n",
    "text_list = ser.to_list()\n",
    "\n",
    "embeddings = feature_extractor(text_list)"
   ],
   "id": "81e6464e5937b620",
   "outputs": [
    {
     "name": "stderr",
     "output_type": "stream",
     "text": [
      "Device set to use cuda:0\n"
     ]
    },
    {
     "ename": "ValueError",
     "evalue": "text input must be of type `str` (single example), `list[str]` (batch or single pretokenized example) or `list[list[str]]` (batch of pretokenized examples).",
     "output_type": "error",
     "traceback": [
      "\u001B[31m---------------------------------------------------------------------------\u001B[39m",
      "\u001B[31mValueError\u001B[39m                                Traceback (most recent call last)",
      "\u001B[36mCell\u001B[39m\u001B[36m \u001B[39m\u001B[32mIn[53]\u001B[39m\u001B[32m, line 11\u001B[39m\n\u001B[32m      8\u001B[39m ser = pd.read_pickle(\u001B[33mr\u001B[39m\u001B[33m\"\u001B[39m\u001B[33mC:\u001B[39m\u001B[33m\\\u001B[39m\u001B[33mUsers\u001B[39m\u001B[33m\\\u001B[39m\u001B[33machim\u001B[39m\u001B[33m\\\u001B[39m\u001B[33mDesktop\u001B[39m\u001B[33m\\\u001B[39m\u001B[33mOSMI_Mental_Health\u001B[39m\u001B[33m\\\u001B[39m\u001B[33mdata\u001B[39m\u001B[33m\\\u001B[39m\u001B[33medited\u001B[39m\u001B[33m\\\u001B[39m\u001B[33mdf_alle_OHE_und_OE_Fragen.pkl\u001B[39m\u001B[33m\"\u001B[39m)[\u001B[33m\"\u001B[39m\u001B[33mWhy or why not?\u001B[39m\u001B[33m\"\u001B[39m]\n\u001B[32m      9\u001B[39m text_list = ser.to_list()\n\u001B[32m---> \u001B[39m\u001B[32m11\u001B[39m embeddings = \u001B[43mfeature_extractor\u001B[49m\u001B[43m(\u001B[49m\u001B[43mtext_list\u001B[49m\u001B[43m)\u001B[49m\n",
      "\u001B[36mFile \u001B[39m\u001B[32m~\\Desktop\\OSMI_Mental_Health\\venv\\Lib\\site-packages\\transformers\\pipelines\\feature_extraction.py:86\u001B[39m, in \u001B[36mFeatureExtractionPipeline.__call__\u001B[39m\u001B[34m(self, *args, **kwargs)\u001B[39m\n\u001B[32m     76\u001B[39m \u001B[38;5;28;01mdef\u001B[39;00m\u001B[38;5;250m \u001B[39m\u001B[34m__call__\u001B[39m(\u001B[38;5;28mself\u001B[39m, *args: Union[\u001B[38;5;28mstr\u001B[39m, \u001B[38;5;28mlist\u001B[39m[\u001B[38;5;28mstr\u001B[39m]], **kwargs: Any) -> Union[Any, \u001B[38;5;28mlist\u001B[39m[Any]]:\n\u001B[32m     77\u001B[39m \u001B[38;5;250m    \u001B[39m\u001B[33;03m\"\"\"\u001B[39;00m\n\u001B[32m     78\u001B[39m \u001B[33;03m    Extract the features of the input(s) text.\u001B[39;00m\n\u001B[32m     79\u001B[39m \n\u001B[32m   (...)\u001B[39m\u001B[32m     84\u001B[39m \u001B[33;03m        A nested list of `float`: The features computed by the model.\u001B[39;00m\n\u001B[32m     85\u001B[39m \u001B[33;03m    \"\"\"\u001B[39;00m\n\u001B[32m---> \u001B[39m\u001B[32m86\u001B[39m     \u001B[38;5;28;01mreturn\u001B[39;00m \u001B[38;5;28;43msuper\u001B[39;49m\u001B[43m(\u001B[49m\u001B[43m)\u001B[49m\u001B[43m.\u001B[49m\u001B[34;43m__call__\u001B[39;49m\u001B[43m(\u001B[49m\u001B[43m*\u001B[49m\u001B[43margs\u001B[49m\u001B[43m,\u001B[49m\u001B[43m \u001B[49m\u001B[43m*\u001B[49m\u001B[43m*\u001B[49m\u001B[43mkwargs\u001B[49m\u001B[43m)\u001B[49m\n",
      "\u001B[36mFile \u001B[39m\u001B[32m~\\Desktop\\OSMI_Mental_Health\\venv\\Lib\\site-packages\\transformers\\pipelines\\base.py:1445\u001B[39m, in \u001B[36mPipeline.__call__\u001B[39m\u001B[34m(self, inputs, num_workers, batch_size, *args, **kwargs)\u001B[39m\n\u001B[32m   1441\u001B[39m \u001B[38;5;28;01mif\u001B[39;00m can_use_iterator:\n\u001B[32m   1442\u001B[39m     final_iterator = \u001B[38;5;28mself\u001B[39m.get_iterator(\n\u001B[32m   1443\u001B[39m         inputs, num_workers, batch_size, preprocess_params, forward_params, postprocess_params\n\u001B[32m   1444\u001B[39m     )\n\u001B[32m-> \u001B[39m\u001B[32m1445\u001B[39m     outputs = \u001B[38;5;28;43mlist\u001B[39;49m\u001B[43m(\u001B[49m\u001B[43mfinal_iterator\u001B[49m\u001B[43m)\u001B[49m\n\u001B[32m   1446\u001B[39m     \u001B[38;5;28;01mreturn\u001B[39;00m outputs\n\u001B[32m   1447\u001B[39m \u001B[38;5;28;01melse\u001B[39;00m:\n",
      "\u001B[36mFile \u001B[39m\u001B[32m~\\Desktop\\OSMI_Mental_Health\\venv\\Lib\\site-packages\\transformers\\pipelines\\pt_utils.py:124\u001B[39m, in \u001B[36mPipelineIterator.__next__\u001B[39m\u001B[34m(self)\u001B[39m\n\u001B[32m    121\u001B[39m     \u001B[38;5;28;01mreturn\u001B[39;00m \u001B[38;5;28mself\u001B[39m.loader_batch_item()\n\u001B[32m    123\u001B[39m \u001B[38;5;66;03m# We're out of items within a batch\u001B[39;00m\n\u001B[32m--> \u001B[39m\u001B[32m124\u001B[39m item = \u001B[38;5;28;43mnext\u001B[39;49m\u001B[43m(\u001B[49m\u001B[38;5;28;43mself\u001B[39;49m\u001B[43m.\u001B[49m\u001B[43miterator\u001B[49m\u001B[43m)\u001B[49m\n\u001B[32m    125\u001B[39m processed = \u001B[38;5;28mself\u001B[39m.infer(item, **\u001B[38;5;28mself\u001B[39m.params)\n\u001B[32m    126\u001B[39m \u001B[38;5;66;03m# We now have a batch of \"inferred things\".\u001B[39;00m\n",
      "\u001B[36mFile \u001B[39m\u001B[32m~\\Desktop\\OSMI_Mental_Health\\venv\\Lib\\site-packages\\transformers\\pipelines\\pt_utils.py:124\u001B[39m, in \u001B[36mPipelineIterator.__next__\u001B[39m\u001B[34m(self)\u001B[39m\n\u001B[32m    121\u001B[39m     \u001B[38;5;28;01mreturn\u001B[39;00m \u001B[38;5;28mself\u001B[39m.loader_batch_item()\n\u001B[32m    123\u001B[39m \u001B[38;5;66;03m# We're out of items within a batch\u001B[39;00m\n\u001B[32m--> \u001B[39m\u001B[32m124\u001B[39m item = \u001B[38;5;28;43mnext\u001B[39;49m\u001B[43m(\u001B[49m\u001B[38;5;28;43mself\u001B[39;49m\u001B[43m.\u001B[49m\u001B[43miterator\u001B[49m\u001B[43m)\u001B[49m\n\u001B[32m    125\u001B[39m processed = \u001B[38;5;28mself\u001B[39m.infer(item, **\u001B[38;5;28mself\u001B[39m.params)\n\u001B[32m    126\u001B[39m \u001B[38;5;66;03m# We now have a batch of \"inferred things\".\u001B[39;00m\n",
      "\u001B[36mFile \u001B[39m\u001B[32m~\\Desktop\\OSMI_Mental_Health\\venv\\Lib\\site-packages\\torch\\utils\\data\\dataloader.py:733\u001B[39m, in \u001B[36m_BaseDataLoaderIter.__next__\u001B[39m\u001B[34m(self)\u001B[39m\n\u001B[32m    730\u001B[39m \u001B[38;5;28;01mif\u001B[39;00m \u001B[38;5;28mself\u001B[39m._sampler_iter \u001B[38;5;129;01mis\u001B[39;00m \u001B[38;5;28;01mNone\u001B[39;00m:\n\u001B[32m    731\u001B[39m     \u001B[38;5;66;03m# TODO(https://github.com/pytorch/pytorch/issues/76750)\u001B[39;00m\n\u001B[32m    732\u001B[39m     \u001B[38;5;28mself\u001B[39m._reset()  \u001B[38;5;66;03m# type: ignore[call-arg]\u001B[39;00m\n\u001B[32m--> \u001B[39m\u001B[32m733\u001B[39m data = \u001B[38;5;28;43mself\u001B[39;49m\u001B[43m.\u001B[49m\u001B[43m_next_data\u001B[49m\u001B[43m(\u001B[49m\u001B[43m)\u001B[49m\n\u001B[32m    734\u001B[39m \u001B[38;5;28mself\u001B[39m._num_yielded += \u001B[32m1\u001B[39m\n\u001B[32m    735\u001B[39m \u001B[38;5;28;01mif\u001B[39;00m (\n\u001B[32m    736\u001B[39m     \u001B[38;5;28mself\u001B[39m._dataset_kind == _DatasetKind.Iterable\n\u001B[32m    737\u001B[39m     \u001B[38;5;129;01mand\u001B[39;00m \u001B[38;5;28mself\u001B[39m._IterableDataset_len_called \u001B[38;5;129;01mis\u001B[39;00m \u001B[38;5;129;01mnot\u001B[39;00m \u001B[38;5;28;01mNone\u001B[39;00m\n\u001B[32m    738\u001B[39m     \u001B[38;5;129;01mand\u001B[39;00m \u001B[38;5;28mself\u001B[39m._num_yielded > \u001B[38;5;28mself\u001B[39m._IterableDataset_len_called\n\u001B[32m    739\u001B[39m ):\n",
      "\u001B[36mFile \u001B[39m\u001B[32m~\\Desktop\\OSMI_Mental_Health\\venv\\Lib\\site-packages\\torch\\utils\\data\\dataloader.py:789\u001B[39m, in \u001B[36m_SingleProcessDataLoaderIter._next_data\u001B[39m\u001B[34m(self)\u001B[39m\n\u001B[32m    787\u001B[39m \u001B[38;5;28;01mdef\u001B[39;00m\u001B[38;5;250m \u001B[39m\u001B[34m_next_data\u001B[39m(\u001B[38;5;28mself\u001B[39m):\n\u001B[32m    788\u001B[39m     index = \u001B[38;5;28mself\u001B[39m._next_index()  \u001B[38;5;66;03m# may raise StopIteration\u001B[39;00m\n\u001B[32m--> \u001B[39m\u001B[32m789\u001B[39m     data = \u001B[38;5;28;43mself\u001B[39;49m\u001B[43m.\u001B[49m\u001B[43m_dataset_fetcher\u001B[49m\u001B[43m.\u001B[49m\u001B[43mfetch\u001B[49m\u001B[43m(\u001B[49m\u001B[43mindex\u001B[49m\u001B[43m)\u001B[49m  \u001B[38;5;66;03m# may raise StopIteration\u001B[39;00m\n\u001B[32m    790\u001B[39m     \u001B[38;5;28;01mif\u001B[39;00m \u001B[38;5;28mself\u001B[39m._pin_memory:\n\u001B[32m    791\u001B[39m         data = _utils.pin_memory.pin_memory(data, \u001B[38;5;28mself\u001B[39m._pin_memory_device)\n",
      "\u001B[36mFile \u001B[39m\u001B[32m~\\Desktop\\OSMI_Mental_Health\\venv\\Lib\\site-packages\\torch\\utils\\data\\_utils\\fetch.py:52\u001B[39m, in \u001B[36m_MapDatasetFetcher.fetch\u001B[39m\u001B[34m(self, possibly_batched_index)\u001B[39m\n\u001B[32m     50\u001B[39m         data = \u001B[38;5;28mself\u001B[39m.dataset.__getitems__(possibly_batched_index)\n\u001B[32m     51\u001B[39m     \u001B[38;5;28;01melse\u001B[39;00m:\n\u001B[32m---> \u001B[39m\u001B[32m52\u001B[39m         data = [\u001B[38;5;28;43mself\u001B[39;49m\u001B[43m.\u001B[49m\u001B[43mdataset\u001B[49m\u001B[43m[\u001B[49m\u001B[43midx\u001B[49m\u001B[43m]\u001B[49m \u001B[38;5;28;01mfor\u001B[39;00m idx \u001B[38;5;129;01min\u001B[39;00m possibly_batched_index]\n\u001B[32m     53\u001B[39m \u001B[38;5;28;01melse\u001B[39;00m:\n\u001B[32m     54\u001B[39m     data = \u001B[38;5;28mself\u001B[39m.dataset[possibly_batched_index]\n",
      "\u001B[36mFile \u001B[39m\u001B[32m~\\Desktop\\OSMI_Mental_Health\\venv\\Lib\\site-packages\\transformers\\pipelines\\pt_utils.py:19\u001B[39m, in \u001B[36mPipelineDataset.__getitem__\u001B[39m\u001B[34m(self, i)\u001B[39m\n\u001B[32m     17\u001B[39m \u001B[38;5;28;01mdef\u001B[39;00m\u001B[38;5;250m \u001B[39m\u001B[34m__getitem__\u001B[39m(\u001B[38;5;28mself\u001B[39m, i):\n\u001B[32m     18\u001B[39m     item = \u001B[38;5;28mself\u001B[39m.dataset[i]\n\u001B[32m---> \u001B[39m\u001B[32m19\u001B[39m     processed = \u001B[38;5;28;43mself\u001B[39;49m\u001B[43m.\u001B[49m\u001B[43mprocess\u001B[49m\u001B[43m(\u001B[49m\u001B[43mitem\u001B[49m\u001B[43m,\u001B[49m\u001B[43m \u001B[49m\u001B[43m*\u001B[49m\u001B[43m*\u001B[49m\u001B[38;5;28;43mself\u001B[39;49m\u001B[43m.\u001B[49m\u001B[43mparams\u001B[49m\u001B[43m)\u001B[49m\n\u001B[32m     20\u001B[39m     \u001B[38;5;28;01mreturn\u001B[39;00m processed\n",
      "\u001B[36mFile \u001B[39m\u001B[32m~\\Desktop\\OSMI_Mental_Health\\venv\\Lib\\site-packages\\transformers\\pipelines\\feature_extraction.py:60\u001B[39m, in \u001B[36mFeatureExtractionPipeline.preprocess\u001B[39m\u001B[34m(self, inputs, **tokenize_kwargs)\u001B[39m\n\u001B[32m     59\u001B[39m \u001B[38;5;28;01mdef\u001B[39;00m\u001B[38;5;250m \u001B[39m\u001B[34mpreprocess\u001B[39m(\u001B[38;5;28mself\u001B[39m, inputs, **tokenize_kwargs) -> \u001B[38;5;28mdict\u001B[39m[\u001B[38;5;28mstr\u001B[39m, GenericTensor]:\n\u001B[32m---> \u001B[39m\u001B[32m60\u001B[39m     model_inputs = \u001B[38;5;28;43mself\u001B[39;49m\u001B[43m.\u001B[49m\u001B[43mtokenizer\u001B[49m\u001B[43m(\u001B[49m\u001B[43minputs\u001B[49m\u001B[43m,\u001B[49m\u001B[43m \u001B[49m\u001B[43mreturn_tensors\u001B[49m\u001B[43m=\u001B[49m\u001B[38;5;28;43mself\u001B[39;49m\u001B[43m.\u001B[49m\u001B[43mframework\u001B[49m\u001B[43m,\u001B[49m\u001B[43m \u001B[49m\u001B[43m*\u001B[49m\u001B[43m*\u001B[49m\u001B[43mtokenize_kwargs\u001B[49m\u001B[43m)\u001B[49m\n\u001B[32m     61\u001B[39m     \u001B[38;5;28;01mreturn\u001B[39;00m model_inputs\n",
      "\u001B[36mFile \u001B[39m\u001B[32m~\\Desktop\\OSMI_Mental_Health\\venv\\Lib\\site-packages\\transformers\\tokenization_utils_base.py:2855\u001B[39m, in \u001B[36mPreTrainedTokenizerBase.__call__\u001B[39m\u001B[34m(self, text, text_pair, text_target, text_pair_target, add_special_tokens, padding, truncation, max_length, stride, is_split_into_words, pad_to_multiple_of, padding_side, return_tensors, return_token_type_ids, return_attention_mask, return_overflowing_tokens, return_special_tokens_mask, return_offsets_mapping, return_length, verbose, **kwargs)\u001B[39m\n\u001B[32m   2853\u001B[39m     \u001B[38;5;28;01mif\u001B[39;00m \u001B[38;5;129;01mnot\u001B[39;00m \u001B[38;5;28mself\u001B[39m._in_target_context_manager:\n\u001B[32m   2854\u001B[39m         \u001B[38;5;28mself\u001B[39m._switch_to_input_mode()\n\u001B[32m-> \u001B[39m\u001B[32m2855\u001B[39m     encodings = \u001B[38;5;28;43mself\u001B[39;49m\u001B[43m.\u001B[49m\u001B[43m_call_one\u001B[49m\u001B[43m(\u001B[49m\u001B[43mtext\u001B[49m\u001B[43m=\u001B[49m\u001B[43mtext\u001B[49m\u001B[43m,\u001B[49m\u001B[43m \u001B[49m\u001B[43mtext_pair\u001B[49m\u001B[43m=\u001B[49m\u001B[43mtext_pair\u001B[49m\u001B[43m,\u001B[49m\u001B[43m \u001B[49m\u001B[43m*\u001B[49m\u001B[43m*\u001B[49m\u001B[43mall_kwargs\u001B[49m\u001B[43m)\u001B[49m\n\u001B[32m   2856\u001B[39m \u001B[38;5;28;01mif\u001B[39;00m text_target \u001B[38;5;129;01mis\u001B[39;00m \u001B[38;5;129;01mnot\u001B[39;00m \u001B[38;5;28;01mNone\u001B[39;00m:\n\u001B[32m   2857\u001B[39m     \u001B[38;5;28mself\u001B[39m._switch_to_target_mode()\n",
      "\u001B[36mFile \u001B[39m\u001B[32m~\\Desktop\\OSMI_Mental_Health\\venv\\Lib\\site-packages\\transformers\\tokenization_utils_base.py:2915\u001B[39m, in \u001B[36mPreTrainedTokenizerBase._call_one\u001B[39m\u001B[34m(self, text, text_pair, add_special_tokens, padding, truncation, max_length, stride, is_split_into_words, pad_to_multiple_of, padding_side, return_tensors, return_token_type_ids, return_attention_mask, return_overflowing_tokens, return_special_tokens_mask, return_offsets_mapping, return_length, verbose, split_special_tokens, **kwargs)\u001B[39m\n\u001B[32m   2912\u001B[39m         \u001B[38;5;28;01mreturn\u001B[39;00m \u001B[38;5;28;01mFalse\u001B[39;00m\n\u001B[32m   2914\u001B[39m \u001B[38;5;28;01mif\u001B[39;00m \u001B[38;5;129;01mnot\u001B[39;00m _is_valid_text_input(text):\n\u001B[32m-> \u001B[39m\u001B[32m2915\u001B[39m     \u001B[38;5;28;01mraise\u001B[39;00m \u001B[38;5;167;01mValueError\u001B[39;00m(\n\u001B[32m   2916\u001B[39m         \u001B[33m\"\u001B[39m\u001B[33mtext input must be of type `str` (single example), `list[str]` (batch or single pretokenized example) \u001B[39m\u001B[33m\"\u001B[39m\n\u001B[32m   2917\u001B[39m         \u001B[33m\"\u001B[39m\u001B[33mor `list[list[str]]` (batch of pretokenized examples).\u001B[39m\u001B[33m\"\u001B[39m\n\u001B[32m   2918\u001B[39m     )\n\u001B[32m   2920\u001B[39m \u001B[38;5;28;01mif\u001B[39;00m text_pair \u001B[38;5;129;01mis\u001B[39;00m \u001B[38;5;129;01mnot\u001B[39;00m \u001B[38;5;28;01mNone\u001B[39;00m \u001B[38;5;129;01mand\u001B[39;00m \u001B[38;5;129;01mnot\u001B[39;00m _is_valid_text_input(text_pair):\n\u001B[32m   2921\u001B[39m     \u001B[38;5;28;01mraise\u001B[39;00m \u001B[38;5;167;01mValueError\u001B[39;00m(\n\u001B[32m   2922\u001B[39m         \u001B[33m\"\u001B[39m\u001B[33mtext input must be of type `str` (single example), `list[str]` (batch or single pretokenized example) \u001B[39m\u001B[33m\"\u001B[39m\n\u001B[32m   2923\u001B[39m         \u001B[33m\"\u001B[39m\u001B[33mor `list[list[str]]` (batch of pretokenized examples).\u001B[39m\u001B[33m\"\u001B[39m\n\u001B[32m   2924\u001B[39m     )\n",
      "\u001B[31mValueError\u001B[39m: text input must be of type `str` (single example), `list[str]` (batch or single pretokenized example) or `list[list[str]]` (batch of pretokenized examples)."
     ]
    }
   ],
   "execution_count": 53
  },
  {
   "metadata": {
    "ExecuteTime": {
     "end_time": "2025-07-07T18:29:08.159541Z",
     "start_time": "2025-07-07T18:29:08.155495Z"
    }
   },
   "cell_type": "code",
   "source": "np.array(embeddings[0][0]).size",
   "id": "8d4ba5f1efe387f1",
   "outputs": [
    {
     "data": {
      "text/plain": [
       "384"
      ]
     },
     "execution_count": 51,
     "metadata": {},
     "output_type": "execute_result"
    }
   ],
   "execution_count": 51
  },
  {
   "metadata": {
    "ExecuteTime": {
     "end_time": "2025-07-07T19:35:18.859548Z",
     "start_time": "2025-07-07T19:35:18.855365Z"
    }
   },
   "cell_type": "code",
   "source": "df = pd.read_pickle(\"embedded_df.pkl\")",
   "id": "4186181c6651297a",
   "outputs": [],
   "execution_count": 4
  },
  {
   "metadata": {
    "ExecuteTime": {
     "end_time": "2025-07-07T19:35:30.755468Z",
     "start_time": "2025-07-07T19:35:20.422889Z"
    }
   },
   "cell_type": "code",
   "source": [
    "from umap import UMAP\n",
    "\n",
    "umap = UMAP(n_components=20,\n",
    "            n_neighbors=15,\n",
    "            min_dist=0.01,\n",
    "            metric=\"cosine\",\n",
    "            random_state=42\n",
    "            )\n",
    "\n",
    "embeddings_reduced = umap.fit_transform(df)"
   ],
   "id": "75de753ab4429c21",
   "outputs": [
    {
     "name": "stderr",
     "output_type": "stream",
     "text": [
      "C:\\Users\\achim\\Desktop\\OSMI_Mental_Health\\venv\\Lib\\site-packages\\umap\\umap_.py:1952: UserWarning: n_jobs value 1 overridden to 1 by setting random_state. Use no seed for parallelism.\n",
      "  warn(\n"
     ]
    }
   ],
   "execution_count": 5
  },
  {
   "metadata": {
    "ExecuteTime": {
     "end_time": "2025-07-07T19:36:49.590253Z",
     "start_time": "2025-07-07T19:36:49.575447Z"
    }
   },
   "cell_type": "code",
   "source": "pd.DataFrame(embeddings_reduced).tail(10)",
   "id": "dd0f2679d78e9ff3",
   "outputs": [
    {
     "data": {
      "text/plain": [
       "             0         1          2         3         4         5         6   \\\n",
       "1001  -5.885331 -2.458134  12.498726  8.452083  0.624113 -0.342873 -0.810754   \n",
       "1002  -5.334691 -2.780894  11.892725  8.558484  0.631256 -0.035866 -0.622096   \n",
       "1003  -6.356350 -2.993460  12.046243  8.229743  0.235586 -0.869686 -0.690790   \n",
       "1004  -5.657842 -2.359765  12.521283  8.498944  0.718241 -0.225443 -0.835094   \n",
       "1005  -5.948640 -2.104896  12.503705  8.273068  0.675605 -0.473251 -0.353901   \n",
       "1006  20.782804  4.273787   5.862801  7.149343  5.131350  1.303405  4.795760   \n",
       "1007  20.821882  4.208060   5.532084  7.105782  5.021220  1.457360  4.771316   \n",
       "1008  -5.858120 -3.011234  11.750479  8.174703  0.251932 -0.666926 -0.737224   \n",
       "1009  -6.151248 -0.483529  13.016492  8.322101  1.479982  0.078024  0.541187   \n",
       "1010  -4.851116 -0.018781  12.000163  7.909996  1.548786 -0.232445  1.453264   \n",
       "\n",
       "            7         8         9         10        11        12        13  \\\n",
       "1001  8.223490  5.138295  8.126019  5.520603  7.115495  5.418382  5.234456   \n",
       "1002  8.146992  5.160256  8.048045  5.450404  7.051339  5.251226  4.585941   \n",
       "1003  8.030947  5.549613  8.253297  4.817998  6.778785  5.245746  5.151895   \n",
       "1004  8.235729  5.036784  8.066155  5.656741  7.158628  5.447667  5.193591   \n",
       "1005  8.125721  5.462797  8.162793  5.356654  6.943123  5.237601  5.104367   \n",
       "1006  6.516902  3.925598  5.865599  7.565609  5.404445  7.184486  3.540267   \n",
       "1007  6.551763  4.046038  6.202112  7.654160  5.527157  7.166305  3.333836   \n",
       "1008  8.348554  5.173310  8.196588  5.280232  6.897420  5.685299  5.323799   \n",
       "1009  7.874074  6.048054  7.703960  5.903625  6.967148  4.743035  4.989789   \n",
       "1010  8.042638  6.343998  7.217369  6.526805  6.539337  5.460822  5.306953   \n",
       "\n",
       "            14        15        16        17        18        19  \n",
       "1001  3.527302  1.508443  2.011702  4.608512  6.241548  5.004623  \n",
       "1002  3.450990  1.763914  1.706929  5.108117  6.294127  4.805223  \n",
       "1003  3.909980  1.877777  1.164922  4.796104  5.836863  4.871923  \n",
       "1004  3.472574  1.424900  2.171010  4.586699  6.323878  5.010507  \n",
       "1005  3.825642  1.958257  1.588086  4.635153  5.851623  4.981418  \n",
       "1006  5.474432  3.280584  1.963402  6.156015  3.546131  6.142787  \n",
       "1007  5.377075  3.415147  1.797114  5.919675  3.668403  6.388700  \n",
       "1008  3.802688  1.750010  1.488292  4.842981  6.130026  5.132706  \n",
       "1009  3.845724  2.193888  1.925696  4.338795  5.185927  5.021033  \n",
       "1010  4.524753  2.787671  1.541703  4.126300  4.647806  5.459696  "
      ],
      "text/html": [
       "<div>\n",
       "<style scoped>\n",
       "    .dataframe tbody tr th:only-of-type {\n",
       "        vertical-align: middle;\n",
       "    }\n",
       "\n",
       "    .dataframe tbody tr th {\n",
       "        vertical-align: top;\n",
       "    }\n",
       "\n",
       "    .dataframe thead th {\n",
       "        text-align: right;\n",
       "    }\n",
       "</style>\n",
       "<table border=\"1\" class=\"dataframe\">\n",
       "  <thead>\n",
       "    <tr style=\"text-align: right;\">\n",
       "      <th></th>\n",
       "      <th>0</th>\n",
       "      <th>1</th>\n",
       "      <th>2</th>\n",
       "      <th>3</th>\n",
       "      <th>4</th>\n",
       "      <th>5</th>\n",
       "      <th>6</th>\n",
       "      <th>7</th>\n",
       "      <th>8</th>\n",
       "      <th>9</th>\n",
       "      <th>10</th>\n",
       "      <th>11</th>\n",
       "      <th>12</th>\n",
       "      <th>13</th>\n",
       "      <th>14</th>\n",
       "      <th>15</th>\n",
       "      <th>16</th>\n",
       "      <th>17</th>\n",
       "      <th>18</th>\n",
       "      <th>19</th>\n",
       "    </tr>\n",
       "  </thead>\n",
       "  <tbody>\n",
       "    <tr>\n",
       "      <th>1001</th>\n",
       "      <td>-5.885331</td>\n",
       "      <td>-2.458134</td>\n",
       "      <td>12.498726</td>\n",
       "      <td>8.452083</td>\n",
       "      <td>0.624113</td>\n",
       "      <td>-0.342873</td>\n",
       "      <td>-0.810754</td>\n",
       "      <td>8.223490</td>\n",
       "      <td>5.138295</td>\n",
       "      <td>8.126019</td>\n",
       "      <td>5.520603</td>\n",
       "      <td>7.115495</td>\n",
       "      <td>5.418382</td>\n",
       "      <td>5.234456</td>\n",
       "      <td>3.527302</td>\n",
       "      <td>1.508443</td>\n",
       "      <td>2.011702</td>\n",
       "      <td>4.608512</td>\n",
       "      <td>6.241548</td>\n",
       "      <td>5.004623</td>\n",
       "    </tr>\n",
       "    <tr>\n",
       "      <th>1002</th>\n",
       "      <td>-5.334691</td>\n",
       "      <td>-2.780894</td>\n",
       "      <td>11.892725</td>\n",
       "      <td>8.558484</td>\n",
       "      <td>0.631256</td>\n",
       "      <td>-0.035866</td>\n",
       "      <td>-0.622096</td>\n",
       "      <td>8.146992</td>\n",
       "      <td>5.160256</td>\n",
       "      <td>8.048045</td>\n",
       "      <td>5.450404</td>\n",
       "      <td>7.051339</td>\n",
       "      <td>5.251226</td>\n",
       "      <td>4.585941</td>\n",
       "      <td>3.450990</td>\n",
       "      <td>1.763914</td>\n",
       "      <td>1.706929</td>\n",
       "      <td>5.108117</td>\n",
       "      <td>6.294127</td>\n",
       "      <td>4.805223</td>\n",
       "    </tr>\n",
       "    <tr>\n",
       "      <th>1003</th>\n",
       "      <td>-6.356350</td>\n",
       "      <td>-2.993460</td>\n",
       "      <td>12.046243</td>\n",
       "      <td>8.229743</td>\n",
       "      <td>0.235586</td>\n",
       "      <td>-0.869686</td>\n",
       "      <td>-0.690790</td>\n",
       "      <td>8.030947</td>\n",
       "      <td>5.549613</td>\n",
       "      <td>8.253297</td>\n",
       "      <td>4.817998</td>\n",
       "      <td>6.778785</td>\n",
       "      <td>5.245746</td>\n",
       "      <td>5.151895</td>\n",
       "      <td>3.909980</td>\n",
       "      <td>1.877777</td>\n",
       "      <td>1.164922</td>\n",
       "      <td>4.796104</td>\n",
       "      <td>5.836863</td>\n",
       "      <td>4.871923</td>\n",
       "    </tr>\n",
       "    <tr>\n",
       "      <th>1004</th>\n",
       "      <td>-5.657842</td>\n",
       "      <td>-2.359765</td>\n",
       "      <td>12.521283</td>\n",
       "      <td>8.498944</td>\n",
       "      <td>0.718241</td>\n",
       "      <td>-0.225443</td>\n",
       "      <td>-0.835094</td>\n",
       "      <td>8.235729</td>\n",
       "      <td>5.036784</td>\n",
       "      <td>8.066155</td>\n",
       "      <td>5.656741</td>\n",
       "      <td>7.158628</td>\n",
       "      <td>5.447667</td>\n",
       "      <td>5.193591</td>\n",
       "      <td>3.472574</td>\n",
       "      <td>1.424900</td>\n",
       "      <td>2.171010</td>\n",
       "      <td>4.586699</td>\n",
       "      <td>6.323878</td>\n",
       "      <td>5.010507</td>\n",
       "    </tr>\n",
       "    <tr>\n",
       "      <th>1005</th>\n",
       "      <td>-5.948640</td>\n",
       "      <td>-2.104896</td>\n",
       "      <td>12.503705</td>\n",
       "      <td>8.273068</td>\n",
       "      <td>0.675605</td>\n",
       "      <td>-0.473251</td>\n",
       "      <td>-0.353901</td>\n",
       "      <td>8.125721</td>\n",
       "      <td>5.462797</td>\n",
       "      <td>8.162793</td>\n",
       "      <td>5.356654</td>\n",
       "      <td>6.943123</td>\n",
       "      <td>5.237601</td>\n",
       "      <td>5.104367</td>\n",
       "      <td>3.825642</td>\n",
       "      <td>1.958257</td>\n",
       "      <td>1.588086</td>\n",
       "      <td>4.635153</td>\n",
       "      <td>5.851623</td>\n",
       "      <td>4.981418</td>\n",
       "    </tr>\n",
       "    <tr>\n",
       "      <th>1006</th>\n",
       "      <td>20.782804</td>\n",
       "      <td>4.273787</td>\n",
       "      <td>5.862801</td>\n",
       "      <td>7.149343</td>\n",
       "      <td>5.131350</td>\n",
       "      <td>1.303405</td>\n",
       "      <td>4.795760</td>\n",
       "      <td>6.516902</td>\n",
       "      <td>3.925598</td>\n",
       "      <td>5.865599</td>\n",
       "      <td>7.565609</td>\n",
       "      <td>5.404445</td>\n",
       "      <td>7.184486</td>\n",
       "      <td>3.540267</td>\n",
       "      <td>5.474432</td>\n",
       "      <td>3.280584</td>\n",
       "      <td>1.963402</td>\n",
       "      <td>6.156015</td>\n",
       "      <td>3.546131</td>\n",
       "      <td>6.142787</td>\n",
       "    </tr>\n",
       "    <tr>\n",
       "      <th>1007</th>\n",
       "      <td>20.821882</td>\n",
       "      <td>4.208060</td>\n",
       "      <td>5.532084</td>\n",
       "      <td>7.105782</td>\n",
       "      <td>5.021220</td>\n",
       "      <td>1.457360</td>\n",
       "      <td>4.771316</td>\n",
       "      <td>6.551763</td>\n",
       "      <td>4.046038</td>\n",
       "      <td>6.202112</td>\n",
       "      <td>7.654160</td>\n",
       "      <td>5.527157</td>\n",
       "      <td>7.166305</td>\n",
       "      <td>3.333836</td>\n",
       "      <td>5.377075</td>\n",
       "      <td>3.415147</td>\n",
       "      <td>1.797114</td>\n",
       "      <td>5.919675</td>\n",
       "      <td>3.668403</td>\n",
       "      <td>6.388700</td>\n",
       "    </tr>\n",
       "    <tr>\n",
       "      <th>1008</th>\n",
       "      <td>-5.858120</td>\n",
       "      <td>-3.011234</td>\n",
       "      <td>11.750479</td>\n",
       "      <td>8.174703</td>\n",
       "      <td>0.251932</td>\n",
       "      <td>-0.666926</td>\n",
       "      <td>-0.737224</td>\n",
       "      <td>8.348554</td>\n",
       "      <td>5.173310</td>\n",
       "      <td>8.196588</td>\n",
       "      <td>5.280232</td>\n",
       "      <td>6.897420</td>\n",
       "      <td>5.685299</td>\n",
       "      <td>5.323799</td>\n",
       "      <td>3.802688</td>\n",
       "      <td>1.750010</td>\n",
       "      <td>1.488292</td>\n",
       "      <td>4.842981</td>\n",
       "      <td>6.130026</td>\n",
       "      <td>5.132706</td>\n",
       "    </tr>\n",
       "    <tr>\n",
       "      <th>1009</th>\n",
       "      <td>-6.151248</td>\n",
       "      <td>-0.483529</td>\n",
       "      <td>13.016492</td>\n",
       "      <td>8.322101</td>\n",
       "      <td>1.479982</td>\n",
       "      <td>0.078024</td>\n",
       "      <td>0.541187</td>\n",
       "      <td>7.874074</td>\n",
       "      <td>6.048054</td>\n",
       "      <td>7.703960</td>\n",
       "      <td>5.903625</td>\n",
       "      <td>6.967148</td>\n",
       "      <td>4.743035</td>\n",
       "      <td>4.989789</td>\n",
       "      <td>3.845724</td>\n",
       "      <td>2.193888</td>\n",
       "      <td>1.925696</td>\n",
       "      <td>4.338795</td>\n",
       "      <td>5.185927</td>\n",
       "      <td>5.021033</td>\n",
       "    </tr>\n",
       "    <tr>\n",
       "      <th>1010</th>\n",
       "      <td>-4.851116</td>\n",
       "      <td>-0.018781</td>\n",
       "      <td>12.000163</td>\n",
       "      <td>7.909996</td>\n",
       "      <td>1.548786</td>\n",
       "      <td>-0.232445</td>\n",
       "      <td>1.453264</td>\n",
       "      <td>8.042638</td>\n",
       "      <td>6.343998</td>\n",
       "      <td>7.217369</td>\n",
       "      <td>6.526805</td>\n",
       "      <td>6.539337</td>\n",
       "      <td>5.460822</td>\n",
       "      <td>5.306953</td>\n",
       "      <td>4.524753</td>\n",
       "      <td>2.787671</td>\n",
       "      <td>1.541703</td>\n",
       "      <td>4.126300</td>\n",
       "      <td>4.647806</td>\n",
       "      <td>5.459696</td>\n",
       "    </tr>\n",
       "  </tbody>\n",
       "</table>\n",
       "</div>"
      ]
     },
     "execution_count": 7,
     "metadata": {},
     "output_type": "execute_result"
    }
   ],
   "execution_count": 7
  },
  {
   "metadata": {
    "ExecuteTime": {
     "end_time": "2025-07-08T08:09:28.935707Z",
     "start_time": "2025-07-08T08:09:18.519528Z"
    }
   },
   "cell_type": "code",
   "source": [
    "from sklearn.manifold import trustworthiness\n",
    "\n",
    "n_components_list = [2, 5, 10, 20, 50]\n",
    "trust_scores = []\n",
    "\n",
    "for n in n_components_list:\n",
    "    umap = UMAP(n_components=n,\n",
    "            n_neighbors=15,\n",
    "            min_dist=0.01,\n",
    "            metric=\"cosine\",\n",
    "            random_state=42\n",
    "            )\n",
    "\n",
    "    embeddings_reduced = umap.fit_transform(df)\n",
    "\n",
    "    score = trustworthiness(df, embeddings_reduced, n_neighbors=5, metric=\"cosine\")\n",
    "    trust_scores.append(score)\n",
    "\n",
    "optimal_n = n_components_list[np.argmax(trust_scores)]"
   ],
   "id": "cdbae1240b39266d",
   "outputs": [
    {
     "name": "stderr",
     "output_type": "stream",
     "text": [
      "C:\\Users\\achim\\Desktop\\OSMI_Mental_Health\\venv\\Lib\\site-packages\\umap\\umap_.py:1952: UserWarning: n_jobs value 1 overridden to 1 by setting random_state. Use no seed for parallelism.\n",
      "  warn(\n",
      "C:\\Users\\achim\\Desktop\\OSMI_Mental_Health\\venv\\Lib\\site-packages\\umap\\umap_.py:1952: UserWarning: n_jobs value 1 overridden to 1 by setting random_state. Use no seed for parallelism.\n",
      "  warn(\n",
      "C:\\Users\\achim\\Desktop\\OSMI_Mental_Health\\venv\\Lib\\site-packages\\umap\\umap_.py:1952: UserWarning: n_jobs value 1 overridden to 1 by setting random_state. Use no seed for parallelism.\n",
      "  warn(\n",
      "C:\\Users\\achim\\Desktop\\OSMI_Mental_Health\\venv\\Lib\\site-packages\\umap\\umap_.py:1952: UserWarning: n_jobs value 1 overridden to 1 by setting random_state. Use no seed for parallelism.\n",
      "  warn(\n",
      "C:\\Users\\achim\\Desktop\\OSMI_Mental_Health\\venv\\Lib\\site-packages\\umap\\umap_.py:1952: UserWarning: n_jobs value 1 overridden to 1 by setting random_state. Use no seed for parallelism.\n",
      "  warn(\n"
     ]
    }
   ],
   "execution_count": 63
  },
  {
   "metadata": {},
   "cell_type": "code",
   "source": [
    "import seaborn as sns\n",
    "\n",
    "sns.lineplot(x=n_components_list, y=trust_scores, linewidth=2)\n",
    "plt.plot(10, trust_scores[2], marker=\"x\", color=\"red\", markersize=10, markeredgewidth=1.5, label=\"Optimaler Wert\")\n",
    "plt.plot(5, trust_scores[1], marker=\"x\", color=\"green\", markersize=10, markeredgewidth=1.5, label=\"Ausreichender Wert\")\n",
    "plt.xlabel(\"n_components\")\n",
    "plt.ylabel(\"Trust-Scores\")\n",
    "plt.legend()\n",
    "plt.title(\"Trust-Scores nach UMAP-Reduktion\")\n",
    "\n",
    "plt.savefig(\"../Plots/Trust_Scores_UMAP_Why_or_why_not.png\", dpi=300)"
   ],
   "id": "f6e429739c66a1e9",
   "outputs": [],
   "execution_count": null
  },
  {
   "metadata": {
    "ExecuteTime": {
     "end_time": "2025-07-07T19:54:01.799659Z",
     "start_time": "2025-07-07T19:54:01.593977Z"
    }
   },
   "cell_type": "code",
   "source": [
    "from kneed import KneeLocator\n",
    "\n",
    "k1 = KneeLocator(n_components_list, trust_scores, curve=\"concave\", direction=\"increasing\")\n",
    "optimal_n_knee = k1.elbow"
   ],
   "id": "3f30e8434ccd9519",
   "outputs": [],
   "execution_count": 27
  },
  {
   "metadata": {
    "ExecuteTime": {
     "end_time": "2025-07-07T21:39:40.066954Z",
     "start_time": "2025-07-07T21:39:40.054474Z"
    }
   },
   "cell_type": "code",
   "source": "df = pd.read_pickle(\"reduced_df.pkl\")",
   "id": "27c6f5709c998346",
   "outputs": [],
   "execution_count": 38
  },
  {
   "metadata": {},
   "cell_type": "code",
   "outputs": [],
   "execution_count": null,
   "source": "",
   "id": "f3cb989956d4d0b4"
  },
  {
   "metadata": {},
   "cell_type": "code",
   "source": [
    "# KMeans-Hyperparameter-Testing\n",
    "from sklearn.cluster import KMeans\n",
    "from sklearn.metrics import silhouette_score\n",
    "\n",
    "X = df.to_numpy()\n",
    "\n",
    "n_clusters_list = list(range(2, 20))\n",
    "\n",
    "scores = []\n",
    "for n in n_clusters_list:\n",
    "    kmeans = KMeans(n_clusters=n, random_state=42).fit(X)\n",
    "\n",
    "    score = silhouette_score(X, kmeans.labels_, metric=\"cosine\")\n",
    "    scores.append(score)\n",
    "\n",
    "sns.set_theme()\n",
    "plt.plot(n_clusters_list, scores, 'bo-', linewidth=2, markersize=8)\n",
    "plt.plot(2, scores[0], marker=\"x\", color=\"red\", markersize=10, markeredgewidth=1.5, label=\"Bester Wert (k=2)\")\n",
    "plt.xticks(n_clusters_list)\n",
    "plt.xlabel(\"Anzahl der Cluster (k)\")\n",
    "plt.ylabel(\"Silhouetten-Score\")\n",
    "plt.title(\"Optimales k basierend auf dem Silhouetten-Score\", fontweight='bold')\n",
    "plt.legend()\n",
    "plt.grid(True)\n",
    "plt.show()\n",
    "# plt.savefig(\"../Plots/kmeans_clustering_embeddings_silhoutte.png\", dpi=300)"
   ],
   "id": "5839ab192235caeb",
   "outputs": [],
   "execution_count": null
  },
  {
   "metadata": {
    "ExecuteTime": {
     "end_time": "2025-07-07T21:50:24.093828Z",
     "start_time": "2025-07-07T21:50:24.091010Z"
    }
   },
   "cell_type": "code",
   "source": "labels = kmeans.labels_",
   "id": "be68bc7a7d128252",
   "outputs": [],
   "execution_count": 48
  },
  {
   "metadata": {
    "ExecuteTime": {
     "end_time": "2025-07-07T21:50:26.419759Z",
     "start_time": "2025-07-07T21:50:26.416030Z"
    }
   },
   "cell_type": "code",
   "source": "labels",
   "id": "c9e08a95de926e00",
   "outputs": [
    {
     "data": {
      "text/plain": [
       "array([13,  9, 16, ..., 18, 11, 10], shape=(1011,), dtype=int32)"
      ]
     },
     "execution_count": 49,
     "metadata": {},
     "output_type": "execute_result"
    }
   ],
   "execution_count": 49
  },
  {
   "metadata": {
    "ExecuteTime": {
     "end_time": "2025-07-07T22:03:21.014967Z",
     "start_time": "2025-07-07T22:03:21.011091Z"
    }
   },
   "cell_type": "code",
   "source": "tt = pd.read_pickle(\"data_rdy_to_concat/Why_or_why_not1_sentiment.pkl\")",
   "id": "8dfcd1e4c1af7071",
   "outputs": [],
   "execution_count": 56
  },
  {
   "metadata": {
    "ExecuteTime": {
     "end_time": "2025-07-07T22:03:38.899997Z",
     "start_time": "2025-07-07T22:03:38.895667Z"
    }
   },
   "cell_type": "code",
   "source": "tt.value_counts(dropna=False)",
   "id": "87006d38f1ccdb52",
   "outputs": [
    {
     "data": {
      "text/plain": [
       "Why or why not?.1\n",
       "1    509\n",
       "0    492\n",
       "2     10\n",
       "Name: count, dtype: int64"
      ]
     },
     "execution_count": 58,
     "metadata": {},
     "output_type": "execute_result"
    }
   ],
   "execution_count": 58
  },
  {
   "metadata": {
    "ExecuteTime": {
     "end_time": "2025-07-07T22:03:59.282205Z",
     "start_time": "2025-07-07T22:03:59.278334Z"
    }
   },
   "cell_type": "code",
   "source": "type(tt)",
   "id": "d19aa29e7b5cac0d",
   "outputs": [
    {
     "data": {
      "text/plain": [
       "pandas.core.series.Series"
      ]
     },
     "execution_count": 59,
     "metadata": {},
     "output_type": "execute_result"
    }
   ],
   "execution_count": 59
  },
  {
   "metadata": {
    "ExecuteTime": {
     "end_time": "2025-07-07T22:06:39.475533Z",
     "start_time": "2025-07-07T22:06:39.471818Z"
    }
   },
   "cell_type": "code",
   "source": "aa = pd.read_pickle(\"data_rdy_to_concat/Why_or_why_not_1_cluster_labels.pkl\")",
   "id": "fef8694ef0ca69f8",
   "outputs": [],
   "execution_count": 60
  },
  {
   "metadata": {
    "ExecuteTime": {
     "end_time": "2025-07-07T22:06:52.729873Z",
     "start_time": "2025-07-07T22:06:52.724655Z"
    }
   },
   "cell_type": "code",
   "source": "aa.value_counts(dropna=False)",
   "id": "6cd141743d3e46ec",
   "outputs": [
    {
     "data": {
      "text/plain": [
       "Text Cluster\n",
       "0    818\n",
       "1    193\n",
       "Name: count, dtype: int64"
      ]
     },
     "execution_count": 61,
     "metadata": {},
     "output_type": "execute_result"
    }
   ],
   "execution_count": 61
  },
  {
   "metadata": {
    "ExecuteTime": {
     "end_time": "2025-07-08T09:44:43.529446Z",
     "start_time": "2025-07-08T09:44:43.524627Z"
    }
   },
   "cell_type": "code",
   "source": [
    "col = \"If yes, what condition(s) have you been diagnosed with?\"\n",
    "ser = pd.read_pickle(r\"C:\\Users\\achim\\Desktop\\OSMI_Mental_Health\\data\\edited\\df_alle_OHE_und_OE_Fragen.pkl\")[col]"
   ],
   "id": "2b76fa5d1ef71171",
   "outputs": [],
   "execution_count": 95
  },
  {
   "metadata": {
    "ExecuteTime": {
     "end_time": "2025-07-08T09:44:47.622534Z",
     "start_time": "2025-07-08T09:44:47.615535Z"
    }
   },
   "cell_type": "code",
   "source": "df.value_counts(dropna=False)",
   "id": "ee583ae6cce64945",
   "outputs": [
    {
     "data": {
      "text/plain": [
       "If yes, what condition(s) have you been diagnosed with?\n",
       "other                                                      632\n",
       "Anxiety Disorder                                           258\n",
       "Mood Disorder                                              122\n",
       "Name: count, dtype: int64"
      ]
     },
     "execution_count": 96,
     "metadata": {},
     "output_type": "execute_result"
    }
   ],
   "execution_count": 96
  },
  {
   "metadata": {
    "ExecuteTime": {
     "end_time": "2025-07-08T09:22:57.406655Z",
     "start_time": "2025-07-08T09:22:57.402282Z"
    }
   },
   "cell_type": "code",
   "source": "ser = ser.apply(lambda x: \"Anxiety Disorder\" if \"anxiety disorder\" in str(x).lower() else \"Mood Disorder\" if \"mood disorder\" in str(x).lower() else \"Attention Deficit\" if \"attention deficit\" in str(x).lower() else \"other\")",
   "id": "e2e7afbc86ea8d32",
   "outputs": [],
   "execution_count": 77
  },
  {
   "metadata": {
    "ExecuteTime": {
     "end_time": "2025-07-08T09:26:17.274144Z",
     "start_time": "2025-07-08T09:26:17.269249Z"
    }
   },
   "cell_type": "code",
   "source": "ser.value_counts(dropna=False)",
   "id": "48c941b6d474a93f",
   "outputs": [
    {
     "data": {
      "text/plain": [
       "If yes, what condition(s) have you been diagnosed with?\n",
       "other                614\n",
       "Anxiety Disorder     258\n",
       "Mood Disorder        122\n",
       "Attention Deficit     18\n",
       "Name: count, dtype: int64"
      ]
     },
     "execution_count": 80,
     "metadata": {},
     "output_type": "execute_result"
    }
   ],
   "execution_count": 80
  },
  {
   "metadata": {
    "ExecuteTime": {
     "end_time": "2025-07-08T09:28:34.224253Z",
     "start_time": "2025-07-08T09:28:34.220537Z"
    }
   },
   "cell_type": "code",
   "source": "ser = ser.replace(\"Attention Deficit\", \"other\")",
   "id": "f1fbff27e1770d01",
   "outputs": [],
   "execution_count": 83
  },
  {
   "metadata": {
    "ExecuteTime": {
     "end_time": "2025-07-08T09:28:35.322819Z",
     "start_time": "2025-07-08T09:28:35.317520Z"
    }
   },
   "cell_type": "code",
   "source": "ser.value_counts(dropna=False)",
   "id": "b6897ff4eed87682",
   "outputs": [
    {
     "data": {
      "text/plain": [
       "If yes, what condition(s) have you been diagnosed with?\n",
       "other               632\n",
       "Anxiety Disorder    258\n",
       "Mood Disorder       122\n",
       "Name: count, dtype: int64"
      ]
     },
     "execution_count": 84,
     "metadata": {},
     "output_type": "execute_result"
    }
   ],
   "execution_count": 84
  },
  {
   "metadata": {
    "ExecuteTime": {
     "end_time": "2025-07-08T09:38:14.733092Z",
     "start_time": "2025-07-08T09:38:14.729321Z"
    }
   },
   "cell_type": "code",
   "source": "df = pd.DataFrame(ser, index=ser.index)",
   "id": "fb69ef87046f5f7d",
   "outputs": [],
   "execution_count": 86
  },
  {
   "metadata": {
    "ExecuteTime": {
     "end_time": "2025-07-08T09:39:57.159275Z",
     "start_time": "2025-07-08T09:39:57.155906Z"
    }
   },
   "cell_type": "code",
   "source": "col_53 = \"If yes, what condition(s) have you been diagnosed with?\"",
   "id": "ffb3c01c338b26b1",
   "outputs": [],
   "execution_count": 88
  },
  {
   "metadata": {
    "ExecuteTime": {
     "end_time": "2025-07-08T09:45:29.476020Z",
     "start_time": "2025-07-08T09:45:29.376539Z"
    }
   },
   "cell_type": "code",
   "source": [
    "from sklearn.preprocessing import OneHotEncoder\n",
    "\n",
    "ohe_col_53 = OneHotEncoder(sparse_output=False)\n",
    "encoded_data_col_53 = ohe_col_53.fit_transform(df)\n",
    "\n",
    "categories = ohe_col_53.categories_\n",
    "new_cols_53 = [f\"{col_53}_{cat}\" for cat in categories]\n",
    "\n",
    "col_53_df = pd.DataFrame(encoded_data_col_53, columns=new_cols_53, index=df.index)"
   ],
   "id": "dbe4da9b9e36778a",
   "outputs": [
    {
     "ename": "ValueError",
     "evalue": "Shape of passed values is (1012, 3), indices imply (1012, 1)",
     "output_type": "error",
     "traceback": [
      "\u001B[31m---------------------------------------------------------------------------\u001B[39m",
      "\u001B[31mValueError\u001B[39m                                Traceback (most recent call last)",
      "\u001B[36mCell\u001B[39m\u001B[36m \u001B[39m\u001B[32mIn[97]\u001B[39m\u001B[32m, line 9\u001B[39m\n\u001B[32m      6\u001B[39m categories = ohe_col_53.categories_\n\u001B[32m      7\u001B[39m new_cols_53 = [\u001B[33mf\u001B[39m\u001B[33m\"\u001B[39m\u001B[38;5;132;01m{\u001B[39;00mcol_53\u001B[38;5;132;01m}\u001B[39;00m\u001B[33m_\u001B[39m\u001B[38;5;132;01m{\u001B[39;00mcat\u001B[38;5;132;01m}\u001B[39;00m\u001B[33m\"\u001B[39m \u001B[38;5;28;01mfor\u001B[39;00m cat \u001B[38;5;129;01min\u001B[39;00m categories]\n\u001B[32m----> \u001B[39m\u001B[32m9\u001B[39m col_53_df = \u001B[43mpd\u001B[49m\u001B[43m.\u001B[49m\u001B[43mDataFrame\u001B[49m\u001B[43m(\u001B[49m\u001B[43mencoded_data_col_53\u001B[49m\u001B[43m,\u001B[49m\u001B[43m \u001B[49m\u001B[43mcolumns\u001B[49m\u001B[43m=\u001B[49m\u001B[43mnew_cols_53\u001B[49m\u001B[43m,\u001B[49m\u001B[43m \u001B[49m\u001B[43mindex\u001B[49m\u001B[43m=\u001B[49m\u001B[43mdf\u001B[49m\u001B[43m.\u001B[49m\u001B[43mindex\u001B[49m\u001B[43m)\u001B[49m\n",
      "\u001B[36mFile \u001B[39m\u001B[32m~\\Desktop\\OSMI_Mental_Health\\venv\\Lib\\site-packages\\pandas\\core\\frame.py:827\u001B[39m, in \u001B[36mDataFrame.__init__\u001B[39m\u001B[34m(self, data, index, columns, dtype, copy)\u001B[39m\n\u001B[32m    816\u001B[39m         mgr = dict_to_mgr(\n\u001B[32m    817\u001B[39m             \u001B[38;5;66;03m# error: Item \"ndarray\" of \"Union[ndarray, Series, Index]\" has no\u001B[39;00m\n\u001B[32m    818\u001B[39m             \u001B[38;5;66;03m# attribute \"name\"\u001B[39;00m\n\u001B[32m   (...)\u001B[39m\u001B[32m    824\u001B[39m             copy=_copy,\n\u001B[32m    825\u001B[39m         )\n\u001B[32m    826\u001B[39m     \u001B[38;5;28;01melse\u001B[39;00m:\n\u001B[32m--> \u001B[39m\u001B[32m827\u001B[39m         mgr = \u001B[43mndarray_to_mgr\u001B[49m\u001B[43m(\u001B[49m\n\u001B[32m    828\u001B[39m \u001B[43m            \u001B[49m\u001B[43mdata\u001B[49m\u001B[43m,\u001B[49m\n\u001B[32m    829\u001B[39m \u001B[43m            \u001B[49m\u001B[43mindex\u001B[49m\u001B[43m,\u001B[49m\n\u001B[32m    830\u001B[39m \u001B[43m            \u001B[49m\u001B[43mcolumns\u001B[49m\u001B[43m,\u001B[49m\n\u001B[32m    831\u001B[39m \u001B[43m            \u001B[49m\u001B[43mdtype\u001B[49m\u001B[43m=\u001B[49m\u001B[43mdtype\u001B[49m\u001B[43m,\u001B[49m\n\u001B[32m    832\u001B[39m \u001B[43m            \u001B[49m\u001B[43mcopy\u001B[49m\u001B[43m=\u001B[49m\u001B[43mcopy\u001B[49m\u001B[43m,\u001B[49m\n\u001B[32m    833\u001B[39m \u001B[43m            \u001B[49m\u001B[43mtyp\u001B[49m\u001B[43m=\u001B[49m\u001B[43mmanager\u001B[49m\u001B[43m,\u001B[49m\n\u001B[32m    834\u001B[39m \u001B[43m        \u001B[49m\u001B[43m)\u001B[49m\n\u001B[32m    836\u001B[39m \u001B[38;5;66;03m# For data is list-like, or Iterable (will consume into list)\u001B[39;00m\n\u001B[32m    837\u001B[39m \u001B[38;5;28;01melif\u001B[39;00m is_list_like(data):\n",
      "\u001B[36mFile \u001B[39m\u001B[32m~\\Desktop\\OSMI_Mental_Health\\venv\\Lib\\site-packages\\pandas\\core\\internals\\construction.py:336\u001B[39m, in \u001B[36mndarray_to_mgr\u001B[39m\u001B[34m(values, index, columns, dtype, copy, typ)\u001B[39m\n\u001B[32m    331\u001B[39m \u001B[38;5;66;03m# _prep_ndarraylike ensures that values.ndim == 2 at this point\u001B[39;00m\n\u001B[32m    332\u001B[39m index, columns = _get_axes(\n\u001B[32m    333\u001B[39m     values.shape[\u001B[32m0\u001B[39m], values.shape[\u001B[32m1\u001B[39m], index=index, columns=columns\n\u001B[32m    334\u001B[39m )\n\u001B[32m--> \u001B[39m\u001B[32m336\u001B[39m \u001B[43m_check_values_indices_shape_match\u001B[49m\u001B[43m(\u001B[49m\u001B[43mvalues\u001B[49m\u001B[43m,\u001B[49m\u001B[43m \u001B[49m\u001B[43mindex\u001B[49m\u001B[43m,\u001B[49m\u001B[43m \u001B[49m\u001B[43mcolumns\u001B[49m\u001B[43m)\u001B[49m\n\u001B[32m    338\u001B[39m \u001B[38;5;28;01mif\u001B[39;00m typ == \u001B[33m\"\u001B[39m\u001B[33marray\u001B[39m\u001B[33m\"\u001B[39m:\n\u001B[32m    339\u001B[39m     \u001B[38;5;28;01mif\u001B[39;00m \u001B[38;5;28missubclass\u001B[39m(values.dtype.type, \u001B[38;5;28mstr\u001B[39m):\n",
      "\u001B[36mFile \u001B[39m\u001B[32m~\\Desktop\\OSMI_Mental_Health\\venv\\Lib\\site-packages\\pandas\\core\\internals\\construction.py:420\u001B[39m, in \u001B[36m_check_values_indices_shape_match\u001B[39m\u001B[34m(values, index, columns)\u001B[39m\n\u001B[32m    418\u001B[39m passed = values.shape\n\u001B[32m    419\u001B[39m implied = (\u001B[38;5;28mlen\u001B[39m(index), \u001B[38;5;28mlen\u001B[39m(columns))\n\u001B[32m--> \u001B[39m\u001B[32m420\u001B[39m \u001B[38;5;28;01mraise\u001B[39;00m \u001B[38;5;167;01mValueError\u001B[39;00m(\u001B[33mf\u001B[39m\u001B[33m\"\u001B[39m\u001B[33mShape of passed values is \u001B[39m\u001B[38;5;132;01m{\u001B[39;00mpassed\u001B[38;5;132;01m}\u001B[39;00m\u001B[33m, indices imply \u001B[39m\u001B[38;5;132;01m{\u001B[39;00mimplied\u001B[38;5;132;01m}\u001B[39;00m\u001B[33m\"\u001B[39m)\n",
      "\u001B[31mValueError\u001B[39m: Shape of passed values is (1012, 3), indices imply (1012, 1)"
     ]
    }
   ],
   "execution_count": 97
  },
  {
   "metadata": {
    "ExecuteTime": {
     "end_time": "2025-07-08T09:43:33.317539Z",
     "start_time": "2025-07-08T09:43:33.306874Z"
    }
   },
   "cell_type": "code",
   "source": [
    "col = \"If yes, what condition(s) have you been diagnosed with?\"\n",
    "df1 = pd.read_pickle(r\"C:\\Users\\achim\\Desktop\\OSMI_Mental_Health\\data\\edited\\df_alle_OHE_und_OE_Fragen.pkl\")\n",
    "\n",
    "df1 = df1.drop(columns=[col])\n",
    "df1 = pd.concat([df1, col_53_df], axis=1)"
   ],
   "id": "716dd8c108da1d26",
   "outputs": [],
   "execution_count": 90
  },
  {
   "metadata": {
    "ExecuteTime": {
     "end_time": "2025-07-08T09:43:38.044268Z",
     "start_time": "2025-07-08T09:43:38.033855Z"
    }
   },
   "cell_type": "code",
   "source": "df1.index",
   "id": "f13fb2091af1809d",
   "outputs": [
    {
     "data": {
      "text/plain": [
       "Index([                  1,                   2,                   4,\n",
       "                         5,                   6,                   7,\n",
       "                         8,                  10,                  11,\n",
       "                        12,\n",
       "       ...\n",
       "                      1419,                1421,                1422,\n",
       "                      1424,                1425,                1426,\n",
       "                      1427,                1430,                1431,\n",
       "       'Attention Deficit'],\n",
       "      dtype='object', length=1012)"
      ]
     },
     "execution_count": 91,
     "metadata": {},
     "output_type": "execute_result"
    }
   ],
   "execution_count": 91
  },
  {
   "metadata": {
    "ExecuteTime": {
     "end_time": "2025-07-08T09:43:44.470608Z",
     "start_time": "2025-07-08T09:43:44.138919Z"
    }
   },
   "cell_type": "code",
   "source": "df1[col]",
   "id": "a035e05e172ac522",
   "outputs": [
    {
     "ename": "KeyError",
     "evalue": "'If yes, what condition(s) have you been diagnosed with?'",
     "output_type": "error",
     "traceback": [
      "\u001B[31m---------------------------------------------------------------------------\u001B[39m",
      "\u001B[31mKeyError\u001B[39m                                  Traceback (most recent call last)",
      "\u001B[36mFile \u001B[39m\u001B[32m~\\Desktop\\OSMI_Mental_Health\\venv\\Lib\\site-packages\\pandas\\core\\indexes\\base.py:3812\u001B[39m, in \u001B[36mIndex.get_loc\u001B[39m\u001B[34m(self, key)\u001B[39m\n\u001B[32m   3811\u001B[39m \u001B[38;5;28;01mtry\u001B[39;00m:\n\u001B[32m-> \u001B[39m\u001B[32m3812\u001B[39m     \u001B[38;5;28;01mreturn\u001B[39;00m \u001B[38;5;28;43mself\u001B[39;49m\u001B[43m.\u001B[49m\u001B[43m_engine\u001B[49m\u001B[43m.\u001B[49m\u001B[43mget_loc\u001B[49m\u001B[43m(\u001B[49m\u001B[43mcasted_key\u001B[49m\u001B[43m)\u001B[49m\n\u001B[32m   3813\u001B[39m \u001B[38;5;28;01mexcept\u001B[39;00m \u001B[38;5;167;01mKeyError\u001B[39;00m \u001B[38;5;28;01mas\u001B[39;00m err:\n",
      "\u001B[36mFile \u001B[39m\u001B[32mpandas/_libs/index.pyx:167\u001B[39m, in \u001B[36mpandas._libs.index.IndexEngine.get_loc\u001B[39m\u001B[34m()\u001B[39m\n",
      "\u001B[36mFile \u001B[39m\u001B[32mpandas/_libs/index.pyx:196\u001B[39m, in \u001B[36mpandas._libs.index.IndexEngine.get_loc\u001B[39m\u001B[34m()\u001B[39m\n",
      "\u001B[36mFile \u001B[39m\u001B[32mpandas/_libs/hashtable_class_helper.pxi:7088\u001B[39m, in \u001B[36mpandas._libs.hashtable.PyObjectHashTable.get_item\u001B[39m\u001B[34m()\u001B[39m\n",
      "\u001B[36mFile \u001B[39m\u001B[32mpandas/_libs/hashtable_class_helper.pxi:7096\u001B[39m, in \u001B[36mpandas._libs.hashtable.PyObjectHashTable.get_item\u001B[39m\u001B[34m()\u001B[39m\n",
      "\u001B[31mKeyError\u001B[39m: 'If yes, what condition(s) have you been diagnosed with?'",
      "\nThe above exception was the direct cause of the following exception:\n",
      "\u001B[31mKeyError\u001B[39m                                  Traceback (most recent call last)",
      "\u001B[36mCell\u001B[39m\u001B[36m \u001B[39m\u001B[32mIn[92]\u001B[39m\u001B[32m, line 1\u001B[39m\n\u001B[32m----> \u001B[39m\u001B[32m1\u001B[39m \u001B[43mdf1\u001B[49m\u001B[43m[\u001B[49m\u001B[43mcol\u001B[49m\u001B[43m]\u001B[49m\n",
      "\u001B[36mFile \u001B[39m\u001B[32m~\\Desktop\\OSMI_Mental_Health\\venv\\Lib\\site-packages\\pandas\\core\\frame.py:4107\u001B[39m, in \u001B[36mDataFrame.__getitem__\u001B[39m\u001B[34m(self, key)\u001B[39m\n\u001B[32m   4105\u001B[39m \u001B[38;5;28;01mif\u001B[39;00m \u001B[38;5;28mself\u001B[39m.columns.nlevels > \u001B[32m1\u001B[39m:\n\u001B[32m   4106\u001B[39m     \u001B[38;5;28;01mreturn\u001B[39;00m \u001B[38;5;28mself\u001B[39m._getitem_multilevel(key)\n\u001B[32m-> \u001B[39m\u001B[32m4107\u001B[39m indexer = \u001B[38;5;28;43mself\u001B[39;49m\u001B[43m.\u001B[49m\u001B[43mcolumns\u001B[49m\u001B[43m.\u001B[49m\u001B[43mget_loc\u001B[49m\u001B[43m(\u001B[49m\u001B[43mkey\u001B[49m\u001B[43m)\u001B[49m\n\u001B[32m   4108\u001B[39m \u001B[38;5;28;01mif\u001B[39;00m is_integer(indexer):\n\u001B[32m   4109\u001B[39m     indexer = [indexer]\n",
      "\u001B[36mFile \u001B[39m\u001B[32m~\\Desktop\\OSMI_Mental_Health\\venv\\Lib\\site-packages\\pandas\\core\\indexes\\base.py:3819\u001B[39m, in \u001B[36mIndex.get_loc\u001B[39m\u001B[34m(self, key)\u001B[39m\n\u001B[32m   3814\u001B[39m     \u001B[38;5;28;01mif\u001B[39;00m \u001B[38;5;28misinstance\u001B[39m(casted_key, \u001B[38;5;28mslice\u001B[39m) \u001B[38;5;129;01mor\u001B[39;00m (\n\u001B[32m   3815\u001B[39m         \u001B[38;5;28misinstance\u001B[39m(casted_key, abc.Iterable)\n\u001B[32m   3816\u001B[39m         \u001B[38;5;129;01mand\u001B[39;00m \u001B[38;5;28many\u001B[39m(\u001B[38;5;28misinstance\u001B[39m(x, \u001B[38;5;28mslice\u001B[39m) \u001B[38;5;28;01mfor\u001B[39;00m x \u001B[38;5;129;01min\u001B[39;00m casted_key)\n\u001B[32m   3817\u001B[39m     ):\n\u001B[32m   3818\u001B[39m         \u001B[38;5;28;01mraise\u001B[39;00m InvalidIndexError(key)\n\u001B[32m-> \u001B[39m\u001B[32m3819\u001B[39m     \u001B[38;5;28;01mraise\u001B[39;00m \u001B[38;5;167;01mKeyError\u001B[39;00m(key) \u001B[38;5;28;01mfrom\u001B[39;00m\u001B[38;5;250m \u001B[39m\u001B[34;01merr\u001B[39;00m\n\u001B[32m   3820\u001B[39m \u001B[38;5;28;01mexcept\u001B[39;00m \u001B[38;5;167;01mTypeError\u001B[39;00m:\n\u001B[32m   3821\u001B[39m     \u001B[38;5;66;03m# If we have a listlike key, _check_indexing_error will raise\u001B[39;00m\n\u001B[32m   3822\u001B[39m     \u001B[38;5;66;03m#  InvalidIndexError. Otherwise we fall through and re-raise\u001B[39;00m\n\u001B[32m   3823\u001B[39m     \u001B[38;5;66;03m#  the TypeError.\u001B[39;00m\n\u001B[32m   3824\u001B[39m     \u001B[38;5;28mself\u001B[39m._check_indexing_error(key)\n",
      "\u001B[31mKeyError\u001B[39m: 'If yes, what condition(s) have you been diagnosed with?'"
     ]
    }
   ],
   "execution_count": 92
  },
  {
   "metadata": {
    "ExecuteTime": {
     "end_time": "2025-07-08T09:43:54.696733Z",
     "start_time": "2025-07-08T09:43:54.687969Z"
    }
   },
   "cell_type": "code",
   "source": "df1[new_cols_53]",
   "id": "942320204d46a9de",
   "outputs": [
    {
     "data": {
      "text/plain": [
       "                  If yes, what condition(s) have you been diagnosed with?_['Anxiety Disorder' 'Mood Disorder' 'other']\n",
       "1                  <Compressed Sparse Row sparse matrix of dtype ...                                                  \n",
       "2                  <Compressed Sparse Row sparse matrix of dtype ...                                                  \n",
       "4                  <Compressed Sparse Row sparse matrix of dtype ...                                                  \n",
       "5                  <Compressed Sparse Row sparse matrix of dtype ...                                                  \n",
       "6                  <Compressed Sparse Row sparse matrix of dtype ...                                                  \n",
       "...                                                              ...                                                  \n",
       "1426               <Compressed Sparse Row sparse matrix of dtype ...                                                  \n",
       "1427               <Compressed Sparse Row sparse matrix of dtype ...                                                  \n",
       "1430               <Compressed Sparse Row sparse matrix of dtype ...                                                  \n",
       "1431               <Compressed Sparse Row sparse matrix of dtype ...                                                  \n",
       "Attention Deficit  <Compressed Sparse Row sparse matrix of dtype ...                                                  \n",
       "\n",
       "[1012 rows x 1 columns]"
      ],
      "text/html": [
       "<div>\n",
       "<style scoped>\n",
       "    .dataframe tbody tr th:only-of-type {\n",
       "        vertical-align: middle;\n",
       "    }\n",
       "\n",
       "    .dataframe tbody tr th {\n",
       "        vertical-align: top;\n",
       "    }\n",
       "\n",
       "    .dataframe thead th {\n",
       "        text-align: right;\n",
       "    }\n",
       "</style>\n",
       "<table border=\"1\" class=\"dataframe\">\n",
       "  <thead>\n",
       "    <tr style=\"text-align: right;\">\n",
       "      <th></th>\n",
       "      <th>If yes, what condition(s) have you been diagnosed with?_['Anxiety Disorder' 'Mood Disorder' 'other']</th>\n",
       "    </tr>\n",
       "  </thead>\n",
       "  <tbody>\n",
       "    <tr>\n",
       "      <th>1</th>\n",
       "      <td>&lt;Compressed Sparse Row sparse matrix of dtype ...</td>\n",
       "    </tr>\n",
       "    <tr>\n",
       "      <th>2</th>\n",
       "      <td>&lt;Compressed Sparse Row sparse matrix of dtype ...</td>\n",
       "    </tr>\n",
       "    <tr>\n",
       "      <th>4</th>\n",
       "      <td>&lt;Compressed Sparse Row sparse matrix of dtype ...</td>\n",
       "    </tr>\n",
       "    <tr>\n",
       "      <th>5</th>\n",
       "      <td>&lt;Compressed Sparse Row sparse matrix of dtype ...</td>\n",
       "    </tr>\n",
       "    <tr>\n",
       "      <th>6</th>\n",
       "      <td>&lt;Compressed Sparse Row sparse matrix of dtype ...</td>\n",
       "    </tr>\n",
       "    <tr>\n",
       "      <th>...</th>\n",
       "      <td>...</td>\n",
       "    </tr>\n",
       "    <tr>\n",
       "      <th>1426</th>\n",
       "      <td>&lt;Compressed Sparse Row sparse matrix of dtype ...</td>\n",
       "    </tr>\n",
       "    <tr>\n",
       "      <th>1427</th>\n",
       "      <td>&lt;Compressed Sparse Row sparse matrix of dtype ...</td>\n",
       "    </tr>\n",
       "    <tr>\n",
       "      <th>1430</th>\n",
       "      <td>&lt;Compressed Sparse Row sparse matrix of dtype ...</td>\n",
       "    </tr>\n",
       "    <tr>\n",
       "      <th>1431</th>\n",
       "      <td>&lt;Compressed Sparse Row sparse matrix of dtype ...</td>\n",
       "    </tr>\n",
       "    <tr>\n",
       "      <th>Attention Deficit</th>\n",
       "      <td>&lt;Compressed Sparse Row sparse matrix of dtype ...</td>\n",
       "    </tr>\n",
       "  </tbody>\n",
       "</table>\n",
       "<p>1012 rows × 1 columns</p>\n",
       "</div>"
      ]
     },
     "execution_count": 93,
     "metadata": {},
     "output_type": "execute_result"
    }
   ],
   "execution_count": 93
  },
  {
   "metadata": {
    "ExecuteTime": {
     "end_time": "2025-07-08T09:47:47.413993Z",
     "start_time": "2025-07-08T09:47:47.408875Z"
    }
   },
   "cell_type": "code",
   "source": [
    "col_53 = \"If yes, what condition(s) have you been diagnosed with?\"\n",
    "df = pd.read_pickle(r\"C:\\Users\\achim\\Desktop\\OSMI_Mental_Health\\data\\edited\\df_alle_OHE_und_OE_Fragen.pkl\")\n"
   ],
   "id": "5e3c0623070781b1",
   "outputs": [],
   "execution_count": 98
  },
  {
   "metadata": {
    "ExecuteTime": {
     "end_time": "2025-07-08T09:48:40.040817Z",
     "start_time": "2025-07-08T09:48:40.036804Z"
    }
   },
   "cell_type": "code",
   "source": "df[col_53] = df[col_53].apply(lambda x: \"Anxiety Disorder\" if \"anxiety disorder\" in str(x).lower() else \"Mood Disorder\" if \"mood disorder\" in str(x).lower() else \"Attention Deficit\" if \"attention deficit\" in str(x).lower() else \"other\")",
   "id": "8c7dbfd37727bc7c",
   "outputs": [],
   "execution_count": 100
  },
  {
   "metadata": {
    "ExecuteTime": {
     "end_time": "2025-07-08T09:48:53.651546Z",
     "start_time": "2025-07-08T09:48:53.646596Z"
    }
   },
   "cell_type": "code",
   "source": "df[col_53].value_counts(dropna=False)",
   "id": "d96156451542818f",
   "outputs": [
    {
     "data": {
      "text/plain": [
       "If yes, what condition(s) have you been diagnosed with?\n",
       "other                613\n",
       "Anxiety Disorder     258\n",
       "Mood Disorder        122\n",
       "Attention Deficit     18\n",
       "Name: count, dtype: int64"
      ]
     },
     "execution_count": 101,
     "metadata": {},
     "output_type": "execute_result"
    }
   ],
   "execution_count": 101
  },
  {
   "metadata": {
    "ExecuteTime": {
     "end_time": "2025-07-08T09:49:20.302799Z",
     "start_time": "2025-07-08T09:49:20.299166Z"
    }
   },
   "cell_type": "code",
   "source": "df[col_53] = df[col_53].replace(\"Attention Deficit\", \"other\")",
   "id": "e8adbb1bab53eb0",
   "outputs": [],
   "execution_count": 102
  },
  {
   "metadata": {
    "ExecuteTime": {
     "end_time": "2025-07-08T09:49:25.135558Z",
     "start_time": "2025-07-08T09:49:25.130777Z"
    }
   },
   "cell_type": "code",
   "source": "df[col_53].value_counts(dropna=False)",
   "id": "d79be9a1f81ab192",
   "outputs": [
    {
     "data": {
      "text/plain": [
       "If yes, what condition(s) have you been diagnosed with?\n",
       "other               631\n",
       "Anxiety Disorder    258\n",
       "Mood Disorder       122\n",
       "Name: count, dtype: int64"
      ]
     },
     "execution_count": 103,
     "metadata": {},
     "output_type": "execute_result"
    }
   ],
   "execution_count": 103
  },
  {
   "metadata": {
    "ExecuteTime": {
     "end_time": "2025-07-08T09:49:33.013220Z",
     "start_time": "2025-07-08T09:49:33.005166Z"
    }
   },
   "cell_type": "code",
   "source": [
    "ohe_col_53 = OneHotEncoder(sparse_output=False)\n",
    "encoded_data_col_53 = ohe_col_53.fit_transform(df[[col_53]])\n",
    "\n",
    "categories_53 = ohe_col_53.categories_[0]\n",
    "new_cols_53 = [f\"{col_53}_{cat}\" for cat in categories_53]\n",
    "\n",
    "col_53_df = pd.DataFrame(encoded_data_col_53, columns=new_cols_53, index=df.index)\n",
    "df = df.drop(columns=[col_53])\n",
    "df = pd.concat([df, col_53_df], axis=1)"
   ],
   "id": "e5784bce9a3e401b",
   "outputs": [],
   "execution_count": 104
  },
  {
   "metadata": {
    "ExecuteTime": {
     "end_time": "2025-07-08T09:49:56.248923Z",
     "start_time": "2025-07-08T09:49:56.241624Z"
    }
   },
   "cell_type": "code",
   "source": "df[new_cols_53].tail()",
   "id": "207fcc4217458a55",
   "outputs": [
    {
     "data": {
      "text/plain": [
       "      If yes, what condition(s) have you been diagnosed with?_Anxiety Disorder  \\\n",
       "1425                                                0.0                          \n",
       "1426                                                0.0                          \n",
       "1427                                                1.0                          \n",
       "1430                                                0.0                          \n",
       "1431                                                1.0                          \n",
       "\n",
       "      If yes, what condition(s) have you been diagnosed with?_Mood Disorder  \\\n",
       "1425                                                0.0                       \n",
       "1426                                                0.0                       \n",
       "1427                                                0.0                       \n",
       "1430                                                0.0                       \n",
       "1431                                                0.0                       \n",
       "\n",
       "      If yes, what condition(s) have you been diagnosed with?_other  \n",
       "1425                                                1.0              \n",
       "1426                                                1.0              \n",
       "1427                                                0.0              \n",
       "1430                                                1.0              \n",
       "1431                                                0.0              "
      ],
      "text/html": [
       "<div>\n",
       "<style scoped>\n",
       "    .dataframe tbody tr th:only-of-type {\n",
       "        vertical-align: middle;\n",
       "    }\n",
       "\n",
       "    .dataframe tbody tr th {\n",
       "        vertical-align: top;\n",
       "    }\n",
       "\n",
       "    .dataframe thead th {\n",
       "        text-align: right;\n",
       "    }\n",
       "</style>\n",
       "<table border=\"1\" class=\"dataframe\">\n",
       "  <thead>\n",
       "    <tr style=\"text-align: right;\">\n",
       "      <th></th>\n",
       "      <th>If yes, what condition(s) have you been diagnosed with?_Anxiety Disorder</th>\n",
       "      <th>If yes, what condition(s) have you been diagnosed with?_Mood Disorder</th>\n",
       "      <th>If yes, what condition(s) have you been diagnosed with?_other</th>\n",
       "    </tr>\n",
       "  </thead>\n",
       "  <tbody>\n",
       "    <tr>\n",
       "      <th>1425</th>\n",
       "      <td>0.0</td>\n",
       "      <td>0.0</td>\n",
       "      <td>1.0</td>\n",
       "    </tr>\n",
       "    <tr>\n",
       "      <th>1426</th>\n",
       "      <td>0.0</td>\n",
       "      <td>0.0</td>\n",
       "      <td>1.0</td>\n",
       "    </tr>\n",
       "    <tr>\n",
       "      <th>1427</th>\n",
       "      <td>1.0</td>\n",
       "      <td>0.0</td>\n",
       "      <td>0.0</td>\n",
       "    </tr>\n",
       "    <tr>\n",
       "      <th>1430</th>\n",
       "      <td>0.0</td>\n",
       "      <td>0.0</td>\n",
       "      <td>1.0</td>\n",
       "    </tr>\n",
       "    <tr>\n",
       "      <th>1431</th>\n",
       "      <td>1.0</td>\n",
       "      <td>0.0</td>\n",
       "      <td>0.0</td>\n",
       "    </tr>\n",
       "  </tbody>\n",
       "</table>\n",
       "</div>"
      ]
     },
     "execution_count": 106,
     "metadata": {},
     "output_type": "execute_result"
    }
   ],
   "execution_count": 106
  },
  {
   "metadata": {
    "ExecuteTime": {
     "end_time": "2025-07-08T09:50:21.177686Z",
     "start_time": "2025-07-08T09:50:21.173167Z"
    }
   },
   "cell_type": "code",
   "source": "df.shape",
   "id": "3e2419aa73757bc2",
   "outputs": [
    {
     "data": {
      "text/plain": [
       "(1011, 85)"
      ]
     },
     "execution_count": 107,
     "metadata": {},
     "output_type": "execute_result"
    }
   ],
   "execution_count": 107
  },
  {
   "metadata": {
    "ExecuteTime": {
     "end_time": "2025-07-08T09:54:30.837925Z",
     "start_time": "2025-07-08T09:54:30.834885Z"
    }
   },
   "cell_type": "code",
   "source": "col_54 = \"If maybe, what condition(s) do you believe you have?\"",
   "id": "e5903b0756865a9",
   "outputs": [],
   "execution_count": 108
  },
  {
   "metadata": {
    "ExecuteTime": {
     "end_time": "2025-07-08T09:55:35.694721Z",
     "start_time": "2025-07-08T09:55:35.690667Z"
    }
   },
   "cell_type": "code",
   "source": "df = df.drop(columns=[col_54])",
   "id": "592056eb2c345246",
   "outputs": [],
   "execution_count": 112
  },
  {
   "metadata": {
    "ExecuteTime": {
     "end_time": "2025-07-08T09:56:06.507427Z",
     "start_time": "2025-07-08T09:56:06.504778Z"
    }
   },
   "cell_type": "code",
   "source": "col_55 = \"If so, what condition(s) were you diagnosed with?\"",
   "id": "1b1a794b242dad2c",
   "outputs": [],
   "execution_count": 113
  },
  {
   "metadata": {
    "ExecuteTime": {
     "end_time": "2025-07-08T09:56:22.805853Z",
     "start_time": "2025-07-08T09:56:22.799417Z"
    }
   },
   "cell_type": "code",
   "source": "df[col_55].value_counts(dropna=False)",
   "id": "dc8ccab9e43f29d8",
   "outputs": [
    {
     "data": {
      "text/plain": [
       "If so, what condition(s) were you diagnosed with?\n",
       "<NA>                                                                                                                                                                                                                                                                                             477\n",
       "Mood Disorder (Depression, Bipolar Disorder, etc)                                                                                                                                                                                                                                                139\n",
       "Anxiety Disorder (Generalized, Social, Phobia, etc)|Mood Disorder (Depression, Bipolar Disorder, etc)                                                                                                                                                                                            124\n",
       "Anxiety Disorder (Generalized, Social, Phobia, etc)                                                                                                                                                                                                                                               45\n",
       "Mood Disorder (Depression, Bipolar Disorder, etc)|Attention Deficit Hyperactivity Disorder                                                                                                                                                                                                        25\n",
       "                                                                                                                                                                                                                                                                                                ... \n",
       "Anxiety Disorder (Generalized, Social, Phobia, etc)|Personality Disorder (Borderline, Antisocial, Paranoid, etc)|Dissociative Disorder                                                                                                                                                             1\n",
       "ADD (w/o Hyperactivity)                                                                                                                                                                                                                                                                            1\n",
       "Addictive Disorder|Anxiety Disorder (Generalized, Social, Phobia, etc)|Mood Disorder (Depression, Bipolar Disorder, etc)|Eating Disorder (Anorexia, Bulimia, etc)|Attention Deficit Hyperactivity Disorder|Obsessive-Compulsive Disorder|Post-traumatic Stress Disorder|Dissociative Disorder      1\n",
       "Eating Disorder (Anorexia, Bulimia, etc)                                                                                                                                                                                                                                                           1\n",
       "Anxiety Disorder (Generalized, Social, Phobia, etc)|Personality Disorder (Borderline, Antisocial, Paranoid, etc)                                                                                                                                                                                   1\n",
       "Name: count, Length: 90, dtype: Int64"
      ]
     },
     "execution_count": 114,
     "metadata": {},
     "output_type": "execute_result"
    }
   ],
   "execution_count": 114
  },
  {
   "metadata": {
    "ExecuteTime": {
     "end_time": "2025-07-08T09:57:29.249152Z",
     "start_time": "2025-07-08T09:57:29.244943Z"
    }
   },
   "cell_type": "code",
   "source": "df[col_55] = df[col_55].apply(lambda x: \"Anxiety Disorder\" if \"anxiety disorder\" in str(x).lower() else \"Mood Disorder\" if \"mood disorder\" in str(x).lower() else \"Attention Deficit\" if \"attention deficit\" in str(x).lower() else \"other\")",
   "id": "bf71bf15fdd30f35",
   "outputs": [],
   "execution_count": 115
  },
  {
   "metadata": {
    "ExecuteTime": {
     "end_time": "2025-07-08T09:57:45.444112Z",
     "start_time": "2025-07-08T09:57:45.439110Z"
    }
   },
   "cell_type": "code",
   "source": "df[col_55].value_counts(dropna=False)",
   "id": "18e0b606b6f136d",
   "outputs": [
    {
     "data": {
      "text/plain": [
       "If so, what condition(s) were you diagnosed with?\n",
       "other                507\n",
       "Anxiety Disorder     283\n",
       "Mood Disorder        196\n",
       "Attention Deficit     25\n",
       "Name: count, dtype: int64"
      ]
     },
     "execution_count": 116,
     "metadata": {},
     "output_type": "execute_result"
    }
   ],
   "execution_count": 116
  },
  {
   "metadata": {
    "ExecuteTime": {
     "end_time": "2025-07-08T09:58:16.558827Z",
     "start_time": "2025-07-08T09:58:16.555070Z"
    }
   },
   "cell_type": "code",
   "source": "df[col_55] = df[col_55].replace(\"Attention Deficit\", \"other\")",
   "id": "447e34d5543f57a7",
   "outputs": [],
   "execution_count": 117
  },
  {
   "metadata": {
    "ExecuteTime": {
     "end_time": "2025-07-08T09:59:08.716115Z",
     "start_time": "2025-07-08T09:59:08.708651Z"
    }
   },
   "cell_type": "code",
   "source": [
    "ohe_col_55 = OneHotEncoder(sparse_output=False)\n",
    "encoded_data_col_55 = ohe_col_55.fit_transform(df[[col_55]])\n",
    "\n",
    "categories_55 = ohe_col_55.categories_[0]\n",
    "new_cols_55 = [f\"{col_55}_{cat}\" for cat in categories_55]\n",
    "\n",
    "col_55_df = pd.DataFrame(encoded_data_col_55, columns=new_cols_55, index=df.index)\n",
    "df = df.drop(columns=[col_55])\n",
    "df = pd.concat([df, col_55_df], axis=1)"
   ],
   "id": "16e77f788a1aff0c",
   "outputs": [],
   "execution_count": 118
  },
  {
   "metadata": {
    "ExecuteTime": {
     "end_time": "2025-07-08T09:59:38.929687Z",
     "start_time": "2025-07-08T09:59:38.926569Z"
    }
   },
   "cell_type": "code",
   "source": "col_56 = \"What is your age?\"",
   "id": "99851de4650e8673",
   "outputs": [],
   "execution_count": 119
  },
  {
   "metadata": {
    "ExecuteTime": {
     "end_time": "2025-07-08T09:59:55.123147Z",
     "start_time": "2025-07-08T09:59:55.117377Z"
    }
   },
   "cell_type": "code",
   "source": "df[col_56].value_counts(dropna=False)",
   "id": "4cbb36f692c0b115",
   "outputs": [
    {
     "data": {
      "text/plain": [
       "What is your age?\n",
       "30     68\n",
       "32     59\n",
       "29     57\n",
       "31     57\n",
       "33     56\n",
       "35     56\n",
       "28     56\n",
       "26     51\n",
       "34     50\n",
       "27     45\n",
       "36     43\n",
       "37     40\n",
       "39     38\n",
       "38     36\n",
       "40     29\n",
       "24     24\n",
       "25     23\n",
       "44     21\n",
       "45     21\n",
       "43     20\n",
       "42     19\n",
       "22     18\n",
       "41     18\n",
       "46     14\n",
       "23     13\n",
       "47     12\n",
       "21      9\n",
       "49      8\n",
       "52      6\n",
       "50      4\n",
       "51      4\n",
       "54      4\n",
       "48      4\n",
       "57      3\n",
       "55      3\n",
       "53      3\n",
       "56      2\n",
       "59      2\n",
       "19      2\n",
       "63      2\n",
       "17      1\n",
       "20      1\n",
       "61      1\n",
       "58      1\n",
       "323     1\n",
       "99      1\n",
       "66      1\n",
       "3       1\n",
       "65      1\n",
       "74      1\n",
       "70      1\n",
       "Name: count, dtype: Int64"
      ]
     },
     "execution_count": 120,
     "metadata": {},
     "output_type": "execute_result"
    }
   ],
   "execution_count": 120
  },
  {
   "metadata": {
    "ExecuteTime": {
     "end_time": "2025-07-08T10:12:05.798123Z",
     "start_time": "2025-07-08T10:12:05.791999Z"
    }
   },
   "cell_type": "code",
   "source": [
    "# Unwahrscheinliche Alterswerte bereinigen (durch den Modus ersetzen)\n",
    "df.loc[df[col_56] < 15, col_56] = df[col_56].mode().iloc[0]\n",
    "df.loc[df[col_56] > 90, col_56] = df[col_56].mode().iloc[0]"
   ],
   "id": "70e45ed4cde94832",
   "outputs": [],
   "execution_count": 123
  },
  {
   "metadata": {
    "ExecuteTime": {
     "end_time": "2025-07-08T10:18:21.368895Z",
     "start_time": "2025-07-08T10:18:21.363891Z"
    }
   },
   "cell_type": "code",
   "source": "df[col_56].min()",
   "id": "c01a8e1b53efc0e6",
   "outputs": [
    {
     "data": {
      "text/plain": [
       "np.int64(17)"
      ]
     },
     "execution_count": 125,
     "metadata": {},
     "output_type": "execute_result"
    }
   ],
   "execution_count": 125
  },
  {
   "metadata": {
    "ExecuteTime": {
     "end_time": "2025-07-08T10:19:41.859983Z",
     "start_time": "2025-07-08T10:19:41.853414Z"
    }
   },
   "cell_type": "code",
   "source": [
    "# Binning für Alterspalte\n",
    "from sklearn.preprocessing import KBinsDiscretizer\n",
    "\n",
    "# encode=\"ordinal\": KBinsDiscretizer sortiert von jung nach alt\n",
    "kbin = KBinsDiscretizer(n_bins=4, encode=\"ordinal\", strategy=\"uniform\")\n",
    "\n",
    "df[col_56] = kbin.fit_transform(df[[col_56]])"
   ],
   "id": "687665eac1f4baa1",
   "outputs": [],
   "execution_count": 126
  },
  {
   "metadata": {
    "ExecuteTime": {
     "end_time": "2025-07-08T10:19:53.820251Z",
     "start_time": "2025-07-08T10:19:53.814948Z"
    }
   },
   "cell_type": "code",
   "source": "df[col_56].value_counts(dropna=False)",
   "id": "d594c325e5d297ac",
   "outputs": [
    {
     "data": {
      "text/plain": [
       "What is your age?\n",
       "1.0    506\n",
       "0.0    428\n",
       "2.0     70\n",
       "3.0      7\n",
       "Name: count, dtype: int64"
      ]
     },
     "execution_count": 127,
     "metadata": {},
     "output_type": "execute_result"
    }
   ],
   "execution_count": 127
  },
  {
   "metadata": {
    "ExecuteTime": {
     "end_time": "2025-07-08T10:24:19.020331Z",
     "start_time": "2025-07-08T10:24:19.017404Z"
    }
   },
   "cell_type": "code",
   "source": "Bin_Schritte = (74 - 17) / 4",
   "id": "b31d123c2cbb0220",
   "outputs": [],
   "execution_count": 130
  },
  {
   "metadata": {
    "ExecuteTime": {
     "end_time": "2025-07-08T10:25:55.156336Z",
     "start_time": "2025-07-08T10:25:55.153623Z"
    }
   },
   "cell_type": "code",
   "source": [
    "# immer das End-Alter je Bin\n",
    "mapping_bins_alter = {\n",
    "    0: 17 + Bin_Schritte,\n",
    "    1: 17 + 2 * Bin_Schritte,\n",
    "    2: 17 + 3 * Bin_Schritte,\n",
    "    3: 17 + 4 * Bin_Schritte\n",
    "}"
   ],
   "id": "9bc632f26f4a3b04",
   "outputs": [],
   "execution_count": 133
  },
  {
   "metadata": {
    "ExecuteTime": {
     "end_time": "2025-07-08T10:27:00.836017Z",
     "start_time": "2025-07-08T10:27:00.833462Z"
    }
   },
   "cell_type": "code",
   "source": "col_57 = \"What is your gender?\"",
   "id": "dadd25c9e886ecc5",
   "outputs": [],
   "execution_count": 135
  },
  {
   "metadata": {
    "ExecuteTime": {
     "end_time": "2025-07-08T10:27:18.992601Z",
     "start_time": "2025-07-08T10:27:18.986247Z"
    }
   },
   "cell_type": "code",
   "source": "df[col_57].value_counts(dropna=False)",
   "id": "97f83ea6cf025ab9",
   "outputs": [
    {
     "data": {
      "text/plain": [
       "What is your gender?\n",
       "Male                                                       436\n",
       "male                                                       166\n",
       "Female                                                     111\n",
       "female                                                      79\n",
       "M                                                           66\n",
       "m                                                           45\n",
       "F                                                           24\n",
       "f                                                           16\n",
       "Female                                                       6\n",
       "woman                                                        4\n",
       "Male                                                         4\n",
       "<NA>                                                         3\n",
       "Woman                                                        2\n",
       "Male (cis)                                                   2\n",
       "Agender                                                      2\n",
       "non-binary                                                   2\n",
       "Female assigned at birth                                     1\n",
       "I identify as female.                                        1\n",
       "Bigender                                                     1\n",
       "Other/Transfeminine                                          1\n",
       "Genderfluid (born female)                                    1\n",
       "female/woman                                                 1\n",
       "Female or Multi-Gender Femme                                 1\n",
       "Cis female                                                   1\n",
       "Transitioned, M2F                                            1\n",
       "man                                                          1\n",
       "fm                                                           1\n",
       "male 9:1 female, roughly                                     1\n",
       "Androgynous                                                  1\n",
       "Male.                                                        1\n",
       "Cis male                                                     1\n",
       "Cisgender Female                                             1\n",
       "Man                                                          1\n",
       "Sex is male                                                  1\n",
       "Other                                                        1\n",
       "none of your business                                        1\n",
       "genderqueer                                                  1\n",
       "Human                                                        1\n",
       "cis male                                                     1\n",
       "Genderfluid                                                  1\n",
       "Enby                                                         1\n",
       "mtf                                                          1\n",
       "nb masculine                                                 1\n",
       "Queer                                                        1\n",
       "mail                                                         1\n",
       "female                                                       1\n",
       "Male/genderqueer                                             1\n",
       "fem                                                          1\n",
       "Nonbinary                                                    1\n",
       "male                                                         1\n",
       "Female (props for making this a freeform field, though)      1\n",
       " Female                                                      1\n",
       "Cis Male                                                     1\n",
       "Cis-woman                                                    1\n",
       "Genderqueer                                                  1\n",
       "cisdude                                                      1\n",
       "Genderflux demi-girl                                         1\n",
       "cis man                                                      1\n",
       "Transgender woman                                            1\n",
       "Name: count, dtype: Int64"
      ]
     },
     "execution_count": 136,
     "metadata": {},
     "output_type": "execute_result"
    }
   ],
   "execution_count": 136
  },
  {
   "metadata": {
    "ExecuteTime": {
     "end_time": "2025-07-08T10:41:35.365710Z",
     "start_time": "2025-07-08T10:41:35.359433Z"
    }
   },
   "cell_type": "code",
   "source": "df[col_57] = pd.read_pickle(r\"C:\\Users\\achim\\Desktop\\OSMI_Mental_Health\\data\\edited\\df_alle_OHE_und_OE_Fragen.pkl\")[col_57]",
   "id": "f86591529fdaca",
   "outputs": [],
   "execution_count": 140
  },
  {
   "metadata": {
    "ExecuteTime": {
     "end_time": "2025-07-08T10:41:46.711697Z",
     "start_time": "2025-07-08T10:41:46.704929Z"
    }
   },
   "cell_type": "code",
   "source": "df[col_57].value_counts()",
   "id": "39624ae771a52212",
   "outputs": [
    {
     "data": {
      "text/plain": [
       "What is your gender?\n",
       "Male                                                       436\n",
       "male                                                       166\n",
       "Female                                                     111\n",
       "female                                                      79\n",
       "M                                                           66\n",
       "m                                                           45\n",
       "F                                                           24\n",
       "f                                                           16\n",
       "Female                                                       6\n",
       "Male                                                         4\n",
       "woman                                                        4\n",
       "Woman                                                        2\n",
       "Male (cis)                                                   2\n",
       "Agender                                                      2\n",
       "non-binary                                                   2\n",
       "Female assigned at birth                                     1\n",
       "I identify as female.                                        1\n",
       "Bigender                                                     1\n",
       "Genderfluid (born female)                                    1\n",
       "Other/Transfeminine                                          1\n",
       "Female or Multi-Gender Femme                                 1\n",
       "female/woman                                                 1\n",
       "fm                                                           1\n",
       "Cis female                                                   1\n",
       "Transitioned, M2F                                            1\n",
       "man                                                          1\n",
       "male 9:1 female, roughly                                     1\n",
       "Androgynous                                                  1\n",
       "Male.                                                        1\n",
       "Cis male                                                     1\n",
       "Cisgender Female                                             1\n",
       "Man                                                          1\n",
       "Sex is male                                                  1\n",
       "Other                                                        1\n",
       "none of your business                                        1\n",
       "genderqueer                                                  1\n",
       "Human                                                        1\n",
       "cis male                                                     1\n",
       "Genderfluid                                                  1\n",
       "Enby                                                         1\n",
       "mtf                                                          1\n",
       "nb masculine                                                 1\n",
       "Queer                                                        1\n",
       "mail                                                         1\n",
       "female                                                       1\n",
       "Male/genderqueer                                             1\n",
       "fem                                                          1\n",
       "Nonbinary                                                    1\n",
       "male                                                         1\n",
       "Female (props for making this a freeform field, though)      1\n",
       " Female                                                      1\n",
       "Cis Male                                                     1\n",
       "Cis-woman                                                    1\n",
       "Genderqueer                                                  1\n",
       "cisdude                                                      1\n",
       "Genderflux demi-girl                                         1\n",
       "cis man                                                      1\n",
       "Transgender woman                                            1\n",
       "Name: count, dtype: Int64"
      ]
     },
     "execution_count": 141,
     "metadata": {},
     "output_type": "execute_result"
    }
   ],
   "execution_count": 141
  },
  {
   "metadata": {
    "ExecuteTime": {
     "end_time": "2025-07-08T10:42:39.625549Z",
     "start_time": "2025-07-08T10:42:39.622051Z"
    }
   },
   "cell_type": "code",
   "source": [
    "import re\n",
    "def gender_regex(x):\n",
    "    x = str(x).lower().strip()\n",
    "    if re.search(r'\\b(male|m|man)\\b', x):\n",
    "        return 'm'\n",
    "    elif re.search(r'\\b(female|f|woman)\\b', x):\n",
    "        return 'f'\n",
    "    else:\n",
    "        return 'other'"
   ],
   "id": "133c08bcb9823234",
   "outputs": [],
   "execution_count": 142
  },
  {
   "metadata": {
    "ExecuteTime": {
     "end_time": "2025-07-08T10:42:56.683476Z",
     "start_time": "2025-07-08T10:42:56.679037Z"
    }
   },
   "cell_type": "code",
   "source": "df[col_57] = df[col_57].apply(gender_regex)",
   "id": "4b4bf4c16aae620a",
   "outputs": [],
   "execution_count": 143
  },
  {
   "metadata": {
    "ExecuteTime": {
     "end_time": "2025-07-08T10:43:08.517508Z",
     "start_time": "2025-07-08T10:43:08.512807Z"
    }
   },
   "cell_type": "code",
   "source": "df[col_57].value_counts(dropna=False)",
   "id": "d458c59660ddbf94",
   "outputs": [
    {
     "data": {
      "text/plain": [
       "What is your gender?\n",
       "m        730\n",
       "f        254\n",
       "other     27\n",
       "Name: count, dtype: int64"
      ]
     },
     "execution_count": 144,
     "metadata": {},
     "output_type": "execute_result"
    }
   ],
   "execution_count": 144
  },
  {
   "metadata": {
    "ExecuteTime": {
     "end_time": "2025-07-08T10:43:45.227708Z",
     "start_time": "2025-07-08T10:43:45.218984Z"
    }
   },
   "cell_type": "code",
   "source": [
    "ohe_col_57 = OneHotEncoder(sparse_output=False)\n",
    "encoded_data_col_57 = ohe_col_57.fit_transform(df[[col_57]])\n",
    "\n",
    "categories_57 = ohe_col_57.categories_[0]\n",
    "new_cols_57 = [f\"{col_57}_{cat}\" for cat in categories_57]\n",
    "\n",
    "col_57_df = pd.DataFrame(encoded_data_col_57, columns=new_cols_57, index=df.index)\n",
    "df = df.drop(columns=[col_57])\n",
    "df = pd.concat([df, col_57_df], axis=1)\n"
   ],
   "id": "b5c41ad84c0404d7",
   "outputs": [],
   "execution_count": 145
  },
  {
   "metadata": {
    "ExecuteTime": {
     "end_time": "2025-07-08T10:44:45.574899Z",
     "start_time": "2025-07-08T10:44:45.569165Z"
    }
   },
   "cell_type": "code",
   "source": [
    "col_58 = \"What country do you live in?\"\n",
    "df[col_58].value_counts(dropna=False)"
   ],
   "id": "9cf221ba197cb26d",
   "outputs": [
    {
     "data": {
      "text/plain": [
       "What country do you live in?\n",
       "United States of America    661\n",
       "United Kingdom              110\n",
       "Canada                       56\n",
       "Germany                      28\n",
       "Netherlands                  23\n",
       "Australia                    23\n",
       "Sweden                       11\n",
       "Brazil                        9\n",
       "France                        9\n",
       "Ireland                       9\n",
       "New Zealand                   6\n",
       "Denmark                       5\n",
       "Switzerland                   5\n",
       "Finland                       5\n",
       "South Africa                  4\n",
       "Bulgaria                      4\n",
       "Russia                        4\n",
       "Norway                        3\n",
       "Pakistan                      3\n",
       "India                         3\n",
       "Spain                         3\n",
       "Chile                         3\n",
       "Afghanistan                   2\n",
       "Colombia                      2\n",
       "Italy                         2\n",
       "Israel                        2\n",
       "Estonia                       2\n",
       "Bangladesh                    1\n",
       "Argentina                     1\n",
       "Mexico                        1\n",
       "Vietnam                       1\n",
       "Czech Republic                1\n",
       "Poland                        1\n",
       "Hungary                       1\n",
       "Iran                          1\n",
       "Other                         1\n",
       "Japan                         1\n",
       "Austria                       1\n",
       "Bosnia and Herzegovina        1\n",
       "Romania                       1\n",
       "Belgium                       1\n",
       "Name: count, dtype: Int64"
      ]
     },
     "execution_count": 146,
     "metadata": {},
     "output_type": "execute_result"
    }
   ],
   "execution_count": 146
  },
  {
   "metadata": {
    "ExecuteTime": {
     "end_time": "2025-07-08T10:48:37.139721Z",
     "start_time": "2025-07-08T10:48:37.134620Z"
    }
   },
   "cell_type": "code",
   "source": [
    "countries = [\"United States of America\", \"United Kingdom\", \"Canada\"]\n",
    "df[col_58] = df[col_58].where(df[col_58].isin(countries), \"other\")"
   ],
   "id": "b2a6b5d63ce20dec",
   "outputs": [],
   "execution_count": 147
  },
  {
   "metadata": {
    "ExecuteTime": {
     "end_time": "2025-07-08T10:48:42.865040Z",
     "start_time": "2025-07-08T10:48:42.847327Z"
    }
   },
   "cell_type": "code",
   "source": "df[col_58].value_counts(dropna=False)",
   "id": "3f0e3d0aeeaa6ac0",
   "outputs": [
    {
     "data": {
      "text/plain": [
       "What country do you live in?\n",
       "United States of America    661\n",
       "other                       184\n",
       "United Kingdom              110\n",
       "Canada                       56\n",
       "Name: count, dtype: Int64"
      ]
     },
     "execution_count": 148,
     "metadata": {},
     "output_type": "execute_result"
    }
   ],
   "execution_count": 148
  },
  {
   "metadata": {
    "ExecuteTime": {
     "end_time": "2025-07-08T10:49:13.297865Z",
     "start_time": "2025-07-08T10:49:13.290651Z"
    }
   },
   "cell_type": "code",
   "source": [
    "ohe_col_58 = OneHotEncoder(sparse_output=False)\n",
    "encoded_data_col_58 = ohe_col_58.fit_transform(df[[col_58]])\n",
    "\n",
    "categories_58 = ohe_col_58.categories_[0]\n",
    "new_cols_58 = [f\"{col_58}_{cat}\" for cat in categories_58]\n",
    "\n",
    "col_58_df = pd.DataFrame(encoded_data_col_58, columns=new_cols_58, index=df.index)\n",
    "df = df.drop(columns=[col_58])\n",
    "df = pd.concat([df, col_58_df], axis=1)\n"
   ],
   "id": "f495bb8898de70be",
   "outputs": [],
   "execution_count": 149
  },
  {
   "metadata": {
    "ExecuteTime": {
     "end_time": "2025-07-08T10:52:22.909537Z",
     "start_time": "2025-07-08T10:52:22.905640Z"
    }
   },
   "cell_type": "code",
   "source": [
    "col_59 = \"What country do you work in?\"\n",
    "countries = [\"United States of America\", \"United Kingdom\", \"Canada\"]\n",
    "df[col_59] = df[col_59].where(df[col_59].isin(countries), \"other\")"
   ],
   "id": "9a06659342c16ac0",
   "outputs": [],
   "execution_count": 151
  },
  {
   "metadata": {
    "ExecuteTime": {
     "end_time": "2025-07-08T10:53:16.232899Z",
     "start_time": "2025-07-08T10:53:16.227431Z"
    }
   },
   "cell_type": "code",
   "source": "df[col_59].value_counts()\n",
   "id": "3e45a9fe79adce10",
   "outputs": [
    {
     "data": {
      "text/plain": [
       "What country do you work in?\n",
       "United States of America    666\n",
       "other                       182\n",
       "United Kingdom              109\n",
       "Canada                       54\n",
       "Name: count, dtype: Int64"
      ]
     },
     "execution_count": 153,
     "metadata": {},
     "output_type": "execute_result"
    }
   ],
   "execution_count": 153
  },
  {
   "metadata": {
    "ExecuteTime": {
     "end_time": "2025-07-08T10:53:56.924748Z",
     "start_time": "2025-07-08T10:53:56.921220Z"
    }
   },
   "cell_type": "code",
   "source": [
    "# col_59 wird gelöscht, da identisch zu col_58\n",
    "df = df.drop(columns=[col_59])"
   ],
   "id": "fed2e2141a720ab9",
   "outputs": [],
   "execution_count": 154
  },
  {
   "metadata": {
    "ExecuteTime": {
     "end_time": "2025-07-08T10:54:20.914261Z",
     "start_time": "2025-07-08T10:54:20.911922Z"
    }
   },
   "cell_type": "code",
   "source": "col_60 = \"What US state or territory do you live in?\"",
   "id": "9d3f1e4bb3380c1c",
   "outputs": [],
   "execution_count": 155
  },
  {
   "metadata": {
    "ExecuteTime": {
     "end_time": "2025-07-08T10:54:33.692189Z",
     "start_time": "2025-07-08T10:54:33.686670Z"
    }
   },
   "cell_type": "code",
   "source": "df[col_60].value_counts(dropna=False)",
   "id": "7ac0308de3a79c7",
   "outputs": [
    {
     "data": {
      "text/plain": [
       "What US state or territory do you live in?\n",
       "<NA>                    350\n",
       "California               99\n",
       "Illinois                 42\n",
       "Michigan                 38\n",
       "Minnesota                36\n",
       "Texas                    35\n",
       "New York                 32\n",
       "Washington               30\n",
       "Oregon                   28\n",
       "Tennessee                27\n",
       "Pennsylvania             26\n",
       "Colorado                 21\n",
       "Ohio                     20\n",
       "Indiana                  19\n",
       "Florida                  18\n",
       "Massachusetts            18\n",
       "North Carolina           17\n",
       "Virginia                 13\n",
       "Maryland                 13\n",
       "Kansas                   12\n",
       "Oklahoma                 12\n",
       "Georgia                  11\n",
       "Nebraska                 10\n",
       "Wisconsin                 8\n",
       "Missouri                  7\n",
       "Utah                      6\n",
       "Iowa                      5\n",
       "Connecticut               5\n",
       "New Hampshire             5\n",
       "Maine                     5\n",
       "New Jersey                4\n",
       "South Dakota              4\n",
       "Arizona                   4\n",
       "Alabama                   3\n",
       "Rhode Island              3\n",
       "Vermont                   3\n",
       "North Dakota              3\n",
       "Idaho                     3\n",
       "West Virginia             2\n",
       "Kentucky                  2\n",
       "Nevada                    2\n",
       "District of Columbia      2\n",
       "Alaska                    2\n",
       "Louisiana                 2\n",
       "Montana                   1\n",
       "South Carolina            1\n",
       "Delaware                  1\n",
       "New Mexico                1\n",
       "Name: count, dtype: Int64"
      ]
     },
     "execution_count": 156,
     "metadata": {},
     "output_type": "execute_result"
    }
   ],
   "execution_count": 156
  },
  {
   "metadata": {
    "ExecuteTime": {
     "end_time": "2025-07-08T11:08:50.865112Z",
     "start_time": "2025-07-08T11:08:50.860659Z"
    }
   },
   "cell_type": "code",
   "source": [
    "states = [\"California\", \"Illinois\", \"Michigan\", \"Minnesota\", \"Texas\", \"New York\", \"Washington\", \"Oregon\", \"Tennessee\", \"Pennsylvania\"]\n",
    "df[col_60] = df[col_60].where(df[col_60].isin(states), \"other\")"
   ],
   "id": "c3a80c864c03426a",
   "outputs": [],
   "execution_count": 157
  },
  {
   "metadata": {
    "ExecuteTime": {
     "end_time": "2025-07-08T11:08:56.056430Z",
     "start_time": "2025-07-08T11:08:56.041678Z"
    }
   },
   "cell_type": "code",
   "source": "df[col_60].value_counts(dropna=False)",
   "id": "9920545eef603576",
   "outputs": [
    {
     "data": {
      "text/plain": [
       "What US state or territory do you live in?\n",
       "other           618\n",
       "California       99\n",
       "Illinois         42\n",
       "Michigan         38\n",
       "Minnesota        36\n",
       "Texas            35\n",
       "New York         32\n",
       "Washington       30\n",
       "Oregon           28\n",
       "Tennessee        27\n",
       "Pennsylvania     26\n",
       "Name: count, dtype: Int64"
      ]
     },
     "execution_count": 158,
     "metadata": {},
     "output_type": "execute_result"
    }
   ],
   "execution_count": 158
  },
  {
   "metadata": {
    "ExecuteTime": {
     "end_time": "2025-07-08T11:13:26.534135Z",
     "start_time": "2025-07-08T11:13:26.529301Z"
    }
   },
   "cell_type": "code",
   "source": [
    "# col_60 wird gedroppt, wird jedoch später noch gesondert analysiert\n",
    "df = df.drop(columns=[col_60])"
   ],
   "id": "d75fbf2b0005f075",
   "outputs": [],
   "execution_count": 159
  },
  {
   "metadata": {
    "ExecuteTime": {
     "end_time": "2025-07-08T11:14:12.041139Z",
     "start_time": "2025-07-08T11:14:12.037283Z"
    }
   },
   "cell_type": "code",
   "source": [
    "# col_61 genauso\n",
    "col_61 = \"What US state or territory do you work in?\"\n",
    "df = df.drop(columns=[col_61])"
   ],
   "id": "6a051ea96804e634",
   "outputs": [],
   "execution_count": 160
  },
  {
   "metadata": {
    "ExecuteTime": {
     "end_time": "2025-07-08T11:14:44.968178Z",
     "start_time": "2025-07-08T11:14:44.962412Z"
    }
   },
   "cell_type": "code",
   "source": [
    "col_62 = \"Which of the following best describes your work position?\"\n",
    "df[col_62].value_counts(dropna=False)"
   ],
   "id": "6f651a9fa34b8004",
   "outputs": [
    {
     "data": {
      "text/plain": [
       "Which of the following best describes your work position?\n",
       "Back-end Developer                                                                                        196\n",
       "Front-end Developer                                                                                       101\n",
       "Other                                                                                                      90\n",
       "Supervisor/Team Lead                                                                                       53\n",
       "Back-end Developer|Front-end Developer                                                                     48\n",
       "                                                                                                         ... \n",
       "Dev Evangelist/Advocate|DevOps/SysAdmin|Support|Back-end Developer|Front-end Developer|One-person shop      1\n",
       "Executive Leadership|Supervisor/Team Lead|Front-end Developer                                               1\n",
       "Other|Supervisor/Team Lead|Dev Evangelist/Advocate                                                          1\n",
       "Supervisor/Team Lead|Back-end Developer|Designer                                                            1\n",
       "Supervisor/Team Lead|Front-end Developer|Back-end Developer|DevOps/SysAdmin|Dev Evangelist/Advocate         1\n",
       "Name: count, Length: 172, dtype: Int64"
      ]
     },
     "execution_count": 161,
     "metadata": {},
     "output_type": "execute_result"
    }
   ],
   "execution_count": 161
  },
  {
   "metadata": {
    "ExecuteTime": {
     "end_time": "2025-07-08T11:25:41.656889Z",
     "start_time": "2025-07-08T11:25:41.652894Z"
    }
   },
   "cell_type": "code",
   "source": [
    "def workposition_regex(x):\n",
    "    x = str(x).strip().lower()\n",
    "    if re.search(r\"front[-\\s]?end\", x):\n",
    "        return \"front\"\n",
    "    if re.search(r\"back[-\\s]?end\", x):\n",
    "        return \"back\"\n",
    "    if re.search(r\"lead\", x):\n",
    "        return \"lead\"\n",
    "    if re.search(r\"dev\", x):\n",
    "        return \"DevOps\"\n",
    "    if re.search(r\"support\", x):\n",
    "        return \"support\"\n",
    "    else:\n",
    "        return \"other\"\n"
   ],
   "id": "e190221c897995ad",
   "outputs": [],
   "execution_count": 162
  },
  {
   "metadata": {
    "ExecuteTime": {
     "end_time": "2025-07-08T11:25:42.703108Z",
     "start_time": "2025-07-08T11:25:42.696843Z"
    }
   },
   "cell_type": "code",
   "source": "df[col_62] = df[col_62].apply(workposition_regex)",
   "id": "d78c31ecbf380b04",
   "outputs": [],
   "execution_count": 163
  },
  {
   "metadata": {
    "ExecuteTime": {
     "end_time": "2025-07-08T11:25:59.032198Z",
     "start_time": "2025-07-08T11:25:59.027689Z"
    }
   },
   "cell_type": "code",
   "source": "df[col_62].value_counts(dropna=False)",
   "id": "a39bad1b80645d3d",
   "outputs": [
    {
     "data": {
      "text/plain": [
       "Which of the following best describes your work position?\n",
       "front      346\n",
       "back       303\n",
       "other      123\n",
       "lead       119\n",
       "DevOps      86\n",
       "support     34\n",
       "Name: count, dtype: int64"
      ]
     },
     "execution_count": 164,
     "metadata": {},
     "output_type": "execute_result"
    }
   ],
   "execution_count": 164
  },
  {
   "metadata": {
    "ExecuteTime": {
     "end_time": "2025-07-08T11:26:47.847305Z",
     "start_time": "2025-07-08T11:26:47.838596Z"
    }
   },
   "cell_type": "code",
   "source": [
    "ohe_col_62 = OneHotEncoder(sparse_output=False)\n",
    "encoded_data_col_62 = ohe_col_62.fit_transform(df[[col_62]])\n",
    "\n",
    "categories_62 = ohe_col_62.categories_[0]\n",
    "new_cols_62 = [f\"{col_62}_{cat}\" for cat in categories_62]\n",
    "\n",
    "col_62_df = pd.DataFrame(encoded_data_col_62, columns=new_cols_62, index=df.index)\n",
    "df = df.drop(columns=[col_62])\n",
    "df = pd.concat([df, col_62_df], axis=1)\n"
   ],
   "id": "5be0e726f79bd797",
   "outputs": [],
   "execution_count": 165
  },
  {
   "metadata": {
    "ExecuteTime": {
     "end_time": "2025-07-08T11:26:53.123964Z",
     "start_time": "2025-07-08T11:26:53.120357Z"
    }
   },
   "cell_type": "code",
   "source": "df.index",
   "id": "cb7caa2a9b944bd1",
   "outputs": [
    {
     "data": {
      "text/plain": [
       "Index([   1,    2,    4,    5,    6,    7,    8,   10,   11,   12,\n",
       "       ...\n",
       "       1418, 1419, 1421, 1422, 1424, 1425, 1426, 1427, 1430, 1431],\n",
       "      dtype='int64', length=1011)"
      ]
     },
     "execution_count": 166,
     "metadata": {},
     "output_type": "execute_result"
    }
   ],
   "execution_count": 166
  },
  {
   "metadata": {
    "ExecuteTime": {
     "end_time": "2025-07-08T11:28:58.721099Z",
     "start_time": "2025-07-08T11:28:58.715522Z"
    }
   },
   "cell_type": "code",
   "source": "pd.to_pickle(df, \"../data/edited/df_bis_auf_NLP_Spalten_rdy.pkl\")",
   "id": "a25b4815b2f4170d",
   "outputs": [],
   "execution_count": 168
  },
  {
   "metadata": {
    "ExecuteTime": {
     "end_time": "2025-07-08T11:41:18.882965Z",
     "start_time": "2025-07-08T11:41:18.877322Z"
    }
   },
   "cell_type": "code",
   "source": "df = pd.read_pickle(r\"C:\\Users\\achim\\Desktop\\OSMI_Mental_Health\\data\\edited\\full_df_rdy.pkl\")",
   "id": "5fadc6b6067156f",
   "outputs": [],
   "execution_count": 169
  },
  {
   "metadata": {
    "ExecuteTime": {
     "end_time": "2025-07-08T11:41:22.134609Z",
     "start_time": "2025-07-08T11:41:22.131091Z"
    }
   },
   "cell_type": "code",
   "source": "df.shape",
   "id": "b6ae7ea31557cb4",
   "outputs": [
    {
     "data": {
      "text/plain": [
       "(1011, 97)"
      ]
     },
     "execution_count": 170,
     "metadata": {},
     "output_type": "execute_result"
    }
   ],
   "execution_count": 170
  },
  {
   "metadata": {
    "ExecuteTime": {
     "end_time": "2025-07-08T11:44:20.417609Z",
     "start_time": "2025-07-08T11:44:20.412735Z"
    }
   },
   "cell_type": "code",
   "source": "df = df.drop(columns=[\"Why or why not?\", \"Why or why not?.1\"])",
   "id": "2a71093beca3a585",
   "outputs": [],
   "execution_count": 175
  },
  {
   "metadata": {
    "ExecuteTime": {
     "end_time": "2025-07-08T11:46:10.655755Z",
     "start_time": "2025-07-08T11:46:10.316564Z"
    }
   },
   "cell_type": "code",
   "source": "df[\"Text Cluster\"].value_counts()",
   "id": "a6afe989a111bbe0",
   "outputs": [
    {
     "ename": "ValueError",
     "evalue": "Grouper for 'Text Cluster' not 1-dimensional",
     "output_type": "error",
     "traceback": [
      "\u001B[31m---------------------------------------------------------------------------\u001B[39m",
      "\u001B[31mValueError\u001B[39m                                Traceback (most recent call last)",
      "\u001B[36mCell\u001B[39m\u001B[36m \u001B[39m\u001B[32mIn[178]\u001B[39m\u001B[32m, line 1\u001B[39m\n\u001B[32m----> \u001B[39m\u001B[32m1\u001B[39m \u001B[43mdf\u001B[49m\u001B[43m[\u001B[49m\u001B[33;43m\"\u001B[39;49m\u001B[33;43mText Cluster\u001B[39;49m\u001B[33;43m\"\u001B[39;49m\u001B[43m]\u001B[49m\u001B[43m.\u001B[49m\u001B[43mvalue_counts\u001B[49m\u001B[43m(\u001B[49m\u001B[43m)\u001B[49m\n",
      "\u001B[36mFile \u001B[39m\u001B[32m~\\Desktop\\OSMI_Mental_Health\\venv\\Lib\\site-packages\\pandas\\core\\frame.py:7516\u001B[39m, in \u001B[36mDataFrame.value_counts\u001B[39m\u001B[34m(self, subset, normalize, sort, ascending, dropna)\u001B[39m\n\u001B[32m   7513\u001B[39m     subset = \u001B[38;5;28mself\u001B[39m.columns.tolist()\n\u001B[32m   7515\u001B[39m name = \u001B[33m\"\u001B[39m\u001B[33mproportion\u001B[39m\u001B[33m\"\u001B[39m \u001B[38;5;28;01mif\u001B[39;00m normalize \u001B[38;5;28;01melse\u001B[39;00m \u001B[33m\"\u001B[39m\u001B[33mcount\u001B[39m\u001B[33m\"\u001B[39m\n\u001B[32m-> \u001B[39m\u001B[32m7516\u001B[39m counts = \u001B[38;5;28;43mself\u001B[39;49m\u001B[43m.\u001B[49m\u001B[43mgroupby\u001B[49m\u001B[43m(\u001B[49m\u001B[43msubset\u001B[49m\u001B[43m,\u001B[49m\u001B[43m \u001B[49m\u001B[43mdropna\u001B[49m\u001B[43m=\u001B[49m\u001B[43mdropna\u001B[49m\u001B[43m,\u001B[49m\u001B[43m \u001B[49m\u001B[43mobserved\u001B[49m\u001B[43m=\u001B[49m\u001B[38;5;28;43;01mFalse\u001B[39;49;00m\u001B[43m)\u001B[49m._grouper.size()\n\u001B[32m   7517\u001B[39m counts.name = name\n\u001B[32m   7519\u001B[39m \u001B[38;5;28;01mif\u001B[39;00m sort:\n",
      "\u001B[36mFile \u001B[39m\u001B[32m~\\Desktop\\OSMI_Mental_Health\\venv\\Lib\\site-packages\\pandas\\core\\frame.py:9190\u001B[39m, in \u001B[36mDataFrame.groupby\u001B[39m\u001B[34m(self, by, axis, level, as_index, sort, group_keys, observed, dropna)\u001B[39m\n\u001B[32m   9187\u001B[39m \u001B[38;5;28;01mif\u001B[39;00m level \u001B[38;5;129;01mis\u001B[39;00m \u001B[38;5;28;01mNone\u001B[39;00m \u001B[38;5;129;01mand\u001B[39;00m by \u001B[38;5;129;01mis\u001B[39;00m \u001B[38;5;28;01mNone\u001B[39;00m:\n\u001B[32m   9188\u001B[39m     \u001B[38;5;28;01mraise\u001B[39;00m \u001B[38;5;167;01mTypeError\u001B[39;00m(\u001B[33m\"\u001B[39m\u001B[33mYou have to supply one of \u001B[39m\u001B[33m'\u001B[39m\u001B[33mby\u001B[39m\u001B[33m'\u001B[39m\u001B[33m and \u001B[39m\u001B[33m'\u001B[39m\u001B[33mlevel\u001B[39m\u001B[33m'\u001B[39m\u001B[33m\"\u001B[39m)\n\u001B[32m-> \u001B[39m\u001B[32m9190\u001B[39m \u001B[38;5;28;01mreturn\u001B[39;00m \u001B[43mDataFrameGroupBy\u001B[49m\u001B[43m(\u001B[49m\n\u001B[32m   9191\u001B[39m \u001B[43m    \u001B[49m\u001B[43mobj\u001B[49m\u001B[43m=\u001B[49m\u001B[38;5;28;43mself\u001B[39;49m\u001B[43m,\u001B[49m\n\u001B[32m   9192\u001B[39m \u001B[43m    \u001B[49m\u001B[43mkeys\u001B[49m\u001B[43m=\u001B[49m\u001B[43mby\u001B[49m\u001B[43m,\u001B[49m\n\u001B[32m   9193\u001B[39m \u001B[43m    \u001B[49m\u001B[43maxis\u001B[49m\u001B[43m=\u001B[49m\u001B[43maxis\u001B[49m\u001B[43m,\u001B[49m\n\u001B[32m   9194\u001B[39m \u001B[43m    \u001B[49m\u001B[43mlevel\u001B[49m\u001B[43m=\u001B[49m\u001B[43mlevel\u001B[49m\u001B[43m,\u001B[49m\n\u001B[32m   9195\u001B[39m \u001B[43m    \u001B[49m\u001B[43mas_index\u001B[49m\u001B[43m=\u001B[49m\u001B[43mas_index\u001B[49m\u001B[43m,\u001B[49m\n\u001B[32m   9196\u001B[39m \u001B[43m    \u001B[49m\u001B[43msort\u001B[49m\u001B[43m=\u001B[49m\u001B[43msort\u001B[49m\u001B[43m,\u001B[49m\n\u001B[32m   9197\u001B[39m \u001B[43m    \u001B[49m\u001B[43mgroup_keys\u001B[49m\u001B[43m=\u001B[49m\u001B[43mgroup_keys\u001B[49m\u001B[43m,\u001B[49m\n\u001B[32m   9198\u001B[39m \u001B[43m    \u001B[49m\u001B[43mobserved\u001B[49m\u001B[43m=\u001B[49m\u001B[43mobserved\u001B[49m\u001B[43m,\u001B[49m\n\u001B[32m   9199\u001B[39m \u001B[43m    \u001B[49m\u001B[43mdropna\u001B[49m\u001B[43m=\u001B[49m\u001B[43mdropna\u001B[49m\u001B[43m,\u001B[49m\n\u001B[32m   9200\u001B[39m \u001B[43m\u001B[49m\u001B[43m)\u001B[49m\n",
      "\u001B[36mFile \u001B[39m\u001B[32m~\\Desktop\\OSMI_Mental_Health\\venv\\Lib\\site-packages\\pandas\\core\\groupby\\groupby.py:1329\u001B[39m, in \u001B[36mGroupBy.__init__\u001B[39m\u001B[34m(self, obj, keys, axis, level, grouper, exclusions, selection, as_index, sort, group_keys, observed, dropna)\u001B[39m\n\u001B[32m   1326\u001B[39m \u001B[38;5;28mself\u001B[39m.dropna = dropna\n\u001B[32m   1328\u001B[39m \u001B[38;5;28;01mif\u001B[39;00m grouper \u001B[38;5;129;01mis\u001B[39;00m \u001B[38;5;28;01mNone\u001B[39;00m:\n\u001B[32m-> \u001B[39m\u001B[32m1329\u001B[39m     grouper, exclusions, obj = \u001B[43mget_grouper\u001B[49m\u001B[43m(\u001B[49m\n\u001B[32m   1330\u001B[39m \u001B[43m        \u001B[49m\u001B[43mobj\u001B[49m\u001B[43m,\u001B[49m\n\u001B[32m   1331\u001B[39m \u001B[43m        \u001B[49m\u001B[43mkeys\u001B[49m\u001B[43m,\u001B[49m\n\u001B[32m   1332\u001B[39m \u001B[43m        \u001B[49m\u001B[43maxis\u001B[49m\u001B[43m=\u001B[49m\u001B[43maxis\u001B[49m\u001B[43m,\u001B[49m\n\u001B[32m   1333\u001B[39m \u001B[43m        \u001B[49m\u001B[43mlevel\u001B[49m\u001B[43m=\u001B[49m\u001B[43mlevel\u001B[49m\u001B[43m,\u001B[49m\n\u001B[32m   1334\u001B[39m \u001B[43m        \u001B[49m\u001B[43msort\u001B[49m\u001B[43m=\u001B[49m\u001B[43msort\u001B[49m\u001B[43m,\u001B[49m\n\u001B[32m   1335\u001B[39m \u001B[43m        \u001B[49m\u001B[43mobserved\u001B[49m\u001B[43m=\u001B[49m\u001B[38;5;28;43;01mFalse\u001B[39;49;00m\u001B[43m \u001B[49m\u001B[38;5;28;43;01mif\u001B[39;49;00m\u001B[43m \u001B[49m\u001B[43mobserved\u001B[49m\u001B[43m \u001B[49m\u001B[38;5;129;43;01mis\u001B[39;49;00m\u001B[43m \u001B[49m\u001B[43mlib\u001B[49m\u001B[43m.\u001B[49m\u001B[43mno_default\u001B[49m\u001B[43m \u001B[49m\u001B[38;5;28;43;01melse\u001B[39;49;00m\u001B[43m \u001B[49m\u001B[43mobserved\u001B[49m\u001B[43m,\u001B[49m\n\u001B[32m   1336\u001B[39m \u001B[43m        \u001B[49m\u001B[43mdropna\u001B[49m\u001B[43m=\u001B[49m\u001B[38;5;28;43mself\u001B[39;49m\u001B[43m.\u001B[49m\u001B[43mdropna\u001B[49m\u001B[43m,\u001B[49m\n\u001B[32m   1337\u001B[39m \u001B[43m    \u001B[49m\u001B[43m)\u001B[49m\n\u001B[32m   1339\u001B[39m \u001B[38;5;28;01mif\u001B[39;00m observed \u001B[38;5;129;01mis\u001B[39;00m lib.no_default:\n\u001B[32m   1340\u001B[39m     \u001B[38;5;28;01mif\u001B[39;00m \u001B[38;5;28many\u001B[39m(ping._passed_categorical \u001B[38;5;28;01mfor\u001B[39;00m ping \u001B[38;5;129;01min\u001B[39;00m grouper.groupings):\n",
      "\u001B[36mFile \u001B[39m\u001B[32m~\\Desktop\\OSMI_Mental_Health\\venv\\Lib\\site-packages\\pandas\\core\\groupby\\grouper.py:1038\u001B[39m, in \u001B[36mget_grouper\u001B[39m\u001B[34m(obj, key, axis, level, sort, observed, validate, dropna)\u001B[39m\n\u001B[32m   1034\u001B[39m     in_axis, name, gpr = \u001B[38;5;28;01mTrue\u001B[39;00m, gpr, obj[gpr]\n\u001B[32m   1035\u001B[39m     \u001B[38;5;28;01mif\u001B[39;00m gpr.ndim != \u001B[32m1\u001B[39m:\n\u001B[32m   1036\u001B[39m         \u001B[38;5;66;03m# non-unique columns; raise here to get the name in the\u001B[39;00m\n\u001B[32m   1037\u001B[39m         \u001B[38;5;66;03m# exception message\u001B[39;00m\n\u001B[32m-> \u001B[39m\u001B[32m1038\u001B[39m         \u001B[38;5;28;01mraise\u001B[39;00m \u001B[38;5;167;01mValueError\u001B[39;00m(\u001B[33mf\u001B[39m\u001B[33m\"\u001B[39m\u001B[33mGrouper for \u001B[39m\u001B[33m'\u001B[39m\u001B[38;5;132;01m{\u001B[39;00mname\u001B[38;5;132;01m}\u001B[39;00m\u001B[33m'\u001B[39m\u001B[33m not 1-dimensional\u001B[39m\u001B[33m\"\u001B[39m)\n\u001B[32m   1039\u001B[39m     exclusions.add(name)\n\u001B[32m   1040\u001B[39m \u001B[38;5;28;01melif\u001B[39;00m obj._is_level_reference(gpr, axis=axis):\n",
      "\u001B[31mValueError\u001B[39m: Grouper for 'Text Cluster' not 1-dimensional"
     ]
    }
   ],
   "execution_count": 178
  },
  {
   "metadata": {},
   "cell_type": "code",
   "outputs": [],
   "execution_count": null,
   "source": "df[\"\"]",
   "id": "8a63782af66375d5"
  }
 ],
 "metadata": {
  "kernelspec": {
   "display_name": "Python 3",
   "language": "python",
   "name": "python3"
  },
  "language_info": {
   "codemirror_mode": {
    "name": "ipython",
    "version": 2
   },
   "file_extension": ".py",
   "mimetype": "text/x-python",
   "name": "python",
   "nbconvert_exporter": "python",
   "pygments_lexer": "ipython2",
   "version": "2.7.6"
  }
 },
 "nbformat": 4,
 "nbformat_minor": 5
}
