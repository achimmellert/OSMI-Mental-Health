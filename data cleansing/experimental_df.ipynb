{
 "cells": [
  {
   "cell_type": "code",
   "id": "initial_id",
   "metadata": {
    "collapsed": true,
    "ExecuteTime": {
     "end_time": "2025-07-07T19:33:30.984911Z",
     "start_time": "2025-07-07T19:33:30.981441Z"
    }
   },
   "source": [
    "import matplotlib.pyplot as plt\n",
    "import pandas as pd\n",
    "from pathlib import Path\n",
    "import logging\n",
    "\n",
    "from pandas import DataFrame\n",
    "import seaborn as sns\n",
    "import numpy as np\n",
    "from sklearn.preprocessing import OrdinalEncoder, OneHotEncoder"
   ],
   "outputs": [],
   "execution_count": 227
  },
  {
   "metadata": {},
   "cell_type": "code",
   "outputs": [],
   "execution_count": null,
   "source": "url = r\"https://www.kaggle.com/datasets/osmi/mental-health-in-tech-2016?resource=download\"",
   "id": "16832989d16e2a07"
  },
  {
   "metadata": {
    "ExecuteTime": {
     "end_time": "2025-07-05T10:56:02.255924Z",
     "start_time": "2025-07-05T10:56:02.226554Z"
    }
   },
   "cell_type": "code",
   "source": [
    "filepath = Path.cwd().parent / \"data\" / \"raw\" / \"mental-heath-in-tech-2016_20161114.csv\"\n",
    "\n",
    "df_beginning = pd.read_csv(filepath, sep=\",\", ).convert_dtypes(dtype_backend=\"numpy_nullable\")"
   ],
   "id": "c64ee7410f8c1cc1",
   "outputs": [],
   "execution_count": 10
  },
  {
   "metadata": {
    "ExecuteTime": {
     "end_time": "2025-07-05T11:07:06.080453Z",
     "start_time": "2025-07-05T11:07:06.064393Z"
    }
   },
   "cell_type": "code",
   "source": [
    "# Entfernung aller Zeilen, welche mehr als 25% fehlende Werte haben\n",
    "threshold = int(df_beginning.shape[1] * 0.75)\n",
    "df_1 = df_beginning.dropna(thresh=threshold)\n",
    "df_2 = df_beginning[df_beginning.isna().mean(axis=1) <= 0.25] # Methode 2\n",
    "\n",
    "print(f\"Es wurden insgesamt {df_beginning.shape[0] - df_1.shape[0]} Zeilen entfernt.\")\n",
    "\n",
    "df = df_1"
   ],
   "id": "58007c68dcd8cf77",
   "outputs": [
    {
     "name": "stdout",
     "output_type": "stream",
     "text": [
      "Es wurden insgesamt 422 Zeilen entfernt.\n"
     ]
    }
   ],
   "execution_count": 19
  },
  {
   "metadata": {
    "ExecuteTime": {
     "end_time": "2025-07-05T11:11:05.346386Z",
     "start_time": "2025-07-05T11:11:05.338534Z"
    }
   },
   "cell_type": "code",
   "source": [
    "f = Path.cwd().parent / \"data\" / \"edited\" / \"df_25_Prozent_fehlende_Werte_entfernt.pkl\"\n",
    "pd.to_pickle(df, filepath_or_buffer=f)"
   ],
   "id": "2063c84eae5233f3",
   "outputs": [],
   "execution_count": 21
  },
  {
   "metadata": {
    "ExecuteTime": {
     "end_time": "2025-07-05T11:13:39.072814Z",
     "start_time": "2025-07-05T11:13:39.067391Z"
    }
   },
   "cell_type": "code",
   "source": [
    "col_1 = \"Are you self-employed?\"\n",
    "df[col_1].value_counts(dropna=False)"
   ],
   "id": "4d1ca0fc260372cc",
   "outputs": [
    {
     "data": {
      "text/plain": [
       "Are you self-employed?\n",
       "0    986\n",
       "1     25\n",
       "Name: count, dtype: Int64"
      ]
     },
     "execution_count": 22,
     "metadata": {},
     "output_type": "execute_result"
    }
   ],
   "execution_count": 22
  },
  {
   "metadata": {
    "ExecuteTime": {
     "end_time": "2025-07-05T11:14:32.540020Z",
     "start_time": "2025-07-05T11:14:32.534507Z"
    }
   },
   "cell_type": "code",
   "source": [
    "col_2 = \"How many employees does your company or organization have?\"\n",
    "df[col_2].value_counts(dropna=False)"
   ],
   "id": "249027d0b3aff066",
   "outputs": [
    {
     "data": {
      "text/plain": [
       "How many employees does your company or organization have?\n",
       "26-100            256\n",
       "100-500           221\n",
       "More than 1000    216\n",
       "6-25              177\n",
       "500-1000           66\n",
       "1-5                50\n",
       "<NA>               25\n",
       "Name: count, dtype: Int64"
      ]
     },
     "execution_count": 23,
     "metadata": {},
     "output_type": "execute_result"
    }
   ],
   "execution_count": 23
  },
  {
   "metadata": {
    "ExecuteTime": {
     "end_time": "2025-07-05T11:21:06.752125Z",
     "start_time": "2025-07-05T11:21:06.747531Z"
    }
   },
   "cell_type": "code",
   "source": [
    "# Die 25 NaN-Werte werden durch den häufigsten Wert ersetzt.\n",
    "most_common = df[col_2].mode().ravel()[0]\n",
    "most_common"
   ],
   "id": "bcb3a53152a6b5e9",
   "outputs": [
    {
     "name": "stderr",
     "output_type": "stream",
     "text": [
      "C:\\Users\\achim\\AppData\\Local\\Temp\\ipykernel_10196\\1533948221.py:2: FutureWarning: Series.ravel is deprecated. The underlying array is already 1D, so ravel is not necessary.  Use `to_numpy()` for conversion to a numpy array instead.\n",
      "  most_common = df[col_2].mode().ravel()[0]\n"
     ]
    },
    {
     "data": {
      "text/plain": [
       "'26-100'"
      ]
     },
     "execution_count": 26,
     "metadata": {},
     "output_type": "execute_result"
    }
   ],
   "execution_count": 26
  },
  {
   "metadata": {
    "ExecuteTime": {
     "end_time": "2025-07-05T11:35:30.058956Z",
     "start_time": "2025-07-05T11:35:30.052851Z"
    }
   },
   "cell_type": "code",
   "source": [
    "df[col_2] = df[col_2].fillna(most_common)\n",
    "df[col_2].value_counts(dropna=False)"
   ],
   "id": "cba45d42c47827b3",
   "outputs": [
    {
     "name": "stderr",
     "output_type": "stream",
     "text": [
      "C:\\Users\\achim\\AppData\\Local\\Temp\\ipykernel_10196\\1093369154.py:1: SettingWithCopyWarning: \n",
      "A value is trying to be set on a copy of a slice from a DataFrame.\n",
      "Try using .loc[row_indexer,col_indexer] = value instead\n",
      "\n",
      "See the caveats in the documentation: https://pandas.pydata.org/pandas-docs/stable/user_guide/indexing.html#returning-a-view-versus-a-copy\n",
      "  df[col_2] = df[col_2].fillna(most_common)\n"
     ]
    },
    {
     "data": {
      "text/plain": [
       "How many employees does your company or organization have?\n",
       "26-100            281\n",
       "100-500           221\n",
       "More than 1000    216\n",
       "6-25              177\n",
       "500-1000           66\n",
       "1-5                50\n",
       "Name: count, dtype: Int64"
      ]
     },
     "execution_count": 31,
     "metadata": {},
     "output_type": "execute_result"
    }
   ],
   "execution_count": 31
  },
  {
   "metadata": {
    "ExecuteTime": {
     "end_time": "2025-07-05T11:38:40.449840Z",
     "start_time": "2025-07-05T11:38:40.444461Z"
    }
   },
   "cell_type": "code",
   "source": [
    "col_2_order = [\"1-5\", \"6-25\", \"26-100\", \"100-500\", \"500-1000\", \"More than 1000\"]\n",
    "\n",
    "oe_col_2 = OrdinalEncoder(categories=[col_2_order])\n",
    "df[col_2] = oe_col_2.fit_transform(df[[col_2]])"
   ],
   "id": "be2aec48c0ed0aeb",
   "outputs": [
    {
     "name": "stderr",
     "output_type": "stream",
     "text": [
      "C:\\Users\\achim\\AppData\\Local\\Temp\\ipykernel_10196\\194234274.py:4: SettingWithCopyWarning: \n",
      "A value is trying to be set on a copy of a slice from a DataFrame.\n",
      "Try using .loc[row_indexer,col_indexer] = value instead\n",
      "\n",
      "See the caveats in the documentation: https://pandas.pydata.org/pandas-docs/stable/user_guide/indexing.html#returning-a-view-versus-a-copy\n",
      "  df[col_2] = oe_col_2.fit_transform(df[[col_2]])\n"
     ]
    }
   ],
   "execution_count": 34
  },
  {
   "metadata": {
    "ExecuteTime": {
     "end_time": "2025-07-05T11:40:22.239092Z",
     "start_time": "2025-07-05T11:40:22.233505Z"
    }
   },
   "cell_type": "code",
   "source": [
    "col_3 = \"Is your employer primarily a tech company/organization?\"\n",
    "df[col_3].value_counts(dropna=False)"
   ],
   "id": "23e1af47e64fa8b1",
   "outputs": [
    {
     "data": {
      "text/plain": [
       "Is your employer primarily a tech company/organization?\n",
       "1       760\n",
       "0       226\n",
       "<NA>     25\n",
       "Name: count, dtype: Int64"
      ]
     },
     "execution_count": 37,
     "metadata": {},
     "output_type": "execute_result"
    }
   ],
   "execution_count": 37
  },
  {
   "metadata": {
    "ExecuteTime": {
     "end_time": "2025-07-05T11:43:51.091025Z",
     "start_time": "2025-07-05T11:43:51.084514Z"
    }
   },
   "cell_type": "code",
   "source": [
    "most_common_col_3 = df[col_3].mode().to_numpy()[0]\n",
    "df[col_3] = df[col_3].fillna(most_common_col_3)\n",
    "\n",
    "df[col_3].isna().any()"
   ],
   "id": "633a661a66716e08",
   "outputs": [
    {
     "name": "stderr",
     "output_type": "stream",
     "text": [
      "C:\\Users\\achim\\AppData\\Local\\Temp\\ipykernel_10196\\1848652499.py:2: SettingWithCopyWarning: \n",
      "A value is trying to be set on a copy of a slice from a DataFrame.\n",
      "Try using .loc[row_indexer,col_indexer] = value instead\n",
      "\n",
      "See the caveats in the documentation: https://pandas.pydata.org/pandas-docs/stable/user_guide/indexing.html#returning-a-view-versus-a-copy\n",
      "  df[col_3] = df[col_3].fillna(most_common_col_3)\n"
     ]
    },
    {
     "data": {
      "text/plain": [
       "np.False_"
      ]
     },
     "execution_count": 38,
     "metadata": {},
     "output_type": "execute_result"
    }
   ],
   "execution_count": 38
  },
  {
   "metadata": {
    "ExecuteTime": {
     "end_time": "2025-07-05T11:46:00.188965Z",
     "start_time": "2025-07-05T11:46:00.185626Z"
    }
   },
   "cell_type": "code",
   "source": "df[col_3] = df[col_3].astype(float)",
   "id": "6c9f3515da1a220",
   "outputs": [
    {
     "name": "stderr",
     "output_type": "stream",
     "text": [
      "C:\\Users\\achim\\AppData\\Local\\Temp\\ipykernel_10196\\3704815145.py:1: SettingWithCopyWarning: \n",
      "A value is trying to be set on a copy of a slice from a DataFrame.\n",
      "Try using .loc[row_indexer,col_indexer] = value instead\n",
      "\n",
      "See the caveats in the documentation: https://pandas.pydata.org/pandas-docs/stable/user_guide/indexing.html#returning-a-view-versus-a-copy\n",
      "  df[col_3] = df[col_3].astype(float)\n"
     ]
    }
   ],
   "execution_count": 41
  },
  {
   "metadata": {
    "ExecuteTime": {
     "end_time": "2025-07-05T11:50:56.131540Z",
     "start_time": "2025-07-05T11:50:56.126212Z"
    }
   },
   "cell_type": "code",
   "source": [
    "col_4 = \"Is your primary role within your company related to tech/IT?\"\n",
    "df[col_4].value_counts(dropna=False)"
   ],
   "id": "93721a0eebedd7c4",
   "outputs": [
    {
     "data": {
      "text/plain": [
       "Is your primary role within your company related to tech/IT?\n",
       "<NA>    785\n",
       "1       214\n",
       "0        12\n",
       "Name: count, dtype: Int64"
      ]
     },
     "execution_count": 43,
     "metadata": {},
     "output_type": "execute_result"
    }
   ],
   "execution_count": 43
  },
  {
   "metadata": {
    "ExecuteTime": {
     "end_time": "2025-07-05T12:05:27.319407Z",
     "start_time": "2025-07-05T12:05:27.313215Z"
    }
   },
   "cell_type": "code",
   "source": [
    "df[col_4] = df[col_4].astype(\"object\").fillna(\"Missing\")\n",
    "df[col_4] = df[col_4].replace({1: \"Yes\", 0: \"No\"})\n",
    "df[col_4].value_counts(dropna=False)"
   ],
   "id": "660b703db3313bf2",
   "outputs": [
    {
     "name": "stderr",
     "output_type": "stream",
     "text": [
      "C:\\Users\\achim\\AppData\\Local\\Temp\\ipykernel_10196\\132518862.py:1: SettingWithCopyWarning: \n",
      "A value is trying to be set on a copy of a slice from a DataFrame.\n",
      "Try using .loc[row_indexer,col_indexer] = value instead\n",
      "\n",
      "See the caveats in the documentation: https://pandas.pydata.org/pandas-docs/stable/user_guide/indexing.html#returning-a-view-versus-a-copy\n",
      "  df[col_4] = df[col_4].astype(\"object\").fillna(\"Missing\")\n",
      "C:\\Users\\achim\\AppData\\Local\\Temp\\ipykernel_10196\\132518862.py:2: SettingWithCopyWarning: \n",
      "A value is trying to be set on a copy of a slice from a DataFrame.\n",
      "Try using .loc[row_indexer,col_indexer] = value instead\n",
      "\n",
      "See the caveats in the documentation: https://pandas.pydata.org/pandas-docs/stable/user_guide/indexing.html#returning-a-view-versus-a-copy\n",
      "  df[col_4] = df[col_4].replace({1: \"Yes\", 0: \"No\"})\n"
     ]
    },
    {
     "data": {
      "text/plain": [
       "Is your primary role within your company related to tech/IT?\n",
       "Missing    785\n",
       "Yes        214\n",
       "No          12\n",
       "Name: count, dtype: int64"
      ]
     },
     "execution_count": 53,
     "metadata": {},
     "output_type": "execute_result"
    }
   ],
   "execution_count": 53
  },
  {
   "metadata": {
    "ExecuteTime": {
     "end_time": "2025-07-05T12:05:34.708112Z",
     "start_time": "2025-07-05T12:05:34.699711Z"
    }
   },
   "cell_type": "code",
   "source": [
    "ohe_col_4 = OneHotEncoder(sparse_output=False)\n",
    "encoded_data_col_4 = ohe_col_4.fit_transform(df[[col_4]])\n",
    "\n",
    "categories_4 = ohe_col_4.categories_[0]\n",
    "new_cols_4 = [f\"{col_4}_{cat}\" for cat in categories_4]\n",
    "\n",
    "col_4_df = pd.DataFrame(encoded_data_col_4, columns=new_cols_4, index=df.index)\n",
    "df = df.drop(columns=[col_4])\n",
    "\n",
    "df = pd.concat([df, col_4_df], axis=1)"
   ],
   "id": "d59ed076ddc72f64",
   "outputs": [],
   "execution_count": 54
  },
  {
   "metadata": {
    "ExecuteTime": {
     "end_time": "2025-07-05T12:08:34.898772Z",
     "start_time": "2025-07-05T12:08:34.892561Z"
    }
   },
   "cell_type": "code",
   "source": [
    "col_5 = \"Does your employer provide mental health benefits as part of healthcare coverage?\"\n",
    "df[col_5].value_counts(dropna=False)"
   ],
   "id": "bd30d1abc0d44310",
   "outputs": [
    {
     "data": {
      "text/plain": [
       "Does your employer provide mental health benefits as part of healthcare coverage?\n",
       "Yes                                478\n",
       "I don't know                       273\n",
       "No                                 172\n",
       "Not eligible for coverage / N/A     63\n",
       "<NA>                                25\n",
       "Name: count, dtype: Int64"
      ]
     },
     "execution_count": 58,
     "metadata": {},
     "output_type": "execute_result"
    }
   ],
   "execution_count": 58
  },
  {
   "metadata": {
    "ExecuteTime": {
     "end_time": "2025-07-05T12:15:42.265818Z",
     "start_time": "2025-07-05T12:15:42.258214Z"
    }
   },
   "cell_type": "code",
   "source": [
    "df.loc[:, col_5] = df[col_5].replace({\"Not eligible for coverage / N/A\": \"Missing/NA\",\n",
    "                                      pd.NA: \"Missing/NA\",\n",
    "                                      \"I don't know\": \"Missing/NA\"})\n",
    "\n",
    "df[col_5].value_counts(dropna=False)"
   ],
   "id": "a526085fade40d0a",
   "outputs": [
    {
     "data": {
      "text/plain": [
       "Does your employer provide mental health benefits as part of healthcare coverage?\n",
       "Yes           478\n",
       "Missing/NA    361\n",
       "No            172\n",
       "Name: count, dtype: Int64"
      ]
     },
     "execution_count": 59,
     "metadata": {},
     "output_type": "execute_result"
    }
   ],
   "execution_count": 59
  },
  {
   "metadata": {
    "ExecuteTime": {
     "end_time": "2025-07-05T12:25:18.240363Z",
     "start_time": "2025-07-05T12:25:18.231511Z"
    }
   },
   "cell_type": "code",
   "source": [
    "ohe_col_5 = OneHotEncoder(sparse_output=False)\n",
    "encoded_data_col_5 = ohe_col_5.fit_transform(df[[col_5]])\n",
    "\n",
    "categories_5 = ohe_col_5.categories_[0]\n",
    "new_cols_5 = [f\"{col_5}_{cat}\" for cat in categories_5]\n",
    "\n",
    "col_5_df = pd.DataFrame(encoded_data_col_5, columns=new_cols_5, index=df.index)\n",
    "df = df.drop(columns=[col_5])\n",
    "df = pd.concat([df, col_5_df], axis=1)"
   ],
   "id": "e8566f1b3abcad6c",
   "outputs": [],
   "execution_count": 62
  },
  {
   "metadata": {
    "ExecuteTime": {
     "end_time": "2025-07-05T12:26:24.283243Z",
     "start_time": "2025-07-05T12:26:24.277619Z"
    }
   },
   "cell_type": "code",
   "source": [
    "col_6 = \"Do you know the options for mental health care available under your employer-provided coverage?\"\n",
    "df[col_6].value_counts(dropna=False)"
   ],
   "id": "57d39a9955bdf57d",
   "outputs": [
    {
     "data": {
      "text/plain": [
       "Do you know the options for mental health care available under your employer-provided coverage?\n",
       "No               303\n",
       "I am not sure    299\n",
       "Yes              279\n",
       "<NA>             130\n",
       "Name: count, dtype: Int64"
      ]
     },
     "execution_count": 64,
     "metadata": {},
     "output_type": "execute_result"
    }
   ],
   "execution_count": 64
  },
  {
   "metadata": {
    "ExecuteTime": {
     "end_time": "2025-07-05T12:29:11.625597Z",
     "start_time": "2025-07-05T12:29:11.619761Z"
    }
   },
   "cell_type": "code",
   "source": [
    "df.loc[:, col_6] = df[col_6].replace({pd.NA: \"I am not sure\"})\n",
    "df[col_6].value_counts(dropna=False)"
   ],
   "id": "65351a06115d3ef",
   "outputs": [
    {
     "data": {
      "text/plain": [
       "Do you know the options for mental health care available under your employer-provided coverage?\n",
       "I am not sure    429\n",
       "No               303\n",
       "Yes              279\n",
       "Name: count, dtype: Int64"
      ]
     },
     "execution_count": 65,
     "metadata": {},
     "output_type": "execute_result"
    }
   ],
   "execution_count": 65
  },
  {
   "metadata": {
    "ExecuteTime": {
     "end_time": "2025-07-05T12:33:29.132078Z",
     "start_time": "2025-07-05T12:33:29.122998Z"
    }
   },
   "cell_type": "code",
   "source": [
    "ohe_col_6 = OneHotEncoder(sparse_output=False)\n",
    "encoded_data_col_6 = ohe_col_6.fit_transform(df[[col_6]])\n",
    "\n",
    "categories_6 = ohe_col_6.categories_[0]\n",
    "new_cols_6 = [f\"{col_6}_{cat}\" for cat in categories_6]\n",
    "\n",
    "col_6_df = pd.DataFrame(encoded_data_col_6, columns=new_cols_6, index=df.index)\n",
    "df = df.drop(columns=[col_6])\n",
    "df = pd.concat([df, col_6_df], axis=1)"
   ],
   "id": "c6e8c676ee5188fb",
   "outputs": [],
   "execution_count": 66
  },
  {
   "metadata": {
    "ExecuteTime": {
     "end_time": "2025-07-05T12:34:29.113808Z",
     "start_time": "2025-07-05T12:34:29.107429Z"
    }
   },
   "cell_type": "code",
   "source": [
    "col_7 = \"Has your employer ever formally discussed mental health (for example, as part of a wellness campaign or other official communication)?\"\n",
    "df[col_7].value_counts(dropna=False)"
   ],
   "id": "791fb0f1650ab567",
   "outputs": [
    {
     "data": {
      "text/plain": [
       "Has your employer ever formally discussed mental health (for example, as part of a wellness campaign or other official communication)?\n",
       "No              694\n",
       "Yes             200\n",
       "I don't know     92\n",
       "<NA>             25\n",
       "Name: count, dtype: Int64"
      ]
     },
     "execution_count": 68,
     "metadata": {},
     "output_type": "execute_result"
    }
   ],
   "execution_count": 68
  },
  {
   "metadata": {
    "ExecuteTime": {
     "end_time": "2025-07-05T12:35:23.013174Z",
     "start_time": "2025-07-05T12:35:23.009485Z"
    }
   },
   "cell_type": "code",
   "source": "df.loc[:, col_7] = df[col_7].replace({pd.NA: \"I don't know\"})",
   "id": "3bd9c89d28dfd421",
   "outputs": [],
   "execution_count": 69
  },
  {
   "metadata": {
    "ExecuteTime": {
     "end_time": "2025-07-05T12:36:18.322821Z",
     "start_time": "2025-07-05T12:36:18.314966Z"
    }
   },
   "cell_type": "code",
   "source": [
    "ohe_col_7 = OneHotEncoder(sparse_output=False)\n",
    "encoded_data_col_7 = ohe_col_7.fit_transform(df[[col_7]])\n",
    "\n",
    "categories_7 = ohe_col_7.categories_[0]\n",
    "new_cols_7 = [f\"{col_7}_{cat}\" for cat in categories_7]\n",
    "\n",
    "col_7_df = pd.DataFrame(encoded_data_col_7, columns=new_cols_7, index=df.index)\n",
    "df = df.drop(columns=[col_7])\n",
    "df = pd.concat([df, col_7_df], axis=1)"
   ],
   "id": "6c9b2ca2de428db0",
   "outputs": [],
   "execution_count": 70
  },
  {
   "metadata": {
    "ExecuteTime": {
     "end_time": "2025-07-05T12:37:16.744924Z",
     "start_time": "2025-07-05T12:37:16.739389Z"
    }
   },
   "cell_type": "code",
   "source": [
    "col_8 = \"Does your employer offer resources to learn more about mental health concerns and options for seeking help?\"\n",
    "df[col_8].value_counts(dropna=False)"
   ],
   "id": "c301085766b799da",
   "outputs": [
    {
     "data": {
      "text/plain": [
       "Does your employer offer resources to learn more about mental health concerns and options for seeking help?\n",
       "No              444\n",
       "I don't know    281\n",
       "Yes             261\n",
       "<NA>             25\n",
       "Name: count, dtype: Int64"
      ]
     },
     "execution_count": 72,
     "metadata": {},
     "output_type": "execute_result"
    }
   ],
   "execution_count": 72
  },
  {
   "metadata": {
    "ExecuteTime": {
     "end_time": "2025-07-05T12:37:48.269190Z",
     "start_time": "2025-07-05T12:37:48.265948Z"
    }
   },
   "cell_type": "code",
   "source": "df[col_8] = df[col_8].replace({pd.NA: \"I don't know\"})",
   "id": "59bf622793422964",
   "outputs": [],
   "execution_count": 73
  },
  {
   "metadata": {
    "ExecuteTime": {
     "end_time": "2025-07-05T12:42:08.596282Z",
     "start_time": "2025-07-05T12:42:08.587271Z"
    }
   },
   "cell_type": "code",
   "source": [
    "ohe_col_8 = OneHotEncoder(sparse_output=False)\n",
    "encoded_data_col_8 = ohe_col_8.fit_transform(df[[col_8]])\n",
    "\n",
    "categories_8 = ohe_col_8.categories_[0]\n",
    "new_cols_8 = [f\"{col_8}_{cat}\" for cat in categories_8]\n",
    "\n",
    "col_8_df = pd.DataFrame(encoded_data_col_8, columns=new_cols_8, index=df.index)\n",
    "df = df.drop(columns=[col_8])\n",
    "df = pd.concat([df, col_8_df], axis=1)\n"
   ],
   "id": "e9a5c2090e959209",
   "outputs": [],
   "execution_count": 74
  },
  {
   "metadata": {
    "ExecuteTime": {
     "end_time": "2025-07-05T12:42:49.860600Z",
     "start_time": "2025-07-05T12:42:49.854909Z"
    }
   },
   "cell_type": "code",
   "source": [
    "col_9 = \"Is your anonymity protected if you choose to take advantage of mental health or substance abuse treatment resources provided by your employer?\"\n",
    "df[col_9].value_counts(dropna=False)"
   ],
   "id": "edf641bd9424d8db",
   "outputs": [
    {
     "data": {
      "text/plain": [
       "Is your anonymity protected if you choose to take advantage of mental health or substance abuse treatment resources provided by your employer?\n",
       "I don't know    638\n",
       "Yes             284\n",
       "No               64\n",
       "<NA>             25\n",
       "Name: count, dtype: Int64"
      ]
     },
     "execution_count": 75,
     "metadata": {},
     "output_type": "execute_result"
    }
   ],
   "execution_count": 75
  },
  {
   "metadata": {
    "ExecuteTime": {
     "end_time": "2025-07-05T12:43:28.467647Z",
     "start_time": "2025-07-05T12:43:28.464060Z"
    }
   },
   "cell_type": "code",
   "source": "df.loc[:, col_9] = df[col_9].replace({pd.NA: \"I don't know\"})",
   "id": "7a8d151ff7718c60",
   "outputs": [],
   "execution_count": 76
  },
  {
   "metadata": {
    "ExecuteTime": {
     "end_time": "2025-07-05T12:43:56.552977Z",
     "start_time": "2025-07-05T12:43:56.545202Z"
    }
   },
   "cell_type": "code",
   "source": [
    "ohe_col_9 = OneHotEncoder(sparse_output=False)\n",
    "encoded_data_col_9 = ohe_col_9.fit_transform(df[[col_9]])\n",
    "\n",
    "categories_9 = ohe_col_9.categories_[0]\n",
    "new_cols_9 = [f\"{col_9}_{cat}\" for cat in categories_9]\n",
    "\n",
    "col_9_df = pd.DataFrame(encoded_data_col_9, columns=new_cols_9, index=df.index)\n",
    "df = df.drop(columns=[col_9])\n",
    "df = pd.concat([df, col_9_df], axis=1)\n"
   ],
   "id": "706601913e2a94b6",
   "outputs": [],
   "execution_count": 77
  },
  {
   "metadata": {
    "ExecuteTime": {
     "end_time": "2025-07-05T12:44:41.114082Z",
     "start_time": "2025-07-05T12:44:41.108590Z"
    }
   },
   "cell_type": "code",
   "source": [
    "col_10 = \"If a mental health issue prompted you to request a medical leave from work, asking for that leave would be:\"\n",
    "df[col_10].value_counts(dropna=False)"
   ],
   "id": "5fedf727ddf2c213",
   "outputs": [
    {
     "data": {
      "text/plain": [
       "If a mental health issue prompted you to request a medical leave from work, asking for that leave would be:\n",
       "Somewhat easy                 230\n",
       "Very easy                     185\n",
       "Somewhat difficult            175\n",
       "Neither easy nor difficult    162\n",
       "I don't know                  134\n",
       "Very difficult                100\n",
       "<NA>                           25\n",
       "Name: count, dtype: Int64"
      ]
     },
     "execution_count": 78,
     "metadata": {},
     "output_type": "execute_result"
    }
   ],
   "execution_count": 78
  },
  {
   "metadata": {
    "ExecuteTime": {
     "end_time": "2025-07-05T12:45:20.316675Z",
     "start_time": "2025-07-05T12:45:20.312818Z"
    }
   },
   "cell_type": "code",
   "source": "df.loc[:, col_10] = df[col_10].replace({pd.NA: \"I don't know\"})",
   "id": "58d3f6a768e42a82",
   "outputs": [],
   "execution_count": 79
  },
  {
   "metadata": {
    "ExecuteTime": {
     "end_time": "2025-07-05T13:02:25.193767Z",
     "start_time": "2025-07-05T13:02:25.187551Z"
    }
   },
   "cell_type": "code",
   "source": [
    "col_10_order = [\"Very easy\", \"Somewhat easy\", \"Neither easy nor difficult\", \"Somewhat difficult\", \"Very difficult\", \"I don't know\"]\n",
    "\n",
    "oe_col_10 = OrdinalEncoder(categories=[col_10_order])\n",
    "df.loc[:, col_10] = oe_col_10.fit_transform(df[[col_10]]).ravel()\n"
   ],
   "id": "812435658884f2d",
   "outputs": [
    {
     "name": "stderr",
     "output_type": "stream",
     "text": [
      "C:\\Users\\achim\\AppData\\Local\\Temp\\ipykernel_10196\\4082894688.py:4: FutureWarning: Setting an item of incompatible dtype is deprecated and will raise in a future error of pandas. Value '[1. 2. 2. ... 1. 3. 3.]' has dtype incompatible with string, please explicitly cast to a compatible dtype first.\n",
      "  df.loc[:, col_10] = oe_col_10.fit_transform(df[[col_10]]).ravel()\n"
     ]
    }
   ],
   "execution_count": 80
  },
  {
   "metadata": {
    "ExecuteTime": {
     "end_time": "2025-07-05T13:03:56.692489Z",
     "start_time": "2025-07-05T13:03:56.686997Z"
    }
   },
   "cell_type": "code",
   "source": [
    "col_11 = \"Do you think that discussing a mental health disorder with your employer would have negative consequences?\"\n",
    "\n",
    "df[col_11].value_counts(dropna=False)"
   ],
   "id": "534c6fa769517348",
   "outputs": [
    {
     "data": {
      "text/plain": [
       "Do you think that discussing a mental health disorder with your employer would have negative consequences?\n",
       "Maybe    419\n",
       "No       381\n",
       "Yes      186\n",
       "<NA>      25\n",
       "Name: count, dtype: Int64"
      ]
     },
     "execution_count": 82,
     "metadata": {},
     "output_type": "execute_result"
    }
   ],
   "execution_count": 82
  },
  {
   "metadata": {
    "ExecuteTime": {
     "end_time": "2025-07-05T13:09:57.238070Z",
     "start_time": "2025-07-05T13:09:57.233714Z"
    }
   },
   "cell_type": "code",
   "source": "df.loc[:, col_11] = df[col_11].replace({pd.NA: \"Maybe\"})",
   "id": "b0b9783e1cff06fd",
   "outputs": [],
   "execution_count": 83
  },
  {
   "metadata": {
    "ExecuteTime": {
     "end_time": "2025-07-05T13:10:50.104542Z",
     "start_time": "2025-07-05T13:10:50.096669Z"
    }
   },
   "cell_type": "code",
   "source": [
    "ohe_col_11 = OneHotEncoder(sparse_output=False)\n",
    "encoded_data_col_11 = ohe_col_11.fit_transform(df[[col_11]])\n",
    "\n",
    "categories_11 = ohe_col_11.categories_[0]\n",
    "new_cols_11 = [f\"{col_11}_{cat}\" for cat in categories_11]\n",
    "\n",
    "col_11_df = pd.DataFrame(encoded_data_col_11, columns=new_cols_11, index=df.index)\n",
    "df = df.drop(columns=[col_11])\n",
    "df = pd.concat([df, col_11_df], axis=1)\n"
   ],
   "id": "fa8a5f6b3640ee3f",
   "outputs": [],
   "execution_count": 84
  },
  {
   "metadata": {
    "ExecuteTime": {
     "end_time": "2025-07-05T13:12:28.626321Z",
     "start_time": "2025-07-05T13:12:28.620610Z"
    }
   },
   "cell_type": "code",
   "source": [
    "col_12 = \"Do you think that discussing a physical health issue with your employer would have negative consequences?\"\n",
    "df[col_12].value_counts(dropna=False)"
   ],
   "id": "1068297b2d9e9072",
   "outputs": [
    {
     "data": {
      "text/plain": [
       "Do you think that discussing a physical health issue with your employer would have negative consequences?\n",
       "No       724\n",
       "Maybe    228\n",
       "Yes       34\n",
       "<NA>      25\n",
       "Name: count, dtype: Int64"
      ]
     },
     "execution_count": 85,
     "metadata": {},
     "output_type": "execute_result"
    }
   ],
   "execution_count": 85
  },
  {
   "metadata": {
    "ExecuteTime": {
     "end_time": "2025-07-05T13:13:18.865414Z",
     "start_time": "2025-07-05T13:13:18.861596Z"
    }
   },
   "cell_type": "code",
   "source": "df.loc[:, col_12] = df[col_12].replace({pd.NA: \"Maybe\"})",
   "id": "b23472ac01f0fba0",
   "outputs": [],
   "execution_count": 86
  },
  {
   "metadata": {
    "ExecuteTime": {
     "end_time": "2025-07-05T13:13:52.665369Z",
     "start_time": "2025-07-05T13:13:52.657162Z"
    }
   },
   "cell_type": "code",
   "source": [
    "ohe_col_12 = OneHotEncoder(sparse_output=False)\n",
    "encoded_data_col_12 = ohe_col_12.fit_transform(df[[col_12]])\n",
    "\n",
    "categories_12 = ohe_col_12.categories_[0]\n",
    "new_cols_12 = [f\"{col_12}_{cat}\" for cat in categories_12]\n",
    "\n",
    "col_12_df = pd.DataFrame(encoded_data_col_12, columns=new_cols_12, index=df.index)\n",
    "df = df.drop(columns=[col_12])\n",
    "df = pd.concat([df, col_12_df], axis=1)\n"
   ],
   "id": "dc05ca94bd4bb3cb",
   "outputs": [],
   "execution_count": 87
  },
  {
   "metadata": {
    "ExecuteTime": {
     "end_time": "2025-07-05T13:14:30.529207Z",
     "start_time": "2025-07-05T13:14:30.522992Z"
    }
   },
   "cell_type": "code",
   "source": [
    "col_13 = \"Would you feel comfortable discussing a mental health disorder with your coworkers?\"\n",
    "\n",
    "df[col_13].value_counts(dropna=False)"
   ],
   "id": "950216f030e9c81c",
   "outputs": [
    {
     "data": {
      "text/plain": [
       "Would you feel comfortable discussing a mental health disorder with your coworkers?\n",
       "Maybe    413\n",
       "No       328\n",
       "Yes      245\n",
       "<NA>      25\n",
       "Name: count, dtype: Int64"
      ]
     },
     "execution_count": 88,
     "metadata": {},
     "output_type": "execute_result"
    }
   ],
   "execution_count": 88
  },
  {
   "metadata": {
    "ExecuteTime": {
     "end_time": "2025-07-05T13:14:47.164921Z",
     "start_time": "2025-07-05T13:14:47.161558Z"
    }
   },
   "cell_type": "code",
   "source": "df.loc[:, col_13] = df[col_13].replace({pd.NA: \"Maybe\"})",
   "id": "64fac872c4bb4b8",
   "outputs": [],
   "execution_count": 89
  },
  {
   "metadata": {
    "ExecuteTime": {
     "end_time": "2025-07-05T13:15:13.162885Z",
     "start_time": "2025-07-05T13:15:13.154731Z"
    }
   },
   "cell_type": "code",
   "source": [
    "ohe_col_13 = OneHotEncoder(sparse_output=False)\n",
    "encoded_data_col_13 = ohe_col_13.fit_transform(df[[col_13]])\n",
    "\n",
    "categories_13 = ohe_col_13.categories_[0]\n",
    "new_cols_13 = [f\"{col_13}_{cat}\" for cat in categories_13]\n",
    "\n",
    "col_13_df = pd.DataFrame(encoded_data_col_13, columns=new_cols_13, index=df.index)\n",
    "df = df.drop(columns=[col_13])\n",
    "df = pd.concat([df, col_13_df], axis=1)\n"
   ],
   "id": "3dd6d154f33d13b3",
   "outputs": [],
   "execution_count": 90
  },
  {
   "metadata": {
    "ExecuteTime": {
     "end_time": "2025-07-05T13:16:35.318699Z",
     "start_time": "2025-07-05T13:16:35.312680Z"
    }
   },
   "cell_type": "code",
   "source": [
    "col_14 = \"Would you feel comfortable discussing a mental health disorder with your direct supervisor(s)?\"\n",
    "\n",
    "df[col_14].value_counts(dropna=False)"
   ],
   "id": "98c79eca5c2ec943",
   "outputs": [
    {
     "data": {
      "text/plain": [
       "Would you feel comfortable discussing a mental health disorder with your direct supervisor(s)?\n",
       "Yes      388\n",
       "Maybe    326\n",
       "No       272\n",
       "<NA>      25\n",
       "Name: count, dtype: Int64"
      ]
     },
     "execution_count": 93,
     "metadata": {},
     "output_type": "execute_result"
    }
   ],
   "execution_count": 93
  },
  {
   "metadata": {
    "ExecuteTime": {
     "end_time": "2025-07-05T13:16:51.492200Z",
     "start_time": "2025-07-05T13:16:51.488933Z"
    }
   },
   "cell_type": "code",
   "source": "df.loc[:, col_14] = df[col_14].replace({pd.NA: \"Maybe\"})",
   "id": "76c7089f15c4a704",
   "outputs": [],
   "execution_count": 94
  },
  {
   "metadata": {
    "ExecuteTime": {
     "end_time": "2025-07-05T13:17:09.397655Z",
     "start_time": "2025-07-05T13:17:09.389422Z"
    }
   },
   "cell_type": "code",
   "source": [
    "ohe_col_14 = OneHotEncoder(sparse_output=False)\n",
    "encoded_data_col_14 = ohe_col_14.fit_transform(df[[col_14]])\n",
    "\n",
    "categories_14 = ohe_col_14.categories_[0]\n",
    "new_cols_14 = [f\"{col_14}_{cat}\" for cat in categories_14]\n",
    "\n",
    "col_14_df = pd.DataFrame(encoded_data_col_14, columns=new_cols_14, index=df.index)\n",
    "df = df.drop(columns=[col_14])\n",
    "df = pd.concat([df, col_14_df], axis=1)\n"
   ],
   "id": "799c19cb2a292be0",
   "outputs": [],
   "execution_count": 95
  },
  {
   "metadata": {
    "ExecuteTime": {
     "end_time": "2025-07-05T13:18:28.619702Z",
     "start_time": "2025-07-05T13:18:28.613875Z"
    }
   },
   "cell_type": "code",
   "source": [
    "col_15 = \"Do you feel that your employer takes mental health as seriously as physical health?\"\n",
    "\n",
    "df[col_15].value_counts(dropna=False)"
   ],
   "id": "4ba1f6651cdb4391",
   "outputs": [
    {
     "data": {
      "text/plain": [
       "Do you feel that your employer takes mental health as seriously as physical health?\n",
       "I don't know    421\n",
       "Yes             307\n",
       "No              258\n",
       "<NA>             25\n",
       "Name: count, dtype: Int64"
      ]
     },
     "execution_count": 96,
     "metadata": {},
     "output_type": "execute_result"
    }
   ],
   "execution_count": 96
  },
  {
   "metadata": {
    "ExecuteTime": {
     "end_time": "2025-07-05T13:18:48.674925Z",
     "start_time": "2025-07-05T13:18:48.671464Z"
    }
   },
   "cell_type": "code",
   "source": "df.loc[:, col_15] = df[col_15].replace({pd.NA: \"I don't know\"})",
   "id": "798d31e3fe011d33",
   "outputs": [],
   "execution_count": 97
  },
  {
   "metadata": {
    "ExecuteTime": {
     "end_time": "2025-07-05T13:19:06.743777Z",
     "start_time": "2025-07-05T13:19:06.733829Z"
    }
   },
   "cell_type": "code",
   "source": [
    "ohe_col_15 = OneHotEncoder(sparse_output=False)\n",
    "encoded_data_col_15 = ohe_col_15.fit_transform(df[[col_15]])\n",
    "\n",
    "categories_15 = ohe_col_15.categories_[0]\n",
    "new_cols_15 = [f\"{col_15}_{cat}\" for cat in categories_15]\n",
    "\n",
    "col_15_df = pd.DataFrame(encoded_data_col_15, columns=new_cols_15, index=df.index)\n",
    "df = df.drop(columns=[col_15])\n",
    "df = pd.concat([df, col_15_df], axis=1)\n"
   ],
   "id": "2822b9e4c2c23e38",
   "outputs": [],
   "execution_count": 98
  },
  {
   "metadata": {
    "ExecuteTime": {
     "end_time": "2025-07-05T13:19:47.293636Z",
     "start_time": "2025-07-05T13:19:47.287267Z"
    }
   },
   "cell_type": "code",
   "source": [
    "col_16 = \"Have you heard of or observed negative consequences for co-workers who have been open about mental health issues in your workplace?\"\n",
    "df[col_16].value_counts(dropna=False)"
   ],
   "id": "926ec95fee483193",
   "outputs": [
    {
     "data": {
      "text/plain": [
       "Have you heard of or observed negative consequences for co-workers who have been open about mental health issues in your workplace?\n",
       "No      900\n",
       "Yes      86\n",
       "<NA>     25\n",
       "Name: count, dtype: Int64"
      ]
     },
     "execution_count": 99,
     "metadata": {},
     "output_type": "execute_result"
    }
   ],
   "execution_count": 99
  },
  {
   "metadata": {
    "ExecuteTime": {
     "end_time": "2025-07-05T13:25:10.362289Z",
     "start_time": "2025-07-05T13:25:10.358216Z"
    }
   },
   "cell_type": "code",
   "source": "df.loc[:, col_16] = df[col_16].replace({pd.NA: \"Missing\"})",
   "id": "7ea57b70768bcd7e",
   "outputs": [],
   "execution_count": 105
  },
  {
   "metadata": {
    "ExecuteTime": {
     "end_time": "2025-07-05T13:25:12.874536Z",
     "start_time": "2025-07-05T13:25:12.866988Z"
    }
   },
   "cell_type": "code",
   "source": [
    "ohe_col_16 = OneHotEncoder(sparse_output=False)\n",
    "encoded_data_col_16 = ohe_col_16.fit_transform(df[[col_16]])\n",
    "\n",
    "categories_16 = ohe_col_16.categories_[0]\n",
    "new_cols_16 = [f\"{col_16}_{cat}\" for cat in categories_16]\n",
    "\n",
    "col_16_df = pd.DataFrame(encoded_data_col_16, columns=new_cols_16, index=df.index)\n",
    "df = df.drop(columns=[col_16])\n",
    "df = pd.concat([df, col_16_df], axis=1)\n"
   ],
   "id": "a23a6920486f22bc",
   "outputs": [],
   "execution_count": 106
  },
  {
   "metadata": {
    "ExecuteTime": {
     "end_time": "2025-07-05T13:25:15.572915Z",
     "start_time": "2025-07-05T13:25:15.568609Z"
    }
   },
   "cell_type": "code",
   "source": "categories_16",
   "id": "47bd43ddab4e9e5",
   "outputs": [
    {
     "data": {
      "text/plain": [
       "array(['Missing', 'No', 'Yes'], dtype=object)"
      ]
     },
     "execution_count": 107,
     "metadata": {},
     "output_type": "execute_result"
    }
   ],
   "execution_count": 107
  },
  {
   "metadata": {
    "ExecuteTime": {
     "end_time": "2025-07-05T14:15:19.630811Z",
     "start_time": "2025-07-05T14:15:19.559146Z"
    }
   },
   "cell_type": "code",
   "source": [
    "col_17 = \"Do you have medical coverage (private insurance or state-provided) which includes treatment of mental health issues?\"\n",
    "df[col_17].value_counts(dropna=False)"
   ],
   "id": "7565c81ad2fa25f5",
   "outputs": [
    {
     "ename": "KeyError",
     "evalue": "'Do you have medical coverage (private insurance or state-provided) which includes treatment of mental health issues?'",
     "output_type": "error",
     "traceback": [
      "\u001B[31m---------------------------------------------------------------------------\u001B[39m",
      "\u001B[31mKeyError\u001B[39m                                  Traceback (most recent call last)",
      "\u001B[36mFile \u001B[39m\u001B[32m~\\Desktop\\OSMI_Mental_Health\\venv\\Lib\\site-packages\\pandas\\core\\indexes\\base.py:3812\u001B[39m, in \u001B[36mIndex.get_loc\u001B[39m\u001B[34m(self, key)\u001B[39m\n\u001B[32m   3811\u001B[39m \u001B[38;5;28;01mtry\u001B[39;00m:\n\u001B[32m-> \u001B[39m\u001B[32m3812\u001B[39m     \u001B[38;5;28;01mreturn\u001B[39;00m \u001B[38;5;28;43mself\u001B[39;49m\u001B[43m.\u001B[49m\u001B[43m_engine\u001B[49m\u001B[43m.\u001B[49m\u001B[43mget_loc\u001B[49m\u001B[43m(\u001B[49m\u001B[43mcasted_key\u001B[49m\u001B[43m)\u001B[49m\n\u001B[32m   3813\u001B[39m \u001B[38;5;28;01mexcept\u001B[39;00m \u001B[38;5;167;01mKeyError\u001B[39;00m \u001B[38;5;28;01mas\u001B[39;00m err:\n",
      "\u001B[36mFile \u001B[39m\u001B[32mpandas/_libs/index.pyx:167\u001B[39m, in \u001B[36mpandas._libs.index.IndexEngine.get_loc\u001B[39m\u001B[34m()\u001B[39m\n",
      "\u001B[36mFile \u001B[39m\u001B[32mpandas/_libs/index.pyx:196\u001B[39m, in \u001B[36mpandas._libs.index.IndexEngine.get_loc\u001B[39m\u001B[34m()\u001B[39m\n",
      "\u001B[36mFile \u001B[39m\u001B[32mpandas/_libs/hashtable_class_helper.pxi:7088\u001B[39m, in \u001B[36mpandas._libs.hashtable.PyObjectHashTable.get_item\u001B[39m\u001B[34m()\u001B[39m\n",
      "\u001B[36mFile \u001B[39m\u001B[32mpandas/_libs/hashtable_class_helper.pxi:7096\u001B[39m, in \u001B[36mpandas._libs.hashtable.PyObjectHashTable.get_item\u001B[39m\u001B[34m()\u001B[39m\n",
      "\u001B[31mKeyError\u001B[39m: 'Do you have medical coverage (private insurance or state-provided) which includes treatment of mental health issues?'",
      "\nThe above exception was the direct cause of the following exception:\n",
      "\u001B[31mKeyError\u001B[39m                                  Traceback (most recent call last)",
      "\u001B[36mCell\u001B[39m\u001B[36m \u001B[39m\u001B[32mIn[108]\u001B[39m\u001B[32m, line 2\u001B[39m\n\u001B[32m      1\u001B[39m col_17 = \u001B[33m\"\u001B[39m\u001B[33mDo you have medical coverage (private insurance or state-provided) which includes treatment of mental health issues?\u001B[39m\u001B[33m\"\u001B[39m\n\u001B[32m----> \u001B[39m\u001B[32m2\u001B[39m \u001B[43mdf\u001B[49m\u001B[43m[\u001B[49m\u001B[43mcol_17\u001B[49m\u001B[43m]\u001B[49m.value_counts(dropna=\u001B[38;5;28;01mFalse\u001B[39;00m)\n",
      "\u001B[36mFile \u001B[39m\u001B[32m~\\Desktop\\OSMI_Mental_Health\\venv\\Lib\\site-packages\\pandas\\core\\frame.py:4107\u001B[39m, in \u001B[36mDataFrame.__getitem__\u001B[39m\u001B[34m(self, key)\u001B[39m\n\u001B[32m   4105\u001B[39m \u001B[38;5;28;01mif\u001B[39;00m \u001B[38;5;28mself\u001B[39m.columns.nlevels > \u001B[32m1\u001B[39m:\n\u001B[32m   4106\u001B[39m     \u001B[38;5;28;01mreturn\u001B[39;00m \u001B[38;5;28mself\u001B[39m._getitem_multilevel(key)\n\u001B[32m-> \u001B[39m\u001B[32m4107\u001B[39m indexer = \u001B[38;5;28;43mself\u001B[39;49m\u001B[43m.\u001B[49m\u001B[43mcolumns\u001B[49m\u001B[43m.\u001B[49m\u001B[43mget_loc\u001B[49m\u001B[43m(\u001B[49m\u001B[43mkey\u001B[49m\u001B[43m)\u001B[49m\n\u001B[32m   4108\u001B[39m \u001B[38;5;28;01mif\u001B[39;00m is_integer(indexer):\n\u001B[32m   4109\u001B[39m     indexer = [indexer]\n",
      "\u001B[36mFile \u001B[39m\u001B[32m~\\Desktop\\OSMI_Mental_Health\\venv\\Lib\\site-packages\\pandas\\core\\indexes\\base.py:3819\u001B[39m, in \u001B[36mIndex.get_loc\u001B[39m\u001B[34m(self, key)\u001B[39m\n\u001B[32m   3814\u001B[39m     \u001B[38;5;28;01mif\u001B[39;00m \u001B[38;5;28misinstance\u001B[39m(casted_key, \u001B[38;5;28mslice\u001B[39m) \u001B[38;5;129;01mor\u001B[39;00m (\n\u001B[32m   3815\u001B[39m         \u001B[38;5;28misinstance\u001B[39m(casted_key, abc.Iterable)\n\u001B[32m   3816\u001B[39m         \u001B[38;5;129;01mand\u001B[39;00m \u001B[38;5;28many\u001B[39m(\u001B[38;5;28misinstance\u001B[39m(x, \u001B[38;5;28mslice\u001B[39m) \u001B[38;5;28;01mfor\u001B[39;00m x \u001B[38;5;129;01min\u001B[39;00m casted_key)\n\u001B[32m   3817\u001B[39m     ):\n\u001B[32m   3818\u001B[39m         \u001B[38;5;28;01mraise\u001B[39;00m InvalidIndexError(key)\n\u001B[32m-> \u001B[39m\u001B[32m3819\u001B[39m     \u001B[38;5;28;01mraise\u001B[39;00m \u001B[38;5;167;01mKeyError\u001B[39;00m(key) \u001B[38;5;28;01mfrom\u001B[39;00m\u001B[38;5;250m \u001B[39m\u001B[34;01merr\u001B[39;00m\n\u001B[32m   3820\u001B[39m \u001B[38;5;28;01mexcept\u001B[39;00m \u001B[38;5;167;01mTypeError\u001B[39;00m:\n\u001B[32m   3821\u001B[39m     \u001B[38;5;66;03m# If we have a listlike key, _check_indexing_error will raise\u001B[39;00m\n\u001B[32m   3822\u001B[39m     \u001B[38;5;66;03m#  InvalidIndexError. Otherwise we fall through and re-raise\u001B[39;00m\n\u001B[32m   3823\u001B[39m     \u001B[38;5;66;03m#  the TypeError.\u001B[39;00m\n\u001B[32m   3824\u001B[39m     \u001B[38;5;28mself\u001B[39m._check_indexing_error(key)\n",
      "\u001B[31mKeyError\u001B[39m: 'Do you have medical coverage (private insurance or state-provided) which includes treatment of mental health issues?'"
     ]
    }
   ],
   "execution_count": 108
  },
  {
   "metadata": {
    "ExecuteTime": {
     "end_time": "2025-07-05T14:17:49.444716Z",
     "start_time": "2025-07-05T14:17:49.438413Z"
    }
   },
   "cell_type": "code",
   "source": [
    "col_18 = \"Do you know local or online resources to seek help for a mental health disorder?\"\n",
    "df[col_18].value_counts(dropna=False)\n"
   ],
   "id": "c0ea76ecb82fc994",
   "outputs": [
    {
     "data": {
      "text/plain": [
       "Do you know local or online resources to seek help for a mental health disorder?\n",
       "<NA>                    986\n",
       "Yes, I know several      13\n",
       "I know some              11\n",
       "No, I don't know any      1\n",
       "Name: count, dtype: Int64"
      ]
     },
     "execution_count": 110,
     "metadata": {},
     "output_type": "execute_result"
    }
   ],
   "execution_count": 110
  },
  {
   "metadata": {
    "ExecuteTime": {
     "end_time": "2025-07-05T14:22:42.477928Z",
     "start_time": "2025-07-05T14:22:42.474220Z"
    }
   },
   "cell_type": "code",
   "source": "df = df.drop(columns=[col_18])",
   "id": "b24977b6c8be30b",
   "outputs": [],
   "execution_count": 131
  },
  {
   "metadata": {
    "ExecuteTime": {
     "end_time": "2025-07-05T14:23:24.004645Z",
     "start_time": "2025-07-05T14:23:23.999084Z"
    }
   },
   "cell_type": "code",
   "source": [
    "col_19 = \"If you have been diagnosed or treated for a mental health disorder, do you ever reveal this to clients or business contacts?\"\n",
    "df[col_19].value_counts(dropna=False)"
   ],
   "id": "3d28c2f4d993cbc2",
   "outputs": [
    {
     "data": {
      "text/plain": [
       "If you have been diagnosed or treated for a mental health disorder, do you ever reveal this to clients or business contacts?\n",
       "<NA>                                         986\n",
       "Sometimes, if it comes up                     13\n",
       "No, because it would impact me negatively      9\n",
       "Yes, always                                    2\n",
       "No, because it doesn't matter                  1\n",
       "Name: count, dtype: Int64"
      ]
     },
     "execution_count": 133,
     "metadata": {},
     "output_type": "execute_result"
    }
   ],
   "execution_count": 133
  },
  {
   "metadata": {
    "ExecuteTime": {
     "end_time": "2025-07-05T14:23:50.451948Z",
     "start_time": "2025-07-05T14:23:50.448264Z"
    }
   },
   "cell_type": "code",
   "source": "df = df.drop(columns=[col_19])",
   "id": "c5aecd656451444d",
   "outputs": [],
   "execution_count": 134
  },
  {
   "metadata": {
    "ExecuteTime": {
     "end_time": "2025-07-05T14:24:21.475686Z",
     "start_time": "2025-07-05T14:24:21.470201Z"
    }
   },
   "cell_type": "code",
   "source": [
    "col_20 = \"If you have revealed a mental health issue to a client or business contact, do you believe this has impacted you negatively?\"\n",
    "df[col_20].value_counts(dropna=False)\n"
   ],
   "id": "85e5fdae7c2e181d",
   "outputs": [
    {
     "data": {
      "text/plain": [
       "If you have revealed a mental health issue to a client or business contact, do you believe this has impacted you negatively?\n",
       "<NA>            986\n",
       "I'm not sure     11\n",
       "No                7\n",
       "Yes               7\n",
       "Name: count, dtype: Int64"
      ]
     },
     "execution_count": 136,
     "metadata": {},
     "output_type": "execute_result"
    }
   ],
   "execution_count": 136
  },
  {
   "metadata": {
    "ExecuteTime": {
     "end_time": "2025-07-05T14:24:45.226962Z",
     "start_time": "2025-07-05T14:24:45.222842Z"
    }
   },
   "cell_type": "code",
   "source": "df = df.drop(columns=[col_20])",
   "id": "b7d12469212f7ff8",
   "outputs": [],
   "execution_count": 137
  },
  {
   "metadata": {
    "ExecuteTime": {
     "end_time": "2025-07-05T14:25:08.866588Z",
     "start_time": "2025-07-05T14:25:08.861049Z"
    }
   },
   "cell_type": "code",
   "source": [
    "col_21 = \"If you have been diagnosed or treated for a mental health disorder, do you ever reveal this to coworkers or employees?\"\n",
    "df[col_21].value_counts(dropna=False)\n"
   ],
   "id": "3cc2464f87989343",
   "outputs": [
    {
     "data": {
      "text/plain": [
       "If you have been diagnosed or treated for a mental health disorder, do you ever reveal this to coworkers or employees?\n",
       "<NA>                                         986\n",
       "Sometimes, if it comes up                     18\n",
       "No, because it would impact me negatively      3\n",
       "Yes, always                                    2\n",
       "No, because it doesn't matter                  1\n",
       "Not applicable to me                           1\n",
       "Name: count, dtype: Int64"
      ]
     },
     "execution_count": 138,
     "metadata": {},
     "output_type": "execute_result"
    }
   ],
   "execution_count": 138
  },
  {
   "metadata": {
    "ExecuteTime": {
     "end_time": "2025-07-05T14:25:19.559259Z",
     "start_time": "2025-07-05T14:25:19.554542Z"
    }
   },
   "cell_type": "code",
   "source": "df = df.drop(columns=[col_21])",
   "id": "f1a150e62767f9ec",
   "outputs": [],
   "execution_count": 139
  },
  {
   "metadata": {
    "ExecuteTime": {
     "end_time": "2025-07-05T14:25:44.740985Z",
     "start_time": "2025-07-05T14:25:44.735196Z"
    }
   },
   "cell_type": "code",
   "source": [
    "col_22 = \"If you have revealed a mental health issue to a coworker or employee, do you believe this has impacted you negatively?\"\n",
    "df[col_22].value_counts(dropna=False)\n"
   ],
   "id": "accb3e7af838c6ae",
   "outputs": [
    {
     "data": {
      "text/plain": [
       "If you have revealed a mental health issue to a coworker or employee, do you believe this has impacted you negatively?\n",
       "<NA>                    986\n",
       "I'm not sure              9\n",
       "Yes                       8\n",
       "No                        6\n",
       "Not applicable to me      2\n",
       "Name: count, dtype: Int64"
      ]
     },
     "execution_count": 140,
     "metadata": {},
     "output_type": "execute_result"
    }
   ],
   "execution_count": 140
  },
  {
   "metadata": {
    "ExecuteTime": {
     "end_time": "2025-07-05T14:26:11.642189Z",
     "start_time": "2025-07-05T14:26:11.565806Z"
    }
   },
   "cell_type": "code",
   "source": "df = df.drop(columns=[col_22])",
   "id": "da0891a1365e0d",
   "outputs": [
    {
     "ename": "KeyError",
     "evalue": "\"['If you have revealed a mental health issue to a coworker or employee, do you believe this has impacted you negatively?'] not found in axis\"",
     "output_type": "error",
     "traceback": [
      "\u001B[31m---------------------------------------------------------------------------\u001B[39m",
      "\u001B[31mKeyError\u001B[39m                                  Traceback (most recent call last)",
      "\u001B[36mCell\u001B[39m\u001B[36m \u001B[39m\u001B[32mIn[142]\u001B[39m\u001B[32m, line 1\u001B[39m\n\u001B[32m----> \u001B[39m\u001B[32m1\u001B[39m df = \u001B[43mdf\u001B[49m\u001B[43m.\u001B[49m\u001B[43mdrop\u001B[49m\u001B[43m(\u001B[49m\u001B[43mcolumns\u001B[49m\u001B[43m=\u001B[49m\u001B[43m[\u001B[49m\u001B[43mcol_22\u001B[49m\u001B[43m]\u001B[49m\u001B[43m)\u001B[49m\n",
      "\u001B[36mFile \u001B[39m\u001B[32m~\\Desktop\\OSMI_Mental_Health\\venv\\Lib\\site-packages\\pandas\\core\\frame.py:5588\u001B[39m, in \u001B[36mDataFrame.drop\u001B[39m\u001B[34m(self, labels, axis, index, columns, level, inplace, errors)\u001B[39m\n\u001B[32m   5440\u001B[39m \u001B[38;5;28;01mdef\u001B[39;00m\u001B[38;5;250m \u001B[39m\u001B[34mdrop\u001B[39m(\n\u001B[32m   5441\u001B[39m     \u001B[38;5;28mself\u001B[39m,\n\u001B[32m   5442\u001B[39m     labels: IndexLabel | \u001B[38;5;28;01mNone\u001B[39;00m = \u001B[38;5;28;01mNone\u001B[39;00m,\n\u001B[32m   (...)\u001B[39m\u001B[32m   5449\u001B[39m     errors: IgnoreRaise = \u001B[33m\"\u001B[39m\u001B[33mraise\u001B[39m\u001B[33m\"\u001B[39m,\n\u001B[32m   5450\u001B[39m ) -> DataFrame | \u001B[38;5;28;01mNone\u001B[39;00m:\n\u001B[32m   5451\u001B[39m \u001B[38;5;250m    \u001B[39m\u001B[33;03m\"\"\"\u001B[39;00m\n\u001B[32m   5452\u001B[39m \u001B[33;03m    Drop specified labels from rows or columns.\u001B[39;00m\n\u001B[32m   5453\u001B[39m \n\u001B[32m   (...)\u001B[39m\u001B[32m   5586\u001B[39m \u001B[33;03m            weight  1.0     0.8\u001B[39;00m\n\u001B[32m   5587\u001B[39m \u001B[33;03m    \"\"\"\u001B[39;00m\n\u001B[32m-> \u001B[39m\u001B[32m5588\u001B[39m     \u001B[38;5;28;01mreturn\u001B[39;00m \u001B[38;5;28;43msuper\u001B[39;49m\u001B[43m(\u001B[49m\u001B[43m)\u001B[49m\u001B[43m.\u001B[49m\u001B[43mdrop\u001B[49m\u001B[43m(\u001B[49m\n\u001B[32m   5589\u001B[39m \u001B[43m        \u001B[49m\u001B[43mlabels\u001B[49m\u001B[43m=\u001B[49m\u001B[43mlabels\u001B[49m\u001B[43m,\u001B[49m\n\u001B[32m   5590\u001B[39m \u001B[43m        \u001B[49m\u001B[43maxis\u001B[49m\u001B[43m=\u001B[49m\u001B[43maxis\u001B[49m\u001B[43m,\u001B[49m\n\u001B[32m   5591\u001B[39m \u001B[43m        \u001B[49m\u001B[43mindex\u001B[49m\u001B[43m=\u001B[49m\u001B[43mindex\u001B[49m\u001B[43m,\u001B[49m\n\u001B[32m   5592\u001B[39m \u001B[43m        \u001B[49m\u001B[43mcolumns\u001B[49m\u001B[43m=\u001B[49m\u001B[43mcolumns\u001B[49m\u001B[43m,\u001B[49m\n\u001B[32m   5593\u001B[39m \u001B[43m        \u001B[49m\u001B[43mlevel\u001B[49m\u001B[43m=\u001B[49m\u001B[43mlevel\u001B[49m\u001B[43m,\u001B[49m\n\u001B[32m   5594\u001B[39m \u001B[43m        \u001B[49m\u001B[43minplace\u001B[49m\u001B[43m=\u001B[49m\u001B[43minplace\u001B[49m\u001B[43m,\u001B[49m\n\u001B[32m   5595\u001B[39m \u001B[43m        \u001B[49m\u001B[43merrors\u001B[49m\u001B[43m=\u001B[49m\u001B[43merrors\u001B[49m\u001B[43m,\u001B[49m\n\u001B[32m   5596\u001B[39m \u001B[43m    \u001B[49m\u001B[43m)\u001B[49m\n",
      "\u001B[36mFile \u001B[39m\u001B[32m~\\Desktop\\OSMI_Mental_Health\\venv\\Lib\\site-packages\\pandas\\core\\generic.py:4807\u001B[39m, in \u001B[36mNDFrame.drop\u001B[39m\u001B[34m(self, labels, axis, index, columns, level, inplace, errors)\u001B[39m\n\u001B[32m   4805\u001B[39m \u001B[38;5;28;01mfor\u001B[39;00m axis, labels \u001B[38;5;129;01min\u001B[39;00m axes.items():\n\u001B[32m   4806\u001B[39m     \u001B[38;5;28;01mif\u001B[39;00m labels \u001B[38;5;129;01mis\u001B[39;00m \u001B[38;5;129;01mnot\u001B[39;00m \u001B[38;5;28;01mNone\u001B[39;00m:\n\u001B[32m-> \u001B[39m\u001B[32m4807\u001B[39m         obj = \u001B[43mobj\u001B[49m\u001B[43m.\u001B[49m\u001B[43m_drop_axis\u001B[49m\u001B[43m(\u001B[49m\u001B[43mlabels\u001B[49m\u001B[43m,\u001B[49m\u001B[43m \u001B[49m\u001B[43maxis\u001B[49m\u001B[43m,\u001B[49m\u001B[43m \u001B[49m\u001B[43mlevel\u001B[49m\u001B[43m=\u001B[49m\u001B[43mlevel\u001B[49m\u001B[43m,\u001B[49m\u001B[43m \u001B[49m\u001B[43merrors\u001B[49m\u001B[43m=\u001B[49m\u001B[43merrors\u001B[49m\u001B[43m)\u001B[49m\n\u001B[32m   4809\u001B[39m \u001B[38;5;28;01mif\u001B[39;00m inplace:\n\u001B[32m   4810\u001B[39m     \u001B[38;5;28mself\u001B[39m._update_inplace(obj)\n",
      "\u001B[36mFile \u001B[39m\u001B[32m~\\Desktop\\OSMI_Mental_Health\\venv\\Lib\\site-packages\\pandas\\core\\generic.py:4849\u001B[39m, in \u001B[36mNDFrame._drop_axis\u001B[39m\u001B[34m(self, labels, axis, level, errors, only_slice)\u001B[39m\n\u001B[32m   4847\u001B[39m         new_axis = axis.drop(labels, level=level, errors=errors)\n\u001B[32m   4848\u001B[39m     \u001B[38;5;28;01melse\u001B[39;00m:\n\u001B[32m-> \u001B[39m\u001B[32m4849\u001B[39m         new_axis = \u001B[43maxis\u001B[49m\u001B[43m.\u001B[49m\u001B[43mdrop\u001B[49m\u001B[43m(\u001B[49m\u001B[43mlabels\u001B[49m\u001B[43m,\u001B[49m\u001B[43m \u001B[49m\u001B[43merrors\u001B[49m\u001B[43m=\u001B[49m\u001B[43merrors\u001B[49m\u001B[43m)\u001B[49m\n\u001B[32m   4850\u001B[39m     indexer = axis.get_indexer(new_axis)\n\u001B[32m   4852\u001B[39m \u001B[38;5;66;03m# Case for non-unique axis\u001B[39;00m\n\u001B[32m   4853\u001B[39m \u001B[38;5;28;01melse\u001B[39;00m:\n",
      "\u001B[36mFile \u001B[39m\u001B[32m~\\Desktop\\OSMI_Mental_Health\\venv\\Lib\\site-packages\\pandas\\core\\indexes\\base.py:7098\u001B[39m, in \u001B[36mIndex.drop\u001B[39m\u001B[34m(self, labels, errors)\u001B[39m\n\u001B[32m   7096\u001B[39m \u001B[38;5;28;01mif\u001B[39;00m mask.any():\n\u001B[32m   7097\u001B[39m     \u001B[38;5;28;01mif\u001B[39;00m errors != \u001B[33m\"\u001B[39m\u001B[33mignore\u001B[39m\u001B[33m\"\u001B[39m:\n\u001B[32m-> \u001B[39m\u001B[32m7098\u001B[39m         \u001B[38;5;28;01mraise\u001B[39;00m \u001B[38;5;167;01mKeyError\u001B[39;00m(\u001B[33mf\u001B[39m\u001B[33m\"\u001B[39m\u001B[38;5;132;01m{\u001B[39;00mlabels[mask].tolist()\u001B[38;5;132;01m}\u001B[39;00m\u001B[33m not found in axis\u001B[39m\u001B[33m\"\u001B[39m)\n\u001B[32m   7099\u001B[39m     indexer = indexer[~mask]\n\u001B[32m   7100\u001B[39m \u001B[38;5;28;01mreturn\u001B[39;00m \u001B[38;5;28mself\u001B[39m.delete(indexer)\n",
      "\u001B[31mKeyError\u001B[39m: \"['If you have revealed a mental health issue to a coworker or employee, do you believe this has impacted you negatively?'] not found in axis\""
     ]
    }
   ],
   "execution_count": 142
  },
  {
   "metadata": {
    "ExecuteTime": {
     "end_time": "2025-07-05T14:26:48.261726Z",
     "start_time": "2025-07-05T14:26:48.255416Z"
    }
   },
   "cell_type": "code",
   "source": [
    "col_23 = \"Do you believe your productivity is ever affected by a mental health issue?\"\n",
    "df[col_23].value_counts(dropna=False)\n"
   ],
   "id": "8fee99062124176e",
   "outputs": [
    {
     "data": {
      "text/plain": [
       "Do you believe your productivity is ever affected by a mental health issue?\n",
       "<NA>    986\n",
       "Yes      25\n",
       "Name: count, dtype: Int64"
      ]
     },
     "execution_count": 143,
     "metadata": {},
     "output_type": "execute_result"
    }
   ],
   "execution_count": 143
  },
  {
   "metadata": {
    "ExecuteTime": {
     "end_time": "2025-07-05T14:27:16.980367Z",
     "start_time": "2025-07-05T14:27:16.976742Z"
    }
   },
   "cell_type": "code",
   "source": "df = df.drop(columns=[col_23])",
   "id": "a2556e9bdbb1f668",
   "outputs": [],
   "execution_count": 144
  },
  {
   "metadata": {
    "ExecuteTime": {
     "end_time": "2025-07-05T14:27:38.761496Z",
     "start_time": "2025-07-05T14:27:38.755928Z"
    }
   },
   "cell_type": "code",
   "source": [
    "col_24 = \"If yes, what percentage of your work time (time performing primary or secondary job functions) is affected by a mental health issue?\"\n",
    "df[col_24].value_counts(dropna=False)\n"
   ],
   "id": "3c977e41e11d8e70",
   "outputs": [
    {
     "data": {
      "text/plain": [
       "If yes, what percentage of your work time (time performing primary or secondary job functions) is affected by a mental health issue?\n",
       "<NA>       986\n",
       "1-25%       10\n",
       "26-50%       7\n",
       "51-75%       6\n",
       "76-100%      2\n",
       "Name: count, dtype: Int64"
      ]
     },
     "execution_count": 145,
     "metadata": {},
     "output_type": "execute_result"
    }
   ],
   "execution_count": 145
  },
  {
   "metadata": {
    "ExecuteTime": {
     "end_time": "2025-07-05T14:27:55.486173Z",
     "start_time": "2025-07-05T14:27:55.481982Z"
    }
   },
   "cell_type": "code",
   "source": "df = df.drop(columns=[col_24])",
   "id": "1d80f04935763329",
   "outputs": [],
   "execution_count": 146
  },
  {
   "metadata": {
    "ExecuteTime": {
     "end_time": "2025-07-05T14:28:22.170502Z",
     "start_time": "2025-07-05T14:28:22.164108Z"
    }
   },
   "cell_type": "code",
   "source": [
    "col_25 = \"Do you have previous employers?\"\n",
    "df[col_25].value_counts(dropna=False)\n"
   ],
   "id": "bd00400f43e2e22b",
   "outputs": [
    {
     "data": {
      "text/plain": [
       "Do you have previous employers?\n",
       "1    1011\n",
       "Name: count, dtype: Int64"
      ]
     },
     "execution_count": 147,
     "metadata": {},
     "output_type": "execute_result"
    }
   ],
   "execution_count": 147
  },
  {
   "metadata": {
    "ExecuteTime": {
     "end_time": "2025-07-05T14:29:21.309878Z",
     "start_time": "2025-07-05T14:29:21.306144Z"
    }
   },
   "cell_type": "code",
   "source": "df = df.drop(columns=[col_25])",
   "id": "b27dc68fcee3ba2d",
   "outputs": [],
   "execution_count": 148
  },
  {
   "metadata": {
    "ExecuteTime": {
     "end_time": "2025-07-05T14:29:46.333048Z",
     "start_time": "2025-07-05T14:29:46.327862Z"
    }
   },
   "cell_type": "code",
   "source": [
    "col_26 = \"Have your previous employers provided mental health benefits?\"\n",
    "df[col_26].value_counts(dropna=False)"
   ],
   "id": "62257cfef1d0ae15",
   "outputs": [
    {
     "data": {
      "text/plain": [
       "Have your previous employers provided mental health benefits?\n",
       "Some did             335\n",
       "No, none did         272\n",
       "I don't know         250\n",
       "Yes, they all did    154\n",
       "Name: count, dtype: Int64"
      ]
     },
     "execution_count": 149,
     "metadata": {},
     "output_type": "execute_result"
    }
   ],
   "execution_count": 149
  },
  {
   "metadata": {
    "ExecuteTime": {
     "end_time": "2025-07-05T14:34:09.553353Z",
     "start_time": "2025-07-05T14:34:09.547514Z"
    }
   },
   "cell_type": "code",
   "source": [
    "col_26_order = [\n",
    "    \"No, none did\",         # 0 → niedrigstes Vertrauen\n",
    "    \"Some did\",             # 1\n",
    "    \"Yes, they all did\",    # 2 → höchstes Vertrauen\n",
    "    \"I don't know\"          # 3 → optional am Ende\n",
    "]\n",
    "\n",
    "oe_col_26 = OrdinalEncoder(categories=[col_26_order])\n",
    "df.loc[:, col_26] = oe_col_26.fit_transform(df[[col_26]]).ravel()"
   ],
   "id": "3bf41595561209e3",
   "outputs": [
    {
     "name": "stderr",
     "output_type": "stream",
     "text": [
      "C:\\Users\\achim\\AppData\\Local\\Temp\\ipykernel_10196\\139945965.py:9: FutureWarning: Setting an item of incompatible dtype is deprecated and will raise in a future error of pandas. Value '[2. 0. 3. ... 1. 1. 0.]' has dtype incompatible with string, please explicitly cast to a compatible dtype first.\n",
      "  df.loc[:, col_26] = oe_col_26.fit_transform(df[[col_26]]).ravel()\n"
     ]
    }
   ],
   "execution_count": 150
  },
  {
   "metadata": {
    "ExecuteTime": {
     "end_time": "2025-07-05T14:34:55.023783Z",
     "start_time": "2025-07-05T14:34:55.018121Z"
    }
   },
   "cell_type": "code",
   "source": [
    "col_27 = \"Were you aware of the options for mental health care provided by your previous employers?\"\n",
    "df[col_27].value_counts(dropna=False)"
   ],
   "id": "e9c42ea4556b810b",
   "outputs": [
    {
     "data": {
      "text/plain": [
       "Were you aware of the options for mental health care provided by your previous employers?\n",
       "N/A (not currently aware)          442\n",
       "I was aware of some                327\n",
       "Yes, I was aware of all of them    144\n",
       "No, I only became aware later       98\n",
       "Name: count, dtype: Int64"
      ]
     },
     "execution_count": 151,
     "metadata": {},
     "output_type": "execute_result"
    }
   ],
   "execution_count": 151
  },
  {
   "metadata": {
    "ExecuteTime": {
     "end_time": "2025-07-05T14:37:51.221499Z",
     "start_time": "2025-07-05T14:37:51.216720Z"
    }
   },
   "cell_type": "code",
   "source": [
    "col_27_order = [\n",
    "    \"Yes, I was aware of all of them\",     # 0 → volle Awareness\n",
    "    \"I was aware of some\",                 # 1\n",
    "    \"No, I only became aware later\",       # 2\n",
    "    \"N/A (not currently aware)\"            # 3 → aktuell keine Awareness\n",
    "]\n",
    "\n",
    "oe_col_27 = OrdinalEncoder(categories=[col_27_order])\n",
    "df[col_27] = oe_col_27.fit_transform(df[[col_27]]).ravel()"
   ],
   "id": "b2291dd4a0444e2e",
   "outputs": [],
   "execution_count": 152
  },
  {
   "metadata": {
    "ExecuteTime": {
     "end_time": "2025-07-05T14:42:01.413300Z",
     "start_time": "2025-07-05T14:42:01.407578Z"
    }
   },
   "cell_type": "code",
   "source": [
    "col_28 = \"Did your previous employers ever formally discuss mental health (as part of a wellness campaign or other official communication)?\"\n",
    "df[col_28].value_counts(dropna=False)"
   ],
   "id": "f77f580ec4820b7c",
   "outputs": [
    {
     "data": {
      "text/plain": [
       "Did your previous employers ever formally discuss mental health (as part of a wellness campaign or other official communication)?\n",
       "None did             683\n",
       "Some did             231\n",
       "I don't know          69\n",
       "Yes, they all did     28\n",
       "Name: count, dtype: Int64"
      ]
     },
     "execution_count": 153,
     "metadata": {},
     "output_type": "execute_result"
    }
   ],
   "execution_count": 153
  },
  {
   "metadata": {
    "ExecuteTime": {
     "end_time": "2025-07-05T14:43:34.893964Z",
     "start_time": "2025-07-05T14:43:34.888829Z"
    }
   },
   "cell_type": "code",
   "source": [
    "col_28_order = [\n",
    "    \"None did\",              # 0 = keine Offenheit\n",
    "    \"Some did\",              # 1\n",
    "    \"Yes, they all did\",     # 2 = volle Offenheit\n",
    "    \"I don't know\"           # 3 = unklar\n",
    "]\n",
    "\n",
    "oe_col_28 = OrdinalEncoder(categories=[col_28_order])\n",
    "\n",
    "df[col_28] = oe_col_28.fit_transform(df[[col_28]]).ravel()"
   ],
   "id": "9247b1c6ec3299e8",
   "outputs": [],
   "execution_count": 154
  },
  {
   "metadata": {
    "ExecuteTime": {
     "end_time": "2025-07-05T14:44:07.324671Z",
     "start_time": "2025-07-05T14:44:07.318929Z"
    }
   },
   "cell_type": "code",
   "source": [
    "col_29 = \"Did your previous employers provide resources to learn more about mental health issues and how to seek help?\"\n",
    "df[col_29].value_counts(dropna=False)"
   ],
   "id": "f04d58061fee3fb6",
   "outputs": [
    {
     "data": {
      "text/plain": [
       "Did your previous employers provide resources to learn more about mental health issues and how to seek help?\n",
       "None did             638\n",
       "Some did             326\n",
       "Yes, they all did     47\n",
       "Name: count, dtype: Int64"
      ]
     },
     "execution_count": 155,
     "metadata": {},
     "output_type": "execute_result"
    }
   ],
   "execution_count": 155
  },
  {
   "metadata": {
    "ExecuteTime": {
     "end_time": "2025-07-05T14:44:58.369290Z",
     "start_time": "2025-07-05T14:44:58.364851Z"
    }
   },
   "cell_type": "code",
   "source": [
    "col_29_order = [[\"None did\", \"Some did\", \"Yes, they all did\"]]\n",
    "oe_col_29 = OrdinalEncoder(categories=col_29_order)\n",
    "\n",
    "df[col_29] = oe_col_29.fit_transform(df[[col_29]]).ravel()"
   ],
   "id": "b09de5c5020b282d",
   "outputs": [],
   "execution_count": 156
  },
  {
   "metadata": {
    "ExecuteTime": {
     "end_time": "2025-07-05T14:45:23.041153Z",
     "start_time": "2025-07-05T14:45:23.035545Z"
    }
   },
   "cell_type": "code",
   "source": [
    "col_30 = \"Was your anonymity protected if you chose to take advantage of mental health or substance abuse treatment resources with previous employers?\"\n",
    "df[col_30].value_counts(dropna=False)"
   ],
   "id": "8826916bd2c5c05f",
   "outputs": [
    {
     "data": {
      "text/plain": [
       "Was your anonymity protected if you chose to take advantage of mental health or substance abuse treatment resources with previous employers?\n",
       "I don't know    670\n",
       "Yes, always     134\n",
       "Sometimes       108\n",
       "No               99\n",
       "Name: count, dtype: Int64"
      ]
     },
     "execution_count": 157,
     "metadata": {},
     "output_type": "execute_result"
    }
   ],
   "execution_count": 157
  },
  {
   "metadata": {
    "ExecuteTime": {
     "end_time": "2025-07-05T14:48:16.951773Z",
     "start_time": "2025-07-05T14:48:16.703700Z"
    }
   },
   "cell_type": "code",
   "source": [
    "col_30_order = [[\"Yes, always\", \"Sometimes\", \"No\", \"I don't know\"]]\n",
    "oe_col_30 = OrdinalEncoder(categories=col_30_order)\n",
    "\n",
    "df[col_30] = oe_col_30.fit_transform(df[[col_30]]).ravel()"
   ],
   "id": "d2895a5326a61621",
   "outputs": [
    {
     "ename": "ValueError",
     "evalue": "could not convert string to float: 'Yes, always'",
     "output_type": "error",
     "traceback": [
      "\u001B[31m---------------------------------------------------------------------------\u001B[39m",
      "\u001B[31mValueError\u001B[39m                                Traceback (most recent call last)",
      "\u001B[36mCell\u001B[39m\u001B[36m \u001B[39m\u001B[32mIn[159]\u001B[39m\u001B[32m, line 4\u001B[39m\n\u001B[32m      1\u001B[39m col_30_order = [[\u001B[33m\"\u001B[39m\u001B[33mYes, always\u001B[39m\u001B[33m\"\u001B[39m, \u001B[33m\"\u001B[39m\u001B[33mSometimes\u001B[39m\u001B[33m\"\u001B[39m, \u001B[33m\"\u001B[39m\u001B[33mNo\u001B[39m\u001B[33m\"\u001B[39m, \u001B[33m\"\u001B[39m\u001B[33mI don\u001B[39m\u001B[33m'\u001B[39m\u001B[33mt know\u001B[39m\u001B[33m\"\u001B[39m]]\n\u001B[32m      2\u001B[39m oe_col_30 = OrdinalEncoder(categories=col_30_order)\n\u001B[32m----> \u001B[39m\u001B[32m4\u001B[39m df[col_30] = \u001B[43moe_col_30\u001B[49m\u001B[43m.\u001B[49m\u001B[43mfit_transform\u001B[49m\u001B[43m(\u001B[49m\u001B[43mdf\u001B[49m\u001B[43m[\u001B[49m\u001B[43m[\u001B[49m\u001B[43mcol_30\u001B[49m\u001B[43m]\u001B[49m\u001B[43m]\u001B[49m\u001B[43m)\u001B[49m.ravel()\n",
      "\u001B[36mFile \u001B[39m\u001B[32m~\\Desktop\\OSMI_Mental_Health\\venv\\Lib\\site-packages\\sklearn\\utils\\_set_output.py:316\u001B[39m, in \u001B[36m_wrap_method_output.<locals>.wrapped\u001B[39m\u001B[34m(self, X, *args, **kwargs)\u001B[39m\n\u001B[32m    314\u001B[39m \u001B[38;5;129m@wraps\u001B[39m(f)\n\u001B[32m    315\u001B[39m \u001B[38;5;28;01mdef\u001B[39;00m\u001B[38;5;250m \u001B[39m\u001B[34mwrapped\u001B[39m(\u001B[38;5;28mself\u001B[39m, X, *args, **kwargs):\n\u001B[32m--> \u001B[39m\u001B[32m316\u001B[39m     data_to_wrap = \u001B[43mf\u001B[49m\u001B[43m(\u001B[49m\u001B[38;5;28;43mself\u001B[39;49m\u001B[43m,\u001B[49m\u001B[43m \u001B[49m\u001B[43mX\u001B[49m\u001B[43m,\u001B[49m\u001B[43m \u001B[49m\u001B[43m*\u001B[49m\u001B[43margs\u001B[49m\u001B[43m,\u001B[49m\u001B[43m \u001B[49m\u001B[43m*\u001B[49m\u001B[43m*\u001B[49m\u001B[43mkwargs\u001B[49m\u001B[43m)\u001B[49m\n\u001B[32m    317\u001B[39m     \u001B[38;5;28;01mif\u001B[39;00m \u001B[38;5;28misinstance\u001B[39m(data_to_wrap, \u001B[38;5;28mtuple\u001B[39m):\n\u001B[32m    318\u001B[39m         \u001B[38;5;66;03m# only wrap the first output for cross decomposition\u001B[39;00m\n\u001B[32m    319\u001B[39m         return_tuple = (\n\u001B[32m    320\u001B[39m             _wrap_data_with_container(method, data_to_wrap[\u001B[32m0\u001B[39m], X, \u001B[38;5;28mself\u001B[39m),\n\u001B[32m    321\u001B[39m             *data_to_wrap[\u001B[32m1\u001B[39m:],\n\u001B[32m    322\u001B[39m         )\n",
      "\u001B[36mFile \u001B[39m\u001B[32m~\\Desktop\\OSMI_Mental_Health\\venv\\Lib\\site-packages\\sklearn\\base.py:892\u001B[39m, in \u001B[36mTransformerMixin.fit_transform\u001B[39m\u001B[34m(self, X, y, **fit_params)\u001B[39m\n\u001B[32m    877\u001B[39m         warnings.warn(\n\u001B[32m    878\u001B[39m             (\n\u001B[32m    879\u001B[39m                 \u001B[33mf\u001B[39m\u001B[33m\"\u001B[39m\u001B[33mThis object (\u001B[39m\u001B[38;5;132;01m{\u001B[39;00m\u001B[38;5;28mself\u001B[39m.\u001B[34m__class__\u001B[39m.\u001B[34m__name__\u001B[39m\u001B[38;5;132;01m}\u001B[39;00m\u001B[33m) has a `transform`\u001B[39m\u001B[33m\"\u001B[39m\n\u001B[32m   (...)\u001B[39m\u001B[32m    887\u001B[39m             \u001B[38;5;167;01mUserWarning\u001B[39;00m,\n\u001B[32m    888\u001B[39m         )\n\u001B[32m    890\u001B[39m \u001B[38;5;28;01mif\u001B[39;00m y \u001B[38;5;129;01mis\u001B[39;00m \u001B[38;5;28;01mNone\u001B[39;00m:\n\u001B[32m    891\u001B[39m     \u001B[38;5;66;03m# fit method of arity 1 (unsupervised transformation)\u001B[39;00m\n\u001B[32m--> \u001B[39m\u001B[32m892\u001B[39m     \u001B[38;5;28;01mreturn\u001B[39;00m \u001B[38;5;28;43mself\u001B[39;49m\u001B[43m.\u001B[49m\u001B[43mfit\u001B[49m\u001B[43m(\u001B[49m\u001B[43mX\u001B[49m\u001B[43m,\u001B[49m\u001B[43m \u001B[49m\u001B[43m*\u001B[49m\u001B[43m*\u001B[49m\u001B[43mfit_params\u001B[49m\u001B[43m)\u001B[49m.transform(X)\n\u001B[32m    893\u001B[39m \u001B[38;5;28;01melse\u001B[39;00m:\n\u001B[32m    894\u001B[39m     \u001B[38;5;66;03m# fit method of arity 2 (supervised transformation)\u001B[39;00m\n\u001B[32m    895\u001B[39m     \u001B[38;5;28;01mreturn\u001B[39;00m \u001B[38;5;28mself\u001B[39m.fit(X, y, **fit_params).transform(X)\n",
      "\u001B[36mFile \u001B[39m\u001B[32m~\\Desktop\\OSMI_Mental_Health\\venv\\Lib\\site-packages\\sklearn\\base.py:1363\u001B[39m, in \u001B[36m_fit_context.<locals>.decorator.<locals>.wrapper\u001B[39m\u001B[34m(estimator, *args, **kwargs)\u001B[39m\n\u001B[32m   1356\u001B[39m     estimator._validate_params()\n\u001B[32m   1358\u001B[39m \u001B[38;5;28;01mwith\u001B[39;00m config_context(\n\u001B[32m   1359\u001B[39m     skip_parameter_validation=(\n\u001B[32m   1360\u001B[39m         prefer_skip_nested_validation \u001B[38;5;129;01mor\u001B[39;00m global_skip_validation\n\u001B[32m   1361\u001B[39m     )\n\u001B[32m   1362\u001B[39m ):\n\u001B[32m-> \u001B[39m\u001B[32m1363\u001B[39m     \u001B[38;5;28;01mreturn\u001B[39;00m \u001B[43mfit_method\u001B[49m\u001B[43m(\u001B[49m\u001B[43mestimator\u001B[49m\u001B[43m,\u001B[49m\u001B[43m \u001B[49m\u001B[43m*\u001B[49m\u001B[43margs\u001B[49m\u001B[43m,\u001B[49m\u001B[43m \u001B[49m\u001B[43m*\u001B[49m\u001B[43m*\u001B[49m\u001B[43mkwargs\u001B[49m\u001B[43m)\u001B[49m\n",
      "\u001B[36mFile \u001B[39m\u001B[32m~\\Desktop\\OSMI_Mental_Health\\venv\\Lib\\site-packages\\sklearn\\preprocessing\\_encoders.py:1515\u001B[39m, in \u001B[36mOrdinalEncoder.fit\u001B[39m\u001B[34m(self, X, y)\u001B[39m\n\u001B[32m   1508\u001B[39m     \u001B[38;5;28;01mraise\u001B[39;00m \u001B[38;5;167;01mTypeError\u001B[39;00m(\n\u001B[32m   1509\u001B[39m         \u001B[33m\"\u001B[39m\u001B[33munknown_value should only be set when \u001B[39m\u001B[33m\"\u001B[39m\n\u001B[32m   1510\u001B[39m         \u001B[33m\"\u001B[39m\u001B[33mhandle_unknown is \u001B[39m\u001B[33m'\u001B[39m\u001B[33muse_encoded_value\u001B[39m\u001B[33m'\u001B[39m\u001B[33m, \u001B[39m\u001B[33m\"\u001B[39m\n\u001B[32m   1511\u001B[39m         \u001B[33mf\u001B[39m\u001B[33m\"\u001B[39m\u001B[33mgot \u001B[39m\u001B[38;5;132;01m{\u001B[39;00m\u001B[38;5;28mself\u001B[39m.unknown_value\u001B[38;5;132;01m}\u001B[39;00m\u001B[33m.\u001B[39m\u001B[33m\"\u001B[39m\n\u001B[32m   1512\u001B[39m     )\n\u001B[32m   1514\u001B[39m \u001B[38;5;66;03m# `_fit` will only raise an error when `self.handle_unknown=\"error\"`\u001B[39;00m\n\u001B[32m-> \u001B[39m\u001B[32m1515\u001B[39m fit_results = \u001B[38;5;28;43mself\u001B[39;49m\u001B[43m.\u001B[49m\u001B[43m_fit\u001B[49m\u001B[43m(\u001B[49m\n\u001B[32m   1516\u001B[39m \u001B[43m    \u001B[49m\u001B[43mX\u001B[49m\u001B[43m,\u001B[49m\n\u001B[32m   1517\u001B[39m \u001B[43m    \u001B[49m\u001B[43mhandle_unknown\u001B[49m\u001B[43m=\u001B[49m\u001B[38;5;28;43mself\u001B[39;49m\u001B[43m.\u001B[49m\u001B[43mhandle_unknown\u001B[49m\u001B[43m,\u001B[49m\n\u001B[32m   1518\u001B[39m \u001B[43m    \u001B[49m\u001B[43mensure_all_finite\u001B[49m\u001B[43m=\u001B[49m\u001B[33;43m\"\u001B[39;49m\u001B[33;43mallow-nan\u001B[39;49m\u001B[33;43m\"\u001B[39;49m\u001B[43m,\u001B[49m\n\u001B[32m   1519\u001B[39m \u001B[43m    \u001B[49m\u001B[43mreturn_and_ignore_missing_for_infrequent\u001B[49m\u001B[43m=\u001B[49m\u001B[38;5;28;43;01mTrue\u001B[39;49;00m\u001B[43m,\u001B[49m\n\u001B[32m   1520\u001B[39m \u001B[43m\u001B[49m\u001B[43m)\u001B[49m\n\u001B[32m   1521\u001B[39m \u001B[38;5;28mself\u001B[39m._missing_indices = fit_results[\u001B[33m\"\u001B[39m\u001B[33mmissing_indices\u001B[39m\u001B[33m\"\u001B[39m]\n\u001B[32m   1523\u001B[39m cardinalities = [\u001B[38;5;28mlen\u001B[39m(categories) \u001B[38;5;28;01mfor\u001B[39;00m categories \u001B[38;5;129;01min\u001B[39;00m \u001B[38;5;28mself\u001B[39m.categories_]\n",
      "\u001B[36mFile \u001B[39m\u001B[32m~\\Desktop\\OSMI_Mental_Health\\venv\\Lib\\site-packages\\sklearn\\preprocessing\\_encoders.py:118\u001B[39m, in \u001B[36m_BaseEncoder._fit\u001B[39m\u001B[34m(self, X, handle_unknown, ensure_all_finite, return_counts, return_and_ignore_missing_for_infrequent)\u001B[39m\n\u001B[32m    115\u001B[39m \u001B[38;5;28;01melse\u001B[39;00m:\n\u001B[32m    116\u001B[39m     Xi_dtype = Xi.dtype\n\u001B[32m--> \u001B[39m\u001B[32m118\u001B[39m cats = \u001B[43mnp\u001B[49m\u001B[43m.\u001B[49m\u001B[43marray\u001B[49m\u001B[43m(\u001B[49m\u001B[38;5;28;43mself\u001B[39;49m\u001B[43m.\u001B[49m\u001B[43mcategories\u001B[49m\u001B[43m[\u001B[49m\u001B[43mi\u001B[49m\u001B[43m]\u001B[49m\u001B[43m,\u001B[49m\u001B[43m \u001B[49m\u001B[43mdtype\u001B[49m\u001B[43m=\u001B[49m\u001B[43mXi_dtype\u001B[49m\u001B[43m)\u001B[49m\n\u001B[32m    119\u001B[39m \u001B[38;5;28;01mif\u001B[39;00m (\n\u001B[32m    120\u001B[39m     cats.dtype == \u001B[38;5;28mobject\u001B[39m\n\u001B[32m    121\u001B[39m     \u001B[38;5;129;01mand\u001B[39;00m \u001B[38;5;28misinstance\u001B[39m(cats[\u001B[32m0\u001B[39m], \u001B[38;5;28mbytes\u001B[39m)\n\u001B[32m    122\u001B[39m     \u001B[38;5;129;01mand\u001B[39;00m Xi.dtype.kind != \u001B[33m\"\u001B[39m\u001B[33mS\u001B[39m\u001B[33m\"\u001B[39m\n\u001B[32m    123\u001B[39m ):\n\u001B[32m    124\u001B[39m     msg = (\n\u001B[32m    125\u001B[39m         \u001B[33mf\u001B[39m\u001B[33m\"\u001B[39m\u001B[33mIn column \u001B[39m\u001B[38;5;132;01m{\u001B[39;00mi\u001B[38;5;132;01m}\u001B[39;00m\u001B[33m, the predefined categories have type \u001B[39m\u001B[33m'\u001B[39m\u001B[33mbytes\u001B[39m\u001B[33m'\u001B[39m\u001B[33m\"\u001B[39m\n\u001B[32m    126\u001B[39m         \u001B[33m\"\u001B[39m\u001B[33m which is incompatible with values of type\u001B[39m\u001B[33m\"\u001B[39m\n\u001B[32m    127\u001B[39m         \u001B[33mf\u001B[39m\u001B[33m\"\u001B[39m\u001B[33m \u001B[39m\u001B[33m'\u001B[39m\u001B[38;5;132;01m{\u001B[39;00m\u001B[38;5;28mtype\u001B[39m(Xi[\u001B[32m0\u001B[39m]).\u001B[34m__name__\u001B[39m\u001B[38;5;132;01m}\u001B[39;00m\u001B[33m'\u001B[39m\u001B[33m.\u001B[39m\u001B[33m\"\u001B[39m\n\u001B[32m    128\u001B[39m     )\n",
      "\u001B[31mValueError\u001B[39m: could not convert string to float: 'Yes, always'"
     ]
    }
   ],
   "execution_count": 159
  },
  {
   "metadata": {
    "ExecuteTime": {
     "end_time": "2025-07-05T14:48:50.668899Z",
     "start_time": "2025-07-05T14:48:50.664032Z"
    }
   },
   "cell_type": "code",
   "source": "df[col_30].value_counts(dropna=False)",
   "id": "3f75b6932929d499",
   "outputs": [
    {
     "data": {
      "text/plain": [
       "Was your anonymity protected if you chose to take advantage of mental health or substance abuse treatment resources with previous employers?\n",
       "3.0    670\n",
       "0.0    134\n",
       "1.0    108\n",
       "2.0     99\n",
       "Name: count, dtype: int64"
      ]
     },
     "execution_count": 160,
     "metadata": {},
     "output_type": "execute_result"
    }
   ],
   "execution_count": 160
  },
  {
   "metadata": {
    "ExecuteTime": {
     "end_time": "2025-07-05T14:49:26.411992Z",
     "start_time": "2025-07-05T14:49:26.406696Z"
    }
   },
   "cell_type": "code",
   "source": [
    "col_31 = \"Do you think that discussing a mental health disorder with previous employers would have negative consequences?\"\n",
    "df[col_31].value_counts(dropna=False)"
   ],
   "id": "fa8724856f2c2322",
   "outputs": [
    {
     "data": {
      "text/plain": [
       "Do you think that discussing a mental health disorder with previous employers would have negative consequences?\n",
       "Some of them        507\n",
       "I don't know        238\n",
       "Yes, all of them    172\n",
       "None of them         94\n",
       "Name: count, dtype: Int64"
      ]
     },
     "execution_count": 161,
     "metadata": {},
     "output_type": "execute_result"
    }
   ],
   "execution_count": 161
  },
  {
   "metadata": {
    "ExecuteTime": {
     "end_time": "2025-07-05T14:50:32.030085Z",
     "start_time": "2025-07-05T14:50:32.025643Z"
    }
   },
   "cell_type": "code",
   "source": [
    "col_31_order = [[\"None of them\", \"Some of them\", \"Yes, all of them\", \"I don't know\"]]\n",
    "oe_col_31 = OrdinalEncoder(categories=col_31_order)\n",
    "\n",
    "df[col_31] = oe_col_31.fit_transform(df[[col_31]]).ravel()"
   ],
   "id": "6e9ac8d2507186f9",
   "outputs": [],
   "execution_count": 162
  },
  {
   "metadata": {
    "ExecuteTime": {
     "end_time": "2025-07-05T14:51:02.159878Z",
     "start_time": "2025-07-05T14:51:02.154305Z"
    }
   },
   "cell_type": "code",
   "source": [
    "col_32 = \"Do you think that discussing a physical health issue with previous employers would have negative consequences?\"\n",
    "df[col_32].value_counts(dropna=False)"
   ],
   "id": "6064a5bdd9cc7b2a",
   "outputs": [
    {
     "data": {
      "text/plain": [
       "Do you think that discussing a physical health issue with previous employers would have negative consequences?\n",
       "Some of them        505\n",
       "None of them        446\n",
       "Yes, all of them     60\n",
       "Name: count, dtype: Int64"
      ]
     },
     "execution_count": 163,
     "metadata": {},
     "output_type": "execute_result"
    }
   ],
   "execution_count": 163
  },
  {
   "metadata": {
    "ExecuteTime": {
     "end_time": "2025-07-05T14:52:58.490767Z",
     "start_time": "2025-07-05T14:52:58.485996Z"
    }
   },
   "cell_type": "code",
   "source": [
    "col_32_order = [\n",
    "    \"None of them\",          # 0\n",
    "    \"Some of them\",          # 1\n",
    "    \"Yes, all of them\"       # 2\n",
    "]\n",
    "\n",
    "oe_col_32 = OrdinalEncoder(categories=[col_32_order])\n",
    "\n",
    "df[col_32] = oe_col_32.fit_transform(df[[col_32]]).ravel()"
   ],
   "id": "f742986519fdf2bc",
   "outputs": [],
   "execution_count": 164
  },
  {
   "metadata": {
    "ExecuteTime": {
     "end_time": "2025-07-05T14:54:55.664002Z",
     "start_time": "2025-07-05T14:54:55.657684Z"
    }
   },
   "cell_type": "code",
   "source": [
    "col_33 = \"Would you have been willing to discuss a mental health issue with your previous co-workers?\"\n",
    "df[col_33].value_counts(dropna=False)"
   ],
   "id": "8379b0e0724d8eda",
   "outputs": [
    {
     "data": {
      "text/plain": [
       "Would you have been willing to discuss a mental health issue with your previous co-workers?\n",
       "Some of my previous employers           582\n",
       "No, at none of my previous employers    356\n",
       "Yes, at all of my previous employers     73\n",
       "Name: count, dtype: Int64"
      ]
     },
     "execution_count": 165,
     "metadata": {},
     "output_type": "execute_result"
    }
   ],
   "execution_count": 165
  },
  {
   "metadata": {
    "ExecuteTime": {
     "end_time": "2025-07-05T14:55:52.290889Z",
     "start_time": "2025-07-05T14:55:52.285897Z"
    }
   },
   "cell_type": "code",
   "source": [
    "col_33_order = [\n",
    "    \"No, at none of my previous employers\",     # 0 → keine Bereitschaft\n",
    "    \"Some of my previous employers\",            # 1\n",
    "    \"Yes, at all of my previous employers\"      # 2 → volle Bereitschaft\n",
    "]\n",
    "\n",
    "oe_col_33 = OrdinalEncoder(categories=[col_33_order])\n",
    "\n",
    "df[col_33] = oe_col_33.fit_transform(df[[col_33]]).ravel()"
   ],
   "id": "2f02dbcb9854cfe0",
   "outputs": [],
   "execution_count": 166
  },
  {
   "metadata": {
    "ExecuteTime": {
     "end_time": "2025-07-05T14:56:39.218192Z",
     "start_time": "2025-07-05T14:56:39.213138Z"
    }
   },
   "cell_type": "code",
   "source": [
    "col_34 = \"Would you have been willing to discuss a mental health issue with your direct supervisor(s)?\"\n",
    "df[col_34].value_counts(dropna=False)"
   ],
   "id": "a1b9ff966d3a1170",
   "outputs": [
    {
     "data": {
      "text/plain": [
       "Would you have been willing to discuss a mental health issue with your direct supervisor(s)?\n",
       "Some of my previous employers           517\n",
       "No, at none of my previous employers    346\n",
       "Yes, at all of my previous employers     76\n",
       "I don't know                             72\n",
       "Name: count, dtype: Int64"
      ]
     },
     "execution_count": 167,
     "metadata": {},
     "output_type": "execute_result"
    }
   ],
   "execution_count": 167
  },
  {
   "metadata": {
    "ExecuteTime": {
     "end_time": "2025-07-05T14:57:46.966776Z",
     "start_time": "2025-07-05T14:57:46.962395Z"
    }
   },
   "cell_type": "code",
   "source": [
    "col_34_order = [\n",
    "    \"No, at none of my previous employers\",     # 0 → keine Offenheit\n",
    "    \"Some of my previous employers\",            # 1 → selektive Offenheit\n",
    "    \"Yes, at all of my previous employers\",     # 2 → maximale Offenheit\n",
    "    \"I don't know\"                              # 3 → Unsicherheit\n",
    "]\n",
    "\n",
    "oe_col_34 = OrdinalEncoder(categories=[col_34_order])\n",
    "\n",
    "df[col_34] = oe_col_34.fit_transform(df[[col_34]]).ravel()"
   ],
   "id": "82de471c739cd35e",
   "outputs": [],
   "execution_count": 168
  },
  {
   "metadata": {
    "ExecuteTime": {
     "end_time": "2025-07-05T14:58:10.946883Z",
     "start_time": "2025-07-05T14:58:10.941877Z"
    }
   },
   "cell_type": "code",
   "source": [
    "col_35 = \"Did you feel that your previous employers took mental health as seriously as physical health?\"\n",
    "df[col_35].value_counts(dropna=False)"
   ],
   "id": "39a0fdff049e4cf8",
   "outputs": [
    {
     "data": {
      "text/plain": [
       "Did you feel that your previous employers took mental health as seriously as physical health?\n",
       "None did             367\n",
       "Some did             355\n",
       "I don't know         253\n",
       "Yes, they all did     36\n",
       "Name: count, dtype: Int64"
      ]
     },
     "execution_count": 169,
     "metadata": {},
     "output_type": "execute_result"
    }
   ],
   "execution_count": 169
  },
  {
   "metadata": {
    "ExecuteTime": {
     "end_time": "2025-07-05T14:58:44.045376Z",
     "start_time": "2025-07-05T14:58:44.040286Z"
    }
   },
   "cell_type": "code",
   "source": [
    "col_35_order = [\n",
    "    \"None did\",             # 0 → niemand nahm mentale Gesundheit ernst\n",
    "    \"Some did\",             # 1\n",
    "    \"Yes, they all did\",    # 2 → alle Arbeitgeber nahmen es ernst\n",
    "    \"I don't know\"          # 3 → keine Einschätzung möglich\n",
    "]\n",
    "\n",
    "oe_col_35 = OrdinalEncoder(categories=[col_35_order])\n",
    "\n",
    "df[col_35] = oe_col_35.fit_transform(df[[col_35]]).ravel()"
   ],
   "id": "7b76b12fde075042",
   "outputs": [],
   "execution_count": 170
  },
  {
   "metadata": {
    "ExecuteTime": {
     "end_time": "2025-07-05T14:59:08.792049Z",
     "start_time": "2025-07-05T14:59:08.786979Z"
    }
   },
   "cell_type": "code",
   "source": [
    "col_36 = \"Did you hear of or observe negative consequences for co-workers with mental health issues in your previous workplaces?\"\n",
    "df[col_36].value_counts(dropna=False)"
   ],
   "id": "6e73f8cbe68d8d8f",
   "outputs": [
    {
     "data": {
      "text/plain": [
       "Did you hear of or observe negative consequences for co-workers with mental health issues in your previous workplaces?\n",
       "None of them        616\n",
       "Some of them        346\n",
       "Yes, all of them     49\n",
       "Name: count, dtype: Int64"
      ]
     },
     "execution_count": 171,
     "metadata": {},
     "output_type": "execute_result"
    }
   ],
   "execution_count": 171
  },
  {
   "metadata": {
    "ExecuteTime": {
     "end_time": "2025-07-05T14:59:42.020066Z",
     "start_time": "2025-07-05T14:59:42.013121Z"
    }
   },
   "cell_type": "code",
   "source": [
    "col_36_order = [\n",
    "    \"None of them\",          # 0 → keine Benachteiligung wahrgenommen\n",
    "    \"Some of them\",          # 1\n",
    "    \"Yes, all of them\"       # 2 → systematische Benachteiligung wahrgenommen\n",
    "]\n",
    "\n",
    "oe_col_36 = OrdinalEncoder(categories=[col_36_order])\n",
    "\n",
    "df[col_36] = oe_col_36.fit_transform(df[[col_36]]).ravel()"
   ],
   "id": "241b06a259b125dd",
   "outputs": [],
   "execution_count": 172
  },
  {
   "metadata": {
    "ExecuteTime": {
     "end_time": "2025-07-05T15:01:38.306136Z",
     "start_time": "2025-07-05T15:01:38.295221Z"
    }
   },
   "cell_type": "code",
   "source": [
    "col_37 = \"Would you be willing to bring up a physical health issue with a potential employer in an interview?\"\n",
    "df[col_37].value_counts(dropna=False)"
   ],
   "id": "de98040cc60cb3e5",
   "outputs": [
    {
     "data": {
      "text/plain": [
       "Would you be willing to bring up a physical health issue with a potential employer in an interview?\n",
       "Maybe    424\n",
       "No       334\n",
       "Yes      253\n",
       "Name: count, dtype: Int64"
      ]
     },
     "execution_count": 173,
     "metadata": {},
     "output_type": "execute_result"
    }
   ],
   "execution_count": 173
  },
  {
   "metadata": {
    "ExecuteTime": {
     "end_time": "2025-07-05T15:02:14.002905Z",
     "start_time": "2025-07-05T15:02:13.998267Z"
    }
   },
   "cell_type": "code",
   "source": [
    "col_37_order = [\n",
    "    \"No\",      # 0 → keine Bereitschaft\n",
    "    \"Maybe\",   # 1 → Unsicherheit / bedingt\n",
    "    \"Yes\"      # 2 → volle Bereitschaft\n",
    "]\n",
    "\n",
    "oe_col_37 = OrdinalEncoder(categories=[col_37_order])\n",
    "\n",
    "df[col_37] = oe_col_37.fit_transform(df[[col_37]]).ravel()"
   ],
   "id": "760c733267776800",
   "outputs": [],
   "execution_count": 174
  },
  {
   "metadata": {
    "ExecuteTime": {
     "end_time": "2025-07-05T15:03:44.307570Z",
     "start_time": "2025-07-05T15:03:44.302640Z"
    }
   },
   "cell_type": "code",
   "source": [
    "col_38 = \"Would you bring up a mental health issue with a potential employer in an interview?\"\n",
    "df[col_38].value_counts(dropna=False)"
   ],
   "id": "bca5f5c0a5be7136",
   "outputs": [
    {
     "data": {
      "text/plain": [
       "Would you bring up a mental health issue with a potential employer in an interview?\n",
       "No       638\n",
       "Maybe    289\n",
       "Yes       84\n",
       "Name: count, dtype: Int64"
      ]
     },
     "execution_count": 177,
     "metadata": {},
     "output_type": "execute_result"
    }
   ],
   "execution_count": 177
  },
  {
   "metadata": {
    "ExecuteTime": {
     "end_time": "2025-07-05T15:04:13.491493Z",
     "start_time": "2025-07-05T15:04:13.486831Z"
    }
   },
   "cell_type": "code",
   "source": [
    "col_38_order = [\n",
    "    \"No\",      # 0 → keine Bereitschaft\n",
    "    \"Maybe\",   # 1 → Unsicherheit / bedingt\n",
    "    \"Yes\"      # 2 → volle Bereitschaft\n",
    "]\n",
    "\n",
    "oe_col_38 = OrdinalEncoder(categories=[col_38_order])\n",
    "\n",
    "df[col_38] = oe_col_38.fit_transform(df[[col_38]]).ravel()"
   ],
   "id": "59b52ad76226e1ba",
   "outputs": [],
   "execution_count": 178
  },
  {
   "metadata": {
    "ExecuteTime": {
     "end_time": "2025-07-05T15:04:41.457178Z",
     "start_time": "2025-07-05T15:04:41.451606Z"
    }
   },
   "cell_type": "code",
   "source": [
    "col_39 = \"Do you feel that being identified as a person with a mental health issue would hurt your career?\"\n",
    "df[col_39].value_counts(dropna=False)"
   ],
   "id": "9313e8e2139e0c30",
   "outputs": [
    {
     "data": {
      "text/plain": [
       "Do you feel that being identified as a person with a mental health issue would hurt your career?\n",
       "Maybe                         421\n",
       "Yes, I think it would         383\n",
       "No, I don't think it would    102\n",
       "Yes, it has                    81\n",
       "No, it has not                 24\n",
       "Name: count, dtype: Int64"
      ]
     },
     "execution_count": 179,
     "metadata": {},
     "output_type": "execute_result"
    }
   ],
   "execution_count": 179
  },
  {
   "metadata": {
    "ExecuteTime": {
     "end_time": "2025-07-05T15:07:41.055425Z",
     "start_time": "2025-07-05T15:07:41.049853Z"
    }
   },
   "cell_type": "code",
   "source": [
    "col_39_order = [\n",
    "    \"Yes, it has\",              # 0 → tatsächliche negative Erfahrung\n",
    "    \"Yes, I think it would\",    # 1 → starke negative Erwartung\n",
    "    \"Maybe\",                    # 2 → unklare/ambivalente Erwartung\n",
    "    \"No, I don't think it would\",  # 3 → keine erwartete Konsequenz\n",
    "    \"No, it has not\"            # 4 → keine erlebte Konsequenz\n",
    "]\n",
    "\n",
    "oe_col_39 = OrdinalEncoder(categories=[col_39_order])\n",
    "\n",
    "df[col_39] = oe_col_39.fit_transform(df[[col_39]]).ravel()"
   ],
   "id": "1db78d6b24b756d9",
   "outputs": [],
   "execution_count": 180
  },
  {
   "metadata": {
    "ExecuteTime": {
     "end_time": "2025-07-05T15:08:29.952500Z",
     "start_time": "2025-07-05T15:08:29.947428Z"
    }
   },
   "cell_type": "code",
   "source": [
    "col_40 = \"Do you think that team members/co-workers would view you more negatively if they knew you suffered from a mental health issue?\"\n",
    "df[col_40].value_counts(dropna=False)"
   ],
   "id": "14b89e01292fd882",
   "outputs": [
    {
     "data": {
      "text/plain": [
       "Do you think that team members/co-workers would view you more negatively if they knew you suffered from a mental health issue?\n",
       "Maybe                           418\n",
       "Yes, I think they would         271\n",
       "No, I don't think they would    249\n",
       "No, they do not                  41\n",
       "Yes, they do                     32\n",
       "Name: count, dtype: Int64"
      ]
     },
     "execution_count": 181,
     "metadata": {},
     "output_type": "execute_result"
    }
   ],
   "execution_count": 181
  },
  {
   "metadata": {
    "ExecuteTime": {
     "end_time": "2025-07-05T15:09:16.840884Z",
     "start_time": "2025-07-05T15:09:16.835915Z"
    }
   },
   "cell_type": "code",
   "source": [
    "col_40_order = [\n",
    "    \"No, they do not\",               # 0 → tatsächliche Ablehnung\n",
    "    \"No, I don't think they would\",  # 1 → erwartete Ablehnung\n",
    "    \"Maybe\",                         # 2 → Unsicherheit\n",
    "    \"Yes, I think they would\",       # 3 → erwartete Unterstützung\n",
    "    \"Yes, they do\"                   # 4 → echte Unterstützung\n",
    "]\n",
    "\n",
    "oe_col_40 = OrdinalEncoder(categories=[col_40_order])\n",
    "\n",
    "df[col_40] = oe_col_40.fit_transform(df[[col_40]]).ravel()"
   ],
   "id": "ae38fa30d7ad4e8e",
   "outputs": [],
   "execution_count": 182
  },
  {
   "metadata": {
    "ExecuteTime": {
     "end_time": "2025-07-05T15:11:05.474424Z",
     "start_time": "2025-07-05T15:11:05.468981Z"
    }
   },
   "cell_type": "code",
   "source": [
    "col_41 = \"How willing would you be to share with friends and family that you have a mental illness?\"\n",
    "df[col_41].value_counts(dropna=False)"
   ],
   "id": "70bcf3eb5d761c12",
   "outputs": [
    {
     "data": {
      "text/plain": [
       "How willing would you be to share with friends and family that you have a mental illness?\n",
       "Somewhat open                                            456\n",
       "Very open                                                188\n",
       "Somewhat not open                                        155\n",
       "Neutral                                                   95\n",
       "Not applicable to me (I do not have a mental illness)     66\n",
       "Not open at all                                           51\n",
       "Name: count, dtype: Int64"
      ]
     },
     "execution_count": 183,
     "metadata": {},
     "output_type": "execute_result"
    }
   ],
   "execution_count": 183
  },
  {
   "metadata": {
    "ExecuteTime": {
     "end_time": "2025-07-05T15:13:10.551562Z",
     "start_time": "2025-07-05T15:13:10.546724Z"
    }
   },
   "cell_type": "code",
   "source": [
    "col_41_order = [\n",
    "    \"Not open at all\",                                  # 0\n",
    "    \"Somewhat not open\",                                # 1\n",
    "    \"Neutral\",                                          # 2\n",
    "    \"Somewhat open\",                                    # 3\n",
    "    \"Very open\",                                        # 4\n",
    "    \"Not applicable to me (I do not have a mental illness)\"  # 5 → eigene Kategorie, neutral oder ignorieren\n",
    "]\n",
    "\n",
    "oe_col_41 = OrdinalEncoder(categories=[col_41_order])\n",
    "\n",
    "df[col_41] = oe_col_41.fit_transform(df[[col_41]]).ravel()"
   ],
   "id": "2cf9fd7d357af54",
   "outputs": [],
   "execution_count": 184
  },
  {
   "metadata": {
    "ExecuteTime": {
     "end_time": "2025-07-05T15:13:45.314462Z",
     "start_time": "2025-07-05T15:13:45.301131Z"
    }
   },
   "cell_type": "code",
   "source": [
    "col_42 = \"Have you observed or experienced an unsupportive or badly handled response to a mental health issue in your current or previous workplace?\"\n",
    "df[col_42].value_counts(dropna=False)"
   ],
   "id": "fd978581dc5f3213",
   "outputs": [
    {
     "data": {
      "text/plain": [
       "Have you observed or experienced an unsupportive or badly handled response to a mental health issue in your current or previous workplace?\n",
       "No                    398\n",
       "Maybe/Not sure        261\n",
       "Yes, I observed       189\n",
       "Yes, I experienced    130\n",
       "<NA>                   33\n",
       "Name: count, dtype: Int64"
      ]
     },
     "execution_count": 185,
     "metadata": {},
     "output_type": "execute_result"
    }
   ],
   "execution_count": 185
  },
  {
   "metadata": {
    "ExecuteTime": {
     "end_time": "2025-07-05T15:15:10.079512Z",
     "start_time": "2025-07-05T15:15:10.076596Z"
    }
   },
   "cell_type": "code",
   "source": "df[col_42] = df[col_42].fillna(\"Maybe/Not sure\")",
   "id": "fd21b22ade4a917f",
   "outputs": [],
   "execution_count": 187
  },
  {
   "metadata": {
    "ExecuteTime": {
     "end_time": "2025-07-05T15:15:11.081745Z",
     "start_time": "2025-07-05T15:15:11.077426Z"
    }
   },
   "cell_type": "code",
   "source": [
    "col_42_order = [\n",
    "    \"No\",                   # 0 → keine Erfahrung oder Beobachtung\n",
    "    \"Maybe/Not sure\",       # 1 → Unsicherheit\n",
    "    \"Yes, I observed\",      # 2 → beobachtete Diskriminierung\n",
    "    \"Yes, I experienced\"    # 3 → selbst betroffen\n",
    "]\n",
    "\n",
    "oe_col_42 = OrdinalEncoder(categories=[col_42_order])\n",
    "\n",
    "df[col_42] = oe_col_42.fit_transform(df[[col_42]]).ravel()"
   ],
   "id": "c5856638a0b07c9",
   "outputs": [],
   "execution_count": 188
  },
  {
   "metadata": {
    "ExecuteTime": {
     "end_time": "2025-07-05T15:19:56.905518Z",
     "start_time": "2025-07-05T15:19:56.898786Z"
    }
   },
   "cell_type": "code",
   "source": [
    "col_43 = \"Have your observations of how another individual who discussed a mental health disorder made you less likely to reveal a mental health issue yourself in your current workplace?\"\n",
    "df[col_43].value_counts(dropna=False)"
   ],
   "id": "2af40e2749676767",
   "outputs": [
    {
     "data": {
      "text/plain": [
       "Have your observations of how another individual who discussed a mental health disorder made you less likely to reveal a mental health issue yourself in your current workplace?\n",
       "<NA>     512\n",
       "No       189\n",
       "Yes      183\n",
       "Maybe    127\n",
       "Name: count, dtype: Int64"
      ]
     },
     "execution_count": 189,
     "metadata": {},
     "output_type": "execute_result"
    }
   ],
   "execution_count": 189
  },
  {
   "metadata": {
    "ExecuteTime": {
     "end_time": "2025-07-05T15:20:34.171597Z",
     "start_time": "2025-07-05T15:20:34.168774Z"
    }
   },
   "cell_type": "code",
   "source": "df[col_43] = df[col_43].fillna(\"Maybe\")",
   "id": "64b0678035fbfc37",
   "outputs": [],
   "execution_count": 190
  },
  {
   "metadata": {
    "ExecuteTime": {
     "end_time": "2025-07-05T15:20:40.526702Z",
     "start_time": "2025-07-05T15:20:40.520656Z"
    }
   },
   "cell_type": "code",
   "source": "df[col_43].value_counts(dropna=False)",
   "id": "327c79629d2588bb",
   "outputs": [
    {
     "data": {
      "text/plain": [
       "Have your observations of how another individual who discussed a mental health disorder made you less likely to reveal a mental health issue yourself in your current workplace?\n",
       "Maybe    639\n",
       "No       189\n",
       "Yes      183\n",
       "Name: count, dtype: Int64"
      ]
     },
     "execution_count": 191,
     "metadata": {},
     "output_type": "execute_result"
    }
   ],
   "execution_count": 191
  },
  {
   "metadata": {
    "ExecuteTime": {
     "end_time": "2025-07-05T15:21:26.308482Z",
     "start_time": "2025-07-05T15:21:26.303739Z"
    }
   },
   "cell_type": "code",
   "source": [
    "col_43_order = [\n",
    "    \"No\",      # 0 → keine Auswirkung\n",
    "    \"Maybe\",   # 1 → unklar\n",
    "    \"Yes\"      # 2 → klarer Einfluss\n",
    "]\n",
    "\n",
    "oe_col_43 = OrdinalEncoder(categories=[col_43_order])\n",
    "\n",
    "df[col_43] = oe_col_43.fit_transform(df[[col_43]]).ravel()"
   ],
   "id": "700598fc164c1f71",
   "outputs": [],
   "execution_count": 192
  },
  {
   "metadata": {
    "ExecuteTime": {
     "end_time": "2025-07-05T15:21:56.963895Z",
     "start_time": "2025-07-05T15:21:56.958242Z"
    }
   },
   "cell_type": "code",
   "source": [
    "col_44 = \"Do you have a family history of mental illness?\"\n",
    "df[col_44].value_counts(dropna=False)"
   ],
   "id": "a3b8f3a9d6fd0042",
   "outputs": [
    {
     "data": {
      "text/plain": [
       "Do you have a family history of mental illness?\n",
       "Yes             508\n",
       "No              320\n",
       "I don't know    183\n",
       "Name: count, dtype: Int64"
      ]
     },
     "execution_count": 193,
     "metadata": {},
     "output_type": "execute_result"
    }
   ],
   "execution_count": 193
  },
  {
   "metadata": {
    "ExecuteTime": {
     "end_time": "2025-07-05T15:28:51.560861Z",
     "start_time": "2025-07-05T15:28:51.549782Z"
    }
   },
   "cell_type": "code",
   "source": [
    "ohe_col_44 = OneHotEncoder(sparse_output=False)\n",
    "encoded_data_col_44 = ohe_col_44.fit_transform(df[[col_44]])\n",
    "\n",
    "categories_44 = ohe_col_44.categories_[0]\n",
    "new_cols_44 = [f\"{col_44}_{cat}\" for cat in categories_44]\n",
    "\n",
    "col_44_df = pd.DataFrame(encoded_data_col_44, columns=new_cols_44, index=df.index)\n",
    "df = df.drop(columns=[col_44])\n",
    "df = pd.concat([df, col_44_df], axis=1)"
   ],
   "id": "9391e72941605651",
   "outputs": [],
   "execution_count": 194
  },
  {
   "metadata": {
    "ExecuteTime": {
     "end_time": "2025-07-05T15:31:54.016707Z",
     "start_time": "2025-07-05T15:31:54.010532Z"
    }
   },
   "cell_type": "code",
   "source": [
    "col_45 = \"Have you had a mental health disorder in the past?\"\n",
    "df[col_45].value_counts(dropna=False)"
   ],
   "id": "cec8acded6e52ff6",
   "outputs": [
    {
     "data": {
      "text/plain": [
       "Have you had a mental health disorder in the past?\n",
       "Yes      552\n",
       "No       296\n",
       "Maybe    163\n",
       "Name: count, dtype: Int64"
      ]
     },
     "execution_count": 195,
     "metadata": {},
     "output_type": "execute_result"
    }
   ],
   "execution_count": 195
  },
  {
   "metadata": {
    "ExecuteTime": {
     "end_time": "2025-07-05T15:34:50.206452Z",
     "start_time": "2025-07-05T15:34:50.201729Z"
    }
   },
   "cell_type": "code",
   "source": [
    "col_45_order = [\n",
    "    \"No\",      # 0 → keine Auswirkung\n",
    "    \"Maybe\",   # 1 → unklar\n",
    "    \"Yes\"      # 2 → klarer Einfluss\n",
    "]\n",
    "\n",
    "oe_col_45 = OrdinalEncoder(categories=[col_45_order])\n",
    "\n",
    "df[col_45] = oe_col_45.fit_transform(df[[col_45]]).ravel()"
   ],
   "id": "ac928703c3af7a6f",
   "outputs": [],
   "execution_count": 196
  },
  {
   "metadata": {
    "ExecuteTime": {
     "end_time": "2025-07-05T15:35:25.621243Z",
     "start_time": "2025-07-05T15:35:25.615939Z"
    }
   },
   "cell_type": "code",
   "source": [
    "col_46 = \"Do you currently have a mental health disorder?\"\n",
    "df[col_46].value_counts(dropna=False)"
   ],
   "id": "b27c07531b601749",
   "outputs": [
    {
     "data": {
      "text/plain": [
       "Do you currently have a mental health disorder?\n",
       "Yes      429\n",
       "No       355\n",
       "Maybe    227\n",
       "Name: count, dtype: Int64"
      ]
     },
     "execution_count": 197,
     "metadata": {},
     "output_type": "execute_result"
    }
   ],
   "execution_count": 197
  },
  {
   "metadata": {
    "ExecuteTime": {
     "end_time": "2025-07-05T15:35:50.071208Z",
     "start_time": "2025-07-05T15:35:50.066169Z"
    }
   },
   "cell_type": "code",
   "source": [
    "col_46_order = [\n",
    "    \"No\",      # 0 → keine Auswirkung\n",
    "    \"Maybe\",   # 1 → unklar\n",
    "    \"Yes\"      # 2 → klarer Einfluss\n",
    "]\n",
    "\n",
    "oe_col_46 = OrdinalEncoder(categories=[col_46_order])\n",
    "\n",
    "df[col_46] = oe_col_46.fit_transform(df[[col_46]]).ravel()"
   ],
   "id": "29d00ecd7e22ba5a",
   "outputs": [],
   "execution_count": 198
  },
  {
   "metadata": {
    "ExecuteTime": {
     "end_time": "2025-07-05T15:36:26.501804Z",
     "start_time": "2025-07-05T15:36:26.496327Z"
    }
   },
   "cell_type": "code",
   "source": [
    "col_47 = \"Have you been diagnosed with a mental health condition by a medical professional?\"\n",
    "df[col_47].value_counts(dropna=False)"
   ],
   "id": "a0682a6c5756fd4a",
   "outputs": [
    {
     "data": {
      "text/plain": [
       "Have you been diagnosed with a mental health condition by a medical professional?\n",
       "Yes    538\n",
       "No     473\n",
       "Name: count, dtype: Int64"
      ]
     },
     "execution_count": 199,
     "metadata": {},
     "output_type": "execute_result"
    }
   ],
   "execution_count": 199
  },
  {
   "metadata": {
    "ExecuteTime": {
     "end_time": "2025-07-05T15:39:53.660239Z",
     "start_time": "2025-07-05T15:39:53.651675Z"
    }
   },
   "cell_type": "code",
   "source": [
    "ohe_col_47 = OneHotEncoder(sparse_output=False)\n",
    "encoded_data_col_47 = ohe_col_47.fit_transform(df[[col_47]])\n",
    "\n",
    "categories_47 = ohe_col_47.categories_[0]\n",
    "new_cols_47 = [f\"{col_47}_{cat}\" for cat in categories_47]\n",
    "\n",
    "col_47_df = pd.DataFrame(encoded_data_col_47, columns=new_cols_47, index=df.index)\n",
    "df = df.drop(columns=[col_47])\n",
    "df = pd.concat([df, col_47_df], axis=1)"
   ],
   "id": "e88e93a02e972f03",
   "outputs": [],
   "execution_count": 200
  },
  {
   "metadata": {
    "ExecuteTime": {
     "end_time": "2025-07-05T15:46:42.685094Z",
     "start_time": "2025-07-05T15:46:42.679624Z"
    }
   },
   "cell_type": "code",
   "source": [
    "path = Path.cwd().parent / \"data\" / \"edited\" / \"df_bis_Frage_47.pkl\"\n",
    "pd.to_pickle(df, path)"
   ],
   "id": "fd02a270deebc66a",
   "outputs": [],
   "execution_count": 204
  },
  {
   "metadata": {
    "ExecuteTime": {
     "end_time": "2025-07-05T15:47:56.301215Z",
     "start_time": "2025-07-05T15:47:56.295806Z"
    }
   },
   "cell_type": "code",
   "source": [
    "col_48 = \"Have you ever sought treatment for a mental health issue from a mental health professional?\"\n",
    "df[col_48].value_counts(dropna=False)"
   ],
   "id": "4b8352c379757407",
   "outputs": [
    {
     "data": {
      "text/plain": [
       "Have you ever sought treatment for a mental health issue from a mental health professional?\n",
       "1    616\n",
       "0    395\n",
       "Name: count, dtype: Int64"
      ]
     },
     "execution_count": 205,
     "metadata": {},
     "output_type": "execute_result"
    }
   ],
   "execution_count": 205
  },
  {
   "metadata": {
    "ExecuteTime": {
     "end_time": "2025-07-05T15:48:27.922622Z",
     "start_time": "2025-07-05T15:48:27.914507Z"
    }
   },
   "cell_type": "code",
   "source": [
    "ohe_col_48 = OneHotEncoder(sparse_output=False)\n",
    "encoded_data_col_48 = ohe_col_48.fit_transform(df[[col_48]])\n",
    "\n",
    "categories_48 = ohe_col_48.categories_[0]\n",
    "new_cols_48 = [f\"{col_48}_{cat}\" for cat in categories_48]\n",
    "\n",
    "col_48_df = pd.DataFrame(encoded_data_col_48, columns=new_cols_48, index=df.index)\n",
    "df = df.drop(columns=[col_48])\n",
    "df = pd.concat([df, col_48_df], axis=1)"
   ],
   "id": "c97a002a520f2a5d",
   "outputs": [],
   "execution_count": 206
  },
  {
   "metadata": {
    "ExecuteTime": {
     "end_time": "2025-07-05T15:49:11.272060Z",
     "start_time": "2025-07-05T15:49:11.266859Z"
    }
   },
   "cell_type": "code",
   "source": [
    "col_49 = \"If you have a mental health issue, do you feel that it interferes with your work when being treated effectively?\"\n",
    "df[col_49].value_counts(dropna=False)"
   ],
   "id": "5ee4a425d48ab385",
   "outputs": [
    {
     "data": {
      "text/plain": [
       "If you have a mental health issue, do you feel that it interferes with your work when being treated effectively?\n",
       "Not applicable to me    370\n",
       "Sometimes               270\n",
       "Rarely                  237\n",
       "Never                    94\n",
       "Often                    40\n",
       "Name: count, dtype: Int64"
      ]
     },
     "execution_count": 207,
     "metadata": {},
     "output_type": "execute_result"
    }
   ],
   "execution_count": 207
  },
  {
   "metadata": {
    "ExecuteTime": {
     "end_time": "2025-07-05T15:52:12.873773Z",
     "start_time": "2025-07-05T15:52:12.869561Z"
    }
   },
   "cell_type": "code",
   "source": [
    "col_49_order = [\n",
    "    \"Not applicable to me\",  # -1 oder 0\n",
    "    \"Never\",\n",
    "    \"Rarely\",\n",
    "    \"Sometimes\",\n",
    "    \"Often\"\n",
    "]\n",
    "\n",
    "oe_col_49= OrdinalEncoder(categories=[col_49_order])\n",
    "\n",
    "df[col_49] = oe_col_49.fit_transform(df[[col_49]]).ravel()"
   ],
   "id": "df4ebb2a895ef59",
   "outputs": [],
   "execution_count": 209
  },
  {
   "metadata": {
    "ExecuteTime": {
     "end_time": "2025-07-05T15:54:16.536025Z",
     "start_time": "2025-07-05T15:54:16.530690Z"
    }
   },
   "cell_type": "code",
   "source": [
    "path = Path.cwd().parent / \"data\" / \"edited\" / \"df_bis_Frage_49.pkl\"\n",
    "pd.to_pickle(df, path)"
   ],
   "id": "16f15cad54080927",
   "outputs": [],
   "execution_count": 210
  },
  {
   "metadata": {
    "ExecuteTime": {
     "end_time": "2025-07-05T16:05:08.433143Z",
     "start_time": "2025-07-05T16:05:08.427837Z"
    }
   },
   "cell_type": "code",
   "source": [
    "col_50 = \"If you have a mental health issue, do you feel that it interferes with your work when NOT being treated effectively?\"\n",
    "df[col_50].value_counts(dropna=False)"
   ],
   "id": "c30bdb397cd54bfd",
   "outputs": [
    {
     "data": {
      "text/plain": [
       "If you have a mental health issue, do you feel that it interferes with your work when NOT being treated effectively?\n",
       "Often                   394\n",
       "Not applicable to me    308\n",
       "Sometimes               262\n",
       "Rarely                   38\n",
       "Never                     9\n",
       "Name: count, dtype: Int64"
      ]
     },
     "execution_count": 212,
     "metadata": {},
     "output_type": "execute_result"
    }
   ],
   "execution_count": 212
  },
  {
   "metadata": {
    "ExecuteTime": {
     "end_time": "2025-07-05T16:08:51.574849Z",
     "start_time": "2025-07-05T16:08:51.569736Z"
    }
   },
   "cell_type": "code",
   "source": [
    "col_50_order = [\n",
    "    \"Not applicable to me\",\n",
    "    \"Never\",\n",
    "    \"Rarely\",\n",
    "    \"Sometimes\",\n",
    "    \"Often\"\n",
    "]\n",
    "\n",
    "oe_col_50= OrdinalEncoder(categories=[col_50_order])\n",
    "\n",
    "df[col_50] = oe_col_50.fit_transform(df[[col_50]]).ravel()"
   ],
   "id": "88399ac8f6eb24ec",
   "outputs": [],
   "execution_count": 213
  },
  {
   "metadata": {
    "ExecuteTime": {
     "end_time": "2025-07-05T16:09:27.643176Z",
     "start_time": "2025-07-05T16:09:27.637916Z"
    }
   },
   "cell_type": "code",
   "source": [
    "col_51 = \"Do you work remotely?\"\n",
    "df[col_51].value_counts(dropna=False)"
   ],
   "id": "73e5cc516108fed",
   "outputs": [
    {
     "data": {
      "text/plain": [
       "Do you work remotely?\n",
       "Sometimes    541\n",
       "Never        253\n",
       "Always       217\n",
       "Name: count, dtype: Int64"
      ]
     },
     "execution_count": 214,
     "metadata": {},
     "output_type": "execute_result"
    }
   ],
   "execution_count": 214
  },
  {
   "metadata": {
    "ExecuteTime": {
     "end_time": "2025-07-05T16:10:42.390686Z",
     "start_time": "2025-07-05T16:10:42.385591Z"
    }
   },
   "cell_type": "code",
   "source": [
    "col_51_order = [\"Never\", \"Sometimes\", \"Always\"]\n",
    "\n",
    "oe_col_51= OrdinalEncoder(categories=[col_51_order])\n",
    "\n",
    "df[col_51] = oe_col_51.fit_transform(df[[col_51]]).ravel()"
   ],
   "id": "49a1e7ab820a262f",
   "outputs": [],
   "execution_count": 215
  },
  {
   "metadata": {
    "ExecuteTime": {
     "end_time": "2025-07-05T16:12:01.934613Z",
     "start_time": "2025-07-05T16:12:01.929916Z"
    }
   },
   "cell_type": "code",
   "source": [
    "pathh = Path.cwd().parent / \"data\" / \"edited\" / \"df_alle_OHE_und_OE_Fragen.pkl\"\n",
    "pd.to_pickle(df, pathh)"
   ],
   "id": "262e1d7a58c860a9",
   "outputs": [],
   "execution_count": 216
  },
  {
   "metadata": {
    "ExecuteTime": {
     "end_time": "2025-07-05T17:32:49.770284Z",
     "start_time": "2025-07-05T17:32:49.762649Z"
    }
   },
   "cell_type": "code",
   "source": "",
   "id": "a76260112665c6",
   "outputs": [
    {
     "data": {
      "text/plain": [
       "np.int64(215)"
      ]
     },
     "execution_count": 219,
     "metadata": {},
     "output_type": "execute_result"
    }
   ],
   "execution_count": 219
  },
  {
   "metadata": {
    "ExecuteTime": {
     "end_time": "2025-07-05T17:33:00.215595Z",
     "start_time": "2025-07-05T17:33:00.212021Z"
    }
   },
   "cell_type": "code",
   "source": [
    "col_52 = \"Why or why not?\"\n",
    "df.loc[:, col_52] = df[col_52].fillna(\"Missing\")"
   ],
   "id": "638b88c8a90b907c",
   "outputs": [],
   "execution_count": 220
  },
  {
   "metadata": {
    "ExecuteTime": {
     "end_time": "2025-07-05T17:34:11.237335Z",
     "start_time": "2025-07-05T17:34:11.233379Z"
    }
   },
   "cell_type": "code",
   "source": "df[col_52].tail(10)",
   "id": "ebdf7c4b1b36bfd0",
   "outputs": [
    {
     "data": {
      "text/plain": [
       "1418    Bringing up such an issue can only decrease yo...\n",
       "1419                               Not relevant to my job\n",
       "1421                     I might not get the job then... \n",
       "1422    I guess if I had an issue hard enough that it ...\n",
       "1424    If they asked me directly, I would tell them, ...\n",
       "1425                                              Missing\n",
       "1426                                              Missing\n",
       "1427     I would be afraid it would reflect poorly on me.\n",
       "1430    Fear that doing so would cause the employer to...\n",
       "1431                            Stigma with some diseases\n",
       "Name: Why or why not?, dtype: string"
      ]
     },
     "execution_count": 222,
     "metadata": {},
     "output_type": "execute_result"
    }
   ],
   "execution_count": 222
  },
  {
   "metadata": {
    "ExecuteTime": {
     "end_time": "2025-07-07T16:02:56.883490Z",
     "start_time": "2025-07-07T16:02:56.846059Z"
    }
   },
   "cell_type": "code",
   "source": [
    "html_string = df[\"Why or why not?.1\"][:20].to_frame().to_html()\n",
    "file_path = \"test1.html\"\n",
    "\n",
    "import webbrowser\n",
    "with open(file_path, mode=\"w\", encoding=\"utf-8\") as f:\n",
    "    f.write(html_string)\n",
    "\n",
    "webbrowser.open(file_path)"
   ],
   "id": "bded359d35115cd0",
   "outputs": [
    {
     "data": {
      "text/plain": [
       "True"
      ]
     },
     "execution_count": 225,
     "metadata": {},
     "output_type": "execute_result"
    }
   ],
   "execution_count": 225
  },
  {
   "metadata": {
    "ExecuteTime": {
     "end_time": "2025-07-07T19:33:36.105105Z",
     "start_time": "2025-07-07T19:33:36.101203Z"
    }
   },
   "cell_type": "code",
   "source": "np.__version__",
   "id": "f9dae238b56f1850",
   "outputs": [
    {
     "data": {
      "text/plain": [
       "'2.3.1'"
      ]
     },
     "execution_count": 232,
     "metadata": {},
     "output_type": "execute_result"
    }
   ],
   "execution_count": 232
  },
  {
   "metadata": {},
   "cell_type": "code",
   "outputs": [],
   "execution_count": null,
   "source": "",
   "id": "ce6dc0bf5039219b"
  }
 ],
 "metadata": {
  "kernelspec": {
   "display_name": "Python 3",
   "language": "python",
   "name": "python3"
  },
  "language_info": {
   "codemirror_mode": {
    "name": "ipython",
    "version": 2
   },
   "file_extension": ".py",
   "mimetype": "text/x-python",
   "name": "python",
   "nbconvert_exporter": "python",
   "pygments_lexer": "ipython2",
   "version": "2.7.6"
  }
 },
 "nbformat": 4,
 "nbformat_minor": 5
}
